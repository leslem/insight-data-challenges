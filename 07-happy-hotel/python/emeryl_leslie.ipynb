{
 "cells": [
  {
   "cell_type": "markdown",
   "metadata": {},
   "source": [
    "# Planning"
   ]
  },
  {
   "cell_type": "markdown",
   "metadata": {},
   "source": [
    "## Challenge"
   ]
  },
  {
   "cell_type": "markdown",
   "metadata": {},
   "source": [
    "As a data scientist at a hotel chain, I'm trying to find out what customers are happy and unhappy with, based on reviews. I'd like to know the topics in each review and a score for the topic."
   ]
  },
  {
   "cell_type": "markdown",
   "metadata": {},
   "source": [
    "## Approach"
   ]
  },
  {
   "cell_type": "markdown",
   "metadata": {},
   "source": [
    "- Use standard NLP techniques (tokenization, TF-IDF, etc.) to process the reviews\n",
    "- Use LDA to identify topics in the reviews for each hotel\n",
    "    - Learn the topics from whole reviews\n",
    "    - For each hotel, combine all of the reviews into a metareview\n",
    "    - Use the fit LDA model to score the appropriateness of each topic for this hotel\n",
    "    - Also across all hotels\n",
    "- Look at topics coming up in happy vs. unhappy reviews for each hotel"
   ]
  },
  {
   "cell_type": "markdown",
   "metadata": {},
   "source": [
    "## Results\n"
   ]
  },
  {
   "cell_type": "markdown",
   "metadata": {},
   "source": [
    "## Takeaways\n"
   ]
  },
  {
   "cell_type": "code",
   "execution_count": 1,
   "metadata": {},
   "outputs": [
    {
     "name": "stderr",
     "output_type": "stream",
     "text": [
      "unable to import 'smart_open.gcs', disabling that module\n"
     ]
    },
    {
     "name": "stderr",
     "output_type": "stream",
     "text": [
      "/Users/leslie/virtualenv/insight-data-challenges/lib/python3.8/site-packages/gensim/corpora/dictionary.py:11: DeprecationWarning:\n",
      "\n",
      "Using or importing the ABCs from 'collections' instead of from 'collections.abc' is deprecated since Python 3.3, and in 3.9 it will stop working\n",
      "\n",
      "/Users/leslie/virtualenv/insight-data-challenges/lib/python3.8/site-packages/scipy/sparse/sparsetools.py:21: DeprecationWarning:\n",
      "\n",
      "`scipy.sparse.sparsetools` is deprecated!\n",
      "scipy.sparse.sparsetools is a private module for scipy.sparse, and should not be used.\n",
      "\n",
      "/Users/leslie/virtualenv/insight-data-challenges/lib/python3.8/site-packages/gensim/models/doc2vec.py:73: DeprecationWarning:\n",
      "\n",
      "Using or importing the ABCs from 'collections' instead of from 'collections.abc' is deprecated since Python 3.3, and in 3.9 it will stop working\n",
      "\n",
      "/Users/leslie/virtualenv/insight-data-challenges/lib/python3.8/site-packages/nltk/decorators.py:67: DeprecationWarning:\n",
      "\n",
      "`formatargspec` is deprecated since Python 3.5. Use `signature` and the `Signature` object directly\n",
      "\n",
      "/Users/leslie/virtualenv/insight-data-challenges/lib/python3.8/site-packages/nltk/lm/counter.py:15: DeprecationWarning:\n",
      "\n",
      "Using or importing the ABCs from 'collections' instead of from 'collections.abc' is deprecated since Python 3.3, and in 3.9 it will stop working\n",
      "\n"
     ]
    }
   ],
   "source": [
    "import logging\n",
    "import matplotlib.pyplot as plt\n",
    "import numpy as np\n",
    "import os\n",
    "import pandas as pd\n",
    "import plotly.express as px\n",
    "import plotly.io as pio\n",
    "import pyLDAvis  # Has a warning on import\n",
    "import pyLDAvis.sklearn\n",
    "import pyLDAvis.gensim\n",
    "import seaborn as sns\n",
    "\n",
    "from gensim.corpora.dictionary import Dictionary\n",
    "from gensim.models import LdaMulticore, Phrases, TfidfModel  # Has a warning on import\n",
    "from gensim.parsing.preprocessing import STOPWORDS\n",
    "from IPython.display import display\n",
    "from nltk.corpus import stopwords  # Has a warning on import\n",
    "from nltk.stem import WordNetLemmatizer, SnowballStemmer\n",
    "from nltk.tokenize import RegexpTokenizer\n",
    "from pprint import pprint\n",
    "from vaderSentiment.vaderSentiment import SentimentIntensityAnalyzer\n",
    "\n",
    "\n",
    "lemmatizer = WordNetLemmatizer()\n",
    "stemmer = SnowballStemmer(\"english\")\n",
    "regex_tokenizer = RegexpTokenizer(r'\\w+')\n",
    "vader_analyzer = SentimentIntensityAnalyzer()"
   ]
  },
  {
   "cell_type": "code",
   "execution_count": 2,
   "metadata": {},
   "outputs": [],
   "source": [
    "# Plot settings\n",
    "sns.set(style=\"whitegrid\", font_scale=1.10)\n",
    "pio.templates.default = \"plotly_white\""
   ]
  },
  {
   "cell_type": "code",
   "execution_count": 3,
   "metadata": {},
   "outputs": [],
   "source": [
    "# Set random number seed for reproducibility\n",
    "np.random.seed(48)"
   ]
  },
  {
   "cell_type": "code",
   "execution_count": 4,
   "metadata": {},
   "outputs": [],
   "source": [
    "# Set logging level for gensim\n",
    "logging.basicConfig(format='%(asctime)s : %(levelname)s : %(message)s', level=logging.DEBUG)"
   ]
  },
  {
   "cell_type": "code",
   "execution_count": 5,
   "metadata": {},
   "outputs": [],
   "source": [
    "data_dir = '~/devel/insight-data-challenges/07-happy-hotel/data'\n",
    "output_dir = '~/devel/insight-data-challenges/07-happy-hotel/output'"
   ]
  },
  {
   "cell_type": "markdown",
   "metadata": {},
   "source": [
    "## Read in and clean the data"
   ]
  },
  {
   "cell_type": "markdown",
   "metadata": {},
   "source": [
    "Before reading in all of the files I downloaded from the GDrive, I used `diff` to compare the files because they looked like they might be duplicates. \n",
    "\n",
    "```\n",
    "diff hotel_happy_reviews\\ -\\ hotel_happy_reviews.csv hotel_happy_reviews\\ -\\ hotel_happy_reviews.csv.csv\n",
    "diff hotel_happy_reviews\\ -\\ hotel_happy_reviews.csv hotel_happy_reviews(1)\\ -\\ hotel_happy_reviews.csv\n",
    "```\n",
    "\n",
    "This indicated that three of the files were exact duplicates, leaving me with one file of happy reviews and one file of not happy reviews.\n",
    "```\n",
    "hotel_happy_reviews - hotel_happy_reviews.csv\n",
    "hotel_not_happy_reviews - hotel_not_happy_reviews.csv.csv\n",
    "```"
   ]
  },
  {
   "cell_type": "code",
   "execution_count": 6,
   "metadata": {},
   "outputs": [
    {
     "name": "stdout",
     "output_type": "stream",
     "text": [
      "<class 'pandas.core.frame.DataFrame'>\n",
      "RangeIndex: 26521 entries, 0 to 26520\n",
      "Data columns (total 4 columns):\n",
      " #   Column       Non-Null Count  Dtype \n",
      "---  ------       --------------  ----- \n",
      " 0   User_ID      26521 non-null  object\n",
      " 1   Description  26521 non-null  object\n",
      " 2   Is_Response  26521 non-null  object\n",
      " 3   hotel_ID     26521 non-null  int64 \n",
      "dtypes: int64(1), object(3)\n",
      "memory usage: 828.9+ KB\n"
     ]
    },
    {
     "data": {
      "text/plain": [
       "None"
      ]
     },
     "metadata": {},
     "output_type": "display_data"
    },
    {
     "data": {
      "text/html": [
       "<div>\n",
       "<style scoped>\n",
       "    .dataframe tbody tr th:only-of-type {\n",
       "        vertical-align: middle;\n",
       "    }\n",
       "\n",
       "    .dataframe tbody tr th {\n",
       "        vertical-align: top;\n",
       "    }\n",
       "\n",
       "    .dataframe thead th {\n",
       "        text-align: right;\n",
       "    }\n",
       "</style>\n",
       "<table border=\"1\" class=\"dataframe\">\n",
       "  <thead>\n",
       "    <tr style=\"text-align: right;\">\n",
       "      <th></th>\n",
       "      <th>User_ID</th>\n",
       "      <th>Description</th>\n",
       "      <th>Is_Response</th>\n",
       "      <th>hotel_ID</th>\n",
       "    </tr>\n",
       "  </thead>\n",
       "  <tbody>\n",
       "    <tr>\n",
       "      <th>0</th>\n",
       "      <td>id10329</td>\n",
       "      <td>Stayed here with husband and sons on the way t...</td>\n",
       "      <td>happy</td>\n",
       "      <td>8</td>\n",
       "    </tr>\n",
       "    <tr>\n",
       "      <th>1</th>\n",
       "      <td>id10331</td>\n",
       "      <td>We had - rooms. One was very nice and clearly ...</td>\n",
       "      <td>happy</td>\n",
       "      <td>3</td>\n",
       "    </tr>\n",
       "    <tr>\n",
       "      <th>2</th>\n",
       "      <td>id10333</td>\n",
       "      <td>My wife &amp; I stayed in this glorious city a whi...</td>\n",
       "      <td>happy</td>\n",
       "      <td>3</td>\n",
       "    </tr>\n",
       "    <tr>\n",
       "      <th>3</th>\n",
       "      <td>id10334</td>\n",
       "      <td>My boyfriend and I stayed at the Fairmont on a...</td>\n",
       "      <td>happy</td>\n",
       "      <td>7</td>\n",
       "    </tr>\n",
       "    <tr>\n",
       "      <th>4</th>\n",
       "      <td>id10336</td>\n",
       "      <td>Steps off Times Square, nice rooms, stayed - n...</td>\n",
       "      <td>happy</td>\n",
       "      <td>3</td>\n",
       "    </tr>\n",
       "    <tr>\n",
       "      <th>...</th>\n",
       "      <td>...</td>\n",
       "      <td>...</td>\n",
       "      <td>...</td>\n",
       "      <td>...</td>\n",
       "    </tr>\n",
       "    <tr>\n",
       "      <th>26516</th>\n",
       "      <td>id49247</td>\n",
       "      <td>We staed at the Handlery Hotel to Visit San Di...</td>\n",
       "      <td>happy</td>\n",
       "      <td>5</td>\n",
       "    </tr>\n",
       "    <tr>\n",
       "      <th>26517</th>\n",
       "      <td>id49250</td>\n",
       "      <td>We booked a room with two single beds. Upon ar...</td>\n",
       "      <td>happy</td>\n",
       "      <td>3</td>\n",
       "    </tr>\n",
       "    <tr>\n",
       "      <th>26518</th>\n",
       "      <td>id49251</td>\n",
       "      <td>Arrived via taxi from La Guardia - driving int...</td>\n",
       "      <td>happy</td>\n",
       "      <td>8</td>\n",
       "    </tr>\n",
       "    <tr>\n",
       "      <th>26519</th>\n",
       "      <td>id49253</td>\n",
       "      <td>We arrived late at night and walked in to a ch...</td>\n",
       "      <td>happy</td>\n",
       "      <td>8</td>\n",
       "    </tr>\n",
       "    <tr>\n",
       "      <th>26520</th>\n",
       "      <td>id49257</td>\n",
       "      <td>The Westin is a wonderfully restored grande da...</td>\n",
       "      <td>happy</td>\n",
       "      <td>3</td>\n",
       "    </tr>\n",
       "  </tbody>\n",
       "</table>\n",
       "<p>26521 rows × 4 columns</p>\n",
       "</div>"
      ],
      "text/plain": [
       "       User_ID                                        Description Is_Response  \\\n",
       "0      id10329  Stayed here with husband and sons on the way t...       happy   \n",
       "1      id10331  We had - rooms. One was very nice and clearly ...       happy   \n",
       "2      id10333  My wife & I stayed in this glorious city a whi...       happy   \n",
       "3      id10334  My boyfriend and I stayed at the Fairmont on a...       happy   \n",
       "4      id10336  Steps off Times Square, nice rooms, stayed - n...       happy   \n",
       "...        ...                                                ...         ...   \n",
       "26516  id49247  We staed at the Handlery Hotel to Visit San Di...       happy   \n",
       "26517  id49250  We booked a room with two single beds. Upon ar...       happy   \n",
       "26518  id49251  Arrived via taxi from La Guardia - driving int...       happy   \n",
       "26519  id49253  We arrived late at night and walked in to a ch...       happy   \n",
       "26520  id49257  The Westin is a wonderfully restored grande da...       happy   \n",
       "\n",
       "       hotel_ID  \n",
       "0             8  \n",
       "1             3  \n",
       "2             3  \n",
       "3             7  \n",
       "4             3  \n",
       "...         ...  \n",
       "26516         5  \n",
       "26517         3  \n",
       "26518         8  \n",
       "26519         8  \n",
       "26520         3  \n",
       "\n",
       "[26521 rows x 4 columns]"
      ]
     },
     "metadata": {},
     "output_type": "display_data"
    },
    {
     "name": "stdout",
     "output_type": "stream",
     "text": [
      "<class 'pandas.core.frame.DataFrame'>\n",
      "RangeIndex: 12411 entries, 0 to 12410\n",
      "Data columns (total 4 columns):\n",
      " #   Column       Non-Null Count  Dtype \n",
      "---  ------       --------------  ----- \n",
      " 0   User_ID      12411 non-null  object\n",
      " 1   Description  12411 non-null  object\n",
      " 2   Is_Response  12411 non-null  object\n",
      " 3   hotel_ID     12411 non-null  int64 \n",
      "dtypes: int64(1), object(3)\n",
      "memory usage: 388.0+ KB\n"
     ]
    },
    {
     "data": {
      "text/plain": [
       "None"
      ]
     },
     "metadata": {},
     "output_type": "display_data"
    },
    {
     "data": {
      "text/html": [
       "<div>\n",
       "<style scoped>\n",
       "    .dataframe tbody tr th:only-of-type {\n",
       "        vertical-align: middle;\n",
       "    }\n",
       "\n",
       "    .dataframe tbody tr th {\n",
       "        vertical-align: top;\n",
       "    }\n",
       "\n",
       "    .dataframe thead th {\n",
       "        text-align: right;\n",
       "    }\n",
       "</style>\n",
       "<table border=\"1\" class=\"dataframe\">\n",
       "  <thead>\n",
       "    <tr style=\"text-align: right;\">\n",
       "      <th></th>\n",
       "      <th>User_ID</th>\n",
       "      <th>Description</th>\n",
       "      <th>Is_Response</th>\n",
       "      <th>hotel_ID</th>\n",
       "    </tr>\n",
       "  </thead>\n",
       "  <tbody>\n",
       "    <tr>\n",
       "      <th>0</th>\n",
       "      <td>id10326</td>\n",
       "      <td>The room was kind of clean but had a VERY stro...</td>\n",
       "      <td>not happy</td>\n",
       "      <td>3</td>\n",
       "    </tr>\n",
       "    <tr>\n",
       "      <th>1</th>\n",
       "      <td>id10327</td>\n",
       "      <td>I stayed at the Crown Plaza April -- - April -...</td>\n",
       "      <td>not happy</td>\n",
       "      <td>9</td>\n",
       "    </tr>\n",
       "    <tr>\n",
       "      <th>2</th>\n",
       "      <td>id10328</td>\n",
       "      <td>I booked this hotel through Hotwire at the low...</td>\n",
       "      <td>not happy</td>\n",
       "      <td>3</td>\n",
       "    </tr>\n",
       "    <tr>\n",
       "      <th>3</th>\n",
       "      <td>id10330</td>\n",
       "      <td>My girlfriends and I stayed here to celebrate ...</td>\n",
       "      <td>not happy</td>\n",
       "      <td>3</td>\n",
       "    </tr>\n",
       "    <tr>\n",
       "      <th>4</th>\n",
       "      <td>id10332</td>\n",
       "      <td>My husband and I have stayed in this hotel a f...</td>\n",
       "      <td>not happy</td>\n",
       "      <td>7</td>\n",
       "    </tr>\n",
       "    <tr>\n",
       "      <th>...</th>\n",
       "      <td>...</td>\n",
       "      <td>...</td>\n",
       "      <td>...</td>\n",
       "      <td>...</td>\n",
       "    </tr>\n",
       "    <tr>\n",
       "      <th>12406</th>\n",
       "      <td>id49249</td>\n",
       "      <td>I am pretty impartial to this hotel. I would d...</td>\n",
       "      <td>not happy</td>\n",
       "      <td>2</td>\n",
       "    </tr>\n",
       "    <tr>\n",
       "      <th>12407</th>\n",
       "      <td>id49252</td>\n",
       "      <td>I tend to post reviews only when I’ve had an e...</td>\n",
       "      <td>not happy</td>\n",
       "      <td>1</td>\n",
       "    </tr>\n",
       "    <tr>\n",
       "      <th>12408</th>\n",
       "      <td>id49254</td>\n",
       "      <td>The only positive impression is location and p...</td>\n",
       "      <td>not happy</td>\n",
       "      <td>2</td>\n",
       "    </tr>\n",
       "    <tr>\n",
       "      <th>12409</th>\n",
       "      <td>id49255</td>\n",
       "      <td>Traveling with friends for shopping and a show...</td>\n",
       "      <td>not happy</td>\n",
       "      <td>5</td>\n",
       "    </tr>\n",
       "    <tr>\n",
       "      <th>12410</th>\n",
       "      <td>id49256</td>\n",
       "      <td>The experience was just ok. We paid extra for ...</td>\n",
       "      <td>not happy</td>\n",
       "      <td>4</td>\n",
       "    </tr>\n",
       "  </tbody>\n",
       "</table>\n",
       "<p>12411 rows × 4 columns</p>\n",
       "</div>"
      ],
      "text/plain": [
       "       User_ID                                        Description Is_Response  \\\n",
       "0      id10326  The room was kind of clean but had a VERY stro...   not happy   \n",
       "1      id10327  I stayed at the Crown Plaza April -- - April -...   not happy   \n",
       "2      id10328  I booked this hotel through Hotwire at the low...   not happy   \n",
       "3      id10330  My girlfriends and I stayed here to celebrate ...   not happy   \n",
       "4      id10332  My husband and I have stayed in this hotel a f...   not happy   \n",
       "...        ...                                                ...         ...   \n",
       "12406  id49249  I am pretty impartial to this hotel. I would d...   not happy   \n",
       "12407  id49252  I tend to post reviews only when I’ve had an e...   not happy   \n",
       "12408  id49254  The only positive impression is location and p...   not happy   \n",
       "12409  id49255  Traveling with friends for shopping and a show...   not happy   \n",
       "12410  id49256  The experience was just ok. We paid extra for ...   not happy   \n",
       "\n",
       "       hotel_ID  \n",
       "0             3  \n",
       "1             9  \n",
       "2             3  \n",
       "3             3  \n",
       "4             7  \n",
       "...         ...  \n",
       "12406         2  \n",
       "12407         1  \n",
       "12408         2  \n",
       "12409         5  \n",
       "12410         4  \n",
       "\n",
       "[12411 rows x 4 columns]"
      ]
     },
     "metadata": {},
     "output_type": "display_data"
    }
   ],
   "source": [
    "happy_reviews = pd.read_csv(\n",
    "    os.path.join(os.path.expanduser(data_dir), 'hotel_happy_reviews - hotel_happy_reviews.csv'),\n",
    ")\n",
    "display(happy_reviews.info())\n",
    "display(happy_reviews)\n",
    "\n",
    "# Name this bad_reviews so it's easier to distinguish\n",
    "bad_reviews = pd.read_csv(\n",
    "    os.path.join(os.path.expanduser(data_dir), 'hotel_not_happy_reviews - hotel_not_happy_reviews.csv.csv'),\n",
    ")\n",
    "display(bad_reviews.info())\n",
    "display(bad_reviews)"
   ]
  },
  {
   "cell_type": "markdown",
   "metadata": {},
   "source": [
    "### Check that the two dfs are formatted the same"
   ]
  },
  {
   "cell_type": "code",
   "execution_count": 7,
   "metadata": {},
   "outputs": [],
   "source": [
    "assert happy_reviews.columns.to_list() == bad_reviews.columns.to_list()\n",
    "assert happy_reviews.dtypes.to_list() == bad_reviews.dtypes.to_list()"
   ]
  },
  {
   "cell_type": "markdown",
   "metadata": {},
   "source": [
    "## Look at the data in detail"
   ]
  },
  {
   "cell_type": "code",
   "execution_count": 8,
   "metadata": {},
   "outputs": [
    {
     "data": {
      "text/plain": [
       "5     5540\n",
       "4     4651\n",
       "8     4503\n",
       "3     3470\n",
       "7     3019\n",
       "1     2179\n",
       "2     1046\n",
       "6      823\n",
       "10     777\n",
       "9      513\n",
       "Name: hotel_ID, dtype: int64"
      ]
     },
     "metadata": {},
     "output_type": "display_data"
    },
    {
     "data": {
      "text/plain": [
       "count       26521\n",
       "unique      26521\n",
       "top       id30168\n",
       "freq            1\n",
       "Name: User_ID, dtype: object"
      ]
     },
     "metadata": {},
     "output_type": "display_data"
    },
    {
     "data": {
      "text/plain": [
       "7     2298\n",
       "4     2196\n",
       "1     1750\n",
       "3     1612\n",
       "5     1142\n",
       "2     1012\n",
       "8      850\n",
       "10     734\n",
       "9      483\n",
       "6      334\n",
       "Name: hotel_ID, dtype: int64"
      ]
     },
     "metadata": {},
     "output_type": "display_data"
    },
    {
     "data": {
      "text/plain": [
       "count       12411\n",
       "unique      12411\n",
       "top       id15256\n",
       "freq            1\n",
       "Name: User_ID, dtype: object"
      ]
     },
     "metadata": {},
     "output_type": "display_data"
    }
   ],
   "source": [
    "display(happy_reviews['hotel_ID'].value_counts())\n",
    "display(happy_reviews['User_ID'].describe())\n",
    "\n",
    "display(bad_reviews['hotel_ID'].value_counts())\n",
    "display(bad_reviews['User_ID'].describe())"
   ]
  },
  {
   "cell_type": "markdown",
   "metadata": {},
   "source": [
    "## Process review text"
   ]
  },
  {
   "cell_type": "markdown",
   "metadata": {},
   "source": [
    "### Tokenize"
   ]
  },
  {
   "cell_type": "markdown",
   "metadata": {
    "lines_to_next_cell": 2
   },
   "source": [
    "Split the reviews up into individual words"
   ]
  },
  {
   "cell_type": "code",
   "execution_count": 9,
   "metadata": {},
   "outputs": [
    {
     "data": {
      "text/plain": [
       "0    [stay, husband, son, way, alaska, cruis, love,...\n",
       "1    [room, veri, nice, clear, updat, recent, clean...\n",
       "2    [wife, stay, glorious, citi, expens, littl, ho...\n",
       "3    [boyfriend, stay, fairmont, recent, trip, san,...\n",
       "4    [step, time, squar, nice, room, stay, night, g...\n",
       "Name: Description, dtype: object"
      ]
     },
     "metadata": {},
     "output_type": "display_data"
    },
    {
     "data": {
      "text/plain": [
       "0    [room, kind, clean, veri, strong, smell, dog, ...\n",
       "1    [stay, crown, plaza, april, april, staff, frie...\n",
       "2    [book, hotel, hotwir, lowest, price, desk, man...\n",
       "3    [girlfriend, stay, celebr, birthday, plan, wee...\n",
       "4    [husband, stay, hotel, time, fanciest, hotel, ...\n",
       "Name: Description, dtype: object"
      ]
     },
     "metadata": {},
     "output_type": "display_data"
    }
   ],
   "source": [
    "def tokenize(review):\n",
    "    '''Split review string into tokens; remove stop words.\n",
    "\n",
    "    Returns: list of strings, one for each word in the review\n",
    "    '''\n",
    "    s = review.lower()  # Make lowercase\n",
    "    s = regex_tokenizer.tokenize(s)  # Split into words and remove punctuation.\n",
    "    s = [t for t in s if not t.isnumeric()]  # Remove numbers but not words containing numbers.\n",
    "    s = [t for t in s if len(t) > 2]  # Remove 1- and 2-character tokens.\n",
    "    # I found that the lemmatizer didn't work very well here - it needs a little more tuning to be useful.\n",
    "    # For example, \"was\" and \"has\" were lemmatized to \"wa\" and \"ha\", which was counterproductive.\n",
    "    s = [stemmer.stem(lemmatizer.lemmatize(t, pos='v')) for t in s]  # Stem and lemmatize verbs\n",
    "    s = [t for t in s if t not in STOPWORDS]  # Remove stop words\n",
    "    return s\n",
    "\n",
    "\n",
    "happy_tokens = happy_reviews['Description'].apply(tokenize)\n",
    "bad_tokens = bad_reviews['Description'].apply(tokenize)\n",
    "\n",
    "display(happy_tokens.head())\n",
    "display(bad_tokens.head())\n",
    "\n",
    "all_tokens = happy_tokens.append(bad_tokens, ignore_index=True)"
   ]
  },
  {
   "cell_type": "markdown",
   "metadata": {},
   "source": [
    "### Find bigrams and trigrams"
   ]
  },
  {
   "cell_type": "markdown",
   "metadata": {},
   "source": [
    "Identify word pairs and triplets that are above a given count threshold across all reviews."
   ]
  },
  {
   "cell_type": "code",
   "execution_count": 10,
   "metadata": {},
   "outputs": [
    {
     "name": "stderr",
     "output_type": "stream",
     "text": [
      "2020-04-09 15:31:27,829 : INFO : collecting all words and their counts\n"
     ]
    },
    {
     "name": "stderr",
     "output_type": "stream",
     "text": [
      "2020-04-09 15:31:27,830 : INFO : PROGRESS: at sentence #0, processed 0 words and 0 word types\n"
     ]
    },
    {
     "name": "stderr",
     "output_type": "stream",
     "text": [
      "2020-04-09 15:31:28,867 : INFO : PROGRESS: at sentence #10000, processed 649419 words and 293252 word types\n"
     ]
    },
    {
     "name": "stderr",
     "output_type": "stream",
     "text": [
      "2020-04-09 15:31:29,875 : INFO : PROGRESS: at sentence #20000, processed 1287661 words and 482633 word types\n"
     ]
    },
    {
     "name": "stderr",
     "output_type": "stream",
     "text": [
      "2020-04-09 15:31:31,066 : INFO : PROGRESS: at sentence #30000, processed 1997293 words and 678079 word types\n"
     ]
    },
    {
     "name": "stderr",
     "output_type": "stream",
     "text": [
      "2020-04-09 15:31:32,213 : INFO : collected 867532 word types from a corpus of 2709042 words (unigram + bigrams) and 38932 sentences\n"
     ]
    },
    {
     "name": "stderr",
     "output_type": "stream",
     "text": [
      "2020-04-09 15:31:32,214 : INFO : using 867532 counts as vocab in Phrases<0 vocab, min_count=20, threshold=10.0, max_vocab_size=40000000>\n"
     ]
    },
    {
     "name": "stderr",
     "output_type": "stream",
     "text": [
      "2020-04-09 15:31:32,215 : INFO : collecting all words and their counts\n"
     ]
    },
    {
     "name": "stderr",
     "output_type": "stream",
     "text": [
      "2020-04-09 15:31:32,216 : INFO : PROGRESS: at sentence #0, processed 0 words and 0 word types\n"
     ]
    },
    {
     "name": "stderr",
     "output_type": "stream",
     "text": [
      "2020-04-09 15:31:35,351 : INFO : PROGRESS: at sentence #10000, processed 606772 words and 315749 word types\n"
     ]
    },
    {
     "name": "stderr",
     "output_type": "stream",
     "text": [
      "2020-04-09 15:31:38,483 : INFO : PROGRESS: at sentence #20000, processed 1203563 words and 527931 word types\n"
     ]
    },
    {
     "name": "stderr",
     "output_type": "stream",
     "text": [
      "2020-04-09 15:31:42,095 : INFO : PROGRESS: at sentence #30000, processed 1870929 words and 747100 word types\n"
     ]
    },
    {
     "name": "stderr",
     "output_type": "stream",
     "text": [
      "2020-04-09 15:31:45,646 : INFO : collected 958543 word types from a corpus of 2546778 words (unigram + bigrams) and 38932 sentences\n"
     ]
    },
    {
     "name": "stderr",
     "output_type": "stream",
     "text": [
      "2020-04-09 15:31:45,647 : INFO : using 958543 counts as vocab in Phrases<0 vocab, min_count=20, threshold=10.0, max_vocab_size=40000000>\n"
     ]
    }
   ],
   "source": [
    "# Add bigrams to single tokens\n",
    "bigrammer = Phrases(all_tokens, min_count=20)\n",
    "trigrammer = Phrases(bigrammer[all_tokens], min_count=20)\n",
    "\n",
    "# For bigrams and trigrams meeting the min and threshold, add them to the token lists.\n",
    "for idx in range(len(all_tokens)):\n",
    "    all_tokens.iloc[idx].extend([token for token in trigrammer[all_tokens.iloc[idx]]\n",
    "                                 if '_' in token])  # Bigrams and trigrams are joined by underscores"
   ]
  },
  {
   "cell_type": "markdown",
   "metadata": {},
   "source": [
    "### Remove rare and common tokens, and limit vocabulary"
   ]
  },
  {
   "cell_type": "code",
   "execution_count": 11,
   "metadata": {},
   "outputs": [
    {
     "name": "stderr",
     "output_type": "stream",
     "text": [
      "2020-04-09 15:31:55,317 : INFO : adding document #0 to Dictionary(0 unique tokens: [])\n"
     ]
    },
    {
     "name": "stderr",
     "output_type": "stream",
     "text": [
      "2020-04-09 15:31:56,044 : INFO : adding document #10000 to Dictionary(16941 unique tokens: ['alaska', 'ask', 'bed', 'best', 'citi']...)\n"
     ]
    },
    {
     "name": "stderr",
     "output_type": "stream",
     "text": [
      "2020-04-09 15:31:56,765 : INFO : adding document #20000 to Dictionary(23009 unique tokens: ['alaska', 'ask', 'bed', 'best', 'citi']...)\n"
     ]
    },
    {
     "name": "stderr",
     "output_type": "stream",
     "text": [
      "2020-04-09 15:31:57,550 : INFO : adding document #30000 to Dictionary(28218 unique tokens: ['alaska', 'ask', 'bed', 'best', 'citi']...)\n"
     ]
    },
    {
     "name": "stderr",
     "output_type": "stream",
     "text": [
      "2020-04-09 15:31:58,319 : INFO : built Dictionary(32557 unique tokens: ['alaska', 'ask', 'bed', 'best', 'citi']...) from 38932 documents (total 2894621 corpus positions)\n"
     ]
    },
    {
     "name": "stderr",
     "output_type": "stream",
     "text": [
      "2020-04-09 15:31:58,350 : INFO : discarding 27399 tokens: [('hotel', 30328), ('room', 31925), ('stay', 26809), ('bwi', 11), ('oriol', 29), ('supershuttl', 11), ('veri', 21960), ('wrinkl', 23), ('scorpion', 4), ('tonga', 17)]...\n"
     ]
    },
    {
     "name": "stderr",
     "output_type": "stream",
     "text": [
      "2020-04-09 15:31:58,351 : INFO : keeping 5158 tokens which were in no less than 30 and no more than 19466 (=50.0%) documents\n"
     ]
    },
    {
     "name": "stderr",
     "output_type": "stream",
     "text": [
      "2020-04-09 15:31:58,359 : DEBUG : rebuilding dictionary, shrinking gaps\n"
     ]
    },
    {
     "name": "stderr",
     "output_type": "stream",
     "text": [
      "2020-04-09 15:31:58,367 : INFO : resulting dictionary: Dictionary(5158 unique tokens: ['alaska', 'ask', 'bed', 'best', 'citi']...)\n"
     ]
    },
    {
     "name": "stderr",
     "output_type": "stream",
     "text": [
      "2020-04-09 15:31:58,474 : DEBUG : findfont: Matching :family=sans-serif:style=normal:variant=normal:weight=normal:stretch=normal:size=12.100000000000001.\n"
     ]
    },
    {
     "name": "stderr",
     "output_type": "stream",
     "text": [
      "2020-04-09 15:31:58,474 : DEBUG : findfont: score(<Font 'STIXSizeFiveSym' (STIXSizFiveSymReg.ttf) normal normal regular normal>) = 10.05\n"
     ]
    },
    {
     "name": "stderr",
     "output_type": "stream",
     "text": [
      "2020-04-09 15:31:58,475 : DEBUG : findfont: score(<Font 'DejaVu Serif Display' (DejaVuSerifDisplay.ttf) normal normal 400 normal>) = 10.05\n"
     ]
    },
    {
     "name": "stderr",
     "output_type": "stream",
     "text": [
      "2020-04-09 15:31:58,476 : DEBUG : findfont: score(<Font 'cmex10' (cmex10.ttf) normal normal 400 normal>) = 10.05\n"
     ]
    },
    {
     "name": "stderr",
     "output_type": "stream",
     "text": [
      "2020-04-09 15:31:58,476 : DEBUG : findfont: score(<Font 'DejaVu Serif' (DejaVuSerif-Italic.ttf) italic normal 400 normal>) = 11.05\n"
     ]
    },
    {
     "name": "stderr",
     "output_type": "stream",
     "text": [
      "2020-04-09 15:31:58,477 : DEBUG : findfont: score(<Font 'cmr10' (cmr10.ttf) normal normal 400 normal>) = 10.05\n"
     ]
    },
    {
     "name": "stderr",
     "output_type": "stream",
     "text": [
      "2020-04-09 15:31:58,477 : DEBUG : findfont: score(<Font 'DejaVu Sans Display' (DejaVuSansDisplay.ttf) normal normal 400 normal>) = 10.05\n"
     ]
    },
    {
     "name": "stderr",
     "output_type": "stream",
     "text": [
      "2020-04-09 15:31:58,478 : DEBUG : findfont: score(<Font 'STIXNonUnicode' (STIXNonUniIta.ttf) italic normal 400 normal>) = 11.05\n"
     ]
    },
    {
     "name": "stderr",
     "output_type": "stream",
     "text": [
      "2020-04-09 15:31:58,478 : DEBUG : findfont: score(<Font 'STIXSizeOneSym' (STIXSizOneSymReg.ttf) normal normal regular normal>) = 10.05\n"
     ]
    },
    {
     "name": "stderr",
     "output_type": "stream",
     "text": [
      "2020-04-09 15:31:58,479 : DEBUG : findfont: score(<Font 'STIXSizeFourSym' (STIXSizFourSymBol.ttf) normal normal bold normal>) = 10.335\n"
     ]
    },
    {
     "name": "stderr",
     "output_type": "stream",
     "text": [
      "2020-04-09 15:31:58,479 : DEBUG : findfont: score(<Font 'STIXGeneral' (STIXGeneral.ttf) normal normal regular normal>) = 10.05\n"
     ]
    },
    {
     "name": "stderr",
     "output_type": "stream",
     "text": [
      "2020-04-09 15:31:58,480 : DEBUG : findfont: score(<Font 'DejaVu Sans' (DejaVuSans-BoldOblique.ttf) oblique normal bold normal>) = 3.335\n"
     ]
    },
    {
     "name": "stderr",
     "output_type": "stream",
     "text": [
      "2020-04-09 15:31:58,480 : DEBUG : findfont: score(<Font 'STIXSizeTwoSym' (STIXSizTwoSymBol.ttf) normal normal bold normal>) = 10.335\n"
     ]
    },
    {
     "name": "stderr",
     "output_type": "stream",
     "text": [
      "2020-04-09 15:31:58,481 : DEBUG : findfont: score(<Font 'DejaVu Serif' (DejaVuSerif-BoldItalic.ttf) italic normal bold normal>) = 11.335\n"
     ]
    },
    {
     "name": "stderr",
     "output_type": "stream",
     "text": [
      "2020-04-09 15:31:58,481 : DEBUG : findfont: score(<Font 'STIXSizeTwoSym' (STIXSizTwoSymReg.ttf) normal normal regular normal>) = 10.05\n"
     ]
    },
    {
     "name": "stderr",
     "output_type": "stream",
     "text": [
      "2020-04-09 15:31:58,482 : DEBUG : findfont: score(<Font 'DejaVu Sans' (DejaVuSans-Oblique.ttf) oblique normal 400 normal>) = 3.05\n"
     ]
    },
    {
     "name": "stderr",
     "output_type": "stream",
     "text": [
      "2020-04-09 15:31:58,482 : DEBUG : findfont: score(<Font 'DejaVu Sans Mono' (DejaVuSansMono-Bold.ttf) normal normal bold normal>) = 10.335\n"
     ]
    },
    {
     "name": "stderr",
     "output_type": "stream",
     "text": [
      "2020-04-09 15:31:58,483 : DEBUG : findfont: score(<Font 'cmb10' (cmb10.ttf) normal normal 400 normal>) = 10.05\n"
     ]
    },
    {
     "name": "stderr",
     "output_type": "stream",
     "text": [
      "2020-04-09 15:31:58,483 : DEBUG : findfont: score(<Font 'DejaVu Sans' (DejaVuSans-Bold.ttf) normal normal bold normal>) = 2.335\n"
     ]
    },
    {
     "name": "stderr",
     "output_type": "stream",
     "text": [
      "2020-04-09 15:31:58,483 : DEBUG : findfont: score(<Font 'STIXGeneral' (STIXGeneralBolIta.ttf) italic normal bold normal>) = 11.335\n"
     ]
    },
    {
     "name": "stderr",
     "output_type": "stream",
     "text": [
      "2020-04-09 15:31:58,484 : DEBUG : findfont: score(<Font 'DejaVu Sans Mono' (DejaVuSansMono.ttf) normal normal 400 normal>) = 10.05\n"
     ]
    },
    {
     "name": "stderr",
     "output_type": "stream",
     "text": [
      "2020-04-09 15:31:58,484 : DEBUG : findfont: score(<Font 'STIXNonUnicode' (STIXNonUniBolIta.ttf) italic normal bold normal>) = 11.335\n"
     ]
    },
    {
     "name": "stderr",
     "output_type": "stream",
     "text": [
      "2020-04-09 15:31:58,485 : DEBUG : findfont: score(<Font 'STIXSizeThreeSym' (STIXSizThreeSymReg.ttf) normal normal regular normal>) = 10.05\n"
     ]
    },
    {
     "name": "stderr",
     "output_type": "stream",
     "text": [
      "2020-04-09 15:31:58,485 : DEBUG : findfont: score(<Font 'DejaVu Serif' (DejaVuSerif-Bold.ttf) normal normal bold normal>) = 10.335\n"
     ]
    },
    {
     "name": "stderr",
     "output_type": "stream",
     "text": [
      "2020-04-09 15:31:58,486 : DEBUG : findfont: score(<Font 'STIXSizeThreeSym' (STIXSizThreeSymBol.ttf) normal normal bold normal>) = 10.335\n"
     ]
    },
    {
     "name": "stderr",
     "output_type": "stream",
     "text": [
      "2020-04-09 15:31:58,486 : DEBUG : findfont: score(<Font 'cmss10' (cmss10.ttf) normal normal 400 normal>) = 10.05\n"
     ]
    },
    {
     "name": "stderr",
     "output_type": "stream",
     "text": [
      "2020-04-09 15:31:58,486 : DEBUG : findfont: score(<Font 'STIXSizeFourSym' (STIXSizFourSymReg.ttf) normal normal regular normal>) = 10.05\n"
     ]
    },
    {
     "name": "stderr",
     "output_type": "stream",
     "text": [
      "2020-04-09 15:31:58,487 : DEBUG : findfont: score(<Font 'STIXSizeOneSym' (STIXSizOneSymBol.ttf) normal normal bold normal>) = 10.335\n"
     ]
    },
    {
     "name": "stderr",
     "output_type": "stream",
     "text": [
      "2020-04-09 15:31:58,487 : DEBUG : findfont: score(<Font 'DejaVu Sans Mono' (DejaVuSansMono-Oblique.ttf) oblique normal 400 normal>) = 11.05\n"
     ]
    },
    {
     "name": "stderr",
     "output_type": "stream",
     "text": [
      "2020-04-09 15:31:58,488 : DEBUG : findfont: score(<Font 'cmsy10' (cmsy10.ttf) normal normal 400 normal>) = 10.05\n"
     ]
    },
    {
     "name": "stderr",
     "output_type": "stream",
     "text": [
      "2020-04-09 15:31:58,488 : DEBUG : findfont: score(<Font 'DejaVu Sans' (DejaVuSans.ttf) normal normal 400 normal>) = 2.05\n"
     ]
    },
    {
     "name": "stderr",
     "output_type": "stream",
     "text": [
      "2020-04-09 15:31:58,489 : DEBUG : findfont: score(<Font 'DejaVu Serif' (DejaVuSerif.ttf) normal normal 400 normal>) = 10.05\n"
     ]
    },
    {
     "name": "stderr",
     "output_type": "stream",
     "text": [
      "2020-04-09 15:31:58,489 : DEBUG : findfont: score(<Font 'STIXGeneral' (STIXGeneralBol.ttf) normal normal bold normal>) = 10.335\n"
     ]
    },
    {
     "name": "stderr",
     "output_type": "stream",
     "text": [
      "2020-04-09 15:31:58,490 : DEBUG : findfont: score(<Font 'cmtt10' (cmtt10.ttf) normal normal 400 normal>) = 10.05\n"
     ]
    },
    {
     "name": "stderr",
     "output_type": "stream",
     "text": [
      "2020-04-09 15:31:58,490 : DEBUG : findfont: score(<Font 'cmmi10' (cmmi10.ttf) normal normal 400 normal>) = 10.05\n"
     ]
    },
    {
     "name": "stderr",
     "output_type": "stream",
     "text": [
      "2020-04-09 15:31:58,491 : DEBUG : findfont: score(<Font 'STIXNonUnicode' (STIXNonUni.ttf) normal normal regular normal>) = 10.05\n"
     ]
    },
    {
     "name": "stderr",
     "output_type": "stream",
     "text": [
      "2020-04-09 15:31:58,491 : DEBUG : findfont: score(<Font 'STIXGeneral' (STIXGeneralItalic.ttf) italic normal 400 normal>) = 11.05\n"
     ]
    },
    {
     "name": "stderr",
     "output_type": "stream",
     "text": [
      "2020-04-09 15:31:58,492 : DEBUG : findfont: score(<Font 'DejaVu Sans Mono' (DejaVuSansMono-BoldOblique.ttf) oblique normal bold normal>) = 11.335\n"
     ]
    },
    {
     "name": "stderr",
     "output_type": "stream",
     "text": [
      "2020-04-09 15:31:58,492 : DEBUG : findfont: score(<Font 'STIXNonUnicode' (STIXNonUniBol.ttf) normal normal bold normal>) = 10.335\n"
     ]
    },
    {
     "name": "stderr",
     "output_type": "stream",
     "text": [
      "2020-04-09 15:31:58,493 : DEBUG : findfont: score(<Font 'Hiragino Sans' (ヒラギノ角ゴシック W3.ttc) normal normal 400 normal>) = 10.05\n"
     ]
    },
    {
     "name": "stderr",
     "output_type": "stream",
     "text": [
      "2020-04-09 15:31:58,493 : DEBUG : findfont: score(<Font 'Microsoft Yi Baiti' (msyi.ttf) normal normal 400 normal>) = 10.05\n"
     ]
    },
    {
     "name": "stderr",
     "output_type": "stream",
     "text": [
      "2020-04-09 15:31:58,493 : DEBUG : findfont: score(<Font 'Adobe Song Std' (AdobeSongStd-Light.otf) normal normal 400 normal>) = 10.05\n"
     ]
    },
    {
     "name": "stderr",
     "output_type": "stream",
     "text": [
      "2020-04-09 15:31:58,494 : DEBUG : findfont: score(<Font 'Palatino Linotype' (Palatino Linotype Italic.ttf) italic normal 400 normal>) = 11.05\n"
     ]
    },
    {
     "name": "stderr",
     "output_type": "stream",
     "text": [
      "2020-04-09 15:31:58,494 : DEBUG : findfont: score(<Font 'Lithos Pro' (LithosPro-Black.otf) normal normal black normal>) = 10.525\n"
     ]
    },
    {
     "name": "stderr",
     "output_type": "stream",
     "text": [
      "2020-04-09 15:31:58,495 : DEBUG : findfont: score(<Font 'Verdana' (Verdana.ttf) normal normal 400 normal>) = 10.05\n"
     ]
    },
    {
     "name": "stderr",
     "output_type": "stream",
     "text": [
      "2020-04-09 15:31:58,495 : DEBUG : findfont: score(<Font 'Luminari' (Luminari.ttf) normal normal 400 normal>) = 10.05\n"
     ]
    },
    {
     "name": "stderr",
     "output_type": "stream",
     "text": [
      "2020-04-09 15:31:58,495 : DEBUG : findfont: score(<Font 'Stencil Std' (StencilStd.otf) normal normal bold normal>) = 10.335\n"
     ]
    },
    {
     "name": "stderr",
     "output_type": "stream",
     "text": [
      "2020-04-09 15:31:58,496 : DEBUG : findfont: score(<Font 'Noto Sans Old Turkic' (NotoSansOldTurkic-Regular.ttf) normal normal regular normal>) = 10.05\n"
     ]
    },
    {
     "name": "stderr",
     "output_type": "stream",
     "text": [
      "2020-04-09 15:31:58,496 : DEBUG : findfont: score(<Font 'Minion Pro' (MinionPro-Medium.otf) normal normal medium normal>) = 10.145\n"
     ]
    },
    {
     "name": "stderr",
     "output_type": "stream",
     "text": [
      "2020-04-09 15:31:58,497 : DEBUG : findfont: score(<Font 'Hiragino Sans' (ヒラギノ角ゴシック W0.ttc) normal normal 400 normal>) = 10.05\n"
     ]
    },
    {
     "name": "stderr",
     "output_type": "stream",
     "text": [
      "2020-04-09 15:31:58,497 : DEBUG : findfont: score(<Font '.SF NS Display Condensed' (SFNSDisplayCondensed-Black.otf) normal normal black condensed>) = 10.725\n"
     ]
    },
    {
     "name": "stderr",
     "output_type": "stream",
     "text": [
      "2020-04-09 15:31:58,497 : DEBUG : findfont: score(<Font 'Kozuka Mincho Pr6N' (KozMinPr6N-Bold.otf) normal normal 700 normal>) = 10.335\n"
     ]
    },
    {
     "name": "stderr",
     "output_type": "stream",
     "text": [
      "2020-04-09 15:31:58,498 : DEBUG : findfont: score(<Font 'Noto Sans Batak' (NotoSansBatak-Regular.ttf) normal normal regular normal>) = 10.05\n"
     ]
    },
    {
     "name": "stderr",
     "output_type": "stream",
     "text": [
      "2020-04-09 15:31:58,498 : DEBUG : findfont: score(<Font 'Gulim' (Gulim.ttf) normal normal 400 normal>) = 10.05\n"
     ]
    },
    {
     "name": "stderr",
     "output_type": "stream",
     "text": [
      "2020-04-09 15:31:58,499 : DEBUG : findfont: score(<Font 'Hobo Std' (HoboStd.otf) normal normal medium normal>) = 10.145\n"
     ]
    },
    {
     "name": "stderr",
     "output_type": "stream",
     "text": [
      "2020-04-09 15:31:58,499 : DEBUG : findfont: score(<Font 'Bodoni 72' (Bodoni 72.ttc) normal normal book normal>) = 10.05\n"
     ]
    },
    {
     "name": "stderr",
     "output_type": "stream",
     "text": [
      "2020-04-09 15:31:58,500 : DEBUG : findfont: score(<Font 'MS Mincho' (MS Mincho.ttf) normal normal 400 normal>) = 10.05\n"
     ]
    },
    {
     "name": "stderr",
     "output_type": "stream",
     "text": [
      "2020-04-09 15:31:58,500 : DEBUG : findfont: score(<Font 'Bodoni 72 Oldstyle' (Bodoni 72 OS.ttc) normal normal book normal>) = 10.05\n"
     ]
    },
    {
     "name": "stderr",
     "output_type": "stream",
     "text": [
      "2020-04-09 15:31:58,500 : DEBUG : findfont: score(<Font 'Kannada MN' (Kannada MN.ttc) normal normal 400 normal>) = 10.05\n"
     ]
    },
    {
     "name": "stderr",
     "output_type": "stream",
     "text": [
      "2020-04-09 15:31:58,501 : DEBUG : findfont: score(<Font 'Orator Std' (OratorStd-Slanted.otf) italic normal 400 normal>) = 11.05\n"
     ]
    },
    {
     "name": "stderr",
     "output_type": "stream",
     "text": [
      "2020-04-09 15:31:58,501 : DEBUG : findfont: score(<Font 'Birch Std' (BirchStd.otf) normal normal 400 normal>) = 10.05\n"
     ]
    },
    {
     "name": "stderr",
     "output_type": "stream",
     "text": [
      "2020-04-09 15:31:58,501 : DEBUG : findfont: score(<Font 'Kohinoor Bangla' (KohinoorBangla.ttc) normal normal 400 normal>) = 10.05\n"
     ]
    },
    {
     "name": "stderr",
     "output_type": "stream",
     "text": [
      "2020-04-09 15:31:58,502 : DEBUG : findfont: score(<Font 'Tw Cen MT' (Tw Cen MT Bold Italic.ttf) italic normal bold normal>) = 11.335\n"
     ]
    },
    {
     "name": "stderr",
     "output_type": "stream",
     "text": [
      "2020-04-09 15:31:58,502 : DEBUG : findfont: score(<Font 'Serto Urhoy' (SyrCOMUrhoyBold.otf) normal normal bold normal>) = 10.335\n"
     ]
    },
    {
     "name": "stderr",
     "output_type": "stream",
     "text": [
      "2020-04-09 15:31:58,503 : DEBUG : findfont: score(<Font 'Courier New' (Courier New Italic.ttf) italic normal 400 normal>) = 11.05\n"
     ]
    },
    {
     "name": "stderr",
     "output_type": "stream",
     "text": [
      "2020-04-09 15:31:58,503 : DEBUG : findfont: score(<Font 'Consolas' (Consolas Bold.ttf) normal normal bold normal>) = 10.335\n"
     ]
    },
    {
     "name": "stderr",
     "output_type": "stream",
     "text": [
      "2020-04-09 15:31:58,503 : DEBUG : findfont: score(<Font 'Noto Sans Tifinagh' (NotoSansTifinagh-Regular.ttf) normal normal regular normal>) = 10.05\n"
     ]
    },
    {
     "name": "stderr",
     "output_type": "stream",
     "text": [
      "2020-04-09 15:31:58,504 : DEBUG : findfont: score(<Font 'Orator Std' (OratorStd.otf) normal normal medium normal>) = 10.145\n"
     ]
    },
    {
     "name": "stderr",
     "output_type": "stream",
     "text": [
      "2020-04-09 15:31:58,504 : DEBUG : findfont: score(<Font 'Noto Sans Kaithi' (NotoSansKaithi-Regular.ttf) normal normal regular normal>) = 10.05\n"
     ]
    },
    {
     "name": "stderr",
     "output_type": "stream",
     "text": [
      "2020-04-09 15:31:58,504 : DEBUG : findfont: score(<Font 'Tw Cen MT' (Tw Cen MT Italic.ttf) italic normal 400 normal>) = 11.05\n"
     ]
    },
    {
     "name": "stderr",
     "output_type": "stream",
     "text": [
      "2020-04-09 15:31:58,505 : DEBUG : findfont: score(<Font 'Verdana' (Verdana Italic.ttf) italic normal 400 normal>) = 11.05\n"
     ]
    },
    {
     "name": "stderr",
     "output_type": "stream",
     "text": [
      "2020-04-09 15:31:58,505 : DEBUG : findfont: score(<Font 'Noto Sans Osmanya' (NotoSansOsmanya-Regular.ttf) normal normal regular normal>) = 10.05\n"
     ]
    },
    {
     "name": "stderr",
     "output_type": "stream",
     "text": [
      "2020-04-09 15:31:58,506 : DEBUG : findfont: score(<Font 'Noto Sans Lisu' (NotoSansLisu-Regular.ttf) normal normal regular normal>) = 10.05\n"
     ]
    },
    {
     "name": "stderr",
     "output_type": "stream",
     "text": [
      "2020-04-09 15:31:58,506 : DEBUG : findfont: score(<Font 'Times New Roman' (Times New Roman Bold.ttf) normal normal roman normal>) = 10.145\n"
     ]
    },
    {
     "name": "stderr",
     "output_type": "stream",
     "text": [
      "2020-04-09 15:31:58,506 : DEBUG : findfont: score(<Font 'InaiMathi' (InaiMathi-MN.ttc) normal normal 400 normal>) = 10.05\n"
     ]
    },
    {
     "name": "stderr",
     "output_type": "stream",
     "text": [
      "2020-04-09 15:31:58,507 : DEBUG : findfont: score(<Font 'STIXIntegralsUp' (STIXIntUpBol.otf) normal normal bold normal>) = 10.335\n"
     ]
    },
    {
     "name": "stderr",
     "output_type": "stream",
     "text": [
      "2020-04-09 15:31:58,507 : DEBUG : findfont: score(<Font 'Hiragino Maru Gothic Pro' (ヒラギノ丸ゴ ProN W4.ttc) normal normal 400 normal>) = 10.05\n"
     ]
    },
    {
     "name": "stderr",
     "output_type": "stream",
     "text": [
      "2020-04-09 15:31:58,508 : DEBUG : findfont: score(<Font 'Corbel' (Corbel Bold.ttf) normal normal bold normal>) = 10.335\n"
     ]
    },
    {
     "name": "stderr",
     "output_type": "stream",
     "text": [
      "2020-04-09 15:31:58,508 : DEBUG : findfont: score(<Font 'Symbol Tiger Expert' (Symbol Tiger Expert.ttf) normal normal 400 normal>) = 10.05\n"
     ]
    },
    {
     "name": "stderr",
     "output_type": "stream",
     "text": [
      "2020-04-09 15:31:58,508 : DEBUG : findfont: score(<Font 'Noto Serif Myanmar' (NotoSerifMyanmar.ttc) normal normal black normal>) = 10.525\n"
     ]
    },
    {
     "name": "stderr",
     "output_type": "stream",
     "text": [
      "2020-04-09 15:31:58,509 : DEBUG : findfont: score(<Font 'Georgia' (Georgia Bold.ttf) normal normal bold normal>) = 10.335\n"
     ]
    },
    {
     "name": "stderr",
     "output_type": "stream",
     "text": [
      "2020-04-09 15:31:58,509 : DEBUG : findfont: score(<Font 'Kozuka Mincho Pr6N' (KozMinPr6N-ExtraLight.otf) normal normal 400 normal>) = 10.05\n"
     ]
    },
    {
     "name": "stderr",
     "output_type": "stream",
     "text": [
      "2020-04-09 15:31:58,510 : DEBUG : findfont: score(<Font 'Myanmar MN' (Myanmar MN.ttc) normal normal 400 normal>) = 10.05\n"
     ]
    },
    {
     "name": "stderr",
     "output_type": "stream",
     "text": [
      "2020-04-09 15:31:58,510 : DEBUG : findfont: score(<Font 'Krungthep' (Krungthep.ttf) normal normal 400 normal>) = 10.05\n"
     ]
    },
    {
     "name": "stderr",
     "output_type": "stream",
     "text": [
      "2020-04-09 15:31:58,510 : DEBUG : findfont: score(<Font 'Estrangelo Nisibin' (SyrCOMNisibin.otf) normal normal 400 normal>) = 10.05\n"
     ]
    },
    {
     "name": "stderr",
     "output_type": "stream",
     "text": [
      "2020-04-09 15:31:58,511 : DEBUG : findfont: score(<Font 'Devanagari MT' (DevanagariMT.ttc) normal normal 400 normal>) = 10.05\n"
     ]
    },
    {
     "name": "stderr",
     "output_type": "stream",
     "text": [
      "2020-04-09 15:31:58,511 : DEBUG : findfont: score(<Font 'Franklin Gothic Medium' (Franklin Gothic Medium Italic.ttf) italic normal medium normal>) = 11.145\n"
     ]
    },
    {
     "name": "stderr",
     "output_type": "stream",
     "text": [
      "2020-04-09 15:31:58,512 : DEBUG : findfont: score(<Font 'Waseem' (Waseem.ttc) normal normal regular normal>) = 10.05\n"
     ]
    },
    {
     "name": "stderr",
     "output_type": "stream",
     "text": [
      "2020-04-09 15:31:58,512 : DEBUG : findfont: score(<Font 'Adobe Garamond Pro' (AGaramondPro-Bold.otf) normal normal bold normal>) = 10.335\n"
     ]
    },
    {
     "name": "stderr",
     "output_type": "stream",
     "text": [
      "2020-04-09 15:31:58,512 : DEBUG : findfont: score(<Font 'Noto Sans Shavian' (NotoSansShavian-Regular.ttf) normal normal regular normal>) = 10.05\n"
     ]
    },
    {
     "name": "stderr",
     "output_type": "stream",
     "text": [
      "2020-04-09 15:31:58,513 : DEBUG : findfont: score(<Font 'STIXNonUnicode' (STIXNonUniBol.otf) normal normal bold normal>) = 10.335\n"
     ]
    },
    {
     "name": "stderr",
     "output_type": "stream",
     "text": [
      "2020-04-09 15:31:58,513 : DEBUG : findfont: score(<Font 'Kozuka Gothic Pr6N' (KozGoPr6N-Heavy.otf) normal normal 700 normal>) = 10.335\n"
     ]
    },
    {
     "name": "stderr",
     "output_type": "stream",
     "text": [
      "2020-04-09 15:31:58,514 : DEBUG : findfont: score(<Font 'Noto Sans Glagolitic' (NotoSansGlagolitic-Regular.ttf) normal normal regular normal>) = 10.05\n"
     ]
    },
    {
     "name": "stderr",
     "output_type": "stream",
     "text": [
      "2020-04-09 15:31:58,514 : DEBUG : findfont: score(<Font 'Gurmukhi Sangam MN' (Gurmukhi Sangam MN.ttc) normal normal 400 normal>) = 10.05\n"
     ]
    },
    {
     "name": "stderr",
     "output_type": "stream",
     "text": [
      "2020-04-09 15:31:58,514 : DEBUG : findfont: score(<Font 'Noto Sans Kannada' (NotoSansKannada.ttc) normal normal black normal>) = 10.525\n"
     ]
    },
    {
     "name": "stderr",
     "output_type": "stream",
     "text": [
      "2020-04-09 15:31:58,515 : DEBUG : findfont: score(<Font 'Gill Sans MT' (Gill Sans MT.ttf) normal normal 400 normal>) = 10.05\n"
     ]
    },
    {
     "name": "stderr",
     "output_type": "stream",
     "text": [
      "2020-04-09 15:31:58,515 : DEBUG : findfont: score(<Font 'Franklin Gothic Book' (Franklin Gothic Book Italic.ttf) italic normal book normal>) = 11.05\n"
     ]
    },
    {
     "name": "stderr",
     "output_type": "stream",
     "text": [
      "2020-04-09 15:31:58,516 : DEBUG : findfont: score(<Font 'Hiragino Sans' (ヒラギノ角ゴシック W2.ttc) normal normal 400 normal>) = 10.05\n"
     ]
    },
    {
     "name": "stderr",
     "output_type": "stream",
     "text": [
      "2020-04-09 15:31:58,516 : DEBUG : findfont: score(<Font 'Noto Sans Ugaritic' (NotoSansUgaritic-Regular.ttf) normal normal regular normal>) = 10.05\n"
     ]
    },
    {
     "name": "stderr",
     "output_type": "stream",
     "text": [
      "2020-04-09 15:31:58,516 : DEBUG : findfont: score(<Font 'Adobe Hebrew' (AdobeHebrew-Bold.otf) normal normal bold normal>) = 10.335\n"
     ]
    },
    {
     "name": "stderr",
     "output_type": "stream",
     "text": [
      "2020-04-09 15:31:58,517 : DEBUG : findfont: score(<Font 'STIXIntegralsD' (STIXIntDBol.otf) normal normal bold normal>) = 10.335\n"
     ]
    },
    {
     "name": "stderr",
     "output_type": "stream",
     "text": [
      "2020-04-09 15:31:58,517 : DEBUG : findfont: score(<Font 'System Font' (SFNS.ttf) normal normal 400 normal>) = 10.05\n"
     ]
    },
    {
     "name": "stderr",
     "output_type": "stream",
     "text": [
      "2020-04-09 15:31:58,517 : DEBUG : findfont: score(<Font 'Tekton Pro' (TektonPro-BoldObl.otf) oblique normal bold normal>) = 11.335\n"
     ]
    },
    {
     "name": "stderr",
     "output_type": "stream",
     "text": [
      "2020-04-09 15:31:58,518 : DEBUG : findfont: score(<Font 'Apple Symbols' (Apple Symbols.ttf) normal normal 400 normal>) = 10.05\n"
     ]
    },
    {
     "name": "stderr",
     "output_type": "stream",
     "text": [
      "2020-04-09 15:31:58,518 : DEBUG : findfont: score(<Font 'Serto Jerusalem' (SyrCOMJerusalem.otf) normal normal 400 normal>) = 10.05\n"
     ]
    },
    {
     "name": "stderr",
     "output_type": "stream",
     "text": [
      "2020-04-09 15:31:58,519 : DEBUG : findfont: score(<Font 'Noto Sans Armenian' (NotoSansArmenian.ttc) normal normal black normal>) = 10.525\n"
     ]
    },
    {
     "name": "stderr",
     "output_type": "stream",
     "text": [
      "2020-04-09 15:31:58,519 : DEBUG : findfont: score(<Font 'Adobe Fangsong Std' (AdobeFangsongStd-Regular.otf) normal normal 400 normal>) = 10.05\n"
     ]
    },
    {
     "name": "stderr",
     "output_type": "stream",
     "text": [
      "2020-04-09 15:31:58,519 : DEBUG : findfont: score(<Font 'Noto Sans Yi' (NotoSansYi-Regular.ttf) normal normal regular normal>) = 10.05\n"
     ]
    },
    {
     "name": "stderr",
     "output_type": "stream",
     "text": [
      "2020-04-09 15:31:58,520 : DEBUG : findfont: score(<Font 'Wingdings' (Wingdings.ttf) normal normal 400 normal>) = 10.05\n"
     ]
    },
    {
     "name": "stderr",
     "output_type": "stream",
     "text": [
      "2020-04-09 15:31:58,520 : DEBUG : findfont: score(<Font 'DIN Alternate' (DIN Alternate Bold.ttf) normal normal bold normal>) = 10.335\n"
     ]
    },
    {
     "name": "stderr",
     "output_type": "stream",
     "text": [
      "2020-04-09 15:31:58,521 : DEBUG : findfont: score(<Font 'Adobe Caslon Pro' (ACaslonPro-Semibold.otf) normal normal semibold normal>) = 10.24\n"
     ]
    },
    {
     "name": "stderr",
     "output_type": "stream",
     "text": [
      "2020-04-09 15:31:58,521 : DEBUG : findfont: score(<Font 'Perpetua' (Perpetua.ttf) normal normal 400 normal>) = 10.05\n"
     ]
    },
    {
     "name": "stderr",
     "output_type": "stream",
     "text": [
      "2020-04-09 15:31:58,522 : DEBUG : findfont: score(<Font 'Perpetua' (Perpetua Italic.ttf) italic normal 400 normal>) = 11.05\n"
     ]
    },
    {
     "name": "stderr",
     "output_type": "stream",
     "text": [
      "2020-04-09 15:31:58,522 : DEBUG : findfont: score(<Font 'Helvetica' (Helvetica.ttc) normal normal 400 normal>) = 10.05\n"
     ]
    },
    {
     "name": "stderr",
     "output_type": "stream",
     "text": [
      "2020-04-09 15:31:58,522 : DEBUG : findfont: score(<Font 'Kannada Sangam MN' (Kannada Sangam MN.ttc) normal normal 400 normal>) = 10.05\n"
     ]
    },
    {
     "name": "stderr",
     "output_type": "stream",
     "text": [
      "2020-04-09 15:31:58,523 : DEBUG : findfont: score(<Font 'Consolas' (Consolas Bold Italic.ttf) italic normal bold normal>) = 11.335\n"
     ]
    },
    {
     "name": "stderr",
     "output_type": "stream",
     "text": [
      "2020-04-09 15:31:58,523 : DEBUG : findfont: score(<Font 'Kailasa' (Kailasa.ttc) normal normal regular normal>) = 10.05\n"
     ]
    },
    {
     "name": "stderr",
     "output_type": "stream",
     "text": [
      "2020-04-09 15:31:58,524 : DEBUG : findfont: score(<Font 'Kefa' (Kefa.ttc) normal normal regular normal>) = 10.05\n"
     ]
    },
    {
     "name": "stderr",
     "output_type": "stream",
     "text": [
      "2020-04-09 15:31:58,524 : DEBUG : findfont: score(<Font 'Arial' (Arial.ttf) normal normal 400 normal>) = 0.05\n"
     ]
    },
    {
     "name": "stderr",
     "output_type": "stream",
     "text": [
      "2020-04-09 15:31:58,524 : DEBUG : findfont: score(<Font 'Letter Gothic Std' (LetterGothicStd-Bold.otf) normal normal bold normal>) = 10.335\n"
     ]
    },
    {
     "name": "stderr",
     "output_type": "stream",
     "text": [
      "2020-04-09 15:31:58,525 : DEBUG : findfont: score(<Font 'Estrangelo Midyat' (SyrCOMMidyat.otf) normal normal 400 normal>) = 10.05\n"
     ]
    },
    {
     "name": "stderr",
     "output_type": "stream",
     "text": [
      "2020-04-09 15:31:58,525 : DEBUG : findfont: score(<Font 'Baghdad' (Baghdad.ttc) normal normal regular normal>) = 10.05\n"
     ]
    },
    {
     "name": "stderr",
     "output_type": "stream",
     "text": [
      "2020-04-09 15:31:58,526 : DEBUG : findfont: score(<Font '.SF NS Display Condensed' (SFNSDisplayCondensed-Light.otf) normal normal light condensed>) = 10.44\n"
     ]
    },
    {
     "name": "stderr",
     "output_type": "stream",
     "text": [
      "2020-04-09 15:31:58,526 : DEBUG : findfont: score(<Font 'Kozuka Mincho Pro' (KozMinPro-Medium.otf) normal normal 400 normal>) = 10.05\n"
     ]
    },
    {
     "name": "stderr",
     "output_type": "stream",
     "text": [
      "2020-04-09 15:31:58,526 : DEBUG : findfont: score(<Font '.SF Compact Text' (SFCompactText.ttf) normal normal 400 normal>) = 10.05\n"
     ]
    },
    {
     "name": "stderr",
     "output_type": "stream",
     "text": [
      "2020-04-09 15:31:58,527 : DEBUG : findfont: score(<Font 'Marker Felt' (MarkerFelt.ttc) normal normal 400 normal>) = 10.05\n"
     ]
    },
    {
     "name": "stderr",
     "output_type": "stream",
     "text": [
      "2020-04-09 15:31:58,527 : DEBUG : findfont: score(<Font 'STIXIntegralsUpSm' (STIXIntUpSmReg.otf) normal normal regular normal>) = 10.05\n"
     ]
    },
    {
     "name": "stderr",
     "output_type": "stream",
     "text": [
      "2020-04-09 15:31:58,528 : DEBUG : findfont: score(<Font 'Apple Braille' (Apple Braille Outline 6 Dot.ttf) normal normal 400 normal>) = 10.05\n"
     ]
    },
    {
     "name": "stderr",
     "output_type": "stream",
     "text": [
      "2020-04-09 15:31:58,528 : DEBUG : findfont: score(<Font 'STIXNonUnicode' (STIXNonUni.otf) normal normal regular normal>) = 10.05\n"
     ]
    },
    {
     "name": "stderr",
     "output_type": "stream",
     "text": [
      "2020-04-09 15:31:58,528 : DEBUG : findfont: score(<Font '.LastResort' (LastResort.otf) normal normal 400 normal>) = 10.05\n"
     ]
    },
    {
     "name": "stderr",
     "output_type": "stream",
     "text": [
      "2020-04-09 15:31:58,529 : DEBUG : findfont: score(<Font 'PingFang HK' (PingFang.ttc) normal normal regular normal>) = 10.05\n"
     ]
    },
    {
     "name": "stderr",
     "output_type": "stream",
     "text": [
      "2020-04-09 15:31:58,529 : DEBUG : findfont: score(<Font 'Times New Roman' (Times New Roman.ttf) normal normal roman normal>) = 10.145\n"
     ]
    },
    {
     "name": "stderr",
     "output_type": "stream",
     "text": [
      "2020-04-09 15:31:58,530 : DEBUG : findfont: score(<Font 'Adobe Arabic' (AdobeArabic-BoldItalic.otf) italic normal bold normal>) = 11.335\n"
     ]
    },
    {
     "name": "stderr",
     "output_type": "stream",
     "text": [
      "2020-04-09 15:31:58,530 : DEBUG : findfont: score(<Font 'Didot' (Didot.ttc) normal normal 400 normal>) = 10.05\n"
     ]
    },
    {
     "name": "stderr",
     "output_type": "stream",
     "text": [
      "2020-04-09 15:31:58,530 : DEBUG : findfont: score(<Font 'Serto Mardin' (SyrCOMMardin.otf) normal normal 400 normal>) = 10.05\n"
     ]
    },
    {
     "name": "stderr",
     "output_type": "stream",
     "text": [
      "2020-04-09 15:31:58,531 : DEBUG : findfont: score(<Font '.SF NS Text Condensed' (SFNSTextCondensed-Regular.otf) normal normal regular condensed>) = 10.25\n"
     ]
    },
    {
     "name": "stderr",
     "output_type": "stream",
     "text": [
      "2020-04-09 15:31:58,531 : DEBUG : findfont: score(<Font 'Noto Sans Tai Tham' (NotoSansTaiTham-Regular.ttf) normal normal 400 normal>) = 10.05\n"
     ]
    },
    {
     "name": "stderr",
     "output_type": "stream",
     "text": [
      "2020-04-09 15:31:58,532 : DEBUG : findfont: score(<Font 'Kozuka Mincho Pr6N' (KozMinPr6N-Medium.otf) normal normal 400 normal>) = 10.05\n"
     ]
    },
    {
     "name": "stderr",
     "output_type": "stream",
     "text": [
      "2020-04-09 15:31:58,532 : DEBUG : findfont: score(<Font 'Adobe Fan Heiti Std' (AdobeFanHeitiStd-Bold.otf) normal normal 700 normal>) = 10.335\n"
     ]
    },
    {
     "name": "stderr",
     "output_type": "stream",
     "text": [
      "2020-04-09 15:31:58,532 : DEBUG : findfont: score(<Font 'PMingLiU-ExtB' (PMingLiU-ExtB.ttf) normal normal 400 normal>) = 10.05\n"
     ]
    },
    {
     "name": "stderr",
     "output_type": "stream",
     "text": [
      "2020-04-09 15:31:58,533 : DEBUG : findfont: score(<Font 'Verdana' (Verdana Bold.ttf) normal normal bold normal>) = 10.335\n"
     ]
    },
    {
     "name": "stderr",
     "output_type": "stream",
     "text": [
      "2020-04-09 15:31:58,533 : DEBUG : findfont: score(<Font 'MS PGothic' (MS PGothic.ttf) normal normal 400 normal>) = 10.05\n"
     ]
    },
    {
     "name": "stderr",
     "output_type": "stream",
     "text": [
      "2020-04-09 15:31:58,533 : DEBUG : findfont: score(<Font 'Trebuchet MS' (Trebuchet MS Bold Italic.ttf) italic normal bold normal>) = 11.335\n"
     ]
    },
    {
     "name": "stderr",
     "output_type": "stream",
     "text": [
      "2020-04-09 15:31:58,534 : DEBUG : findfont: score(<Font 'Hiragino Sans' (ヒラギノ角ゴシック W7.ttc) normal normal 700 normal>) = 10.335\n"
     ]
    },
    {
     "name": "stderr",
     "output_type": "stream",
     "text": [
      "2020-04-09 15:31:58,534 : DEBUG : findfont: score(<Font 'Luxi Sans' (luxisri.ttf) oblique normal 400 normal>) = 11.05\n"
     ]
    },
    {
     "name": "stderr",
     "output_type": "stream",
     "text": [
      "2020-04-09 15:31:58,535 : DEBUG : findfont: score(<Font 'Charter' (Charter.ttc) normal normal roman normal>) = 10.145\n"
     ]
    },
    {
     "name": "stderr",
     "output_type": "stream",
     "text": [
      "2020-04-09 15:31:58,535 : DEBUG : findfont: score(<Font 'Wingdings 3' (Wingdings 3.ttf) normal normal 400 normal>) = 10.05\n"
     ]
    },
    {
     "name": "stderr",
     "output_type": "stream",
     "text": [
      "2020-04-09 15:31:58,535 : DEBUG : findfont: score(<Font 'Futura' (Futura.ttc) normal normal medium normal>) = 10.145\n"
     ]
    },
    {
     "name": "stderr",
     "output_type": "stream",
     "text": [
      "2020-04-09 15:31:58,536 : DEBUG : findfont: score(<Font 'Noto Sans Buginese' (NotoSansBuginese-Regular.ttf) normal normal regular normal>) = 10.05\n"
     ]
    },
    {
     "name": "stderr",
     "output_type": "stream",
     "text": [
      "2020-04-09 15:31:58,536 : DEBUG : findfont: score(<Font 'Serto Jerusalem' (SyrCOMJerusalemItalic.otf) italic normal 400 normal>) = 11.05\n"
     ]
    },
    {
     "name": "stderr",
     "output_type": "stream",
     "text": [
      "2020-04-09 15:31:58,536 : DEBUG : findfont: score(<Font 'Kozuka Gothic Pr6N' (KozGoPr6N-ExtraLight.otf) normal normal 400 normal>) = 10.05\n"
     ]
    },
    {
     "name": "stderr",
     "output_type": "stream",
     "text": [
      "2020-04-09 15:31:58,537 : DEBUG : findfont: score(<Font 'Baskerville' (Baskerville.ttc) normal normal 400 normal>) = 10.05\n"
     ]
    },
    {
     "name": "stderr",
     "output_type": "stream",
     "text": [
      "2020-04-09 15:31:58,537 : DEBUG : findfont: score(<Font 'Serto Jerusalem Outline' (SyrCOMJerusalemOutline.otf) normal normal 400 normal>) = 10.05\n"
     ]
    },
    {
     "name": "stderr",
     "output_type": "stream",
     "text": [
      "2020-04-09 15:31:58,538 : DEBUG : findfont: score(<Font 'Wingdings 2' (Wingdings 2.ttf) normal normal 400 normal>) = 10.05\n"
     ]
    },
    {
     "name": "stderr",
     "output_type": "stream",
     "text": [
      "2020-04-09 15:31:58,538 : DEBUG : findfont: score(<Font '.SF Compact Display' (SFCompactDisplay.ttf) normal normal 400 normal>) = 10.05\n"
     ]
    },
    {
     "name": "stderr",
     "output_type": "stream",
     "text": [
      "2020-04-09 15:31:58,539 : DEBUG : findfont: score(<Font 'Gill Sans MT' (Gill Sans MT Italic.ttf) italic normal 400 normal>) = 11.05\n"
     ]
    },
    {
     "name": "stderr",
     "output_type": "stream",
     "text": [
      "2020-04-09 15:31:58,539 : DEBUG : findfont: score(<Font 'Noto Sans Sundanese' (NotoSansSundanese-Regular.ttf) normal normal regular normal>) = 10.05\n"
     ]
    },
    {
     "name": "stderr",
     "output_type": "stream",
     "text": [
      "2020-04-09 15:31:58,539 : DEBUG : findfont: score(<Font 'Batang' (Batang.ttf) normal normal 400 normal>) = 10.05\n"
     ]
    },
    {
     "name": "stderr",
     "output_type": "stream",
     "text": [
      "2020-04-09 15:31:58,540 : DEBUG : findfont: score(<Font 'Arial Unicode MS' (Arial Unicode.ttf) normal normal 400 normal>) = 10.05\n"
     ]
    },
    {
     "name": "stderr",
     "output_type": "stream",
     "text": [
      "2020-04-09 15:31:58,540 : DEBUG : findfont: score(<Font 'Calibri' (Calibri.ttf) normal normal 400 normal>) = 10.05\n"
     ]
    },
    {
     "name": "stderr",
     "output_type": "stream",
     "text": [
      "2020-04-09 15:31:58,541 : DEBUG : findfont: score(<Font 'Candara' (Candara Bold.ttf) normal normal bold normal>) = 10.335\n"
     ]
    },
    {
     "name": "stderr",
     "output_type": "stream",
     "text": [
      "2020-04-09 15:31:58,541 : DEBUG : findfont: score(<Font 'Hiragino Sans' (ヒラギノ角ゴシック W6.ttc) normal normal 700 normal>) = 10.335\n"
     ]
    },
    {
     "name": "stderr",
     "output_type": "stream",
     "text": [
      "2020-04-09 15:31:58,542 : DEBUG : findfont: score(<Font 'Farah' (Farah.ttc) normal normal regular normal>) = 10.05\n"
     ]
    },
    {
     "name": "stderr",
     "output_type": "stream",
     "text": [
      "2020-04-09 15:31:58,542 : DEBUG : findfont: score(<Font '.SF NS Mono' (SFNSMono.ttf) normal normal light normal>) = 10.24\n"
     ]
    },
    {
     "name": "stderr",
     "output_type": "stream",
     "text": [
      "2020-04-09 15:31:58,542 : DEBUG : findfont: score(<Font 'Adobe Arabic' (AdobeArabic-Regular.otf) normal normal regular normal>) = 10.05\n"
     ]
    },
    {
     "name": "stderr",
     "output_type": "stream",
     "text": [
      "2020-04-09 15:31:58,543 : DEBUG : findfont: score(<Font 'Noto Sans Lydian' (NotoSansLydian-Regular.ttf) normal normal regular normal>) = 10.05\n"
     ]
    },
    {
     "name": "stderr",
     "output_type": "stream",
     "text": [
      "2020-04-09 15:31:58,543 : DEBUG : findfont: score(<Font 'Noto Sans Tai Le' (NotoSansTaiLe-Regular.ttf) normal normal regular normal>) = 10.05\n"
     ]
    },
    {
     "name": "stderr",
     "output_type": "stream",
     "text": [
      "2020-04-09 15:31:58,544 : DEBUG : findfont: score(<Font 'Noto Sans Buhid' (NotoSansBuhid-Regular.ttf) normal normal regular normal>) = 10.05\n"
     ]
    },
    {
     "name": "stderr",
     "output_type": "stream",
     "text": [
      "2020-04-09 15:31:58,544 : DEBUG : findfont: score(<Font 'Tekton Pro' (TektonPro-BoldExt.otf) normal normal bold normal>) = 10.335\n"
     ]
    },
    {
     "name": "stderr",
     "output_type": "stream",
     "text": [
      "2020-04-09 15:31:58,544 : DEBUG : findfont: score(<Font 'Minion Pro' (MinionPro-MediumIt.otf) italic normal medium normal>) = 11.145\n"
     ]
    },
    {
     "name": "stderr",
     "output_type": "stream",
     "text": [
      "2020-04-09 15:31:58,545 : DEBUG : findfont: score(<Font 'Minion Pro' (MinionPro-Semibold.otf) normal normal semibold normal>) = 10.24\n"
     ]
    },
    {
     "name": "stderr",
     "output_type": "stream",
     "text": [
      "2020-04-09 15:31:58,545 : DEBUG : findfont: score(<Font 'Palatino Linotype' (Palatino Linotype.ttf) normal normal 400 normal>) = 10.05\n"
     ]
    },
    {
     "name": "stderr",
     "output_type": "stream",
     "text": [
      "2020-04-09 15:31:58,545 : DEBUG : findfont: score(<Font 'Noto Sans Cham' (NotoSansCham-Regular.ttf) normal normal regular normal>) = 10.05\n"
     ]
    },
    {
     "name": "stderr",
     "output_type": "stream",
     "text": [
      "2020-04-09 15:31:58,546 : DEBUG : findfont: score(<Font '.SF NS Rounded' (SFNSRounded.ttf) normal normal 400 normal>) = 10.05\n"
     ]
    },
    {
     "name": "stderr",
     "output_type": "stream",
     "text": [
      "2020-04-09 15:31:58,546 : DEBUG : findfont: score(<Font 'Galvji' (Galvji.ttc) normal normal 400 normal>) = 10.05\n"
     ]
    },
    {
     "name": "stderr",
     "output_type": "stream",
     "text": [
      "2020-04-09 15:31:58,547 : DEBUG : findfont: score(<Font 'Luxi Sans' (luxisr.ttf) normal normal regular normal>) = 10.05\n"
     ]
    },
    {
     "name": "stderr",
     "output_type": "stream",
     "text": [
      "2020-04-09 15:31:58,547 : DEBUG : findfont: score(<Font '.Aqua Kana' (AquaKana.ttc) normal normal 400 normal>) = 10.05\n"
     ]
    },
    {
     "name": "stderr",
     "output_type": "stream",
     "text": [
      "2020-04-09 15:31:58,547 : DEBUG : findfont: score(<Font 'Adobe Hebrew' (AdobeHebrew-BoldItalic.otf) italic normal bold normal>) = 11.335\n"
     ]
    },
    {
     "name": "stderr",
     "output_type": "stream",
     "text": [
      "2020-04-09 15:31:58,548 : DEBUG : findfont: score(<Font 'STIXSizeTwoSym' (STIXSizTwoSymReg.otf) normal normal regular normal>) = 10.05\n"
     ]
    },
    {
     "name": "stderr",
     "output_type": "stream",
     "text": [
      "2020-04-09 15:31:58,548 : DEBUG : findfont: score(<Font 'Sukhumvit Set' (SukhumvitSet.ttc) normal normal 400 normal>) = 10.05\n"
     ]
    },
    {
     "name": "stderr",
     "output_type": "stream",
     "text": [
      "2020-04-09 15:31:58,549 : DEBUG : findfont: score(<Font '.SF Compact Text' (SFCompactTextItalic.ttf) italic normal 400 normal>) = 11.05\n"
     ]
    },
    {
     "name": "stderr",
     "output_type": "stream",
     "text": [
      "2020-04-09 15:31:58,549 : DEBUG : findfont: score(<Font '.Keyboard' (Keyboard.ttf) normal normal 400 normal>) = 10.05\n"
     ]
    },
    {
     "name": "stderr",
     "output_type": "stream",
     "text": [
      "2020-04-09 15:31:58,550 : DEBUG : findfont: score(<Font 'Nueva Std' (NuevaStd-CondItalic.otf) italic normal 400 condensed>) = 11.25\n"
     ]
    },
    {
     "name": "stderr",
     "output_type": "stream",
     "text": [
      "2020-04-09 15:31:58,550 : DEBUG : findfont: score(<Font 'Adobe Ming Std' (AdobeMingStd-Light.otf) normal normal 400 normal>) = 10.05\n"
     ]
    },
    {
     "name": "stderr",
     "output_type": "stream",
     "text": [
      "2020-04-09 15:31:58,551 : DEBUG : findfont: score(<Font 'Minion Pro' (MinionPro-Regular.otf) normal normal 400 normal>) = 10.05\n"
     ]
    },
    {
     "name": "stderr",
     "output_type": "stream",
     "text": [
      "2020-04-09 15:31:58,551 : DEBUG : findfont: score(<Font 'Plantagenet Cherokee' (PlantagenetCherokee.ttf) normal normal 400 normal>) = 10.05\n"
     ]
    },
    {
     "name": "stderr",
     "output_type": "stream",
     "text": [
      "2020-04-09 15:31:58,551 : DEBUG : findfont: score(<Font 'Constantia' (Constantia Bold Italic.ttf) italic normal bold normal>) = 11.335\n"
     ]
    },
    {
     "name": "stderr",
     "output_type": "stream",
     "text": [
      "2020-04-09 15:31:58,552 : DEBUG : findfont: score(<Font 'DIN Condensed' (DIN Condensed Bold.ttf) normal normal bold condensed>) = 10.535\n"
     ]
    },
    {
     "name": "stderr",
     "output_type": "stream",
     "text": [
      "2020-04-09 15:31:58,552 : DEBUG : findfont: score(<Font 'Shree Devanagari 714' (Shree714.ttc) normal normal 400 normal>) = 10.05\n"
     ]
    },
    {
     "name": "stderr",
     "output_type": "stream",
     "text": [
      "2020-04-09 15:31:58,553 : DEBUG : findfont: score(<Font 'Luxi Mono' (luximri.ttf) oblique normal 400 normal>) = 11.05\n"
     ]
    },
    {
     "name": "stderr",
     "output_type": "stream",
     "text": [
      "2020-04-09 15:31:58,553 : DEBUG : findfont: score(<Font 'Arial Narrow' (Arial Narrow Bold.ttf) normal normal bold condensed>) = 10.535\n"
     ]
    },
    {
     "name": "stderr",
     "output_type": "stream",
     "text": [
      "2020-04-09 15:31:58,553 : DEBUG : findfont: score(<Font 'Goha-Tibeb Zemen' (GohaTibebZemen.otf) normal normal 400 normal>) = 10.05\n"
     ]
    },
    {
     "name": "stderr",
     "output_type": "stream",
     "text": [
      "2020-04-09 15:31:58,554 : DEBUG : findfont: score(<Font 'Constantia' (Constantia Italic.ttf) italic normal 400 normal>) = 11.05\n"
     ]
    },
    {
     "name": "stderr",
     "output_type": "stream",
     "text": [
      "2020-04-09 15:31:58,554 : DEBUG : findfont: score(<Font 'Minion Pro' (MinionPro-BoldIt.otf) italic normal bold normal>) = 11.335\n"
     ]
    },
    {
     "name": "stderr",
     "output_type": "stream",
     "text": [
      "2020-04-09 15:31:58,555 : DEBUG : findfont: score(<Font 'STIXSizeOneSym' (STIXSizOneSymBol.otf) normal normal bold normal>) = 10.335\n"
     ]
    },
    {
     "name": "stderr",
     "output_type": "stream",
     "text": [
      "2020-04-09 15:31:58,555 : DEBUG : findfont: score(<Font 'Inconsolata' (Inconsolata.otf) normal normal 400 normal>) = 10.05\n"
     ]
    },
    {
     "name": "stderr",
     "output_type": "stream",
     "text": [
      "2020-04-09 15:31:58,555 : DEBUG : findfont: score(<Font 'Noto Serif Balinese' (NotoSerifBalinese-Regular.ttf) normal normal regular normal>) = 10.05\n"
     ]
    },
    {
     "name": "stderr",
     "output_type": "stream",
     "text": [
      "2020-04-09 15:31:58,556 : DEBUG : findfont: score(<Font 'STIXSizeFourSym' (STIXSizFourSymBol.otf) normal normal bold normal>) = 10.335\n"
     ]
    },
    {
     "name": "stderr",
     "output_type": "stream",
     "text": [
      "2020-04-09 15:31:58,556 : DEBUG : findfont: score(<Font 'Adobe Gothic Std' (AdobeGothicStd-Bold.otf) normal normal 700 normal>) = 10.335\n"
     ]
    },
    {
     "name": "stderr",
     "output_type": "stream",
     "text": [
      "2020-04-09 15:31:58,557 : DEBUG : findfont: score(<Font 'Bookshelf Symbol 7' (Bookshelf Symbol 7.ttf) normal normal book normal>) = 10.05\n"
     ]
    },
    {
     "name": "stderr",
     "output_type": "stream",
     "text": [
      "2020-04-09 15:31:58,557 : DEBUG : findfont: score(<Font '.SF Compact Rounded' (SFCompactRounded.ttf) normal normal 400 normal>) = 10.05\n"
     ]
    },
    {
     "name": "stderr",
     "output_type": "stream",
     "text": [
      "2020-04-09 15:31:58,557 : DEBUG : findfont: score(<Font 'Thonburi' (Thonburi.ttc) normal normal 400 normal>) = 10.05\n"
     ]
    },
    {
     "name": "stderr",
     "output_type": "stream",
     "text": [
      "2020-04-09 15:31:58,558 : DEBUG : findfont: score(<Font 'Noto Sans Imperial Aramaic' (NotoSansImperialAramaic-Regular.ttf) normal normal regular normal>) = 10.05\n"
     ]
    },
    {
     "name": "stderr",
     "output_type": "stream",
     "text": [
      "2020-04-09 15:31:58,558 : DEBUG : findfont: score(<Font 'Oriya MN' (Oriya MN.ttc) normal normal 400 normal>) = 10.05\n"
     ]
    },
    {
     "name": "stderr",
     "output_type": "stream",
     "text": [
      "2020-04-09 15:31:58,559 : DEBUG : findfont: score(<Font '.SF NS Mono' (SFNSMonoItalic.ttf) italic normal light normal>) = 11.24\n"
     ]
    },
    {
     "name": "stderr",
     "output_type": "stream",
     "text": [
      "2020-04-09 15:31:58,559 : DEBUG : findfont: score(<Font '.New York' (NewYork.ttf) normal normal 400 normal>) = 10.05\n"
     ]
    },
    {
     "name": "stderr",
     "output_type": "stream",
     "text": [
      "2020-04-09 15:31:58,559 : DEBUG : findfont: score(<Font 'Luxi Serif' (luxirri.ttf) oblique normal 400 normal>) = 11.05\n"
     ]
    },
    {
     "name": "stderr",
     "output_type": "stream",
     "text": [
      "2020-04-09 15:31:58,560 : DEBUG : findfont: score(<Font 'Kozuka Mincho Pro' (KozMinPro-Light.otf) normal normal 400 normal>) = 10.05\n"
     ]
    },
    {
     "name": "stderr",
     "output_type": "stream",
     "text": [
      "2020-04-09 15:31:58,560 : DEBUG : findfont: score(<Font 'STIXNonUnicode' (STIXNonUniIta.otf) italic normal 400 normal>) = 11.05\n"
     ]
    },
    {
     "name": "stderr",
     "output_type": "stream",
     "text": [
      "2020-04-09 15:31:58,561 : DEBUG : findfont: score(<Font 'Lao Sangam MN' (Lao Sangam MN.ttf) normal normal 400 normal>) = 10.05\n"
     ]
    },
    {
     "name": "stderr",
     "output_type": "stream",
     "text": [
      "2020-04-09 15:31:58,562 : DEBUG : findfont: score(<Font 'Menlo' (Menlo.ttc) normal normal regular normal>) = 10.05\n"
     ]
    },
    {
     "name": "stderr",
     "output_type": "stream",
     "text": [
      "2020-04-09 15:31:58,562 : DEBUG : findfont: score(<Font 'Comic Sans MS' (Comic Sans MS Bold.ttf) normal normal bold normal>) = 10.335\n"
     ]
    },
    {
     "name": "stderr",
     "output_type": "stream",
     "text": [
      "2020-04-09 15:31:58,563 : DEBUG : findfont: score(<Font 'Brush Script MT' (Brush Script.ttf) italic normal 400 normal>) = 11.05\n"
     ]
    },
    {
     "name": "stderr",
     "output_type": "stream",
     "text": [
      "2020-04-09 15:31:58,563 : DEBUG : findfont: score(<Font 'Noto Sans Limbu' (NotoSansLimbu-Regular.ttf) normal normal regular normal>) = 10.05\n"
     ]
    },
    {
     "name": "stderr",
     "output_type": "stream",
     "text": [
      "2020-04-09 15:31:58,563 : DEBUG : findfont: score(<Font 'Courier New' (Courier New.ttf) normal normal 400 normal>) = 10.05\n"
     ]
    },
    {
     "name": "stderr",
     "output_type": "stream",
     "text": [
      "2020-04-09 15:31:58,564 : DEBUG : findfont: score(<Font 'Adobe Kaiti Std' (AdobeKaitiStd-Regular.otf) normal normal 400 normal>) = 10.05\n"
     ]
    },
    {
     "name": "stderr",
     "output_type": "stream",
     "text": [
      "2020-04-09 15:31:58,564 : DEBUG : findfont: score(<Font 'Tiger' (Tiger.ttf) normal normal 400 normal>) = 10.05\n"
     ]
    },
    {
     "name": "stderr",
     "output_type": "stream",
     "text": [
      "2020-04-09 15:31:58,565 : DEBUG : findfont: score(<Font 'Tekton Pro' (TektonPro-Bold.otf) normal normal bold normal>) = 10.335\n"
     ]
    },
    {
     "name": "stderr",
     "output_type": "stream",
     "text": [
      "2020-04-09 15:31:58,565 : DEBUG : findfont: score(<Font 'Adobe Caslon Pro' (ACaslonPro-SemiboldItalic.otf) italic normal semibold normal>) = 11.24\n"
     ]
    },
    {
     "name": "stderr",
     "output_type": "stream",
     "text": [
      "2020-04-09 15:31:58,565 : DEBUG : findfont: score(<Font 'Kozuka Mincho Pr6N' (KozMinPr6N-Regular.otf) normal normal 400 normal>) = 10.05\n"
     ]
    },
    {
     "name": "stderr",
     "output_type": "stream",
     "text": [
      "2020-04-09 15:31:58,566 : DEBUG : findfont: score(<Font 'Franklin Gothic Book' (Franklin Gothic Book.ttf) normal normal book normal>) = 10.05\n"
     ]
    },
    {
     "name": "stderr",
     "output_type": "stream",
     "text": [
      "2020-04-09 15:31:58,566 : DEBUG : findfont: score(<Font 'Euphemia UCAS' (EuphemiaCAS.ttc) normal normal 400 normal>) = 10.05\n"
     ]
    },
    {
     "name": "stderr",
     "output_type": "stream",
     "text": [
      "2020-04-09 15:31:58,567 : DEBUG : findfont: score(<Font 'Calibri' (Calibril.ttf) normal normal light normal>) = 10.24\n"
     ]
    },
    {
     "name": "stderr",
     "output_type": "stream",
     "text": [
      "2020-04-09 15:31:58,567 : DEBUG : findfont: score(<Font 'Zapfino' (Zapfino.ttf) normal normal 400 normal>) = 10.05\n"
     ]
    },
    {
     "name": "stderr",
     "output_type": "stream",
     "text": [
      "2020-04-09 15:31:58,568 : DEBUG : findfont: score(<Font 'Lao MN' (Lao MN.ttc) normal normal 400 normal>) = 10.05\n"
     ]
    },
    {
     "name": "stderr",
     "output_type": "stream",
     "text": [
      "2020-04-09 15:31:58,568 : DEBUG : findfont: score(<Font 'Marion' (Marion.ttc) normal normal regular normal>) = 10.05\n"
     ]
    },
    {
     "name": "stderr",
     "output_type": "stream",
     "text": [
      "2020-04-09 15:31:58,568 : DEBUG : findfont: score(<Font 'Adobe Garamond Pro' (AGaramondPro-Regular.otf) normal normal 400 normal>) = 10.05\n"
     ]
    },
    {
     "name": "stderr",
     "output_type": "stream",
     "text": [
      "2020-04-09 15:31:58,569 : DEBUG : findfont: score(<Font 'Kozuka Mincho Pro' (KozMinPro-Heavy.otf) normal normal 700 normal>) = 10.335\n"
     ]
    },
    {
     "name": "stderr",
     "output_type": "stream",
     "text": [
      "2020-04-09 15:31:58,569 : DEBUG : findfont: score(<Font 'Consolas' (Consolas.ttf) normal normal 400 normal>) = 10.05\n"
     ]
    },
    {
     "name": "stderr",
     "output_type": "stream",
     "text": [
      "2020-04-09 15:31:58,570 : DEBUG : findfont: score(<Font 'Noto Sans Mongolian' (NotoSansMongolian-Regular.ttf) normal normal 400 normal>) = 10.05\n"
     ]
    },
    {
     "name": "stderr",
     "output_type": "stream",
     "text": [
      "2020-04-09 15:31:58,570 : DEBUG : findfont: score(<Font 'Serto Jerusalem' (SyrCOMJerusalemBold.otf) normal normal bold normal>) = 10.335\n"
     ]
    },
    {
     "name": "stderr",
     "output_type": "stream",
     "text": [
      "2020-04-09 15:31:58,570 : DEBUG : findfont: score(<Font 'Georgia' (Georgia Italic.ttf) italic normal 400 normal>) = 11.05\n"
     ]
    },
    {
     "name": "stderr",
     "output_type": "stream",
     "text": [
      "2020-04-09 15:31:58,571 : DEBUG : findfont: score(<Font 'Arial' (Arial Bold.ttf) normal normal bold normal>) = 0.33499999999999996\n"
     ]
    },
    {
     "name": "stderr",
     "output_type": "stream",
     "text": [
      "2020-04-09 15:31:58,571 : DEBUG : findfont: score(<Font 'Rockwell' (Rockwell.ttc) normal normal 400 normal>) = 10.05\n"
     ]
    },
    {
     "name": "stderr",
     "output_type": "stream",
     "text": [
      "2020-04-09 15:31:58,572 : DEBUG : findfont: score(<Font 'Hiragino Sans' (ヒラギノ角ゴシック W5.ttc) normal normal 700 normal>) = 10.335\n"
     ]
    },
    {
     "name": "stderr",
     "output_type": "stream",
     "text": [
      "2020-04-09 15:31:58,572 : DEBUG : findfont: score(<Font 'Serto Mardin' (SyrCOMMardinBold.otf) normal normal bold normal>) = 10.335\n"
     ]
    },
    {
     "name": "stderr",
     "output_type": "stream",
     "text": [
      "2020-04-09 15:31:58,572 : DEBUG : findfont: score(<Font 'East Syriac Ctesiphon' (SyrCOMCtesiphon.otf) normal normal 400 normal>) = 10.05\n"
     ]
    },
    {
     "name": "stderr",
     "output_type": "stream",
     "text": [
      "2020-04-09 15:31:58,573 : DEBUG : findfont: score(<Font 'Minion Pro' (MinionPro-It.otf) italic normal 400 normal>) = 11.05\n"
     ]
    },
    {
     "name": "stderr",
     "output_type": "stream",
     "text": [
      "2020-04-09 15:31:58,573 : DEBUG : findfont: score(<Font 'Constantia' (Constantia.ttf) normal normal 400 normal>) = 10.05\n"
     ]
    },
    {
     "name": "stderr",
     "output_type": "stream",
     "text": [
      "2020-04-09 15:31:58,574 : DEBUG : findfont: score(<Font 'Brush Script Std' (BrushScriptStd.otf) normal normal medium normal>) = 10.145\n"
     ]
    },
    {
     "name": "stderr",
     "output_type": "stream",
     "text": [
      "2020-04-09 15:31:58,574 : DEBUG : findfont: score(<Font 'Malayalam Sangam MN' (Malayalam Sangam MN.ttc) normal normal 400 normal>) = 10.05\n"
     ]
    },
    {
     "name": "stderr",
     "output_type": "stream",
     "text": [
      "2020-04-09 15:31:58,574 : DEBUG : findfont: score(<Font 'Meiryo' (Meiryo Bold.ttf) normal normal bold normal>) = 10.335\n"
     ]
    },
    {
     "name": "stderr",
     "output_type": "stream",
     "text": [
      "2020-04-09 15:31:58,575 : DEBUG : findfont: score(<Font 'Noto Sans Bamum' (NotoSansBamum-Regular.ttf) normal normal regular normal>) = 10.05\n"
     ]
    },
    {
     "name": "stderr",
     "output_type": "stream",
     "text": [
      "2020-04-09 15:31:58,575 : DEBUG : findfont: score(<Font 'Bangla Sangam MN' (Bangla Sangam MN.ttc) normal normal 400 normal>) = 10.05\n"
     ]
    },
    {
     "name": "stderr",
     "output_type": "stream",
     "text": [
      "2020-04-09 15:31:58,575 : DEBUG : findfont: score(<Font 'Arial Narrow' (Arial Narrow Bold Italic.ttf) italic normal bold condensed>) = 11.535\n"
     ]
    },
    {
     "name": "stderr",
     "output_type": "stream",
     "text": [
      "2020-04-09 15:31:58,576 : DEBUG : findfont: score(<Font 'Trajan Pro' (TrajanPro-Bold.otf) normal normal bold normal>) = 10.335\n"
     ]
    },
    {
     "name": "stderr",
     "output_type": "stream",
     "text": [
      "2020-04-09 15:31:58,576 : DEBUG : findfont: score(<Font 'Palatino Linotype' (Palatino Linotype Bold Italic.ttf) italic normal bold normal>) = 11.335\n"
     ]
    },
    {
     "name": "stderr",
     "output_type": "stream",
     "text": [
      "2020-04-09 15:31:58,577 : DEBUG : findfont: score(<Font 'Kozuka Gothic Pro' (KozGoPro-Heavy.otf) normal normal 700 normal>) = 10.335\n"
     ]
    },
    {
     "name": "stderr",
     "output_type": "stream",
     "text": [
      "2020-04-09 15:31:58,577 : DEBUG : findfont: score(<Font 'STIXSizeFiveSym' (STIXSizFiveSymReg.otf) normal normal regular normal>) = 10.05\n"
     ]
    },
    {
     "name": "stderr",
     "output_type": "stream",
     "text": [
      "2020-04-09 15:31:58,578 : DEBUG : findfont: score(<Font 'Noto Sans Myanmar' (NotoSansMyanmar.ttc) normal normal black normal>) = 10.525\n"
     ]
    },
    {
     "name": "stderr",
     "output_type": "stream",
     "text": [
      "2020-04-09 15:31:58,578 : DEBUG : findfont: score(<Font 'Muna' (Muna.ttc) normal normal regular normal>) = 10.05\n"
     ]
    },
    {
     "name": "stderr",
     "output_type": "stream",
     "text": [
      "2020-04-09 15:31:58,578 : DEBUG : findfont: score(<Font 'Hack' (Hack-BoldOblique.ttf) oblique normal bold normal>) = 11.335\n"
     ]
    },
    {
     "name": "stderr",
     "output_type": "stream",
     "text": [
      "2020-04-09 15:31:58,579 : DEBUG : findfont: score(<Font 'Cooper Std' (CooperBlackStd.otf) normal normal black normal>) = 10.525\n"
     ]
    },
    {
     "name": "stderr",
     "output_type": "stream",
     "text": [
      "2020-04-09 15:31:58,579 : DEBUG : findfont: score(<Font 'Silom' (Silom.ttf) normal normal 400 normal>) = 10.05\n"
     ]
    },
    {
     "name": "stderr",
     "output_type": "stream",
     "text": [
      "2020-04-09 15:31:58,580 : DEBUG : findfont: score(<Font 'Myriad Pro' (MyriadPro-CondIt.otf) italic normal 400 condensed>) = 11.25\n"
     ]
    },
    {
     "name": "stderr",
     "output_type": "stream",
     "text": [
      "2020-04-09 15:31:58,580 : DEBUG : findfont: score(<Font 'Adobe Caslon Pro' (ACaslonPro-BoldItalic.otf) italic normal bold normal>) = 11.335\n"
     ]
    },
    {
     "name": "stderr",
     "output_type": "stream",
     "text": [
      "2020-04-09 15:31:58,580 : DEBUG : findfont: score(<Font 'Adobe Caslon Pro' (ACaslonPro-Bold.otf) normal normal bold normal>) = 10.335\n"
     ]
    },
    {
     "name": "stderr",
     "output_type": "stream",
     "text": [
      "2020-04-09 15:31:58,581 : DEBUG : findfont: score(<Font 'Courier New' (Courier New Bold Italic.ttf) italic normal bold normal>) = 11.335\n"
     ]
    },
    {
     "name": "stderr",
     "output_type": "stream",
     "text": [
      "2020-04-09 15:31:58,581 : DEBUG : findfont: score(<Font 'Andale Mono' (Andale Mono.ttf) normal normal 400 normal>) = 10.05\n"
     ]
    },
    {
     "name": "stderr",
     "output_type": "stream",
     "text": [
      "2020-04-09 15:31:58,581 : DEBUG : findfont: score(<Font 'Trebuchet MS' (Trebuchet MS Bold.ttf) normal normal bold normal>) = 10.335\n"
     ]
    },
    {
     "name": "stderr",
     "output_type": "stream",
     "text": [
      "2020-04-09 15:31:58,582 : DEBUG : findfont: score(<Font 'Gurmukhi MT' (Gurmukhi.ttf) normal normal 400 normal>) = 10.05\n"
     ]
    },
    {
     "name": "stderr",
     "output_type": "stream",
     "text": [
      "2020-04-09 15:31:58,582 : DEBUG : findfont: score(<Font 'Noto Sans Phoenician' (NotoSansPhoenician-Regular.ttf) normal normal regular normal>) = 10.05\n"
     ]
    },
    {
     "name": "stderr",
     "output_type": "stream",
     "text": [
      "2020-04-09 15:31:58,583 : DEBUG : findfont: score(<Font 'Cambria' (Cambria Bold Italic.ttf) italic normal bold normal>) = 11.335\n"
     ]
    },
    {
     "name": "stderr",
     "output_type": "stream",
     "text": [
      "2020-04-09 15:31:58,583 : DEBUG : findfont: score(<Font 'Myriad Pro' (MyriadPro-It.otf) italic normal 400 normal>) = 11.05\n"
     ]
    },
    {
     "name": "stderr",
     "output_type": "stream",
     "text": [
      "2020-04-09 15:31:58,584 : DEBUG : findfont: score(<Font 'Noto Sans Vai' (NotoSansVai-Regular.ttf) normal normal regular normal>) = 10.05\n"
     ]
    },
    {
     "name": "stderr",
     "output_type": "stream",
     "text": [
      "2020-04-09 15:31:58,584 : DEBUG : findfont: score(<Font 'Myriad Pro' (MyriadPro-Regular.otf) normal normal 400 normal>) = 10.05\n"
     ]
    },
    {
     "name": "stderr",
     "output_type": "stream",
     "text": [
      "2020-04-09 15:31:58,584 : DEBUG : findfont: score(<Font '.SF NS Display Condensed' (SFNSDisplayCondensed-Ultralight.otf) normal normal ultralight condensed>) = 10.535\n"
     ]
    },
    {
     "name": "stderr",
     "output_type": "stream",
     "text": [
      "2020-04-09 15:31:58,585 : DEBUG : findfont: score(<Font 'Kozuka Mincho Pr6N' (KozMinPr6N-Light.otf) normal normal 400 normal>) = 10.05\n"
     ]
    },
    {
     "name": "stderr",
     "output_type": "stream",
     "text": [
      "2020-04-09 15:31:58,585 : DEBUG : findfont: score(<Font 'Arial Hebrew' (ArialHB.ttc) normal normal 400 normal>) = 10.05\n"
     ]
    },
    {
     "name": "stderr",
     "output_type": "stream",
     "text": [
      "2020-04-09 15:31:58,586 : DEBUG : findfont: score(<Font 'New Peninim MT' (NewPeninimMT.ttc) normal normal 400 normal>) = 10.05\n"
     ]
    },
    {
     "name": "stderr",
     "output_type": "stream",
     "text": [
      "2020-04-09 15:31:58,586 : DEBUG : findfont: score(<Font 'Estrangelo Antioch' (SyrCOMAntioch.otf) normal normal 400 normal>) = 10.05\n"
     ]
    },
    {
     "name": "stderr",
     "output_type": "stream",
     "text": [
      "2020-04-09 15:31:58,586 : DEBUG : findfont: score(<Font 'Chaparral Pro' (ChaparralPro-Italic.otf) italic normal 400 normal>) = 11.05\n"
     ]
    },
    {
     "name": "stderr",
     "output_type": "stream",
     "text": [
      "2020-04-09 15:31:58,587 : DEBUG : findfont: score(<Font 'Myriad Pro' (MyriadPro-BoldCondIt.otf) italic normal bold condensed>) = 11.535\n"
     ]
    },
    {
     "name": "stderr",
     "output_type": "stream",
     "text": [
      "2020-04-09 15:31:58,587 : DEBUG : findfont: score(<Font 'Adobe Hebrew' (AdobeHebrew-Regular.otf) normal normal regular normal>) = 10.05\n"
     ]
    },
    {
     "name": "stderr",
     "output_type": "stream",
     "text": [
      "2020-04-09 15:31:58,587 : DEBUG : findfont: score(<Font 'Estrangelo Edessa' (SyrCOMEdessa.otf) normal normal 400 normal>) = 10.05\n"
     ]
    },
    {
     "name": "stderr",
     "output_type": "stream",
     "text": [
      "2020-04-09 15:31:58,588 : DEBUG : findfont: score(<Font 'Kozuka Gothic Pro' (KozGoPro-Bold.otf) normal normal 700 normal>) = 10.335\n"
     ]
    },
    {
     "name": "stderr",
     "output_type": "stream",
     "text": [
      "2020-04-09 15:31:58,588 : DEBUG : findfont: score(<Font 'PMingLiU' (PMingLiU.ttf) normal normal 400 normal>) = 10.05\n"
     ]
    },
    {
     "name": "stderr",
     "output_type": "stream",
     "text": [
      "2020-04-09 15:31:58,589 : DEBUG : findfont: score(<Font 'Gujarati Sangam MN' (Gujarati Sangam MN.ttc) normal normal 400 normal>) = 10.05\n"
     ]
    },
    {
     "name": "stderr",
     "output_type": "stream",
     "text": [
      "2020-04-09 15:31:58,589 : DEBUG : findfont: score(<Font 'Minion Pro' (MinionPro-Bold.otf) normal normal bold normal>) = 10.335\n"
     ]
    },
    {
     "name": "stderr",
     "output_type": "stream",
     "text": [
      "2020-04-09 15:31:58,589 : DEBUG : findfont: score(<Font 'Bradley Hand' (Bradley Hand Bold.ttf) normal normal bold normal>) = 10.335\n"
     ]
    },
    {
     "name": "stderr",
     "output_type": "stream",
     "text": [
      "2020-04-09 15:31:58,590 : DEBUG : findfont: score(<Font 'Marlett' (Marlett.ttf) normal normal 400 normal>) = 10.05\n"
     ]
    },
    {
     "name": "stderr",
     "output_type": "stream",
     "text": [
      "2020-04-09 15:31:58,590 : DEBUG : findfont: score(<Font 'Kozuka Mincho Pro' (KozMinPro-Regular.otf) normal normal 400 normal>) = 10.05\n"
     ]
    },
    {
     "name": "stderr",
     "output_type": "stream",
     "text": [
      "2020-04-09 15:31:58,591 : DEBUG : findfont: score(<Font 'Gill Sans MT' (Gill Sans MT Bold.ttf) normal normal bold normal>) = 10.335\n"
     ]
    },
    {
     "name": "stderr",
     "output_type": "stream",
     "text": [
      "2020-04-09 15:31:58,591 : DEBUG : findfont: score(<Font 'Arial Rounded MT Bold' (Arial Rounded Bold.ttf) normal normal bold normal>) = 10.335\n"
     ]
    },
    {
     "name": "stderr",
     "output_type": "stream",
     "text": [
      "2020-04-09 15:31:58,591 : DEBUG : findfont: score(<Font 'Sathu' (Sathu.ttf) normal normal 400 normal>) = 10.05\n"
     ]
    },
    {
     "name": "stderr",
     "output_type": "stream",
     "text": [
      "2020-04-09 15:31:58,592 : DEBUG : findfont: score(<Font 'Luxi Mono' (luximbi.ttf) oblique normal bold normal>) = 11.335\n"
     ]
    },
    {
     "name": "stderr",
     "output_type": "stream",
     "text": [
      "2020-04-09 15:31:58,592 : DEBUG : findfont: score(<Font 'Minion Pro' (MinionPro-BoldCnIt.otf) italic normal bold condensed>) = 11.535\n"
     ]
    },
    {
     "name": "stderr",
     "output_type": "stream",
     "text": [
      "2020-04-09 15:31:58,593 : DEBUG : findfont: score(<Font 'League Gothic' (LeagueGothic-CondensedItalic.otf) italic normal 400 condensed>) = 11.25\n"
     ]
    },
    {
     "name": "stderr",
     "output_type": "stream",
     "text": [
      "2020-04-09 15:31:58,593 : DEBUG : findfont: score(<Font 'Apple Braille' (Apple Braille Pinpoint 6 Dot.ttf) normal normal 400 normal>) = 10.05\n"
     ]
    },
    {
     "name": "stderr",
     "output_type": "stream",
     "text": [
      "2020-04-09 15:31:58,593 : DEBUG : findfont: score(<Font 'Myriad Pro' (MyriadPro-BoldIt.otf) italic normal bold normal>) = 11.335\n"
     ]
    },
    {
     "name": "stderr",
     "output_type": "stream",
     "text": [
      "2020-04-09 15:31:58,594 : DEBUG : findfont: score(<Font 'Times' (Times.ttc) normal normal roman normal>) = 10.145\n"
     ]
    },
    {
     "name": "stderr",
     "output_type": "stream",
     "text": [
      "2020-04-09 15:31:58,594 : DEBUG : findfont: score(<Font 'Khmer MN' (Khmer MN.ttc) normal normal 400 normal>) = 10.05\n"
     ]
    },
    {
     "name": "stderr",
     "output_type": "stream",
     "text": [
      "2020-04-09 15:31:58,595 : DEBUG : findfont: score(<Font 'AppleGothic' (AppleGothic.ttf) normal normal regular normal>) = 10.05\n"
     ]
    },
    {
     "name": "stderr",
     "output_type": "stream",
     "text": [
      "2020-04-09 15:31:58,595 : DEBUG : findfont: score(<Font 'Luxi Serif' (luxirb.ttf) normal normal bold normal>) = 10.335\n"
     ]
    },
    {
     "name": "stderr",
     "output_type": "stream",
     "text": [
      "2020-04-09 15:31:58,595 : DEBUG : findfont: score(<Font 'Gill Sans MT' (Gill Sans MT Bold Italic.ttf) italic normal bold normal>) = 11.335\n"
     ]
    },
    {
     "name": "stderr",
     "output_type": "stream",
     "text": [
      "2020-04-09 15:31:58,596 : DEBUG : findfont: score(<Font 'Letter Gothic Std' (LetterGothicStd.otf) normal normal medium normal>) = 10.145\n"
     ]
    },
    {
     "name": "stderr",
     "output_type": "stream",
     "text": [
      "2020-04-09 15:31:58,596 : DEBUG : findfont: score(<Font 'Adobe Caslon Pro' (ACaslonPro-Italic.otf) italic normal 400 normal>) = 11.05\n"
     ]
    },
    {
     "name": "stderr",
     "output_type": "stream",
     "text": [
      "2020-04-09 15:31:58,597 : DEBUG : findfont: score(<Font 'Kokonor' (Kokonor.ttf) normal normal regular normal>) = 10.05\n"
     ]
    },
    {
     "name": "stderr",
     "output_type": "stream",
     "text": [
      "2020-04-09 15:31:58,597 : DEBUG : findfont: score(<Font 'Candara' (Candara.ttf) normal normal 400 normal>) = 10.05\n"
     ]
    },
    {
     "name": "stderr",
     "output_type": "stream",
     "text": [
      "2020-04-09 15:31:58,597 : DEBUG : findfont: score(<Font 'Noto Sans Oriya' (NotoSansOriya.ttc) normal normal 400 normal>) = 10.05\n"
     ]
    },
    {
     "name": "stderr",
     "output_type": "stream",
     "text": [
      "2020-04-09 15:31:58,598 : DEBUG : findfont: score(<Font 'Nadeem' (Nadeem.ttc) normal normal regular normal>) = 10.05\n"
     ]
    },
    {
     "name": "stderr",
     "output_type": "stream",
     "text": [
      "2020-04-09 15:31:58,598 : DEBUG : findfont: score(<Font 'Microsoft Tai Le' (TaiLeb.ttf) normal normal bold normal>) = 10.335\n"
     ]
    },
    {
     "name": "stderr",
     "output_type": "stream",
     "text": [
      "2020-04-09 15:31:58,599 : DEBUG : findfont: score(<Font 'Hiragino Mincho ProN' (ヒラギノ明朝 ProN.ttc) normal normal 400 normal>) = 10.05\n"
     ]
    },
    {
     "name": "stderr",
     "output_type": "stream",
     "text": [
      "2020-04-09 15:31:58,599 : DEBUG : findfont: score(<Font 'Verdana' (Verdana Bold Italic.ttf) italic normal bold normal>) = 11.335\n"
     ]
    },
    {
     "name": "stderr",
     "output_type": "stream",
     "text": [
      "2020-04-09 15:31:58,599 : DEBUG : findfont: score(<Font 'Noto Sans Syloti Nagri' (NotoSansSylotiNagri-Regular.ttf) normal normal regular normal>) = 10.05\n"
     ]
    },
    {
     "name": "stderr",
     "output_type": "stream",
     "text": [
      "2020-04-09 15:31:58,600 : DEBUG : findfont: score(<Font 'Khmer Sangam MN' (Khmer Sangam MN.ttf) normal normal 400 normal>) = 10.05\n"
     ]
    },
    {
     "name": "stderr",
     "output_type": "stream",
     "text": [
      "2020-04-09 15:31:58,600 : DEBUG : findfont: score(<Font 'Hoefler Text' (Hoefler Text.ttc) normal normal 400 normal>) = 10.05\n"
     ]
    },
    {
     "name": "stderr",
     "output_type": "stream",
     "text": [
      "2020-04-09 15:31:58,601 : DEBUG : findfont: score(<Font 'Kozuka Gothic Pr6N' (KozGoPr6N-Medium.otf) normal normal 400 normal>) = 10.05\n"
     ]
    },
    {
     "name": "stderr",
     "output_type": "stream",
     "text": [
      "2020-04-09 15:31:58,601 : DEBUG : findfont: score(<Font 'Letter Gothic Std' (LetterGothicStd-Slanted.otf) italic normal 400 normal>) = 11.05\n"
     ]
    },
    {
     "name": "stderr",
     "output_type": "stream",
     "text": [
      "2020-04-09 15:31:58,601 : DEBUG : findfont: score(<Font 'Copperplate' (Copperplate.ttc) normal normal 400 normal>) = 10.05\n"
     ]
    },
    {
     "name": "stderr",
     "output_type": "stream",
     "text": [
      "2020-04-09 15:31:58,602 : DEBUG : findfont: score(<Font 'Noto Sans Lepcha' (NotoSansLepcha-Regular.ttf) normal normal regular normal>) = 10.05\n"
     ]
    },
    {
     "name": "stderr",
     "output_type": "stream",
     "text": [
      "2020-04-09 15:31:58,602 : DEBUG : findfont: score(<Font 'Minion Pro' (MinionPro-SemiboldIt.otf) italic normal semibold normal>) = 11.24\n"
     ]
    },
    {
     "name": "stderr",
     "output_type": "stream",
     "text": [
      "2020-04-09 15:31:58,603 : DEBUG : findfont: score(<Font 'Calibri' (Calibri Italic.ttf) italic normal 400 normal>) = 11.05\n"
     ]
    },
    {
     "name": "stderr",
     "output_type": "stream",
     "text": [
      "2020-04-09 15:31:58,603 : DEBUG : findfont: score(<Font 'STIXIntegralsUpSm' (STIXIntUpSmBol.otf) normal normal bold normal>) = 10.335\n"
     ]
    },
    {
     "name": "stderr",
     "output_type": "stream",
     "text": [
      "2020-04-09 15:31:58,603 : DEBUG : findfont: score(<Font 'Geeza Pro' (GeezaPro.ttc) normal normal regular normal>) = 10.05\n"
     ]
    },
    {
     "name": "stderr",
     "output_type": "stream",
     "text": [
      "2020-04-09 15:31:58,604 : DEBUG : findfont: score(<Font 'Damascus' (Damascus.ttc) normal normal regular normal>) = 10.05\n"
     ]
    },
    {
     "name": "stderr",
     "output_type": "stream",
     "text": [
      "2020-04-09 15:31:58,604 : DEBUG : findfont: score(<Font 'League Gothic' (LeagueGothic-Italic.otf) italic normal 400 normal>) = 11.05\n"
     ]
    },
    {
     "name": "stderr",
     "output_type": "stream",
     "text": [
      "2020-04-09 15:31:58,604 : DEBUG : findfont: score(<Font 'Al Nile' (Al Nile.ttc) normal normal 400 normal>) = 10.05\n"
     ]
    },
    {
     "name": "stderr",
     "output_type": "stream",
     "text": [
      "2020-04-09 15:31:58,605 : DEBUG : findfont: score(<Font 'Avenir Next Condensed' (Avenir Next Condensed.ttc) normal normal bold condensed>) = 10.535\n"
     ]
    },
    {
     "name": "stderr",
     "output_type": "stream",
     "text": [
      "2020-04-09 15:31:58,605 : DEBUG : findfont: score(<Font 'Nueva Std' (NuevaStd-BoldCondItalic.otf) italic normal bold condensed>) = 11.535\n"
     ]
    },
    {
     "name": "stderr",
     "output_type": "stream",
     "text": [
      "2020-04-09 15:31:58,606 : DEBUG : findfont: score(<Font 'Songti SC' (Songti.ttc) normal normal black normal>) = 10.525\n"
     ]
    },
    {
     "name": "stderr",
     "output_type": "stream",
     "text": [
      "2020-04-09 15:31:58,606 : DEBUG : findfont: score(<Font 'PT Sans' (PTSans.ttc) normal normal 400 normal>) = 10.05\n"
     ]
    },
    {
     "name": "stderr",
     "output_type": "stream",
     "text": [
      "2020-04-09 15:31:58,606 : DEBUG : findfont: score(<Font 'STIXIntegralsSm' (STIXIntSmReg.otf) normal normal regular normal>) = 10.05\n"
     ]
    },
    {
     "name": "stderr",
     "output_type": "stream",
     "text": [
      "2020-04-09 15:31:58,607 : DEBUG : findfont: score(<Font 'Noto Sans Egyptian Hieroglyphs' (NotoSansEgyptianHieroglyphs-Regular.ttf) normal normal regular normal>) = 10.05\n"
     ]
    },
    {
     "name": "stderr",
     "output_type": "stream",
     "text": [
      "2020-04-09 15:31:58,607 : DEBUG : findfont: score(<Font 'Arial Narrow' (Arial Narrow.ttf) normal normal 400 condensed>) = 10.25\n"
     ]
    },
    {
     "name": "stderr",
     "output_type": "stream",
     "text": [
      "2020-04-09 15:31:58,608 : DEBUG : findfont: score(<Font 'Lithos Pro' (LithosPro-Regular.otf) normal normal 400 normal>) = 10.05\n"
     ]
    },
    {
     "name": "stderr",
     "output_type": "stream",
     "text": [
      "2020-04-09 15:31:58,608 : DEBUG : findfont: score(<Font 'Hiragino Sans' (ヒラギノ角ゴシック W1.ttc) normal normal 400 normal>) = 10.05\n"
     ]
    },
    {
     "name": "stderr",
     "output_type": "stream",
     "text": [
      "2020-04-09 15:31:58,608 : DEBUG : findfont: score(<Font 'Franklin Gothic Medium' (Franklin Gothic Medium.ttf) normal normal medium normal>) = 10.145\n"
     ]
    },
    {
     "name": "stderr",
     "output_type": "stream",
     "text": [
      "2020-04-09 15:31:58,609 : DEBUG : findfont: score(<Font 'Noteworthy' (Noteworthy.ttc) normal normal light normal>) = 10.24\n"
     ]
    },
    {
     "name": "stderr",
     "output_type": "stream",
     "text": [
      "2020-04-09 15:31:58,609 : DEBUG : findfont: score(<Font 'SimHei' (SimHei.ttf) normal normal 400 normal>) = 10.05\n"
     ]
    },
    {
     "name": "stderr",
     "output_type": "stream",
     "text": [
      "2020-04-09 15:31:58,609 : DEBUG : findfont: score(<Font '.SF NS Display Condensed' (SFNSDisplayCondensed-Thin.otf) normal normal 400 condensed>) = 10.25\n"
     ]
    },
    {
     "name": "stderr",
     "output_type": "stream",
     "text": [
      "2020-04-09 15:31:58,610 : DEBUG : findfont: score(<Font 'Goha-Tibeb Zemen' (GohaTibebZemen.ttf) normal normal 400 normal>) = 10.05\n"
     ]
    },
    {
     "name": "stderr",
     "output_type": "stream",
     "text": [
      "2020-04-09 15:31:58,610 : DEBUG : findfont: score(<Font 'Chaparral Pro' (ChaparralPro-BoldIt.otf) italic normal bold normal>) = 11.335\n"
     ]
    },
    {
     "name": "stderr",
     "output_type": "stream",
     "text": [
      "2020-04-09 15:31:58,611 : DEBUG : findfont: score(<Font 'Constantia' (Constantia Bold.ttf) normal normal bold normal>) = 10.335\n"
     ]
    },
    {
     "name": "stderr",
     "output_type": "stream",
     "text": [
      "2020-04-09 15:31:58,611 : DEBUG : findfont: score(<Font 'Kohinoor Gujarati' (KohinoorGujarati.ttc) normal normal bold normal>) = 10.335\n"
     ]
    },
    {
     "name": "stderr",
     "output_type": "stream",
     "text": [
      "2020-04-09 15:31:58,612 : DEBUG : findfont: score(<Font 'Zapf Dingbats' (ZapfDingbats.ttf) normal normal 400 normal>) = 10.05\n"
     ]
    },
    {
     "name": "stderr",
     "output_type": "stream",
     "text": [
      "2020-04-09 15:31:58,612 : DEBUG : findfont: score(<Font 'Ayuthaya' (Ayuthaya.ttf) normal normal 400 normal>) = 10.05\n"
     ]
    },
    {
     "name": "stderr",
     "output_type": "stream",
     "text": [
      "2020-04-09 15:31:58,612 : DEBUG : findfont: score(<Font 'Noto Sans Javanese' (NotoSansJavanese-Regular.otf) normal normal regular normal>) = 10.05\n"
     ]
    },
    {
     "name": "stderr",
     "output_type": "stream",
     "text": [
      "2020-04-09 15:31:58,613 : DEBUG : findfont: score(<Font 'Phosphate' (Phosphate.ttc) normal normal 400 normal>) = 10.05\n"
     ]
    },
    {
     "name": "stderr",
     "output_type": "stream",
     "text": [
      "2020-04-09 15:31:58,613 : DEBUG : findfont: score(<Font 'Times New Roman' (Times New Roman Italic.ttf) italic normal roman normal>) = 11.145\n"
     ]
    },
    {
     "name": "stderr",
     "output_type": "stream",
     "text": [
      "2020-04-09 15:31:58,614 : DEBUG : findfont: score(<Font 'STIXGeneral' (STIXGeneralBolIta.otf) italic normal bold normal>) = 11.335\n"
     ]
    },
    {
     "name": "stderr",
     "output_type": "stream",
     "text": [
      "2020-04-09 15:31:58,614 : DEBUG : findfont: score(<Font 'Prestige Elite Std' (PrestigeEliteStd-Bd.otf) normal normal bold normal>) = 10.335\n"
     ]
    },
    {
     "name": "stderr",
     "output_type": "stream",
     "text": [
      "2020-04-09 15:31:58,615 : DEBUG : findfont: score(<Font 'Athelas' (Athelas.ttc) normal normal regular normal>) = 10.05\n"
     ]
    },
    {
     "name": "stderr",
     "output_type": "stream",
     "text": [
      "2020-04-09 15:31:58,615 : DEBUG : findfont: score(<Font 'Hiragino Sans' (ヒラギノ角ゴシック W9.ttc) normal normal 700 normal>) = 10.335\n"
     ]
    },
    {
     "name": "stderr",
     "output_type": "stream",
     "text": [
      "2020-04-09 15:31:58,616 : DEBUG : findfont: score(<Font 'Apple Chancery' (Apple Chancery.ttf) normal normal 400 normal>) = 10.05\n"
     ]
    },
    {
     "name": "stderr",
     "output_type": "stream",
     "text": [
      "2020-04-09 15:31:58,616 : DEBUG : findfont: score(<Font 'Estrangelo Nisibin Outline' (SyrCOMNisibinOutline.otf) normal normal 400 normal>) = 10.05\n"
     ]
    },
    {
     "name": "stderr",
     "output_type": "stream",
     "text": [
      "2020-04-09 15:31:58,616 : DEBUG : findfont: score(<Font 'STIXNonUnicode' (STIXNonUniBolIta.otf) italic normal bold normal>) = 11.335\n"
     ]
    },
    {
     "name": "stderr",
     "output_type": "stream",
     "text": [
      "2020-04-09 15:31:58,617 : DEBUG : findfont: score(<Font 'Candara' (Candara Bold Italic.ttf) italic normal bold normal>) = 11.335\n"
     ]
    },
    {
     "name": "stderr",
     "output_type": "stream",
     "text": [
      "2020-04-09 15:31:58,617 : DEBUG : findfont: score(<Font 'Luxi Serif' (luxirr.ttf) normal normal regular normal>) = 10.05\n"
     ]
    },
    {
     "name": "stderr",
     "output_type": "stream",
     "text": [
      "2020-04-09 15:31:58,618 : DEBUG : findfont: score(<Font 'Noto Sans Chakma' (NotoSansChakma-Regular.ttf) normal normal regular normal>) = 10.05\n"
     ]
    },
    {
     "name": "stderr",
     "output_type": "stream",
     "text": [
      "2020-04-09 15:31:58,618 : DEBUG : findfont: score(<Font 'Seravek' (Seravek.ttc) normal normal 400 normal>) = 10.05\n"
     ]
    },
    {
     "name": "stderr",
     "output_type": "stream",
     "text": [
      "2020-04-09 15:31:58,619 : DEBUG : findfont: score(<Font 'STIXGeneral' (STIXGeneralItalic.otf) italic normal 400 normal>) = 11.05\n"
     ]
    },
    {
     "name": "stderr",
     "output_type": "stream",
     "text": [
      "2020-04-09 15:31:58,619 : DEBUG : findfont: score(<Font 'Noto Sans Rejang' (NotoSansRejang-Regular.ttf) normal normal regular normal>) = 10.05\n"
     ]
    },
    {
     "name": "stderr",
     "output_type": "stream",
     "text": [
      "2020-04-09 15:31:58,619 : DEBUG : findfont: score(<Font 'Font Awesome 5 Brands' (Font Awesome 5 Brands-Regular-400.otf) normal normal regular normal>) = 10.05\n"
     ]
    },
    {
     "name": "stderr",
     "output_type": "stream",
     "text": [
      "2020-04-09 15:31:58,620 : DEBUG : findfont: score(<Font 'Noto Sans Meetei Mayek' (NotoSansMeeteiMayek-Regular.ttf) normal normal regular normal>) = 10.05\n"
     ]
    },
    {
     "name": "stderr",
     "output_type": "stream",
     "text": [
      "2020-04-09 15:31:58,620 : DEBUG : findfont: score(<Font 'Georgia' (Georgia Bold Italic.ttf) italic normal bold normal>) = 11.335\n"
     ]
    },
    {
     "name": "stderr",
     "output_type": "stream",
     "text": [
      "2020-04-09 15:31:58,620 : DEBUG : findfont: score(<Font 'Snell Roundhand' (SnellRoundhand.ttc) normal normal 400 normal>) = 10.05\n"
     ]
    },
    {
     "name": "stderr",
     "output_type": "stream",
     "text": [
      "2020-04-09 15:31:58,621 : DEBUG : findfont: score(<Font 'STIXSizeThreeSym' (STIXSizThreeSymBol.otf) normal normal bold normal>) = 10.335\n"
     ]
    },
    {
     "name": "stderr",
     "output_type": "stream",
     "text": [
      "2020-04-09 15:31:58,621 : DEBUG : findfont: score(<Font 'Cambria Math' (Cambria Math.ttf) normal normal 400 normal>) = 10.05\n"
     ]
    },
    {
     "name": "stderr",
     "output_type": "stream",
     "text": [
      "2020-04-09 15:31:58,622 : DEBUG : findfont: score(<Font 'Telugu Sangam MN' (Telugu Sangam MN.ttc) normal normal 400 normal>) = 10.05\n"
     ]
    },
    {
     "name": "stderr",
     "output_type": "stream",
     "text": [
      "2020-04-09 15:31:58,622 : DEBUG : findfont: score(<Font 'American Typewriter' (AmericanTypewriter.ttc) normal normal 400 normal>) = 10.05\n"
     ]
    },
    {
     "name": "stderr",
     "output_type": "stream",
     "text": [
      "2020-04-09 15:31:58,623 : DEBUG : findfont: score(<Font 'Kozuka Mincho Pr6N' (KozMinPr6N-Heavy.otf) normal normal 700 normal>) = 10.335\n"
     ]
    },
    {
     "name": "stderr",
     "output_type": "stream",
     "text": [
      "2020-04-09 15:31:58,623 : DEBUG : findfont: score(<Font 'Noto Sans Old Italic' (NotoSansOldItalic-Regular.ttf) italic normal regular normal>) = 11.05\n"
     ]
    },
    {
     "name": "stderr",
     "output_type": "stream",
     "text": [
      "2020-04-09 15:31:58,624 : DEBUG : findfont: score(<Font 'Nueva Std' (NuevaStd-BoldCond.otf) normal normal bold condensed>) = 10.535\n"
     ]
    },
    {
     "name": "stderr",
     "output_type": "stream",
     "text": [
      "2020-04-09 15:31:58,624 : DEBUG : findfont: score(<Font 'Myriad Pro' (MyriadPro-Semibold.otf) normal normal semibold normal>) = 10.24\n"
     ]
    },
    {
     "name": "stderr",
     "output_type": "stream",
     "text": [
      "2020-04-09 15:31:58,624 : DEBUG : findfont: score(<Font 'Mesquite Std' (MesquiteStd.otf) normal normal medium normal>) = 10.145\n"
     ]
    },
    {
     "name": "stderr",
     "output_type": "stream",
     "text": [
      "2020-04-09 15:31:58,625 : DEBUG : findfont: score(<Font 'Myriad Pro' (MyriadPro-SemiboldIt.otf) italic normal semibold normal>) = 11.24\n"
     ]
    },
    {
     "name": "stderr",
     "output_type": "stream",
     "text": [
      "2020-04-09 15:31:58,625 : DEBUG : findfont: score(<Font 'Noto Sans Cypriot' (NotoSansCypriot-Regular.ttf) normal normal regular normal>) = 10.05\n"
     ]
    },
    {
     "name": "stderr",
     "output_type": "stream",
     "text": [
      "2020-04-09 15:31:58,626 : DEBUG : findfont: score(<Font 'Bodoni 72 Smallcaps' (Bodoni 72 Smallcaps Book.ttf) normal normal book normal>) = 10.05\n"
     ]
    },
    {
     "name": "stderr",
     "output_type": "stream",
     "text": [
      "2020-04-09 15:31:58,626 : DEBUG : findfont: score(<Font 'Microsoft Himalaya' (himalaya.ttf) normal normal 400 normal>) = 10.05\n"
     ]
    },
    {
     "name": "stderr",
     "output_type": "stream",
     "text": [
      "2020-04-09 15:31:58,627 : DEBUG : findfont: score(<Font 'Bangla MN' (Bangla MN.ttc) normal normal 400 normal>) = 10.05\n"
     ]
    },
    {
     "name": "stderr",
     "output_type": "stream",
     "text": [
      "2020-04-09 15:31:58,627 : DEBUG : findfont: score(<Font '.SF NS Text Condensed' (SFNSTextCondensed-Light.otf) normal normal light condensed>) = 10.44\n"
     ]
    },
    {
     "name": "stderr",
     "output_type": "stream",
     "text": [
      "2020-04-09 15:31:58,627 : DEBUG : findfont: score(<Font 'Adobe Arabic' (AdobeArabic-Italic.otf) italic normal 400 normal>) = 11.05\n"
     ]
    },
    {
     "name": "stderr",
     "output_type": "stream",
     "text": [
      "2020-04-09 15:31:58,628 : DEBUG : findfont: score(<Font 'Noto Sans Saurashtra' (NotoSansSaurashtra-Regular.ttf) normal normal regular normal>) = 10.05\n"
     ]
    },
    {
     "name": "stderr",
     "output_type": "stream",
     "text": [
      "2020-04-09 15:31:58,628 : DEBUG : findfont: score(<Font 'Myanmar Sangam MN' (Myanmar Sangam MN.ttc) normal normal 400 normal>) = 10.05\n"
     ]
    },
    {
     "name": "stderr",
     "output_type": "stream",
     "text": [
      "2020-04-09 15:31:58,629 : DEBUG : findfont: score(<Font 'Adobe Myungjo Std' (AdobeMyungjoStd-Medium.otf) normal normal 400 normal>) = 10.05\n"
     ]
    },
    {
     "name": "stderr",
     "output_type": "stream",
     "text": [
      "2020-04-09 15:31:58,629 : DEBUG : findfont: score(<Font 'MT Extra Tiger' (Mt Extra Tiger.ttf) normal normal 400 normal>) = 10.05\n"
     ]
    },
    {
     "name": "stderr",
     "output_type": "stream",
     "text": [
      "2020-04-09 15:31:58,629 : DEBUG : findfont: score(<Font 'Mishafi Gold' (Mishafi Gold.ttf) normal normal regular normal>) = 10.05\n"
     ]
    },
    {
     "name": "stderr",
     "output_type": "stream",
     "text": [
      "2020-04-09 15:31:58,630 : DEBUG : findfont: score(<Font 'Mishafi' (Mishafi.ttf) normal normal regular normal>) = 10.05\n"
     ]
    },
    {
     "name": "stderr",
     "output_type": "stream",
     "text": [
      "2020-04-09 15:31:58,630 : DEBUG : findfont: score(<Font 'Gurmukhi MN' (Gurmukhi MN.ttc) normal normal 400 normal>) = 10.05\n"
     ]
    },
    {
     "name": "stderr",
     "output_type": "stream",
     "text": [
      "2020-04-09 15:31:58,631 : DEBUG : findfont: score(<Font 'Chaparral Pro' (ChaparralPro-Bold.otf) normal normal bold normal>) = 10.335\n"
     ]
    },
    {
     "name": "stderr",
     "output_type": "stream",
     "text": [
      "2020-04-09 15:31:58,631 : DEBUG : findfont: score(<Font 'Nueva Std' (NuevaStd-Cond.otf) normal normal 400 condensed>) = 10.25\n"
     ]
    },
    {
     "name": "stderr",
     "output_type": "stream",
     "text": [
      "2020-04-09 15:31:58,632 : DEBUG : findfont: score(<Font 'Luxi Mono' (luximr.ttf) normal normal regular normal>) = 10.05\n"
     ]
    },
    {
     "name": "stderr",
     "output_type": "stream",
     "text": [
      "2020-04-09 15:31:58,632 : DEBUG : findfont: score(<Font 'Palatino' (Palatino.ttc) normal normal 400 normal>) = 10.05\n"
     ]
    },
    {
     "name": "stderr",
     "output_type": "stream",
     "text": [
      "2020-04-09 15:31:58,632 : DEBUG : findfont: score(<Font 'Kozuka Gothic Pr6N' (KozGoPr6N-Regular.otf) normal normal 400 normal>) = 10.05\n"
     ]
    },
    {
     "name": "stderr",
     "output_type": "stream",
     "text": [
      "2020-04-09 15:31:58,633 : DEBUG : findfont: score(<Font 'Malayalam MN' (Malayalam MN.ttc) normal normal 400 normal>) = 10.05\n"
     ]
    },
    {
     "name": "stderr",
     "output_type": "stream",
     "text": [
      "2020-04-09 15:31:58,633 : DEBUG : findfont: score(<Font 'Hack' (Hack-Regular.ttf) normal normal 400 normal>) = 10.05\n"
     ]
    },
    {
     "name": "stderr",
     "output_type": "stream",
     "text": [
      "2020-04-09 15:31:58,634 : DEBUG : findfont: score(<Font 'Myriad Pro' (MyriadPro-Cond.otf) normal normal 400 condensed>) = 10.25\n"
     ]
    },
    {
     "name": "stderr",
     "output_type": "stream",
     "text": [
      "2020-04-09 15:31:58,634 : DEBUG : findfont: score(<Font 'Telugu MN' (Telugu MN.ttc) normal normal 400 normal>) = 10.05\n"
     ]
    },
    {
     "name": "stderr",
     "output_type": "stream",
     "text": [
      "2020-04-09 15:31:58,634 : DEBUG : findfont: score(<Font 'Noto Sans Tagbanwa' (NotoSansTagbanwa-Regular.ttf) normal normal regular normal>) = 10.05\n"
     ]
    },
    {
     "name": "stderr",
     "output_type": "stream",
     "text": [
      "2020-04-09 15:31:58,635 : DEBUG : findfont: score(<Font 'Noto Sans Thaana' (NotoSansThaana-Regular.ttf) normal normal regular normal>) = 10.05\n"
     ]
    },
    {
     "name": "stderr",
     "output_type": "stream",
     "text": [
      "2020-04-09 15:31:58,635 : DEBUG : findfont: score(<Font 'SimSun' (SimSun.ttf) normal normal 400 normal>) = 10.05\n"
     ]
    },
    {
     "name": "stderr",
     "output_type": "stream",
     "text": [
      "2020-04-09 15:31:58,636 : DEBUG : findfont: score(<Font 'Cambria' (Cambria Bold.ttf) normal normal bold normal>) = 10.335\n"
     ]
    },
    {
     "name": "stderr",
     "output_type": "stream",
     "text": [
      "2020-04-09 15:31:58,636 : DEBUG : findfont: score(<Font 'Corsiva Hebrew' (Corsiva.ttc) normal normal 400 normal>) = 10.05\n"
     ]
    },
    {
     "name": "stderr",
     "output_type": "stream",
     "text": [
      "2020-04-09 15:31:58,637 : DEBUG : findfont: score(<Font 'Noto Sans Mandaic' (NotoSansMandaic-Regular.ttf) normal normal regular normal>) = 10.05\n"
     ]
    },
    {
     "name": "stderr",
     "output_type": "stream",
     "text": [
      "2020-04-09 15:31:58,637 : DEBUG : findfont: score(<Font 'MS Reference Sans Serif' (MS Reference Sans Serif.ttf) normal normal 400 normal>) = 10.05\n"
     ]
    },
    {
     "name": "stderr",
     "output_type": "stream",
     "text": [
      "2020-04-09 15:31:58,638 : DEBUG : findfont: score(<Font '.SF NS Display Condensed' (SFNSDisplayCondensed-Heavy.otf) normal normal heavy condensed>) = 10.629999999999999\n"
     ]
    },
    {
     "name": "stderr",
     "output_type": "stream",
     "text": [
      "2020-04-09 15:31:58,638 : DEBUG : findfont: score(<Font 'PT Serif' (PTSerif.ttc) normal normal 400 normal>) = 10.05\n"
     ]
    },
    {
     "name": "stderr",
     "output_type": "stream",
     "text": [
      "2020-04-09 15:31:58,639 : DEBUG : findfont: score(<Font 'Kozuka Mincho Pro' (KozMinPro-ExtraLight.otf) normal normal 400 normal>) = 10.05\n"
     ]
    },
    {
     "name": "stderr",
     "output_type": "stream",
     "text": [
      "2020-04-09 15:31:58,639 : DEBUG : findfont: score(<Font '.SF NS Text Condensed' (SFNSTextCondensed-Medium.otf) normal normal medium condensed>) = 10.344999999999999\n"
     ]
    },
    {
     "name": "stderr",
     "output_type": "stream",
     "text": [
      "2020-04-09 15:31:58,640 : DEBUG : findfont: score(<Font 'Kozuka Gothic Pro' (KozGoPro-Medium.otf) normal normal 400 normal>) = 10.05\n"
     ]
    },
    {
     "name": "stderr",
     "output_type": "stream",
     "text": [
      "2020-04-09 15:31:58,640 : DEBUG : findfont: score(<Font 'Noto Sans NKo' (NotoSansNKo-Regular.ttf) normal normal regular normal>) = 10.05\n"
     ]
    },
    {
     "name": "stderr",
     "output_type": "stream",
     "text": [
      "2020-04-09 15:31:58,640 : DEBUG : findfont: score(<Font 'Cambria' (Cambria Italic.ttf) italic normal 400 normal>) = 11.05\n"
     ]
    },
    {
     "name": "stderr",
     "output_type": "stream",
     "text": [
      "2020-04-09 15:31:58,641 : DEBUG : findfont: score(<Font 'Mukta Mahee' (MuktaMahee.ttc) normal normal regular normal>) = 10.05\n"
     ]
    },
    {
     "name": "stderr",
     "output_type": "stream",
     "text": [
      "2020-04-09 15:31:58,641 : DEBUG : findfont: score(<Font 'Savoye LET' (Savoye LET.ttc) normal normal 400 normal>) = 10.05\n"
     ]
    },
    {
     "name": "stderr",
     "output_type": "stream",
     "text": [
      "2020-04-09 15:31:58,642 : DEBUG : findfont: score(<Font 'Noto Sans Gothic' (NotoSansGothic-Regular.ttf) normal normal regular normal>) = 10.05\n"
     ]
    },
    {
     "name": "stderr",
     "output_type": "stream",
     "text": [
      "2020-04-09 15:31:58,642 : DEBUG : findfont: score(<Font 'Adobe Arabic' (AdobeArabic-Bold.otf) normal normal bold normal>) = 10.335\n"
     ]
    },
    {
     "name": "stderr",
     "output_type": "stream",
     "text": [
      "2020-04-09 15:31:58,642 : DEBUG : findfont: score(<Font 'Poplar Std' (PoplarStd.otf) normal normal black normal>) = 10.525\n"
     ]
    },
    {
     "name": "stderr",
     "output_type": "stream",
     "text": [
      "2020-04-09 15:31:58,643 : DEBUG : findfont: score(<Font '.New York' (NewYorkItalic.ttf) italic normal 400 normal>) = 11.05\n"
     ]
    },
    {
     "name": "stderr",
     "output_type": "stream",
     "text": [
      "2020-04-09 15:31:58,643 : DEBUG : findfont: score(<Font 'Luxi Mono' (luximb.ttf) normal normal bold normal>) = 10.335\n"
     ]
    },
    {
     "name": "stderr",
     "output_type": "stream",
     "text": [
      "2020-04-09 15:31:58,644 : DEBUG : findfont: score(<Font 'STIXIntegralsD' (STIXIntDReg.otf) normal normal regular normal>) = 10.05\n"
     ]
    },
    {
     "name": "stderr",
     "output_type": "stream",
     "text": [
      "2020-04-09 15:31:58,644 : DEBUG : findfont: score(<Font 'Kohinoor Telugu' (KohinoorTelugu.ttc) normal normal 400 normal>) = 10.05\n"
     ]
    },
    {
     "name": "stderr",
     "output_type": "stream",
     "text": [
      "2020-04-09 15:31:58,644 : DEBUG : findfont: score(<Font 'Noto Sans Linear B' (NotoSansLinearB-Regular.ttf) normal normal regular normal>) = 10.05\n"
     ]
    },
    {
     "name": "stderr",
     "output_type": "stream",
     "text": [
      "2020-04-09 15:31:58,645 : DEBUG : findfont: score(<Font '.SF NS Display Condensed' (SFNSDisplayCondensed-Medium.otf) normal normal medium condensed>) = 10.344999999999999\n"
     ]
    },
    {
     "name": "stderr",
     "output_type": "stream",
     "text": [
      "2020-04-09 15:31:58,645 : DEBUG : findfont: score(<Font 'Hack' (Hack-RegularOblique.ttf) oblique normal 400 normal>) = 11.05\n"
     ]
    },
    {
     "name": "stderr",
     "output_type": "stream",
     "text": [
      "2020-04-09 15:31:58,646 : DEBUG : findfont: score(<Font 'PT Mono' (PTMono.ttc) normal normal bold normal>) = 10.335\n"
     ]
    },
    {
     "name": "stderr",
     "output_type": "stream",
     "text": [
      "2020-04-09 15:31:58,646 : DEBUG : findfont: score(<Font 'Impact' (Impact.ttf) normal normal 400 normal>) = 10.05\n"
     ]
    },
    {
     "name": "stderr",
     "output_type": "stream",
     "text": [
      "2020-04-09 15:31:58,646 : DEBUG : findfont: score(<Font '.Helvetica Neue DeskInterface' (HelveticaNeueDeskInterface.ttc) normal normal regular normal>) = 10.05\n"
     ]
    },
    {
     "name": "stderr",
     "output_type": "stream",
     "text": [
      "2020-04-09 15:31:58,647 : DEBUG : findfont: score(<Font 'AppleMyungjo' (AppleMyungjo.ttf) normal normal regular normal>) = 10.05\n"
     ]
    },
    {
     "name": "stderr",
     "output_type": "stream",
     "text": [
      "2020-04-09 15:31:58,647 : DEBUG : findfont: score(<Font 'MS PMincho' (MS PMincho.ttf) normal normal 400 normal>) = 10.05\n"
     ]
    },
    {
     "name": "stderr",
     "output_type": "stream",
     "text": [
      "2020-04-09 15:31:58,648 : DEBUG : findfont: score(<Font 'Times New Roman' (Times New Roman Bold Italic.ttf) italic normal roman normal>) = 11.145\n"
     ]
    },
    {
     "name": "stderr",
     "output_type": "stream",
     "text": [
      "2020-04-09 15:31:58,648 : DEBUG : findfont: score(<Font 'Apple SD Gothic Neo' (AppleSDGothicNeo.ttc) normal normal regular normal>) = 10.05\n"
     ]
    },
    {
     "name": "stderr",
     "output_type": "stream",
     "text": [
      "2020-04-09 15:31:58,649 : DEBUG : findfont: score(<Font '.SF NS Display Condensed' (SFNSDisplayCondensed-Semibold.otf) normal normal semibold condensed>) = 10.44\n"
     ]
    },
    {
     "name": "stderr",
     "output_type": "stream",
     "text": [
      "2020-04-09 15:31:58,649 : DEBUG : findfont: score(<Font 'Heiti TC' (STHeiti Medium.ttc) normal normal medium normal>) = 10.145\n"
     ]
    },
    {
     "name": "stderr",
     "output_type": "stream",
     "text": [
      "2020-04-09 15:31:58,649 : DEBUG : findfont: score(<Font 'Noto Sans Carian' (NotoSansCarian-Regular.ttf) normal normal regular normal>) = 10.05\n"
     ]
    },
    {
     "name": "stderr",
     "output_type": "stream",
     "text": [
      "2020-04-09 15:31:58,650 : DEBUG : findfont: score(<Font 'Adobe Heiti Std' (AdobeHeitiStd-Regular.otf) normal normal 400 normal>) = 10.05\n"
     ]
    },
    {
     "name": "stderr",
     "output_type": "stream",
     "text": [
      "2020-04-09 15:31:58,650 : DEBUG : findfont: score(<Font 'Comic Sans MS' (Comic Sans MS.ttf) normal normal 400 normal>) = 10.05\n"
     ]
    },
    {
     "name": "stderr",
     "output_type": "stream",
     "text": [
      "2020-04-09 15:31:58,651 : DEBUG : findfont: score(<Font 'System Font' (SFNSItalic.ttf) italic normal regular normal>) = 11.05\n"
     ]
    },
    {
     "name": "stderr",
     "output_type": "stream",
     "text": [
      "2020-04-09 15:31:58,651 : DEBUG : findfont: score(<Font 'Noto Sans Inscriptional Parthian' (NotoSansInscriptionalParthian-Regular.ttf) normal normal regular normal>) = 10.05\n"
     ]
    },
    {
     "name": "stderr",
     "output_type": "stream",
     "text": [
      "2020-04-09 15:31:58,651 : DEBUG : findfont: score(<Font 'Arial' (Arial Italic.ttf) italic normal 400 normal>) = 1.05\n"
     ]
    },
    {
     "name": "stderr",
     "output_type": "stream",
     "text": [
      "2020-04-09 15:31:58,692 : DEBUG : findfont: score(<Font 'Luxi Sans' (luxisb.ttf) normal normal bold normal>) = 10.335\n"
     ]
    },
    {
     "name": "stderr",
     "output_type": "stream",
     "text": [
      "2020-04-09 15:31:58,693 : DEBUG : findfont: score(<Font 'PT Serif Caption' (PTSerifCaption.ttc) normal normal 400 normal>) = 10.05\n"
     ]
    },
    {
     "name": "stderr",
     "output_type": "stream",
     "text": [
      "2020-04-09 15:31:58,694 : DEBUG : findfont: score(<Font 'Lucida Grande' (LucidaGrande.ttc) normal normal 400 normal>) = 10.05\n"
     ]
    },
    {
     "name": "stderr",
     "output_type": "stream",
     "text": [
      "2020-04-09 15:31:58,694 : DEBUG : findfont: score(<Font 'STIXIntegralsSm' (STIXIntSmBol.otf) normal normal bold normal>) = 10.335\n"
     ]
    },
    {
     "name": "stderr",
     "output_type": "stream",
     "text": [
      "2020-04-09 15:31:58,695 : DEBUG : findfont: score(<Font 'Herculanum' (Herculanum.ttf) normal normal 400 normal>) = 10.05\n"
     ]
    },
    {
     "name": "stderr",
     "output_type": "stream",
     "text": [
      "2020-04-09 15:31:58,696 : DEBUG : findfont: score(<Font 'Serto Batnan' (SyrCOMBatnan.otf) normal normal 400 normal>) = 10.05\n"
     ]
    },
    {
     "name": "stderr",
     "output_type": "stream",
     "text": [
      "2020-04-09 15:31:58,696 : DEBUG : findfont: score(<Font 'Superclarendon' (SuperClarendon.ttc) normal normal regular normal>) = 10.05\n"
     ]
    },
    {
     "name": "stderr",
     "output_type": "stream",
     "text": [
      "2020-04-09 15:31:58,697 : DEBUG : findfont: score(<Font 'Noto Sans Old South Arabian' (NotoSansOldSouthArabian-Regular.ttf) normal normal regular normal>) = 10.05\n"
     ]
    },
    {
     "name": "stderr",
     "output_type": "stream",
     "text": [
      "2020-04-09 15:31:58,698 : DEBUG : findfont: score(<Font 'STIXIntegralsUpD' (STIXIntUpDBol.otf) normal normal bold normal>) = 10.335\n"
     ]
    },
    {
     "name": "stderr",
     "output_type": "stream",
     "text": [
      "2020-04-09 15:31:58,698 : DEBUG : findfont: score(<Font 'Microsoft Tai Le' (taile.ttf) normal normal 400 normal>) = 10.05\n"
     ]
    },
    {
     "name": "stderr",
     "output_type": "stream",
     "text": [
      "2020-04-09 15:31:58,699 : DEBUG : findfont: score(<Font 'League Gothic' (LeagueGothic-Regular.otf) normal normal 400 normal>) = 10.05\n"
     ]
    },
    {
     "name": "stderr",
     "output_type": "stream",
     "text": [
      "2020-04-09 15:31:58,700 : DEBUG : findfont: score(<Font 'Noto Sans Kayah Li' (NotoSansKayahLi-Regular.ttf) normal normal regular normal>) = 10.05\n"
     ]
    },
    {
     "name": "stderr",
     "output_type": "stream",
     "text": [
      "2020-04-09 15:31:58,700 : DEBUG : findfont: score(<Font 'Chalkboard SE' (ChalkboardSE.ttc) normal normal light normal>) = 10.24\n"
     ]
    },
    {
     "name": "stderr",
     "output_type": "stream",
     "text": [
      "2020-04-09 15:31:58,701 : DEBUG : findfont: score(<Font 'Letter Gothic Std' (LetterGothicStd-BoldSlanted.otf) italic normal bold normal>) = 11.335\n"
     ]
    },
    {
     "name": "stderr",
     "output_type": "stream",
     "text": [
      "2020-04-09 15:31:58,702 : DEBUG : findfont: score(<Font 'Calibri' (Calibri Bold.ttf) normal normal bold normal>) = 10.335\n"
     ]
    },
    {
     "name": "stderr",
     "output_type": "stream",
     "text": [
      "2020-04-09 15:31:58,702 : DEBUG : findfont: score(<Font 'Mshtakan' (Mshtakan.ttc) normal normal 400 normal>) = 10.05\n"
     ]
    },
    {
     "name": "stderr",
     "output_type": "stream",
     "text": [
      "2020-04-09 15:31:58,703 : DEBUG : findfont: score(<Font 'SignPainter' (SignPainter.ttc) normal normal 400 normal>) = 10.05\n"
     ]
    },
    {
     "name": "stderr",
     "output_type": "stream",
     "text": [
      "2020-04-09 15:31:58,703 : DEBUG : findfont: score(<Font 'Arial' (Arial Bold Italic.ttf) italic normal bold normal>) = 1.335\n"
     ]
    },
    {
     "name": "stderr",
     "output_type": "stream",
     "text": [
      "2020-04-09 15:31:58,704 : DEBUG : findfont: score(<Font 'Giddyup Std' (GiddyupStd.otf) normal normal 400 normal>) = 10.05\n"
     ]
    },
    {
     "name": "stderr",
     "output_type": "stream",
     "text": [
      "2020-04-09 15:31:58,704 : DEBUG : findfont: score(<Font 'MingLiU-ExtB' (MingLiU-ExtB.ttf) normal normal 400 normal>) = 10.05\n"
     ]
    },
    {
     "name": "stderr",
     "output_type": "stream",
     "text": [
      "2020-04-09 15:31:58,705 : DEBUG : findfont: score(<Font 'Corbel' (Corbel Italic.ttf) italic normal 400 normal>) = 11.05\n"
     ]
    },
    {
     "name": "stderr",
     "output_type": "stream",
     "text": [
      "2020-04-09 15:31:58,705 : DEBUG : findfont: score(<Font 'Serto Urhoy' (SyrCOMUrhoy.otf) normal normal 400 normal>) = 10.05\n"
     ]
    },
    {
     "name": "stderr",
     "output_type": "stream",
     "text": [
      "2020-04-09 15:31:58,706 : DEBUG : findfont: score(<Font 'DecoType Naskh' (DecoTypeNaskh.ttc) normal normal regular normal>) = 10.05\n"
     ]
    },
    {
     "name": "stderr",
     "output_type": "stream",
     "text": [
      "2020-04-09 15:31:58,706 : DEBUG : findfont: score(<Font 'Serto Kharput' (SyrCOMKharput.otf) normal normal 400 normal>) = 10.05\n"
     ]
    },
    {
     "name": "stderr",
     "output_type": "stream",
     "text": [
      "2020-04-09 15:31:58,707 : DEBUG : findfont: score(<Font 'Chaparral Pro' (ChaparralPro-Regular.otf) normal normal 400 normal>) = 10.05\n"
     ]
    },
    {
     "name": "stderr",
     "output_type": "stream",
     "text": [
      "2020-04-09 15:31:58,707 : DEBUG : findfont: score(<Font 'Tahoma' (Tahoma Bold.ttf) normal normal bold normal>) = 10.335\n"
     ]
    },
    {
     "name": "stderr",
     "output_type": "stream",
     "text": [
      "2020-04-09 15:31:58,707 : DEBUG : findfont: score(<Font 'Sana' (Sana.ttc) normal normal regular normal>) = 10.05\n"
     ]
    },
    {
     "name": "stderr",
     "output_type": "stream",
     "text": [
      "2020-04-09 15:31:58,708 : DEBUG : findfont: score(<Font 'OCR A Std' (OCRAStd.otf) normal normal 400 normal>) = 10.05\n"
     ]
    },
    {
     "name": "stderr",
     "output_type": "stream",
     "text": [
      "2020-04-09 15:31:58,708 : DEBUG : findfont: score(<Font 'Noto Sans Ogham' (NotoSansOgham-Regular.ttf) normal normal regular normal>) = 10.05\n"
     ]
    },
    {
     "name": "stderr",
     "output_type": "stream",
     "text": [
      "2020-04-09 15:31:58,709 : DEBUG : findfont: score(<Font 'Hiragino Sans' (ヒラギノ角ゴシック W8.ttc) normal normal 700 normal>) = 10.335\n"
     ]
    },
    {
     "name": "stderr",
     "output_type": "stream",
     "text": [
      "2020-04-09 15:31:58,709 : DEBUG : findfont: score(<Font 'Noto Sans Kharoshthi' (NotoSansKharoshthi-Regular.ttf) normal normal regular normal>) = 10.05\n"
     ]
    },
    {
     "name": "stderr",
     "output_type": "stream",
     "text": [
      "2020-04-09 15:31:58,710 : DEBUG : findfont: score(<Font 'Kozuka Mincho Pro' (KozMinPro-Bold.otf) normal normal 700 normal>) = 10.335\n"
     ]
    },
    {
     "name": "stderr",
     "output_type": "stream",
     "text": [
      "2020-04-09 15:31:58,710 : DEBUG : findfont: score(<Font 'Hack' (Hack-Bold.ttf) normal normal bold normal>) = 10.335\n"
     ]
    },
    {
     "name": "stderr",
     "output_type": "stream",
     "text": [
      "2020-04-09 15:31:58,710 : DEBUG : findfont: score(<Font 'Myriad Pro' (MyriadPro-BoldCond.otf) normal normal bold condensed>) = 10.535\n"
     ]
    },
    {
     "name": "stderr",
     "output_type": "stream",
     "text": [
      "2020-04-09 15:31:58,711 : DEBUG : findfont: score(<Font 'Mongolian Baiti' (monbaiti.ttf) normal normal 400 normal>) = 10.05\n"
     ]
    },
    {
     "name": "stderr",
     "output_type": "stream",
     "text": [
      "2020-04-09 15:31:58,711 : DEBUG : findfont: score(<Font 'Tw Cen MT' (Tw Cen MT Bold.ttf) normal normal bold normal>) = 10.335\n"
     ]
    },
    {
     "name": "stderr",
     "output_type": "stream",
     "text": [
      "2020-04-09 15:31:58,712 : DEBUG : findfont: score(<Font 'MS Gothic' (MS Gothic.ttf) normal normal 400 normal>) = 10.05\n"
     ]
    },
    {
     "name": "stderr",
     "output_type": "stream",
     "text": [
      "2020-04-09 15:31:58,713 : DEBUG : findfont: score(<Font 'Noto Sans Cuneiform' (NotoSansCuneiform-Regular.ttf) normal normal regular normal>) = 10.05\n"
     ]
    },
    {
     "name": "stderr",
     "output_type": "stream",
     "text": [
      "2020-04-09 15:31:58,713 : DEBUG : findfont: score(<Font 'Minion Pro' (MinionPro-BoldCn.otf) normal normal bold condensed>) = 10.535\n"
     ]
    },
    {
     "name": "stderr",
     "output_type": "stream",
     "text": [
      "2020-04-09 15:31:58,714 : DEBUG : findfont: score(<Font 'Meiryo' (Meiryo Bold Italic.ttf) italic normal bold normal>) = 11.335\n"
     ]
    },
    {
     "name": "stderr",
     "output_type": "stream",
     "text": [
      "2020-04-09 15:31:58,714 : DEBUG : findfont: score(<Font 'Adobe Garamond Pro' (AGaramondPro-BoldItalic.otf) italic normal bold normal>) = 11.335\n"
     ]
    },
    {
     "name": "stderr",
     "output_type": "stream",
     "text": [
      "2020-04-09 15:31:58,715 : DEBUG : findfont: score(<Font 'Noto Sans Coptic' (NotoSansCoptic-Regular.ttf) normal normal regular normal>) = 10.05\n"
     ]
    },
    {
     "name": "stderr",
     "output_type": "stream",
     "text": [
      "2020-04-09 15:31:58,715 : DEBUG : findfont: score(<Font '.Arabic UI Display' (ArabicUIDisplay.ttc) normal normal black normal>) = 10.525\n"
     ]
    },
    {
     "name": "stderr",
     "output_type": "stream",
     "text": [
      "2020-04-09 15:31:58,715 : DEBUG : findfont: score(<Font 'Microsoft Sans Serif' (Microsoft Sans Serif.ttf) normal normal 400 normal>) = 10.05\n"
     ]
    },
    {
     "name": "stderr",
     "output_type": "stream",
     "text": [
      "2020-04-09 15:31:58,716 : DEBUG : findfont: score(<Font 'Tekton Pro' (TektonPro-BoldCond.otf) normal normal bold condensed>) = 10.535\n"
     ]
    },
    {
     "name": "stderr",
     "output_type": "stream",
     "text": [
      "2020-04-09 15:31:58,716 : DEBUG : findfont: score(<Font 'Skia' (Skia.ttf) normal normal 400 normal>) = 10.05\n"
     ]
    },
    {
     "name": "stderr",
     "output_type": "stream",
     "text": [
      "2020-04-09 15:31:58,717 : DEBUG : findfont: score(<Font 'Calibri' (Calibri Bold Italic.ttf) italic normal bold normal>) = 11.335\n"
     ]
    },
    {
     "name": "stderr",
     "output_type": "stream",
     "text": [
      "2020-04-09 15:31:58,717 : DEBUG : findfont: score(<Font 'Kozuka Gothic Pr6N' (KozGoPr6N-Light.otf) normal normal 400 normal>) = 10.05\n"
     ]
    },
    {
     "name": "stderr",
     "output_type": "stream",
     "text": [
      "2020-04-09 15:31:58,718 : DEBUG : findfont: score(<Font 'Trajan Pro' (TrajanPro-Regular.otf) normal normal 400 normal>) = 10.05\n"
     ]
    },
    {
     "name": "stderr",
     "output_type": "stream",
     "text": [
      "2020-04-09 15:31:58,718 : DEBUG : findfont: score(<Font 'Serto Malankara' (SyrCOMMalankara.otf) normal normal 400 normal>) = 10.05\n"
     ]
    },
    {
     "name": "stderr",
     "output_type": "stream",
     "text": [
      "2020-04-09 15:31:58,719 : DEBUG : findfont: score(<Font 'Symbol' (Symbol.ttf) normal normal 400 normal>) = 10.05\n"
     ]
    },
    {
     "name": "stderr",
     "output_type": "stream",
     "text": [
      "2020-04-09 15:31:58,719 : DEBUG : findfont: score(<Font 'Iowan Old Style' (Iowan Old Style.ttc) normal normal roman normal>) = 10.145\n"
     ]
    },
    {
     "name": "stderr",
     "output_type": "stream",
     "text": [
      "2020-04-09 15:31:58,720 : DEBUG : findfont: score(<Font 'Noto Sans Runic' (NotoSansRunic-Regular.ttf) normal normal regular normal>) = 10.05\n"
     ]
    },
    {
     "name": "stderr",
     "output_type": "stream",
     "text": [
      "2020-04-09 15:31:58,720 : DEBUG : findfont: score(<Font 'STIXVariants' (STIXVarBol.otf) normal normal bold normal>) = 10.335\n"
     ]
    },
    {
     "name": "stderr",
     "output_type": "stream",
     "text": [
      "2020-04-09 15:31:58,720 : DEBUG : findfont: score(<Font 'Gabriola' (Gabriola.ttf) normal normal 400 normal>) = 10.05\n"
     ]
    },
    {
     "name": "stderr",
     "output_type": "stream",
     "text": [
      "2020-04-09 15:31:58,721 : DEBUG : findfont: score(<Font 'ITF Devanagari' (ITFDevanagari.ttc) normal normal book normal>) = 10.05\n"
     ]
    },
    {
     "name": "stderr",
     "output_type": "stream",
     "text": [
      "2020-04-09 15:31:58,721 : DEBUG : findfont: score(<Font 'Tamil MN' (Tamil MN.ttc) normal normal 400 normal>) = 10.05\n"
     ]
    },
    {
     "name": "stderr",
     "output_type": "stream",
     "text": [
      "2020-04-09 15:31:58,722 : DEBUG : findfont: score(<Font 'Sinhala MN' (Sinhala MN.ttc) normal normal 400 normal>) = 10.05\n"
     ]
    },
    {
     "name": "stderr",
     "output_type": "stream",
     "text": [
      "2020-04-09 15:31:58,722 : DEBUG : findfont: score(<Font 'Trebuchet MS' (Trebuchet MS.ttf) normal normal 400 normal>) = 10.05\n"
     ]
    },
    {
     "name": "stderr",
     "output_type": "stream",
     "text": [
      "2020-04-09 15:31:58,723 : DEBUG : findfont: score(<Font 'Hoefler Text' (Hoefler Text Ornaments.ttf) normal normal 400 normal>) = 10.05\n"
     ]
    },
    {
     "name": "stderr",
     "output_type": "stream",
     "text": [
      "2020-04-09 15:31:58,723 : DEBUG : findfont: score(<Font 'STIXSizeOneSym' (STIXSizOneSymReg.otf) normal normal regular normal>) = 10.05\n"
     ]
    },
    {
     "name": "stderr",
     "output_type": "stream",
     "text": [
      "2020-04-09 15:31:58,724 : DEBUG : findfont: score(<Font 'Sinhala Sangam MN' (Sinhala Sangam MN.ttc) normal normal 400 normal>) = 10.05\n"
     ]
    },
    {
     "name": "stderr",
     "output_type": "stream",
     "text": [
      "2020-04-09 15:31:58,724 : DEBUG : findfont: score(<Font 'Meiryo' (Meiryo.ttf) normal normal 400 normal>) = 10.05\n"
     ]
    },
    {
     "name": "stderr",
     "output_type": "stream",
     "text": [
      "2020-04-09 15:31:58,725 : DEBUG : findfont: score(<Font 'MingLiU_HKSCS-ExtB' (MingLiU_HKSCS-ExtB.ttf) normal normal 400 normal>) = 10.05\n"
     ]
    },
    {
     "name": "stderr",
     "output_type": "stream",
     "text": [
      "2020-04-09 15:31:58,725 : DEBUG : findfont: score(<Font 'Devanagari Sangam MN' (Devanagari Sangam MN.ttc) normal normal 400 normal>) = 10.05\n"
     ]
    },
    {
     "name": "stderr",
     "output_type": "stream",
     "text": [
      "2020-04-09 15:31:58,726 : DEBUG : findfont: score(<Font 'Bodoni Ornaments' (Bodoni Ornaments.ttf) normal normal 400 normal>) = 10.05\n"
     ]
    },
    {
     "name": "stderr",
     "output_type": "stream",
     "text": [
      "2020-04-09 15:31:58,726 : DEBUG : findfont: score(<Font 'Noto Sans Ol Chiki' (NotoSansOlChiki-Regular.ttf) normal normal regular normal>) = 10.05\n"
     ]
    },
    {
     "name": "stderr",
     "output_type": "stream",
     "text": [
      "2020-04-09 15:31:58,727 : DEBUG : findfont: score(<Font 'STIXSizeFourSym' (STIXSizFourSymReg.otf) normal normal regular normal>) = 10.05\n"
     ]
    },
    {
     "name": "stderr",
     "output_type": "stream",
     "text": [
      "2020-04-09 15:31:58,727 : DEBUG : findfont: score(<Font 'Noto Sans Hanunoo' (NotoSansHanunoo-Regular.ttf) normal normal regular normal>) = 10.05\n"
     ]
    },
    {
     "name": "stderr",
     "output_type": "stream",
     "text": [
      "2020-04-09 15:31:58,728 : DEBUG : findfont: score(<Font 'STIXIntegralsUpD' (STIXIntUpDReg.otf) normal normal regular normal>) = 10.05\n"
     ]
    },
    {
     "name": "stderr",
     "output_type": "stream",
     "text": [
      "2020-04-09 15:31:58,728 : DEBUG : findfont: score(<Font 'Apple Braille' (Apple Braille.ttf) normal normal 400 normal>) = 10.05\n"
     ]
    },
    {
     "name": "stderr",
     "output_type": "stream",
     "text": [
      "2020-04-09 15:31:58,729 : DEBUG : findfont: score(<Font 'Hiragino Sans GB' (Hiragino Sans GB.ttc) normal normal 400 normal>) = 10.05\n"
     ]
    },
    {
     "name": "stderr",
     "output_type": "stream",
     "text": [
      "2020-04-09 15:31:58,729 : DEBUG : findfont: score(<Font 'Kozuka Gothic Pro' (KozGoPro-Light.otf) normal normal 400 normal>) = 10.05\n"
     ]
    },
    {
     "name": "stderr",
     "output_type": "stream",
     "text": [
      "2020-04-09 15:31:58,730 : DEBUG : findfont: score(<Font 'Raanana' (Raanana.ttc) normal normal 400 normal>) = 10.05\n"
     ]
    },
    {
     "name": "stderr",
     "output_type": "stream",
     "text": [
      "2020-04-09 15:31:58,730 : DEBUG : findfont: score(<Font '.SF NS Text Condensed' (SFNSTextCondensed-Semibold.otf) normal normal semibold condensed>) = 10.44\n"
     ]
    },
    {
     "name": "stderr",
     "output_type": "stream",
     "text": [
      "2020-04-09 15:31:58,731 : DEBUG : findfont: score(<Font 'Kohinoor Devanagari' (Kohinoor.ttc) normal normal regular normal>) = 10.05\n"
     ]
    },
    {
     "name": "stderr",
     "output_type": "stream",
     "text": [
      "2020-04-09 15:31:58,731 : DEBUG : findfont: score(<Font 'Noto Sans Old Persian' (NotoSansOldPersian-Regular.ttf) normal normal regular normal>) = 10.05\n"
     ]
    },
    {
     "name": "stderr",
     "output_type": "stream",
     "text": [
      "2020-04-09 15:31:58,732 : DEBUG : findfont: score(<Font 'Georgia' (Georgia.ttf) normal normal 400 normal>) = 10.05\n"
     ]
    },
    {
     "name": "stderr",
     "output_type": "stream",
     "text": [
      "2020-04-09 15:31:58,732 : DEBUG : findfont: score(<Font 'Noto Sans Lycian' (NotoSansLycian-Regular.ttf) normal normal regular normal>) = 10.05\n"
     ]
    },
    {
     "name": "stderr",
     "output_type": "stream",
     "text": [
      "2020-04-09 15:31:58,733 : DEBUG : findfont: score(<Font '.SF NS Display Condensed' (SFNSDisplayCondensed-Regular.otf) normal normal regular condensed>) = 10.25\n"
     ]
    },
    {
     "name": "stderr",
     "output_type": "stream",
     "text": [
      "2020-04-09 15:31:58,734 : DEBUG : findfont: score(<Font 'Heiti TC' (STHeiti Light.ttc) normal normal light normal>) = 10.24\n"
     ]
    },
    {
     "name": "stderr",
     "output_type": "stream",
     "text": [
      "2020-04-09 15:31:58,734 : DEBUG : findfont: score(<Font 'Cambria' (Cambria.ttf) normal normal 400 normal>) = 10.05\n"
     ]
    },
    {
     "name": "stderr",
     "output_type": "stream",
     "text": [
      "2020-04-09 15:31:58,735 : DEBUG : findfont: score(<Font 'Cochin' (Cochin.ttc) normal normal 400 normal>) = 10.05\n"
     ]
    },
    {
     "name": "stderr",
     "output_type": "stream",
     "text": [
      "2020-04-09 15:31:58,736 : DEBUG : findfont: score(<Font 'Oriya Sangam MN' (Oriya Sangam MN.ttc) normal normal 400 normal>) = 10.05\n"
     ]
    },
    {
     "name": "stderr",
     "output_type": "stream",
     "text": [
      "2020-04-09 15:31:58,736 : DEBUG : findfont: score(<Font 'Noto Sans New Tai Lue' (NotoSansNewTaiLue-Regular.ttf) normal normal regular normal>) = 10.05\n"
     ]
    },
    {
     "name": "stderr",
     "output_type": "stream",
     "text": [
      "2020-04-09 15:31:58,737 : DEBUG : findfont: score(<Font 'Charlemagne Std' (CharlemagneStd-Bold.otf) normal normal bold normal>) = 10.335\n"
     ]
    },
    {
     "name": "stderr",
     "output_type": "stream",
     "text": [
      "2020-04-09 15:31:58,739 : DEBUG : findfont: score(<Font '.Arabic UI Text' (ArabicUIText.ttc) normal normal regular normal>) = 10.05\n"
     ]
    },
    {
     "name": "stderr",
     "output_type": "stream",
     "text": [
      "2020-04-09 15:31:58,740 : DEBUG : findfont: score(<Font 'Noto Nastaliq Urdu' (NotoNastaliq.ttc) normal normal 400 normal>) = 10.05\n"
     ]
    },
    {
     "name": "stderr",
     "output_type": "stream",
     "text": [
      "2020-04-09 15:31:58,740 : DEBUG : findfont: score(<Font 'STIXSizeTwoSym' (STIXSizTwoSymBol.otf) normal normal bold normal>) = 10.335\n"
     ]
    },
    {
     "name": "stderr",
     "output_type": "stream",
     "text": [
      "2020-04-09 15:31:58,742 : DEBUG : findfont: score(<Font 'Al Tarikh' (Al Tarikh.ttc) normal normal regular normal>) = 10.05\n"
     ]
    },
    {
     "name": "stderr",
     "output_type": "stream",
     "text": [
      "2020-04-09 15:31:58,743 : DEBUG : findfont: score(<Font 'Avenir' (Avenir.ttc) normal normal book normal>) = 10.05\n"
     ]
    },
    {
     "name": "stderr",
     "output_type": "stream",
     "text": [
      "2020-04-09 15:31:58,744 : DEBUG : findfont: score(<Font 'Blackoak Std' (BlackoakStd.otf) normal normal black normal>) = 10.525\n"
     ]
    },
    {
     "name": "stderr",
     "output_type": "stream",
     "text": [
      "2020-04-09 15:31:58,746 : DEBUG : findfont: score(<Font 'Lucida Sans Unicode' (Lucida Sans Unicode.ttf) normal normal 400 normal>) = 10.05\n"
     ]
    },
    {
     "name": "stderr",
     "output_type": "stream",
     "text": [
      "2020-04-09 15:31:58,748 : DEBUG : findfont: score(<Font 'Estrangelo Quenneshrin' (SyrCOMQenNeshrin.otf) normal normal 400 normal>) = 10.05\n"
     ]
    },
    {
     "name": "stderr",
     "output_type": "stream",
     "text": [
      "2020-04-09 15:31:58,748 : DEBUG : findfont: score(<Font 'MingLiU' (MingLiU.ttf) normal normal 400 normal>) = 10.05\n"
     ]
    },
    {
     "name": "stderr",
     "output_type": "stream",
     "text": [
      "2020-04-09 15:31:58,748 : DEBUG : findfont: score(<Font 'Luxi Sans' (luxisbi.ttf) oblique normal bold normal>) = 11.335\n"
     ]
    },
    {
     "name": "stderr",
     "output_type": "stream",
     "text": [
      "2020-04-09 15:31:58,749 : DEBUG : findfont: score(<Font 'STIXVariants' (STIXVar.otf) normal normal regular normal>) = 10.05\n"
     ]
    },
    {
     "name": "stderr",
     "output_type": "stream",
     "text": [
      "2020-04-09 15:31:58,749 : DEBUG : findfont: score(<Font 'Perpetua' (Perpetua Bold Italic.ttf) italic normal bold normal>) = 11.335\n"
     ]
    },
    {
     "name": "stderr",
     "output_type": "stream",
     "text": [
      "2020-04-09 15:31:58,750 : DEBUG : findfont: score(<Font 'MS Reference Specialty' (MS Reference Specialty.ttf) normal normal 400 normal>) = 10.05\n"
     ]
    },
    {
     "name": "stderr",
     "output_type": "stream",
     "text": [
      "2020-04-09 15:31:58,750 : DEBUG : findfont: score(<Font 'Noto Sans Avestan' (NotoSansAvestan-Regular.ttf) normal normal regular normal>) = 10.05\n"
     ]
    },
    {
     "name": "stderr",
     "output_type": "stream",
     "text": [
      "2020-04-09 15:31:58,751 : DEBUG : findfont: score(<Font 'SimSun-ExtB' (SimSun-ExtB.ttf) normal normal 400 normal>) = 10.05\n"
     ]
    },
    {
     "name": "stderr",
     "output_type": "stream",
     "text": [
      "2020-04-09 15:31:58,752 : DEBUG : findfont: score(<Font 'Palatino Linotype' (Palatino Linotype Bold.ttf) normal normal bold normal>) = 10.335\n"
     ]
    },
    {
     "name": "stderr",
     "output_type": "stream",
     "text": [
      "2020-04-09 15:31:58,754 : DEBUG : findfont: score(<Font 'MingLiU_HKSCS' (mingliu_hkscs.ttf) normal normal 400 normal>) = 10.05\n"
     ]
    },
    {
     "name": "stderr",
     "output_type": "stream",
     "text": [
      "2020-04-09 15:31:58,757 : DEBUG : findfont: score(<Font 'Rosewood Std' (RosewoodStd-Regular.otf) normal normal 400 normal>) = 10.05\n"
     ]
    },
    {
     "name": "stderr",
     "output_type": "stream",
     "text": [
      "2020-04-09 15:31:58,757 : DEBUG : findfont: score(<Font 'KufiStandardGK' (KufiStandardGK.ttc) normal normal regular normal>) = 10.05\n"
     ]
    },
    {
     "name": "stderr",
     "output_type": "stream",
     "text": [
      "2020-04-09 15:31:58,758 : DEBUG : findfont: score(<Font 'Cooper Std' (CooperBlackStd-Italic.otf) italic normal black normal>) = 11.525\n"
     ]
    },
    {
     "name": "stderr",
     "output_type": "stream",
     "text": [
      "2020-04-09 15:31:58,761 : DEBUG : findfont: score(<Font 'Hiragino Sans' (ヒラギノ角ゴシック W4.ttc) normal normal 400 normal>) = 10.05\n"
     ]
    },
    {
     "name": "stderr",
     "output_type": "stream",
     "text": [
      "2020-04-09 15:31:58,764 : DEBUG : findfont: score(<Font 'STIXIntegralsUp' (STIXIntUpReg.otf) normal normal regular normal>) = 10.05\n"
     ]
    },
    {
     "name": "stderr",
     "output_type": "stream",
     "text": [
      "2020-04-09 15:31:58,764 : DEBUG : findfont: score(<Font 'Al Bayan' (AlBayan.ttc) normal normal 400 normal>) = 10.05\n"
     ]
    },
    {
     "name": "stderr",
     "output_type": "stream",
     "text": [
      "2020-04-09 15:31:58,766 : DEBUG : findfont: score(<Font '.SF NS Text Condensed' (SFNSTextCondensed-Bold.otf) normal normal bold condensed>) = 10.535\n"
     ]
    },
    {
     "name": "stderr",
     "output_type": "stream",
     "text": [
      "2020-04-09 15:31:58,769 : DEBUG : findfont: score(<Font 'Kozuka Gothic Pro' (KozGoPro-Regular.otf) normal normal 400 normal>) = 10.05\n"
     ]
    },
    {
     "name": "stderr",
     "output_type": "stream",
     "text": [
      "2020-04-09 15:31:58,771 : DEBUG : findfont: score(<Font 'Noto Sans Tai Viet' (NotoSansTaiViet-Regular.ttf) normal normal regular normal>) = 10.05\n"
     ]
    },
    {
     "name": "stderr",
     "output_type": "stream",
     "text": [
      "2020-04-09 15:31:58,772 : DEBUG : findfont: score(<Font 'Noto Sans Brahmi' (NotoSansBrahmi-Regular.ttf) normal normal regular normal>) = 10.05\n"
     ]
    },
    {
     "name": "stderr",
     "output_type": "stream",
     "text": [
      "2020-04-09 15:31:58,773 : DEBUG : findfont: score(<Font 'STIXGeneral' (STIXGeneralBol.otf) normal normal bold normal>) = 10.335\n"
     ]
    },
    {
     "name": "stderr",
     "output_type": "stream",
     "text": [
      "2020-04-09 15:31:58,773 : DEBUG : findfont: score(<Font 'Meiryo' (Meiryo Italic.ttf) italic normal 400 normal>) = 11.05\n"
     ]
    },
    {
     "name": "stderr",
     "output_type": "stream",
     "text": [
      "2020-04-09 15:31:58,777 : DEBUG : findfont: score(<Font 'Tamil Sangam MN' (Tamil Sangam MN.ttc) normal normal 400 normal>) = 10.05\n"
     ]
    },
    {
     "name": "stderr",
     "output_type": "stream",
     "text": [
      "2020-04-09 15:31:58,779 : DEBUG : findfont: score(<Font 'Farisi' (Farisi.ttf) normal normal regular normal>) = 10.05\n"
     ]
    },
    {
     "name": "stderr",
     "output_type": "stream",
     "text": [
      "2020-04-09 15:31:58,779 : DEBUG : findfont: score(<Font 'Tw Cen MT' (Tw Cen MT.ttf) normal normal 400 normal>) = 10.05\n"
     ]
    },
    {
     "name": "stderr",
     "output_type": "stream",
     "text": [
      "2020-04-09 15:31:58,783 : DEBUG : findfont: score(<Font 'Trebuchet MS' (Trebuchet MS Italic.ttf) italic normal 400 normal>) = 11.05\n"
     ]
    },
    {
     "name": "stderr",
     "output_type": "stream",
     "text": [
      "2020-04-09 15:31:58,786 : DEBUG : findfont: score(<Font 'Papyrus' (Papyrus.ttc) normal normal 400 condensed>) = 10.25\n"
     ]
    },
    {
     "name": "stderr",
     "output_type": "stream",
     "text": [
      "2020-04-09 15:31:58,789 : DEBUG : findfont: score(<Font 'Perpetua' (Perpetua Bold.ttf) normal normal bold normal>) = 10.335\n"
     ]
    },
    {
     "name": "stderr",
     "output_type": "stream",
     "text": [
      "2020-04-09 15:31:58,792 : DEBUG : findfont: score(<Font 'Adobe Garamond Pro' (AGaramondPro-Italic.otf) italic normal 400 normal>) = 11.05\n"
     ]
    },
    {
     "name": "stderr",
     "output_type": "stream",
     "text": [
      "2020-04-09 15:31:58,793 : DEBUG : findfont: score(<Font 'Font Awesome 5 Free' (Font Awesome 5 Free-Solid-900.otf) normal normal 400 normal>) = 10.05\n"
     ]
    },
    {
     "name": "stderr",
     "output_type": "stream",
     "text": [
      "2020-04-09 15:31:58,797 : DEBUG : findfont: score(<Font 'Serto Batnan' (SyrCOMBatnanBold.otf) normal normal bold normal>) = 10.335\n"
     ]
    },
    {
     "name": "stderr",
     "output_type": "stream",
     "text": [
      "2020-04-09 15:31:58,802 : DEBUG : findfont: score(<Font 'Myriad Pro' (MyriadPro-Bold.otf) normal normal bold normal>) = 10.335\n"
     ]
    },
    {
     "name": "stderr",
     "output_type": "stream",
     "text": [
      "2020-04-09 15:31:58,804 : DEBUG : findfont: score(<Font 'Trattatello' (Trattatello.ttf) normal normal 400 normal>) = 10.05\n"
     ]
    },
    {
     "name": "stderr",
     "output_type": "stream",
     "text": [
      "2020-04-09 15:31:58,805 : DEBUG : findfont: score(<Font 'Apple Braille' (Apple Braille Outline 8 Dot.ttf) normal normal 400 normal>) = 10.05\n"
     ]
    },
    {
     "name": "stderr",
     "output_type": "stream",
     "text": [
      "2020-04-09 15:31:58,809 : DEBUG : findfont: score(<Font 'Adobe Caslon Pro' (ACaslonPro-Regular.otf) normal normal 400 normal>) = 10.05\n"
     ]
    },
    {
     "name": "stderr",
     "output_type": "stream",
     "text": [
      "2020-04-09 15:31:58,812 : DEBUG : findfont: score(<Font 'STIXSizeThreeSym' (STIXSizThreeSymReg.otf) normal normal regular normal>) = 10.05\n"
     ]
    },
    {
     "name": "stderr",
     "output_type": "stream",
     "text": [
      "2020-04-09 15:31:58,812 : DEBUG : findfont: score(<Font 'Big Caslon' (BigCaslon.ttf) normal normal medium normal>) = 10.145\n"
     ]
    },
    {
     "name": "stderr",
     "output_type": "stream",
     "text": [
      "2020-04-09 15:31:58,817 : DEBUG : findfont: score(<Font 'Noto Sans PhagsPa' (NotoSansPhagsPa-Regular.ttf) normal normal regular normal>) = 10.05\n"
     ]
    },
    {
     "name": "stderr",
     "output_type": "stream",
     "text": [
      "2020-04-09 15:31:58,822 : DEBUG : findfont: score(<Font 'Noto Sans Syriac' (NotoSansSyriac-Regular.ttf) normal normal regular normal>) = 10.05\n"
     ]
    },
    {
     "name": "stderr",
     "output_type": "stream",
     "text": [
      "2020-04-09 15:31:58,825 : DEBUG : findfont: score(<Font 'Helvetica Neue' (HelveticaNeue.ttc) normal normal 400 normal>) = 10.05\n"
     ]
    },
    {
     "name": "stderr",
     "output_type": "stream",
     "text": [
      "2020-04-09 15:31:58,825 : DEBUG : findfont: score(<Font 'Luxi Serif' (luxirbi.ttf) oblique normal bold normal>) = 11.335\n"
     ]
    },
    {
     "name": "stderr",
     "output_type": "stream",
     "text": [
      "2020-04-09 15:31:58,830 : DEBUG : findfont: score(<Font 'Estrangelo Talada' (SyrCOMTalada.otf) normal normal 400 normal>) = 10.05\n"
     ]
    },
    {
     "name": "stderr",
     "output_type": "stream",
     "text": [
      "2020-04-09 15:31:58,831 : DEBUG : findfont: score(<Font 'League Gothic' (LeagueGothic-CondensedRegular.otf) normal normal regular condensed>) = 10.25\n"
     ]
    },
    {
     "name": "stderr",
     "output_type": "stream",
     "text": [
      "2020-04-09 15:31:58,836 : DEBUG : findfont: score(<Font '.SF NS Text Condensed' (SFNSTextCondensed-Heavy.otf) normal normal heavy condensed>) = 10.629999999999999\n"
     ]
    },
    {
     "name": "stderr",
     "output_type": "stream",
     "text": [
      "2020-04-09 15:31:58,842 : DEBUG : findfont: score(<Font 'Arial Narrow' (Arial Narrow Italic.ttf) italic normal 400 condensed>) = 11.25\n"
     ]
    },
    {
     "name": "stderr",
     "output_type": "stream",
     "text": [
      "2020-04-09 15:31:58,843 : DEBUG : findfont: score(<Font 'Arial Black' (Arial Black.ttf) normal normal black normal>) = 10.525\n"
     ]
    },
    {
     "name": "stderr",
     "output_type": "stream",
     "text": [
      "2020-04-09 15:31:58,844 : DEBUG : findfont: score(<Font 'Avenir Next' (Avenir Next.ttc) normal normal bold normal>) = 10.335\n"
     ]
    },
    {
     "name": "stderr",
     "output_type": "stream",
     "text": [
      "2020-04-09 15:31:58,844 : DEBUG : findfont: score(<Font 'Adobe Hebrew' (AdobeHebrew-Italic.otf) italic normal 400 normal>) = 11.05\n"
     ]
    },
    {
     "name": "stderr",
     "output_type": "stream",
     "text": [
      "2020-04-09 15:31:58,845 : DEBUG : findfont: score(<Font 'Kozuka Gothic Pro' (KozGoPro-ExtraLight.otf) normal normal 400 normal>) = 10.05\n"
     ]
    },
    {
     "name": "stderr",
     "output_type": "stream",
     "text": [
      "2020-04-09 15:31:58,845 : DEBUG : findfont: score(<Font 'Symbol Tiger' (Symbol Tiger.ttf) normal normal 400 normal>) = 10.05\n"
     ]
    },
    {
     "name": "stderr",
     "output_type": "stream",
     "text": [
      "2020-04-09 15:31:58,846 : DEBUG : findfont: score(<Font 'Lucida Console' (Lucida Console.ttf) normal normal 400 normal>) = 10.05\n"
     ]
    },
    {
     "name": "stderr",
     "output_type": "stream",
     "text": [
      "2020-04-09 15:31:58,846 : DEBUG : findfont: score(<Font 'Corbel' (Corbel Bold Italic.ttf) italic normal bold normal>) = 11.335\n"
     ]
    },
    {
     "name": "stderr",
     "output_type": "stream",
     "text": [
      "2020-04-09 15:31:58,847 : DEBUG : findfont: score(<Font 'Font Awesome 5 Free' (Font Awesome 5 Free-Regular-400.otf) normal normal regular normal>) = 10.05\n"
     ]
    },
    {
     "name": "stderr",
     "output_type": "stream",
     "text": [
      "2020-04-09 15:31:58,847 : DEBUG : findfont: score(<Font 'Courier New' (Courier New Bold.ttf) normal normal bold normal>) = 10.335\n"
     ]
    },
    {
     "name": "stderr",
     "output_type": "stream",
     "text": [
      "2020-04-09 15:31:58,848 : DEBUG : findfont: score(<Font 'Diwan Thuluth' (Diwan Thuluth.ttf) normal normal regular normal>) = 10.05\n"
     ]
    },
    {
     "name": "stderr",
     "output_type": "stream",
     "text": [
      "2020-04-09 15:31:58,848 : DEBUG : findfont: score(<Font 'Diwan Kufi' (Diwan Kufi.ttc) normal normal regular normal>) = 10.05\n"
     ]
    },
    {
     "name": "stderr",
     "output_type": "stream",
     "text": [
      "2020-04-09 15:31:58,849 : DEBUG : findfont: score(<Font 'STIXGeneral' (STIXGeneral.otf) normal normal regular normal>) = 10.05\n"
     ]
    },
    {
     "name": "stderr",
     "output_type": "stream",
     "text": [
      "2020-04-09 15:31:58,849 : DEBUG : findfont: score(<Font 'Kozuka Gothic Pr6N' (KozGoPr6N-Bold.otf) normal normal 700 normal>) = 10.335\n"
     ]
    },
    {
     "name": "stderr",
     "output_type": "stream",
     "text": [
      "2020-04-09 15:31:58,849 : DEBUG : findfont: score(<Font 'Chalkboard' (Chalkboard.ttc) normal normal 400 normal>) = 10.05\n"
     ]
    },
    {
     "name": "stderr",
     "output_type": "stream",
     "text": [
      "2020-04-09 15:31:58,850 : DEBUG : findfont: score(<Font 'Candara' (Candara Italic.ttf) italic normal 400 normal>) = 11.05\n"
     ]
    },
    {
     "name": "stderr",
     "output_type": "stream",
     "text": [
      "2020-04-09 15:31:58,850 : DEBUG : findfont: score(<Font 'Corbel' (Corbel.ttf) normal normal 400 normal>) = 10.05\n"
     ]
    },
    {
     "name": "stderr",
     "output_type": "stream",
     "text": [
      "2020-04-09 15:31:58,851 : DEBUG : findfont: score(<Font 'East Syriac Adiabene' (SyrCOMAdiabene.otf) normal normal 400 normal>) = 10.05\n"
     ]
    },
    {
     "name": "stderr",
     "output_type": "stream",
     "text": [
      "2020-04-09 15:31:58,851 : DEBUG : findfont: score(<Font 'Chalkduster' (Chalkduster.ttf) normal normal 400 normal>) = 10.05\n"
     ]
    },
    {
     "name": "stderr",
     "output_type": "stream",
     "text": [
      "2020-04-09 15:31:58,852 : DEBUG : findfont: score(<Font 'Webdings' (Webdings.ttf) normal normal 400 normal>) = 10.05\n"
     ]
    },
    {
     "name": "stderr",
     "output_type": "stream",
     "text": [
      "2020-04-09 15:31:58,852 : DEBUG : findfont: score(<Font 'Optima' (Optima.ttc) normal normal regular normal>) = 10.05\n"
     ]
    },
    {
     "name": "stderr",
     "output_type": "stream",
     "text": [
      "2020-04-09 15:31:58,853 : DEBUG : findfont: score(<Font '.SF NS Display Condensed' (SFNSDisplayCondensed-Bold.otf) normal normal bold condensed>) = 10.535\n"
     ]
    },
    {
     "name": "stderr",
     "output_type": "stream",
     "text": [
      "2020-04-09 15:31:58,853 : DEBUG : findfont: score(<Font 'Noto Sans Inscriptional Pahlavi' (NotoSansInscriptionalPahlavi-Regular.ttf) normal normal regular normal>) = 10.05\n"
     ]
    },
    {
     "name": "stderr",
     "output_type": "stream",
     "text": [
      "2020-04-09 15:31:58,853 : DEBUG : findfont: score(<Font 'Beirut' (Beirut.ttc) normal normal regular normal>) = 10.05\n"
     ]
    },
    {
     "name": "stderr",
     "output_type": "stream",
     "text": [
      "2020-04-09 15:31:58,854 : DEBUG : findfont: score(<Font 'Gill Sans' (GillSans.ttc) normal normal 400 normal>) = 10.05\n"
     ]
    },
    {
     "name": "stderr",
     "output_type": "stream",
     "text": [
      "2020-04-09 15:31:58,854 : DEBUG : findfont: score(<Font 'Tahoma' (Tahoma.ttf) normal normal 400 normal>) = 10.05\n"
     ]
    },
    {
     "name": "stderr",
     "output_type": "stream",
     "text": [
      "2020-04-09 15:31:58,855 : DEBUG : findfont: score(<Font 'Noto Sans Samaritan' (NotoSansSamaritan-Regular.ttf) normal normal regular normal>) = 10.05\n"
     ]
    },
    {
     "name": "stderr",
     "output_type": "stream",
     "text": [
      "2020-04-09 15:31:58,855 : DEBUG : findfont: score(<Font 'Apple Braille' (Apple Braille Pinpoint 8 Dot.ttf) normal normal 400 normal>) = 10.05\n"
     ]
    },
    {
     "name": "stderr",
     "output_type": "stream",
     "text": [
      "2020-04-09 15:31:58,855 : DEBUG : findfont: score(<Font 'Consolas' (Consolas Italic.ttf) italic normal 400 normal>) = 11.05\n"
     ]
    },
    {
     "name": "stderr",
     "output_type": "stream",
     "text": [
      "2020-04-09 15:31:58,856 : DEBUG : findfont: score(<Font 'Estrangelo TurAbdin' (SyrCOMTurAbdin.otf) normal normal 400 normal>) = 10.05\n"
     ]
    },
    {
     "name": "stderr",
     "output_type": "stream",
     "text": [
      "2020-04-09 15:31:58,856 : DEBUG : findfont: score(<Font 'Noto Sans Tagalog' (NotoSansTagalog-Regular.ttf) normal normal regular normal>) = 10.05\n"
     ]
    },
    {
     "name": "stderr",
     "output_type": "stream",
     "text": [
      "2020-04-09 15:31:58,857 : DEBUG : findfont: score(<Font 'Tiger Expert' (Tiger Expert.ttf) normal normal 400 normal>) = 10.05\n"
     ]
    },
    {
     "name": "stderr",
     "output_type": "stream",
     "text": [
      "2020-04-09 15:31:58,857 : DEBUG : findfont: score(<Font 'Gujarati MT' (GujaratiMT.ttc) normal normal 400 normal>) = 10.05\n"
     ]
    },
    {
     "name": "stderr",
     "output_type": "stream",
     "text": [
      "2020-04-09 15:31:58,857 : DEBUG : findfont: Matching :family=sans-serif:style=normal:variant=normal:weight=normal:stretch=normal:size=12.100000000000001 to Arial ('/System/Library/Fonts/Supplemental/Arial.ttf') with score of 0.050000.\n"
     ]
    },
    {
     "name": "stderr",
     "output_type": "stream",
     "text": [
      "2020-04-09 15:31:58,924 : DEBUG : findfont: Matching :family=sans-serif:style=normal:variant=normal:weight=normal:stretch=normal:size=15.84.\n"
     ]
    },
    {
     "name": "stderr",
     "output_type": "stream",
     "text": [
      "2020-04-09 15:31:58,925 : DEBUG : findfont: score(<Font 'STIXSizeFiveSym' (STIXSizFiveSymReg.ttf) normal normal regular normal>) = 10.05\n"
     ]
    },
    {
     "name": "stderr",
     "output_type": "stream",
     "text": [
      "2020-04-09 15:31:58,926 : DEBUG : findfont: score(<Font 'DejaVu Serif Display' (DejaVuSerifDisplay.ttf) normal normal 400 normal>) = 10.05\n"
     ]
    },
    {
     "name": "stderr",
     "output_type": "stream",
     "text": [
      "2020-04-09 15:31:58,927 : DEBUG : findfont: score(<Font 'cmex10' (cmex10.ttf) normal normal 400 normal>) = 10.05\n"
     ]
    },
    {
     "name": "stderr",
     "output_type": "stream",
     "text": [
      "2020-04-09 15:31:58,927 : DEBUG : findfont: score(<Font 'DejaVu Serif' (DejaVuSerif-Italic.ttf) italic normal 400 normal>) = 11.05\n"
     ]
    },
    {
     "name": "stderr",
     "output_type": "stream",
     "text": [
      "2020-04-09 15:31:58,928 : DEBUG : findfont: score(<Font 'cmr10' (cmr10.ttf) normal normal 400 normal>) = 10.05\n"
     ]
    },
    {
     "name": "stderr",
     "output_type": "stream",
     "text": [
      "2020-04-09 15:31:58,929 : DEBUG : findfont: score(<Font 'DejaVu Sans Display' (DejaVuSansDisplay.ttf) normal normal 400 normal>) = 10.05\n"
     ]
    },
    {
     "name": "stderr",
     "output_type": "stream",
     "text": [
      "2020-04-09 15:31:58,929 : DEBUG : findfont: score(<Font 'STIXNonUnicode' (STIXNonUniIta.ttf) italic normal 400 normal>) = 11.05\n"
     ]
    },
    {
     "name": "stderr",
     "output_type": "stream",
     "text": [
      "2020-04-09 15:31:58,930 : DEBUG : findfont: score(<Font 'STIXSizeOneSym' (STIXSizOneSymReg.ttf) normal normal regular normal>) = 10.05\n"
     ]
    },
    {
     "name": "stderr",
     "output_type": "stream",
     "text": [
      "2020-04-09 15:31:58,930 : DEBUG : findfont: score(<Font 'STIXSizeFourSym' (STIXSizFourSymBol.ttf) normal normal bold normal>) = 10.335\n"
     ]
    },
    {
     "name": "stderr",
     "output_type": "stream",
     "text": [
      "2020-04-09 15:31:58,931 : DEBUG : findfont: score(<Font 'STIXGeneral' (STIXGeneral.ttf) normal normal regular normal>) = 10.05\n"
     ]
    },
    {
     "name": "stderr",
     "output_type": "stream",
     "text": [
      "2020-04-09 15:31:58,931 : DEBUG : findfont: score(<Font 'DejaVu Sans' (DejaVuSans-BoldOblique.ttf) oblique normal bold normal>) = 3.335\n"
     ]
    },
    {
     "name": "stderr",
     "output_type": "stream",
     "text": [
      "2020-04-09 15:31:58,932 : DEBUG : findfont: score(<Font 'STIXSizeTwoSym' (STIXSizTwoSymBol.ttf) normal normal bold normal>) = 10.335\n"
     ]
    },
    {
     "name": "stderr",
     "output_type": "stream",
     "text": [
      "2020-04-09 15:31:58,932 : DEBUG : findfont: score(<Font 'DejaVu Serif' (DejaVuSerif-BoldItalic.ttf) italic normal bold normal>) = 11.335\n"
     ]
    },
    {
     "name": "stderr",
     "output_type": "stream",
     "text": [
      "2020-04-09 15:31:58,932 : DEBUG : findfont: score(<Font 'STIXSizeTwoSym' (STIXSizTwoSymReg.ttf) normal normal regular normal>) = 10.05\n"
     ]
    },
    {
     "name": "stderr",
     "output_type": "stream",
     "text": [
      "2020-04-09 15:31:58,933 : DEBUG : findfont: score(<Font 'DejaVu Sans' (DejaVuSans-Oblique.ttf) oblique normal 400 normal>) = 3.05\n"
     ]
    },
    {
     "name": "stderr",
     "output_type": "stream",
     "text": [
      "2020-04-09 15:31:58,934 : DEBUG : findfont: score(<Font 'DejaVu Sans Mono' (DejaVuSansMono-Bold.ttf) normal normal bold normal>) = 10.335\n"
     ]
    },
    {
     "name": "stderr",
     "output_type": "stream",
     "text": [
      "2020-04-09 15:31:58,934 : DEBUG : findfont: score(<Font 'cmb10' (cmb10.ttf) normal normal 400 normal>) = 10.05\n"
     ]
    },
    {
     "name": "stderr",
     "output_type": "stream",
     "text": [
      "2020-04-09 15:31:58,935 : DEBUG : findfont: score(<Font 'DejaVu Sans' (DejaVuSans-Bold.ttf) normal normal bold normal>) = 2.335\n"
     ]
    },
    {
     "name": "stderr",
     "output_type": "stream",
     "text": [
      "2020-04-09 15:31:58,935 : DEBUG : findfont: score(<Font 'STIXGeneral' (STIXGeneralBolIta.ttf) italic normal bold normal>) = 11.335\n"
     ]
    },
    {
     "name": "stderr",
     "output_type": "stream",
     "text": [
      "2020-04-09 15:31:58,935 : DEBUG : findfont: score(<Font 'DejaVu Sans Mono' (DejaVuSansMono.ttf) normal normal 400 normal>) = 10.05\n"
     ]
    },
    {
     "name": "stderr",
     "output_type": "stream",
     "text": [
      "2020-04-09 15:31:58,936 : DEBUG : findfont: score(<Font 'STIXNonUnicode' (STIXNonUniBolIta.ttf) italic normal bold normal>) = 11.335\n"
     ]
    },
    {
     "name": "stderr",
     "output_type": "stream",
     "text": [
      "2020-04-09 15:31:58,936 : DEBUG : findfont: score(<Font 'STIXSizeThreeSym' (STIXSizThreeSymReg.ttf) normal normal regular normal>) = 10.05\n"
     ]
    },
    {
     "name": "stderr",
     "output_type": "stream",
     "text": [
      "2020-04-09 15:31:58,937 : DEBUG : findfont: score(<Font 'DejaVu Serif' (DejaVuSerif-Bold.ttf) normal normal bold normal>) = 10.335\n"
     ]
    },
    {
     "name": "stderr",
     "output_type": "stream",
     "text": [
      "2020-04-09 15:31:58,937 : DEBUG : findfont: score(<Font 'STIXSizeThreeSym' (STIXSizThreeSymBol.ttf) normal normal bold normal>) = 10.335\n"
     ]
    },
    {
     "name": "stderr",
     "output_type": "stream",
     "text": [
      "2020-04-09 15:31:58,938 : DEBUG : findfont: score(<Font 'cmss10' (cmss10.ttf) normal normal 400 normal>) = 10.05\n"
     ]
    },
    {
     "name": "stderr",
     "output_type": "stream",
     "text": [
      "2020-04-09 15:31:58,938 : DEBUG : findfont: score(<Font 'STIXSizeFourSym' (STIXSizFourSymReg.ttf) normal normal regular normal>) = 10.05\n"
     ]
    },
    {
     "name": "stderr",
     "output_type": "stream",
     "text": [
      "2020-04-09 15:31:58,939 : DEBUG : findfont: score(<Font 'STIXSizeOneSym' (STIXSizOneSymBol.ttf) normal normal bold normal>) = 10.335\n"
     ]
    },
    {
     "name": "stderr",
     "output_type": "stream",
     "text": [
      "2020-04-09 15:31:58,939 : DEBUG : findfont: score(<Font 'DejaVu Sans Mono' (DejaVuSansMono-Oblique.ttf) oblique normal 400 normal>) = 11.05\n"
     ]
    },
    {
     "name": "stderr",
     "output_type": "stream",
     "text": [
      "2020-04-09 15:31:58,940 : DEBUG : findfont: score(<Font 'cmsy10' (cmsy10.ttf) normal normal 400 normal>) = 10.05\n"
     ]
    },
    {
     "name": "stderr",
     "output_type": "stream",
     "text": [
      "2020-04-09 15:31:58,940 : DEBUG : findfont: score(<Font 'DejaVu Sans' (DejaVuSans.ttf) normal normal 400 normal>) = 2.05\n"
     ]
    },
    {
     "name": "stderr",
     "output_type": "stream",
     "text": [
      "2020-04-09 15:31:58,941 : DEBUG : findfont: score(<Font 'DejaVu Serif' (DejaVuSerif.ttf) normal normal 400 normal>) = 10.05\n"
     ]
    },
    {
     "name": "stderr",
     "output_type": "stream",
     "text": [
      "2020-04-09 15:31:58,941 : DEBUG : findfont: score(<Font 'STIXGeneral' (STIXGeneralBol.ttf) normal normal bold normal>) = 10.335\n"
     ]
    },
    {
     "name": "stderr",
     "output_type": "stream",
     "text": [
      "2020-04-09 15:31:58,942 : DEBUG : findfont: score(<Font 'cmtt10' (cmtt10.ttf) normal normal 400 normal>) = 10.05\n"
     ]
    },
    {
     "name": "stderr",
     "output_type": "stream",
     "text": [
      "2020-04-09 15:31:58,942 : DEBUG : findfont: score(<Font 'cmmi10' (cmmi10.ttf) normal normal 400 normal>) = 10.05\n"
     ]
    },
    {
     "name": "stderr",
     "output_type": "stream",
     "text": [
      "2020-04-09 15:31:58,942 : DEBUG : findfont: score(<Font 'STIXNonUnicode' (STIXNonUni.ttf) normal normal regular normal>) = 10.05\n"
     ]
    },
    {
     "name": "stderr",
     "output_type": "stream",
     "text": [
      "2020-04-09 15:31:58,943 : DEBUG : findfont: score(<Font 'STIXGeneral' (STIXGeneralItalic.ttf) italic normal 400 normal>) = 11.05\n"
     ]
    },
    {
     "name": "stderr",
     "output_type": "stream",
     "text": [
      "2020-04-09 15:31:58,943 : DEBUG : findfont: score(<Font 'DejaVu Sans Mono' (DejaVuSansMono-BoldOblique.ttf) oblique normal bold normal>) = 11.335\n"
     ]
    },
    {
     "name": "stderr",
     "output_type": "stream",
     "text": [
      "2020-04-09 15:31:58,944 : DEBUG : findfont: score(<Font 'STIXNonUnicode' (STIXNonUniBol.ttf) normal normal bold normal>) = 10.335\n"
     ]
    },
    {
     "name": "stderr",
     "output_type": "stream",
     "text": [
      "2020-04-09 15:31:58,944 : DEBUG : findfont: score(<Font 'Hiragino Sans' (ヒラギノ角ゴシック W3.ttc) normal normal 400 normal>) = 10.05\n"
     ]
    },
    {
     "name": "stderr",
     "output_type": "stream",
     "text": [
      "2020-04-09 15:31:58,945 : DEBUG : findfont: score(<Font 'Microsoft Yi Baiti' (msyi.ttf) normal normal 400 normal>) = 10.05\n"
     ]
    },
    {
     "name": "stderr",
     "output_type": "stream",
     "text": [
      "2020-04-09 15:31:58,945 : DEBUG : findfont: score(<Font 'Adobe Song Std' (AdobeSongStd-Light.otf) normal normal 400 normal>) = 10.05\n"
     ]
    },
    {
     "name": "stderr",
     "output_type": "stream",
     "text": [
      "2020-04-09 15:31:58,946 : DEBUG : findfont: score(<Font 'Palatino Linotype' (Palatino Linotype Italic.ttf) italic normal 400 normal>) = 11.05\n"
     ]
    },
    {
     "name": "stderr",
     "output_type": "stream",
     "text": [
      "2020-04-09 15:31:58,946 : DEBUG : findfont: score(<Font 'Lithos Pro' (LithosPro-Black.otf) normal normal black normal>) = 10.525\n"
     ]
    },
    {
     "name": "stderr",
     "output_type": "stream",
     "text": [
      "2020-04-09 15:31:58,947 : DEBUG : findfont: score(<Font 'Verdana' (Verdana.ttf) normal normal 400 normal>) = 10.05\n"
     ]
    },
    {
     "name": "stderr",
     "output_type": "stream",
     "text": [
      "2020-04-09 15:31:58,947 : DEBUG : findfont: score(<Font 'Luminari' (Luminari.ttf) normal normal 400 normal>) = 10.05\n"
     ]
    },
    {
     "name": "stderr",
     "output_type": "stream",
     "text": [
      "2020-04-09 15:31:58,948 : DEBUG : findfont: score(<Font 'Stencil Std' (StencilStd.otf) normal normal bold normal>) = 10.335\n"
     ]
    },
    {
     "name": "stderr",
     "output_type": "stream",
     "text": [
      "2020-04-09 15:31:58,948 : DEBUG : findfont: score(<Font 'Noto Sans Old Turkic' (NotoSansOldTurkic-Regular.ttf) normal normal regular normal>) = 10.05\n"
     ]
    },
    {
     "name": "stderr",
     "output_type": "stream",
     "text": [
      "2020-04-09 15:31:58,949 : DEBUG : findfont: score(<Font 'Minion Pro' (MinionPro-Medium.otf) normal normal medium normal>) = 10.145\n"
     ]
    },
    {
     "name": "stderr",
     "output_type": "stream",
     "text": [
      "2020-04-09 15:31:58,949 : DEBUG : findfont: score(<Font 'Hiragino Sans' (ヒラギノ角ゴシック W0.ttc) normal normal 400 normal>) = 10.05\n"
     ]
    },
    {
     "name": "stderr",
     "output_type": "stream",
     "text": [
      "2020-04-09 15:31:58,950 : DEBUG : findfont: score(<Font '.SF NS Display Condensed' (SFNSDisplayCondensed-Black.otf) normal normal black condensed>) = 10.725\n"
     ]
    },
    {
     "name": "stderr",
     "output_type": "stream",
     "text": [
      "2020-04-09 15:31:58,950 : DEBUG : findfont: score(<Font 'Kozuka Mincho Pr6N' (KozMinPr6N-Bold.otf) normal normal 700 normal>) = 10.335\n"
     ]
    },
    {
     "name": "stderr",
     "output_type": "stream",
     "text": [
      "2020-04-09 15:31:58,950 : DEBUG : findfont: score(<Font 'Noto Sans Batak' (NotoSansBatak-Regular.ttf) normal normal regular normal>) = 10.05\n"
     ]
    },
    {
     "name": "stderr",
     "output_type": "stream",
     "text": [
      "2020-04-09 15:31:58,951 : DEBUG : findfont: score(<Font 'Gulim' (Gulim.ttf) normal normal 400 normal>) = 10.05\n"
     ]
    },
    {
     "name": "stderr",
     "output_type": "stream",
     "text": [
      "2020-04-09 15:31:58,951 : DEBUG : findfont: score(<Font 'Hobo Std' (HoboStd.otf) normal normal medium normal>) = 10.145\n"
     ]
    },
    {
     "name": "stderr",
     "output_type": "stream",
     "text": [
      "2020-04-09 15:31:58,952 : DEBUG : findfont: score(<Font 'Bodoni 72' (Bodoni 72.ttc) normal normal book normal>) = 10.05\n"
     ]
    },
    {
     "name": "stderr",
     "output_type": "stream",
     "text": [
      "2020-04-09 15:31:58,952 : DEBUG : findfont: score(<Font 'MS Mincho' (MS Mincho.ttf) normal normal 400 normal>) = 10.05\n"
     ]
    },
    {
     "name": "stderr",
     "output_type": "stream",
     "text": [
      "2020-04-09 15:31:58,953 : DEBUG : findfont: score(<Font 'Bodoni 72 Oldstyle' (Bodoni 72 OS.ttc) normal normal book normal>) = 10.05\n"
     ]
    },
    {
     "name": "stderr",
     "output_type": "stream",
     "text": [
      "2020-04-09 15:31:58,954 : DEBUG : findfont: score(<Font 'Kannada MN' (Kannada MN.ttc) normal normal 400 normal>) = 10.05\n"
     ]
    },
    {
     "name": "stderr",
     "output_type": "stream",
     "text": [
      "2020-04-09 15:31:58,954 : DEBUG : findfont: score(<Font 'Orator Std' (OratorStd-Slanted.otf) italic normal 400 normal>) = 11.05\n"
     ]
    },
    {
     "name": "stderr",
     "output_type": "stream",
     "text": [
      "2020-04-09 15:31:58,954 : DEBUG : findfont: score(<Font 'Birch Std' (BirchStd.otf) normal normal 400 normal>) = 10.05\n"
     ]
    },
    {
     "name": "stderr",
     "output_type": "stream",
     "text": [
      "2020-04-09 15:31:58,955 : DEBUG : findfont: score(<Font 'Kohinoor Bangla' (KohinoorBangla.ttc) normal normal 400 normal>) = 10.05\n"
     ]
    },
    {
     "name": "stderr",
     "output_type": "stream",
     "text": [
      "2020-04-09 15:31:58,955 : DEBUG : findfont: score(<Font 'Tw Cen MT' (Tw Cen MT Bold Italic.ttf) italic normal bold normal>) = 11.335\n"
     ]
    },
    {
     "name": "stderr",
     "output_type": "stream",
     "text": [
      "2020-04-09 15:31:58,956 : DEBUG : findfont: score(<Font 'Serto Urhoy' (SyrCOMUrhoyBold.otf) normal normal bold normal>) = 10.335\n"
     ]
    },
    {
     "name": "stderr",
     "output_type": "stream",
     "text": [
      "2020-04-09 15:31:58,956 : DEBUG : findfont: score(<Font 'Courier New' (Courier New Italic.ttf) italic normal 400 normal>) = 11.05\n"
     ]
    },
    {
     "name": "stderr",
     "output_type": "stream",
     "text": [
      "2020-04-09 15:31:58,957 : DEBUG : findfont: score(<Font 'Consolas' (Consolas Bold.ttf) normal normal bold normal>) = 10.335\n"
     ]
    },
    {
     "name": "stderr",
     "output_type": "stream",
     "text": [
      "2020-04-09 15:31:58,957 : DEBUG : findfont: score(<Font 'Noto Sans Tifinagh' (NotoSansTifinagh-Regular.ttf) normal normal regular normal>) = 10.05\n"
     ]
    },
    {
     "name": "stderr",
     "output_type": "stream",
     "text": [
      "2020-04-09 15:31:58,958 : DEBUG : findfont: score(<Font 'Orator Std' (OratorStd.otf) normal normal medium normal>) = 10.145\n"
     ]
    },
    {
     "name": "stderr",
     "output_type": "stream",
     "text": [
      "2020-04-09 15:31:58,958 : DEBUG : findfont: score(<Font 'Noto Sans Kaithi' (NotoSansKaithi-Regular.ttf) normal normal regular normal>) = 10.05\n"
     ]
    },
    {
     "name": "stderr",
     "output_type": "stream",
     "text": [
      "2020-04-09 15:31:58,959 : DEBUG : findfont: score(<Font 'Tw Cen MT' (Tw Cen MT Italic.ttf) italic normal 400 normal>) = 11.05\n"
     ]
    },
    {
     "name": "stderr",
     "output_type": "stream",
     "text": [
      "2020-04-09 15:31:58,959 : DEBUG : findfont: score(<Font 'Verdana' (Verdana Italic.ttf) italic normal 400 normal>) = 11.05\n"
     ]
    },
    {
     "name": "stderr",
     "output_type": "stream",
     "text": [
      "2020-04-09 15:31:58,959 : DEBUG : findfont: score(<Font 'Noto Sans Osmanya' (NotoSansOsmanya-Regular.ttf) normal normal regular normal>) = 10.05\n"
     ]
    },
    {
     "name": "stderr",
     "output_type": "stream",
     "text": [
      "2020-04-09 15:31:58,960 : DEBUG : findfont: score(<Font 'Noto Sans Lisu' (NotoSansLisu-Regular.ttf) normal normal regular normal>) = 10.05\n"
     ]
    },
    {
     "name": "stderr",
     "output_type": "stream",
     "text": [
      "2020-04-09 15:31:58,960 : DEBUG : findfont: score(<Font 'Times New Roman' (Times New Roman Bold.ttf) normal normal roman normal>) = 10.145\n"
     ]
    },
    {
     "name": "stderr",
     "output_type": "stream",
     "text": [
      "2020-04-09 15:31:58,961 : DEBUG : findfont: score(<Font 'InaiMathi' (InaiMathi-MN.ttc) normal normal 400 normal>) = 10.05\n"
     ]
    },
    {
     "name": "stderr",
     "output_type": "stream",
     "text": [
      "2020-04-09 15:31:58,961 : DEBUG : findfont: score(<Font 'STIXIntegralsUp' (STIXIntUpBol.otf) normal normal bold normal>) = 10.335\n"
     ]
    },
    {
     "name": "stderr",
     "output_type": "stream",
     "text": [
      "2020-04-09 15:31:58,962 : DEBUG : findfont: score(<Font 'Hiragino Maru Gothic Pro' (ヒラギノ丸ゴ ProN W4.ttc) normal normal 400 normal>) = 10.05\n"
     ]
    },
    {
     "name": "stderr",
     "output_type": "stream",
     "text": [
      "2020-04-09 15:31:58,962 : DEBUG : findfont: score(<Font 'Corbel' (Corbel Bold.ttf) normal normal bold normal>) = 10.335\n"
     ]
    },
    {
     "name": "stderr",
     "output_type": "stream",
     "text": [
      "2020-04-09 15:31:58,963 : DEBUG : findfont: score(<Font 'Symbol Tiger Expert' (Symbol Tiger Expert.ttf) normal normal 400 normal>) = 10.05\n"
     ]
    },
    {
     "name": "stderr",
     "output_type": "stream",
     "text": [
      "2020-04-09 15:31:58,963 : DEBUG : findfont: score(<Font 'Noto Serif Myanmar' (NotoSerifMyanmar.ttc) normal normal black normal>) = 10.525\n"
     ]
    },
    {
     "name": "stderr",
     "output_type": "stream",
     "text": [
      "2020-04-09 15:31:58,964 : DEBUG : findfont: score(<Font 'Georgia' (Georgia Bold.ttf) normal normal bold normal>) = 10.335\n"
     ]
    },
    {
     "name": "stderr",
     "output_type": "stream",
     "text": [
      "2020-04-09 15:31:58,964 : DEBUG : findfont: score(<Font 'Kozuka Mincho Pr6N' (KozMinPr6N-ExtraLight.otf) normal normal 400 normal>) = 10.05\n"
     ]
    },
    {
     "name": "stderr",
     "output_type": "stream",
     "text": [
      "2020-04-09 15:31:58,964 : DEBUG : findfont: score(<Font 'Myanmar MN' (Myanmar MN.ttc) normal normal 400 normal>) = 10.05\n"
     ]
    },
    {
     "name": "stderr",
     "output_type": "stream",
     "text": [
      "2020-04-09 15:31:58,965 : DEBUG : findfont: score(<Font 'Krungthep' (Krungthep.ttf) normal normal 400 normal>) = 10.05\n"
     ]
    },
    {
     "name": "stderr",
     "output_type": "stream",
     "text": [
      "2020-04-09 15:31:58,965 : DEBUG : findfont: score(<Font 'Estrangelo Nisibin' (SyrCOMNisibin.otf) normal normal 400 normal>) = 10.05\n"
     ]
    },
    {
     "name": "stderr",
     "output_type": "stream",
     "text": [
      "2020-04-09 15:31:58,966 : DEBUG : findfont: score(<Font 'Devanagari MT' (DevanagariMT.ttc) normal normal 400 normal>) = 10.05\n"
     ]
    },
    {
     "name": "stderr",
     "output_type": "stream",
     "text": [
      "2020-04-09 15:31:58,966 : DEBUG : findfont: score(<Font 'Franklin Gothic Medium' (Franklin Gothic Medium Italic.ttf) italic normal medium normal>) = 11.145\n"
     ]
    },
    {
     "name": "stderr",
     "output_type": "stream",
     "text": [
      "2020-04-09 15:31:58,967 : DEBUG : findfont: score(<Font 'Waseem' (Waseem.ttc) normal normal regular normal>) = 10.05\n"
     ]
    },
    {
     "name": "stderr",
     "output_type": "stream",
     "text": [
      "2020-04-09 15:31:58,967 : DEBUG : findfont: score(<Font 'Adobe Garamond Pro' (AGaramondPro-Bold.otf) normal normal bold normal>) = 10.335\n"
     ]
    },
    {
     "name": "stderr",
     "output_type": "stream",
     "text": [
      "2020-04-09 15:31:58,968 : DEBUG : findfont: score(<Font 'Noto Sans Shavian' (NotoSansShavian-Regular.ttf) normal normal regular normal>) = 10.05\n"
     ]
    },
    {
     "name": "stderr",
     "output_type": "stream",
     "text": [
      "2020-04-09 15:31:58,968 : DEBUG : findfont: score(<Font 'STIXNonUnicode' (STIXNonUniBol.otf) normal normal bold normal>) = 10.335\n"
     ]
    },
    {
     "name": "stderr",
     "output_type": "stream",
     "text": [
      "2020-04-09 15:31:58,969 : DEBUG : findfont: score(<Font 'Kozuka Gothic Pr6N' (KozGoPr6N-Heavy.otf) normal normal 700 normal>) = 10.335\n"
     ]
    },
    {
     "name": "stderr",
     "output_type": "stream",
     "text": [
      "2020-04-09 15:31:58,969 : DEBUG : findfont: score(<Font 'Noto Sans Glagolitic' (NotoSansGlagolitic-Regular.ttf) normal normal regular normal>) = 10.05\n"
     ]
    },
    {
     "name": "stderr",
     "output_type": "stream",
     "text": [
      "2020-04-09 15:31:58,970 : DEBUG : findfont: score(<Font 'Gurmukhi Sangam MN' (Gurmukhi Sangam MN.ttc) normal normal 400 normal>) = 10.05\n"
     ]
    },
    {
     "name": "stderr",
     "output_type": "stream",
     "text": [
      "2020-04-09 15:31:58,970 : DEBUG : findfont: score(<Font 'Noto Sans Kannada' (NotoSansKannada.ttc) normal normal black normal>) = 10.525\n"
     ]
    },
    {
     "name": "stderr",
     "output_type": "stream",
     "text": [
      "2020-04-09 15:31:58,971 : DEBUG : findfont: score(<Font 'Gill Sans MT' (Gill Sans MT.ttf) normal normal 400 normal>) = 10.05\n"
     ]
    },
    {
     "name": "stderr",
     "output_type": "stream",
     "text": [
      "2020-04-09 15:31:58,971 : DEBUG : findfont: score(<Font 'Franklin Gothic Book' (Franklin Gothic Book Italic.ttf) italic normal book normal>) = 11.05\n"
     ]
    },
    {
     "name": "stderr",
     "output_type": "stream",
     "text": [
      "2020-04-09 15:31:58,972 : DEBUG : findfont: score(<Font 'Hiragino Sans' (ヒラギノ角ゴシック W2.ttc) normal normal 400 normal>) = 10.05\n"
     ]
    },
    {
     "name": "stderr",
     "output_type": "stream",
     "text": [
      "2020-04-09 15:31:58,972 : DEBUG : findfont: score(<Font 'Noto Sans Ugaritic' (NotoSansUgaritic-Regular.ttf) normal normal regular normal>) = 10.05\n"
     ]
    },
    {
     "name": "stderr",
     "output_type": "stream",
     "text": [
      "2020-04-09 15:31:58,972 : DEBUG : findfont: score(<Font 'Adobe Hebrew' (AdobeHebrew-Bold.otf) normal normal bold normal>) = 10.335\n"
     ]
    },
    {
     "name": "stderr",
     "output_type": "stream",
     "text": [
      "2020-04-09 15:31:58,973 : DEBUG : findfont: score(<Font 'STIXIntegralsD' (STIXIntDBol.otf) normal normal bold normal>) = 10.335\n"
     ]
    },
    {
     "name": "stderr",
     "output_type": "stream",
     "text": [
      "2020-04-09 15:31:58,973 : DEBUG : findfont: score(<Font 'System Font' (SFNS.ttf) normal normal 400 normal>) = 10.05\n"
     ]
    },
    {
     "name": "stderr",
     "output_type": "stream",
     "text": [
      "2020-04-09 15:31:58,974 : DEBUG : findfont: score(<Font 'Tekton Pro' (TektonPro-BoldObl.otf) oblique normal bold normal>) = 11.335\n"
     ]
    },
    {
     "name": "stderr",
     "output_type": "stream",
     "text": [
      "2020-04-09 15:31:58,975 : DEBUG : findfont: score(<Font 'Apple Symbols' (Apple Symbols.ttf) normal normal 400 normal>) = 10.05\n"
     ]
    },
    {
     "name": "stderr",
     "output_type": "stream",
     "text": [
      "2020-04-09 15:31:58,975 : DEBUG : findfont: score(<Font 'Serto Jerusalem' (SyrCOMJerusalem.otf) normal normal 400 normal>) = 10.05\n"
     ]
    },
    {
     "name": "stderr",
     "output_type": "stream",
     "text": [
      "2020-04-09 15:31:58,975 : DEBUG : findfont: score(<Font 'Noto Sans Armenian' (NotoSansArmenian.ttc) normal normal black normal>) = 10.525\n"
     ]
    },
    {
     "name": "stderr",
     "output_type": "stream",
     "text": [
      "2020-04-09 15:31:58,976 : DEBUG : findfont: score(<Font 'Adobe Fangsong Std' (AdobeFangsongStd-Regular.otf) normal normal 400 normal>) = 10.05\n"
     ]
    },
    {
     "name": "stderr",
     "output_type": "stream",
     "text": [
      "2020-04-09 15:31:58,976 : DEBUG : findfont: score(<Font 'Noto Sans Yi' (NotoSansYi-Regular.ttf) normal normal regular normal>) = 10.05\n"
     ]
    },
    {
     "name": "stderr",
     "output_type": "stream",
     "text": [
      "2020-04-09 15:31:58,977 : DEBUG : findfont: score(<Font 'Wingdings' (Wingdings.ttf) normal normal 400 normal>) = 10.05\n"
     ]
    },
    {
     "name": "stderr",
     "output_type": "stream",
     "text": [
      "2020-04-09 15:31:58,977 : DEBUG : findfont: score(<Font 'DIN Alternate' (DIN Alternate Bold.ttf) normal normal bold normal>) = 10.335\n"
     ]
    },
    {
     "name": "stderr",
     "output_type": "stream",
     "text": [
      "2020-04-09 15:31:58,978 : DEBUG : findfont: score(<Font 'Adobe Caslon Pro' (ACaslonPro-Semibold.otf) normal normal semibold normal>) = 10.24\n"
     ]
    },
    {
     "name": "stderr",
     "output_type": "stream",
     "text": [
      "2020-04-09 15:31:58,978 : DEBUG : findfont: score(<Font 'Perpetua' (Perpetua.ttf) normal normal 400 normal>) = 10.05\n"
     ]
    },
    {
     "name": "stderr",
     "output_type": "stream",
     "text": [
      "2020-04-09 15:31:58,979 : DEBUG : findfont: score(<Font 'Perpetua' (Perpetua Italic.ttf) italic normal 400 normal>) = 11.05\n"
     ]
    },
    {
     "name": "stderr",
     "output_type": "stream",
     "text": [
      "2020-04-09 15:31:58,979 : DEBUG : findfont: score(<Font 'Helvetica' (Helvetica.ttc) normal normal 400 normal>) = 10.05\n"
     ]
    },
    {
     "name": "stderr",
     "output_type": "stream",
     "text": [
      "2020-04-09 15:31:58,980 : DEBUG : findfont: score(<Font 'Kannada Sangam MN' (Kannada Sangam MN.ttc) normal normal 400 normal>) = 10.05\n"
     ]
    },
    {
     "name": "stderr",
     "output_type": "stream",
     "text": [
      "2020-04-09 15:31:58,980 : DEBUG : findfont: score(<Font 'Consolas' (Consolas Bold Italic.ttf) italic normal bold normal>) = 11.335\n"
     ]
    },
    {
     "name": "stderr",
     "output_type": "stream",
     "text": [
      "2020-04-09 15:31:58,980 : DEBUG : findfont: score(<Font 'Kailasa' (Kailasa.ttc) normal normal regular normal>) = 10.05\n"
     ]
    },
    {
     "name": "stderr",
     "output_type": "stream",
     "text": [
      "2020-04-09 15:31:58,981 : DEBUG : findfont: score(<Font 'Kefa' (Kefa.ttc) normal normal regular normal>) = 10.05\n"
     ]
    },
    {
     "name": "stderr",
     "output_type": "stream",
     "text": [
      "2020-04-09 15:31:58,981 : DEBUG : findfont: score(<Font 'Arial' (Arial.ttf) normal normal 400 normal>) = 0.05\n"
     ]
    },
    {
     "name": "stderr",
     "output_type": "stream",
     "text": [
      "2020-04-09 15:31:58,982 : DEBUG : findfont: score(<Font 'Letter Gothic Std' (LetterGothicStd-Bold.otf) normal normal bold normal>) = 10.335\n"
     ]
    },
    {
     "name": "stderr",
     "output_type": "stream",
     "text": [
      "2020-04-09 15:31:58,982 : DEBUG : findfont: score(<Font 'Estrangelo Midyat' (SyrCOMMidyat.otf) normal normal 400 normal>) = 10.05\n"
     ]
    },
    {
     "name": "stderr",
     "output_type": "stream",
     "text": [
      "2020-04-09 15:31:58,983 : DEBUG : findfont: score(<Font 'Baghdad' (Baghdad.ttc) normal normal regular normal>) = 10.05\n"
     ]
    },
    {
     "name": "stderr",
     "output_type": "stream",
     "text": [
      "2020-04-09 15:31:58,983 : DEBUG : findfont: score(<Font '.SF NS Display Condensed' (SFNSDisplayCondensed-Light.otf) normal normal light condensed>) = 10.44\n"
     ]
    },
    {
     "name": "stderr",
     "output_type": "stream",
     "text": [
      "2020-04-09 15:31:58,984 : DEBUG : findfont: score(<Font 'Kozuka Mincho Pro' (KozMinPro-Medium.otf) normal normal 400 normal>) = 10.05\n"
     ]
    },
    {
     "name": "stderr",
     "output_type": "stream",
     "text": [
      "2020-04-09 15:31:58,984 : DEBUG : findfont: score(<Font '.SF Compact Text' (SFCompactText.ttf) normal normal 400 normal>) = 10.05\n"
     ]
    },
    {
     "name": "stderr",
     "output_type": "stream",
     "text": [
      "2020-04-09 15:31:58,985 : DEBUG : findfont: score(<Font 'Marker Felt' (MarkerFelt.ttc) normal normal 400 normal>) = 10.05\n"
     ]
    },
    {
     "name": "stderr",
     "output_type": "stream",
     "text": [
      "2020-04-09 15:31:58,985 : DEBUG : findfont: score(<Font 'STIXIntegralsUpSm' (STIXIntUpSmReg.otf) normal normal regular normal>) = 10.05\n"
     ]
    },
    {
     "name": "stderr",
     "output_type": "stream",
     "text": [
      "2020-04-09 15:31:58,986 : DEBUG : findfont: score(<Font 'Apple Braille' (Apple Braille Outline 6 Dot.ttf) normal normal 400 normal>) = 10.05\n"
     ]
    },
    {
     "name": "stderr",
     "output_type": "stream",
     "text": [
      "2020-04-09 15:31:58,986 : DEBUG : findfont: score(<Font 'STIXNonUnicode' (STIXNonUni.otf) normal normal regular normal>) = 10.05\n"
     ]
    },
    {
     "name": "stderr",
     "output_type": "stream",
     "text": [
      "2020-04-09 15:31:58,987 : DEBUG : findfont: score(<Font '.LastResort' (LastResort.otf) normal normal 400 normal>) = 10.05\n"
     ]
    },
    {
     "name": "stderr",
     "output_type": "stream",
     "text": [
      "2020-04-09 15:31:58,987 : DEBUG : findfont: score(<Font 'PingFang HK' (PingFang.ttc) normal normal regular normal>) = 10.05\n"
     ]
    },
    {
     "name": "stderr",
     "output_type": "stream",
     "text": [
      "2020-04-09 15:31:58,987 : DEBUG : findfont: score(<Font 'Times New Roman' (Times New Roman.ttf) normal normal roman normal>) = 10.145\n"
     ]
    },
    {
     "name": "stderr",
     "output_type": "stream",
     "text": [
      "2020-04-09 15:31:58,988 : DEBUG : findfont: score(<Font 'Adobe Arabic' (AdobeArabic-BoldItalic.otf) italic normal bold normal>) = 11.335\n"
     ]
    },
    {
     "name": "stderr",
     "output_type": "stream",
     "text": [
      "2020-04-09 15:31:58,988 : DEBUG : findfont: score(<Font 'Didot' (Didot.ttc) normal normal 400 normal>) = 10.05\n"
     ]
    },
    {
     "name": "stderr",
     "output_type": "stream",
     "text": [
      "2020-04-09 15:31:58,989 : DEBUG : findfont: score(<Font 'Serto Mardin' (SyrCOMMardin.otf) normal normal 400 normal>) = 10.05\n"
     ]
    },
    {
     "name": "stderr",
     "output_type": "stream",
     "text": [
      "2020-04-09 15:31:58,989 : DEBUG : findfont: score(<Font '.SF NS Text Condensed' (SFNSTextCondensed-Regular.otf) normal normal regular condensed>) = 10.25\n"
     ]
    },
    {
     "name": "stderr",
     "output_type": "stream",
     "text": [
      "2020-04-09 15:31:58,990 : DEBUG : findfont: score(<Font 'Noto Sans Tai Tham' (NotoSansTaiTham-Regular.ttf) normal normal 400 normal>) = 10.05\n"
     ]
    },
    {
     "name": "stderr",
     "output_type": "stream",
     "text": [
      "2020-04-09 15:31:58,990 : DEBUG : findfont: score(<Font 'Kozuka Mincho Pr6N' (KozMinPr6N-Medium.otf) normal normal 400 normal>) = 10.05\n"
     ]
    },
    {
     "name": "stderr",
     "output_type": "stream",
     "text": [
      "2020-04-09 15:31:58,991 : DEBUG : findfont: score(<Font 'Adobe Fan Heiti Std' (AdobeFanHeitiStd-Bold.otf) normal normal 700 normal>) = 10.335\n"
     ]
    },
    {
     "name": "stderr",
     "output_type": "stream",
     "text": [
      "2020-04-09 15:31:58,991 : DEBUG : findfont: score(<Font 'PMingLiU-ExtB' (PMingLiU-ExtB.ttf) normal normal 400 normal>) = 10.05\n"
     ]
    },
    {
     "name": "stderr",
     "output_type": "stream",
     "text": [
      "2020-04-09 15:31:58,992 : DEBUG : findfont: score(<Font 'Verdana' (Verdana Bold.ttf) normal normal bold normal>) = 10.335\n"
     ]
    },
    {
     "name": "stderr",
     "output_type": "stream",
     "text": [
      "2020-04-09 15:31:58,992 : DEBUG : findfont: score(<Font 'MS PGothic' (MS PGothic.ttf) normal normal 400 normal>) = 10.05\n"
     ]
    },
    {
     "name": "stderr",
     "output_type": "stream",
     "text": [
      "2020-04-09 15:31:58,993 : DEBUG : findfont: score(<Font 'Trebuchet MS' (Trebuchet MS Bold Italic.ttf) italic normal bold normal>) = 11.335\n"
     ]
    },
    {
     "name": "stderr",
     "output_type": "stream",
     "text": [
      "2020-04-09 15:31:58,993 : DEBUG : findfont: score(<Font 'Hiragino Sans' (ヒラギノ角ゴシック W7.ttc) normal normal 700 normal>) = 10.335\n"
     ]
    },
    {
     "name": "stderr",
     "output_type": "stream",
     "text": [
      "2020-04-09 15:31:58,994 : DEBUG : findfont: score(<Font 'Luxi Sans' (luxisri.ttf) oblique normal 400 normal>) = 11.05\n"
     ]
    },
    {
     "name": "stderr",
     "output_type": "stream",
     "text": [
      "2020-04-09 15:31:58,994 : DEBUG : findfont: score(<Font 'Charter' (Charter.ttc) normal normal roman normal>) = 10.145\n"
     ]
    },
    {
     "name": "stderr",
     "output_type": "stream",
     "text": [
      "2020-04-09 15:31:58,994 : DEBUG : findfont: score(<Font 'Wingdings 3' (Wingdings 3.ttf) normal normal 400 normal>) = 10.05\n"
     ]
    },
    {
     "name": "stderr",
     "output_type": "stream",
     "text": [
      "2020-04-09 15:31:58,995 : DEBUG : findfont: score(<Font 'Futura' (Futura.ttc) normal normal medium normal>) = 10.145\n"
     ]
    },
    {
     "name": "stderr",
     "output_type": "stream",
     "text": [
      "2020-04-09 15:31:58,995 : DEBUG : findfont: score(<Font 'Noto Sans Buginese' (NotoSansBuginese-Regular.ttf) normal normal regular normal>) = 10.05\n"
     ]
    },
    {
     "name": "stderr",
     "output_type": "stream",
     "text": [
      "2020-04-09 15:31:58,996 : DEBUG : findfont: score(<Font 'Serto Jerusalem' (SyrCOMJerusalemItalic.otf) italic normal 400 normal>) = 11.05\n"
     ]
    },
    {
     "name": "stderr",
     "output_type": "stream",
     "text": [
      "2020-04-09 15:31:58,996 : DEBUG : findfont: score(<Font 'Kozuka Gothic Pr6N' (KozGoPr6N-ExtraLight.otf) normal normal 400 normal>) = 10.05\n"
     ]
    },
    {
     "name": "stderr",
     "output_type": "stream",
     "text": [
      "2020-04-09 15:31:58,997 : DEBUG : findfont: score(<Font 'Baskerville' (Baskerville.ttc) normal normal 400 normal>) = 10.05\n"
     ]
    },
    {
     "name": "stderr",
     "output_type": "stream",
     "text": [
      "2020-04-09 15:31:58,997 : DEBUG : findfont: score(<Font 'Serto Jerusalem Outline' (SyrCOMJerusalemOutline.otf) normal normal 400 normal>) = 10.05\n"
     ]
    },
    {
     "name": "stderr",
     "output_type": "stream",
     "text": [
      "2020-04-09 15:31:58,998 : DEBUG : findfont: score(<Font 'Wingdings 2' (Wingdings 2.ttf) normal normal 400 normal>) = 10.05\n"
     ]
    },
    {
     "name": "stderr",
     "output_type": "stream",
     "text": [
      "2020-04-09 15:31:58,998 : DEBUG : findfont: score(<Font '.SF Compact Display' (SFCompactDisplay.ttf) normal normal 400 normal>) = 10.05\n"
     ]
    },
    {
     "name": "stderr",
     "output_type": "stream",
     "text": [
      "2020-04-09 15:31:58,999 : DEBUG : findfont: score(<Font 'Gill Sans MT' (Gill Sans MT Italic.ttf) italic normal 400 normal>) = 11.05\n"
     ]
    },
    {
     "name": "stderr",
     "output_type": "stream",
     "text": [
      "2020-04-09 15:31:58,999 : DEBUG : findfont: score(<Font 'Noto Sans Sundanese' (NotoSansSundanese-Regular.ttf) normal normal regular normal>) = 10.05\n"
     ]
    },
    {
     "name": "stderr",
     "output_type": "stream",
     "text": [
      "2020-04-09 15:31:59,000 : DEBUG : findfont: score(<Font 'Batang' (Batang.ttf) normal normal 400 normal>) = 10.05\n"
     ]
    },
    {
     "name": "stderr",
     "output_type": "stream",
     "text": [
      "2020-04-09 15:31:59,000 : DEBUG : findfont: score(<Font 'Arial Unicode MS' (Arial Unicode.ttf) normal normal 400 normal>) = 10.05\n"
     ]
    },
    {
     "name": "stderr",
     "output_type": "stream",
     "text": [
      "2020-04-09 15:31:59,000 : DEBUG : findfont: score(<Font 'Calibri' (Calibri.ttf) normal normal 400 normal>) = 10.05\n"
     ]
    },
    {
     "name": "stderr",
     "output_type": "stream",
     "text": [
      "2020-04-09 15:31:59,001 : DEBUG : findfont: score(<Font 'Candara' (Candara Bold.ttf) normal normal bold normal>) = 10.335\n"
     ]
    },
    {
     "name": "stderr",
     "output_type": "stream",
     "text": [
      "2020-04-09 15:31:59,001 : DEBUG : findfont: score(<Font 'Hiragino Sans' (ヒラギノ角ゴシック W6.ttc) normal normal 700 normal>) = 10.335\n"
     ]
    },
    {
     "name": "stderr",
     "output_type": "stream",
     "text": [
      "2020-04-09 15:31:59,002 : DEBUG : findfont: score(<Font 'Farah' (Farah.ttc) normal normal regular normal>) = 10.05\n"
     ]
    },
    {
     "name": "stderr",
     "output_type": "stream",
     "text": [
      "2020-04-09 15:31:59,002 : DEBUG : findfont: score(<Font '.SF NS Mono' (SFNSMono.ttf) normal normal light normal>) = 10.24\n"
     ]
    },
    {
     "name": "stderr",
     "output_type": "stream",
     "text": [
      "2020-04-09 15:31:59,003 : DEBUG : findfont: score(<Font 'Adobe Arabic' (AdobeArabic-Regular.otf) normal normal regular normal>) = 10.05\n"
     ]
    },
    {
     "name": "stderr",
     "output_type": "stream",
     "text": [
      "2020-04-09 15:31:59,003 : DEBUG : findfont: score(<Font 'Noto Sans Lydian' (NotoSansLydian-Regular.ttf) normal normal regular normal>) = 10.05\n"
     ]
    },
    {
     "name": "stderr",
     "output_type": "stream",
     "text": [
      "2020-04-09 15:31:59,004 : DEBUG : findfont: score(<Font 'Noto Sans Tai Le' (NotoSansTaiLe-Regular.ttf) normal normal regular normal>) = 10.05\n"
     ]
    },
    {
     "name": "stderr",
     "output_type": "stream",
     "text": [
      "2020-04-09 15:31:59,004 : DEBUG : findfont: score(<Font 'Noto Sans Buhid' (NotoSansBuhid-Regular.ttf) normal normal regular normal>) = 10.05\n"
     ]
    },
    {
     "name": "stderr",
     "output_type": "stream",
     "text": [
      "2020-04-09 15:31:59,004 : DEBUG : findfont: score(<Font 'Tekton Pro' (TektonPro-BoldExt.otf) normal normal bold normal>) = 10.335\n"
     ]
    },
    {
     "name": "stderr",
     "output_type": "stream",
     "text": [
      "2020-04-09 15:31:59,005 : DEBUG : findfont: score(<Font 'Minion Pro' (MinionPro-MediumIt.otf) italic normal medium normal>) = 11.145\n"
     ]
    },
    {
     "name": "stderr",
     "output_type": "stream",
     "text": [
      "2020-04-09 15:31:59,005 : DEBUG : findfont: score(<Font 'Minion Pro' (MinionPro-Semibold.otf) normal normal semibold normal>) = 10.24\n"
     ]
    },
    {
     "name": "stderr",
     "output_type": "stream",
     "text": [
      "2020-04-09 15:31:59,006 : DEBUG : findfont: score(<Font 'Palatino Linotype' (Palatino Linotype.ttf) normal normal 400 normal>) = 10.05\n"
     ]
    },
    {
     "name": "stderr",
     "output_type": "stream",
     "text": [
      "2020-04-09 15:31:59,006 : DEBUG : findfont: score(<Font 'Noto Sans Cham' (NotoSansCham-Regular.ttf) normal normal regular normal>) = 10.05\n"
     ]
    },
    {
     "name": "stderr",
     "output_type": "stream",
     "text": [
      "2020-04-09 15:31:59,007 : DEBUG : findfont: score(<Font '.SF NS Rounded' (SFNSRounded.ttf) normal normal 400 normal>) = 10.05\n"
     ]
    },
    {
     "name": "stderr",
     "output_type": "stream",
     "text": [
      "2020-04-09 15:31:59,007 : DEBUG : findfont: score(<Font 'Galvji' (Galvji.ttc) normal normal 400 normal>) = 10.05\n"
     ]
    },
    {
     "name": "stderr",
     "output_type": "stream",
     "text": [
      "2020-04-09 15:31:59,008 : DEBUG : findfont: score(<Font 'Luxi Sans' (luxisr.ttf) normal normal regular normal>) = 10.05\n"
     ]
    },
    {
     "name": "stderr",
     "output_type": "stream",
     "text": [
      "2020-04-09 15:31:59,008 : DEBUG : findfont: score(<Font '.Aqua Kana' (AquaKana.ttc) normal normal 400 normal>) = 10.05\n"
     ]
    },
    {
     "name": "stderr",
     "output_type": "stream",
     "text": [
      "2020-04-09 15:31:59,009 : DEBUG : findfont: score(<Font 'Adobe Hebrew' (AdobeHebrew-BoldItalic.otf) italic normal bold normal>) = 11.335\n"
     ]
    },
    {
     "name": "stderr",
     "output_type": "stream",
     "text": [
      "2020-04-09 15:31:59,009 : DEBUG : findfont: score(<Font 'STIXSizeTwoSym' (STIXSizTwoSymReg.otf) normal normal regular normal>) = 10.05\n"
     ]
    },
    {
     "name": "stderr",
     "output_type": "stream",
     "text": [
      "2020-04-09 15:31:59,010 : DEBUG : findfont: score(<Font 'Sukhumvit Set' (SukhumvitSet.ttc) normal normal 400 normal>) = 10.05\n"
     ]
    },
    {
     "name": "stderr",
     "output_type": "stream",
     "text": [
      "2020-04-09 15:31:59,010 : DEBUG : findfont: score(<Font '.SF Compact Text' (SFCompactTextItalic.ttf) italic normal 400 normal>) = 11.05\n"
     ]
    },
    {
     "name": "stderr",
     "output_type": "stream",
     "text": [
      "2020-04-09 15:31:59,011 : DEBUG : findfont: score(<Font '.Keyboard' (Keyboard.ttf) normal normal 400 normal>) = 10.05\n"
     ]
    },
    {
     "name": "stderr",
     "output_type": "stream",
     "text": [
      "2020-04-09 15:31:59,011 : DEBUG : findfont: score(<Font 'Nueva Std' (NuevaStd-CondItalic.otf) italic normal 400 condensed>) = 11.25\n"
     ]
    },
    {
     "name": "stderr",
     "output_type": "stream",
     "text": [
      "2020-04-09 15:31:59,012 : DEBUG : findfont: score(<Font 'Adobe Ming Std' (AdobeMingStd-Light.otf) normal normal 400 normal>) = 10.05\n"
     ]
    },
    {
     "name": "stderr",
     "output_type": "stream",
     "text": [
      "2020-04-09 15:31:59,012 : DEBUG : findfont: score(<Font 'Minion Pro' (MinionPro-Regular.otf) normal normal 400 normal>) = 10.05\n"
     ]
    },
    {
     "name": "stderr",
     "output_type": "stream",
     "text": [
      "2020-04-09 15:31:59,013 : DEBUG : findfont: score(<Font 'Plantagenet Cherokee' (PlantagenetCherokee.ttf) normal normal 400 normal>) = 10.05\n"
     ]
    },
    {
     "name": "stderr",
     "output_type": "stream",
     "text": [
      "2020-04-09 15:31:59,013 : DEBUG : findfont: score(<Font 'Constantia' (Constantia Bold Italic.ttf) italic normal bold normal>) = 11.335\n"
     ]
    },
    {
     "name": "stderr",
     "output_type": "stream",
     "text": [
      "2020-04-09 15:31:59,014 : DEBUG : findfont: score(<Font 'DIN Condensed' (DIN Condensed Bold.ttf) normal normal bold condensed>) = 10.535\n"
     ]
    },
    {
     "name": "stderr",
     "output_type": "stream",
     "text": [
      "2020-04-09 15:31:59,014 : DEBUG : findfont: score(<Font 'Shree Devanagari 714' (Shree714.ttc) normal normal 400 normal>) = 10.05\n"
     ]
    },
    {
     "name": "stderr",
     "output_type": "stream",
     "text": [
      "2020-04-09 15:31:59,015 : DEBUG : findfont: score(<Font 'Luxi Mono' (luximri.ttf) oblique normal 400 normal>) = 11.05\n"
     ]
    },
    {
     "name": "stderr",
     "output_type": "stream",
     "text": [
      "2020-04-09 15:31:59,015 : DEBUG : findfont: score(<Font 'Arial Narrow' (Arial Narrow Bold.ttf) normal normal bold condensed>) = 10.535\n"
     ]
    },
    {
     "name": "stderr",
     "output_type": "stream",
     "text": [
      "2020-04-09 15:31:59,016 : DEBUG : findfont: score(<Font 'Goha-Tibeb Zemen' (GohaTibebZemen.otf) normal normal 400 normal>) = 10.05\n"
     ]
    },
    {
     "name": "stderr",
     "output_type": "stream",
     "text": [
      "2020-04-09 15:31:59,016 : DEBUG : findfont: score(<Font 'Constantia' (Constantia Italic.ttf) italic normal 400 normal>) = 11.05\n"
     ]
    },
    {
     "name": "stderr",
     "output_type": "stream",
     "text": [
      "2020-04-09 15:31:59,017 : DEBUG : findfont: score(<Font 'Minion Pro' (MinionPro-BoldIt.otf) italic normal bold normal>) = 11.335\n"
     ]
    },
    {
     "name": "stderr",
     "output_type": "stream",
     "text": [
      "2020-04-09 15:31:59,017 : DEBUG : findfont: score(<Font 'STIXSizeOneSym' (STIXSizOneSymBol.otf) normal normal bold normal>) = 10.335\n"
     ]
    },
    {
     "name": "stderr",
     "output_type": "stream",
     "text": [
      "2020-04-09 15:31:59,018 : DEBUG : findfont: score(<Font 'Inconsolata' (Inconsolata.otf) normal normal 400 normal>) = 10.05\n"
     ]
    },
    {
     "name": "stderr",
     "output_type": "stream",
     "text": [
      "2020-04-09 15:31:59,018 : DEBUG : findfont: score(<Font 'Noto Serif Balinese' (NotoSerifBalinese-Regular.ttf) normal normal regular normal>) = 10.05\n"
     ]
    },
    {
     "name": "stderr",
     "output_type": "stream",
     "text": [
      "2020-04-09 15:31:59,019 : DEBUG : findfont: score(<Font 'STIXSizeFourSym' (STIXSizFourSymBol.otf) normal normal bold normal>) = 10.335\n"
     ]
    },
    {
     "name": "stderr",
     "output_type": "stream",
     "text": [
      "2020-04-09 15:31:59,019 : DEBUG : findfont: score(<Font 'Adobe Gothic Std' (AdobeGothicStd-Bold.otf) normal normal 700 normal>) = 10.335\n"
     ]
    },
    {
     "name": "stderr",
     "output_type": "stream",
     "text": [
      "2020-04-09 15:31:59,020 : DEBUG : findfont: score(<Font 'Bookshelf Symbol 7' (Bookshelf Symbol 7.ttf) normal normal book normal>) = 10.05\n"
     ]
    },
    {
     "name": "stderr",
     "output_type": "stream",
     "text": [
      "2020-04-09 15:31:59,020 : DEBUG : findfont: score(<Font '.SF Compact Rounded' (SFCompactRounded.ttf) normal normal 400 normal>) = 10.05\n"
     ]
    },
    {
     "name": "stderr",
     "output_type": "stream",
     "text": [
      "2020-04-09 15:31:59,021 : DEBUG : findfont: score(<Font 'Thonburi' (Thonburi.ttc) normal normal 400 normal>) = 10.05\n"
     ]
    },
    {
     "name": "stderr",
     "output_type": "stream",
     "text": [
      "2020-04-09 15:31:59,021 : DEBUG : findfont: score(<Font 'Noto Sans Imperial Aramaic' (NotoSansImperialAramaic-Regular.ttf) normal normal regular normal>) = 10.05\n"
     ]
    },
    {
     "name": "stderr",
     "output_type": "stream",
     "text": [
      "2020-04-09 15:31:59,022 : DEBUG : findfont: score(<Font 'Oriya MN' (Oriya MN.ttc) normal normal 400 normal>) = 10.05\n"
     ]
    },
    {
     "name": "stderr",
     "output_type": "stream",
     "text": [
      "2020-04-09 15:31:59,022 : DEBUG : findfont: score(<Font '.SF NS Mono' (SFNSMonoItalic.ttf) italic normal light normal>) = 11.24\n"
     ]
    },
    {
     "name": "stderr",
     "output_type": "stream",
     "text": [
      "2020-04-09 15:31:59,023 : DEBUG : findfont: score(<Font '.New York' (NewYork.ttf) normal normal 400 normal>) = 10.05\n"
     ]
    },
    {
     "name": "stderr",
     "output_type": "stream",
     "text": [
      "2020-04-09 15:31:59,023 : DEBUG : findfont: score(<Font 'Luxi Serif' (luxirri.ttf) oblique normal 400 normal>) = 11.05\n"
     ]
    },
    {
     "name": "stderr",
     "output_type": "stream",
     "text": [
      "2020-04-09 15:31:59,023 : DEBUG : findfont: score(<Font 'Kozuka Mincho Pro' (KozMinPro-Light.otf) normal normal 400 normal>) = 10.05\n"
     ]
    },
    {
     "name": "stderr",
     "output_type": "stream",
     "text": [
      "2020-04-09 15:31:59,024 : DEBUG : findfont: score(<Font 'STIXNonUnicode' (STIXNonUniIta.otf) italic normal 400 normal>) = 11.05\n"
     ]
    },
    {
     "name": "stderr",
     "output_type": "stream",
     "text": [
      "2020-04-09 15:31:59,024 : DEBUG : findfont: score(<Font 'Lao Sangam MN' (Lao Sangam MN.ttf) normal normal 400 normal>) = 10.05\n"
     ]
    },
    {
     "name": "stderr",
     "output_type": "stream",
     "text": [
      "2020-04-09 15:31:59,025 : DEBUG : findfont: score(<Font 'Menlo' (Menlo.ttc) normal normal regular normal>) = 10.05\n"
     ]
    },
    {
     "name": "stderr",
     "output_type": "stream",
     "text": [
      "2020-04-09 15:31:59,025 : DEBUG : findfont: score(<Font 'Comic Sans MS' (Comic Sans MS Bold.ttf) normal normal bold normal>) = 10.335\n"
     ]
    },
    {
     "name": "stderr",
     "output_type": "stream",
     "text": [
      "2020-04-09 15:31:59,026 : DEBUG : findfont: score(<Font 'Brush Script MT' (Brush Script.ttf) italic normal 400 normal>) = 11.05\n"
     ]
    },
    {
     "name": "stderr",
     "output_type": "stream",
     "text": [
      "2020-04-09 15:31:59,026 : DEBUG : findfont: score(<Font 'Noto Sans Limbu' (NotoSansLimbu-Regular.ttf) normal normal regular normal>) = 10.05\n"
     ]
    },
    {
     "name": "stderr",
     "output_type": "stream",
     "text": [
      "2020-04-09 15:31:59,027 : DEBUG : findfont: score(<Font 'Courier New' (Courier New.ttf) normal normal 400 normal>) = 10.05\n"
     ]
    },
    {
     "name": "stderr",
     "output_type": "stream",
     "text": [
      "2020-04-09 15:31:59,027 : DEBUG : findfont: score(<Font 'Adobe Kaiti Std' (AdobeKaitiStd-Regular.otf) normal normal 400 normal>) = 10.05\n"
     ]
    },
    {
     "name": "stderr",
     "output_type": "stream",
     "text": [
      "2020-04-09 15:31:59,028 : DEBUG : findfont: score(<Font 'Tiger' (Tiger.ttf) normal normal 400 normal>) = 10.05\n"
     ]
    },
    {
     "name": "stderr",
     "output_type": "stream",
     "text": [
      "2020-04-09 15:31:59,028 : DEBUG : findfont: score(<Font 'Tekton Pro' (TektonPro-Bold.otf) normal normal bold normal>) = 10.335\n"
     ]
    },
    {
     "name": "stderr",
     "output_type": "stream",
     "text": [
      "2020-04-09 15:31:59,029 : DEBUG : findfont: score(<Font 'Adobe Caslon Pro' (ACaslonPro-SemiboldItalic.otf) italic normal semibold normal>) = 11.24\n"
     ]
    },
    {
     "name": "stderr",
     "output_type": "stream",
     "text": [
      "2020-04-09 15:31:59,029 : DEBUG : findfont: score(<Font 'Kozuka Mincho Pr6N' (KozMinPr6N-Regular.otf) normal normal 400 normal>) = 10.05\n"
     ]
    },
    {
     "name": "stderr",
     "output_type": "stream",
     "text": [
      "2020-04-09 15:31:59,030 : DEBUG : findfont: score(<Font 'Franklin Gothic Book' (Franklin Gothic Book.ttf) normal normal book normal>) = 10.05\n"
     ]
    },
    {
     "name": "stderr",
     "output_type": "stream",
     "text": [
      "2020-04-09 15:31:59,030 : DEBUG : findfont: score(<Font 'Euphemia UCAS' (EuphemiaCAS.ttc) normal normal 400 normal>) = 10.05\n"
     ]
    },
    {
     "name": "stderr",
     "output_type": "stream",
     "text": [
      "2020-04-09 15:31:59,031 : DEBUG : findfont: score(<Font 'Calibri' (Calibril.ttf) normal normal light normal>) = 10.24\n"
     ]
    },
    {
     "name": "stderr",
     "output_type": "stream",
     "text": [
      "2020-04-09 15:31:59,031 : DEBUG : findfont: score(<Font 'Zapfino' (Zapfino.ttf) normal normal 400 normal>) = 10.05\n"
     ]
    },
    {
     "name": "stderr",
     "output_type": "stream",
     "text": [
      "2020-04-09 15:31:59,032 : DEBUG : findfont: score(<Font 'Lao MN' (Lao MN.ttc) normal normal 400 normal>) = 10.05\n"
     ]
    },
    {
     "name": "stderr",
     "output_type": "stream",
     "text": [
      "2020-04-09 15:31:59,032 : DEBUG : findfont: score(<Font 'Marion' (Marion.ttc) normal normal regular normal>) = 10.05\n"
     ]
    },
    {
     "name": "stderr",
     "output_type": "stream",
     "text": [
      "2020-04-09 15:31:59,033 : DEBUG : findfont: score(<Font 'Adobe Garamond Pro' (AGaramondPro-Regular.otf) normal normal 400 normal>) = 10.05\n"
     ]
    },
    {
     "name": "stderr",
     "output_type": "stream",
     "text": [
      "2020-04-09 15:31:59,033 : DEBUG : findfont: score(<Font 'Kozuka Mincho Pro' (KozMinPro-Heavy.otf) normal normal 700 normal>) = 10.335\n"
     ]
    },
    {
     "name": "stderr",
     "output_type": "stream",
     "text": [
      "2020-04-09 15:31:59,034 : DEBUG : findfont: score(<Font 'Consolas' (Consolas.ttf) normal normal 400 normal>) = 10.05\n"
     ]
    },
    {
     "name": "stderr",
     "output_type": "stream",
     "text": [
      "2020-04-09 15:31:59,034 : DEBUG : findfont: score(<Font 'Noto Sans Mongolian' (NotoSansMongolian-Regular.ttf) normal normal 400 normal>) = 10.05\n"
     ]
    },
    {
     "name": "stderr",
     "output_type": "stream",
     "text": [
      "2020-04-09 15:31:59,035 : DEBUG : findfont: score(<Font 'Serto Jerusalem' (SyrCOMJerusalemBold.otf) normal normal bold normal>) = 10.335\n"
     ]
    },
    {
     "name": "stderr",
     "output_type": "stream",
     "text": [
      "2020-04-09 15:31:59,035 : DEBUG : findfont: score(<Font 'Georgia' (Georgia Italic.ttf) italic normal 400 normal>) = 11.05\n"
     ]
    },
    {
     "name": "stderr",
     "output_type": "stream",
     "text": [
      "2020-04-09 15:31:59,035 : DEBUG : findfont: score(<Font 'Arial' (Arial Bold.ttf) normal normal bold normal>) = 0.33499999999999996\n"
     ]
    },
    {
     "name": "stderr",
     "output_type": "stream",
     "text": [
      "2020-04-09 15:31:59,036 : DEBUG : findfont: score(<Font 'Rockwell' (Rockwell.ttc) normal normal 400 normal>) = 10.05\n"
     ]
    },
    {
     "name": "stderr",
     "output_type": "stream",
     "text": [
      "2020-04-09 15:31:59,036 : DEBUG : findfont: score(<Font 'Hiragino Sans' (ヒラギノ角ゴシック W5.ttc) normal normal 700 normal>) = 10.335\n"
     ]
    },
    {
     "name": "stderr",
     "output_type": "stream",
     "text": [
      "2020-04-09 15:31:59,037 : DEBUG : findfont: score(<Font 'Serto Mardin' (SyrCOMMardinBold.otf) normal normal bold normal>) = 10.335\n"
     ]
    },
    {
     "name": "stderr",
     "output_type": "stream",
     "text": [
      "2020-04-09 15:31:59,037 : DEBUG : findfont: score(<Font 'East Syriac Ctesiphon' (SyrCOMCtesiphon.otf) normal normal 400 normal>) = 10.05\n"
     ]
    },
    {
     "name": "stderr",
     "output_type": "stream",
     "text": [
      "2020-04-09 15:31:59,038 : DEBUG : findfont: score(<Font 'Minion Pro' (MinionPro-It.otf) italic normal 400 normal>) = 11.05\n"
     ]
    },
    {
     "name": "stderr",
     "output_type": "stream",
     "text": [
      "2020-04-09 15:31:59,038 : DEBUG : findfont: score(<Font 'Constantia' (Constantia.ttf) normal normal 400 normal>) = 10.05\n"
     ]
    },
    {
     "name": "stderr",
     "output_type": "stream",
     "text": [
      "2020-04-09 15:31:59,039 : DEBUG : findfont: score(<Font 'Brush Script Std' (BrushScriptStd.otf) normal normal medium normal>) = 10.145\n"
     ]
    },
    {
     "name": "stderr",
     "output_type": "stream",
     "text": [
      "2020-04-09 15:31:59,039 : DEBUG : findfont: score(<Font 'Malayalam Sangam MN' (Malayalam Sangam MN.ttc) normal normal 400 normal>) = 10.05\n"
     ]
    },
    {
     "name": "stderr",
     "output_type": "stream",
     "text": [
      "2020-04-09 15:31:59,040 : DEBUG : findfont: score(<Font 'Meiryo' (Meiryo Bold.ttf) normal normal bold normal>) = 10.335\n"
     ]
    },
    {
     "name": "stderr",
     "output_type": "stream",
     "text": [
      "2020-04-09 15:31:59,040 : DEBUG : findfont: score(<Font 'Noto Sans Bamum' (NotoSansBamum-Regular.ttf) normal normal regular normal>) = 10.05\n"
     ]
    },
    {
     "name": "stderr",
     "output_type": "stream",
     "text": [
      "2020-04-09 15:31:59,041 : DEBUG : findfont: score(<Font 'Bangla Sangam MN' (Bangla Sangam MN.ttc) normal normal 400 normal>) = 10.05\n"
     ]
    },
    {
     "name": "stderr",
     "output_type": "stream",
     "text": [
      "2020-04-09 15:31:59,041 : DEBUG : findfont: score(<Font 'Arial Narrow' (Arial Narrow Bold Italic.ttf) italic normal bold condensed>) = 11.535\n"
     ]
    },
    {
     "name": "stderr",
     "output_type": "stream",
     "text": [
      "2020-04-09 15:31:59,042 : DEBUG : findfont: score(<Font 'Trajan Pro' (TrajanPro-Bold.otf) normal normal bold normal>) = 10.335\n"
     ]
    },
    {
     "name": "stderr",
     "output_type": "stream",
     "text": [
      "2020-04-09 15:31:59,042 : DEBUG : findfont: score(<Font 'Palatino Linotype' (Palatino Linotype Bold Italic.ttf) italic normal bold normal>) = 11.335\n"
     ]
    },
    {
     "name": "stderr",
     "output_type": "stream",
     "text": [
      "2020-04-09 15:31:59,043 : DEBUG : findfont: score(<Font 'Kozuka Gothic Pro' (KozGoPro-Heavy.otf) normal normal 700 normal>) = 10.335\n"
     ]
    },
    {
     "name": "stderr",
     "output_type": "stream",
     "text": [
      "2020-04-09 15:31:59,043 : DEBUG : findfont: score(<Font 'STIXSizeFiveSym' (STIXSizFiveSymReg.otf) normal normal regular normal>) = 10.05\n"
     ]
    },
    {
     "name": "stderr",
     "output_type": "stream",
     "text": [
      "2020-04-09 15:31:59,044 : DEBUG : findfont: score(<Font 'Noto Sans Myanmar' (NotoSansMyanmar.ttc) normal normal black normal>) = 10.525\n"
     ]
    },
    {
     "name": "stderr",
     "output_type": "stream",
     "text": [
      "2020-04-09 15:31:59,044 : DEBUG : findfont: score(<Font 'Muna' (Muna.ttc) normal normal regular normal>) = 10.05\n"
     ]
    },
    {
     "name": "stderr",
     "output_type": "stream",
     "text": [
      "2020-04-09 15:31:59,045 : DEBUG : findfont: score(<Font 'Hack' (Hack-BoldOblique.ttf) oblique normal bold normal>) = 11.335\n"
     ]
    },
    {
     "name": "stderr",
     "output_type": "stream",
     "text": [
      "2020-04-09 15:31:59,045 : DEBUG : findfont: score(<Font 'Cooper Std' (CooperBlackStd.otf) normal normal black normal>) = 10.525\n"
     ]
    },
    {
     "name": "stderr",
     "output_type": "stream",
     "text": [
      "2020-04-09 15:31:59,046 : DEBUG : findfont: score(<Font 'Silom' (Silom.ttf) normal normal 400 normal>) = 10.05\n"
     ]
    },
    {
     "name": "stderr",
     "output_type": "stream",
     "text": [
      "2020-04-09 15:31:59,046 : DEBUG : findfont: score(<Font 'Myriad Pro' (MyriadPro-CondIt.otf) italic normal 400 condensed>) = 11.25\n"
     ]
    },
    {
     "name": "stderr",
     "output_type": "stream",
     "text": [
      "2020-04-09 15:31:59,047 : DEBUG : findfont: score(<Font 'Adobe Caslon Pro' (ACaslonPro-BoldItalic.otf) italic normal bold normal>) = 11.335\n"
     ]
    },
    {
     "name": "stderr",
     "output_type": "stream",
     "text": [
      "2020-04-09 15:31:59,047 : DEBUG : findfont: score(<Font 'Adobe Caslon Pro' (ACaslonPro-Bold.otf) normal normal bold normal>) = 10.335\n"
     ]
    },
    {
     "name": "stderr",
     "output_type": "stream",
     "text": [
      "2020-04-09 15:31:59,048 : DEBUG : findfont: score(<Font 'Courier New' (Courier New Bold Italic.ttf) italic normal bold normal>) = 11.335\n"
     ]
    },
    {
     "name": "stderr",
     "output_type": "stream",
     "text": [
      "2020-04-09 15:31:59,048 : DEBUG : findfont: score(<Font 'Andale Mono' (Andale Mono.ttf) normal normal 400 normal>) = 10.05\n"
     ]
    },
    {
     "name": "stderr",
     "output_type": "stream",
     "text": [
      "2020-04-09 15:31:59,049 : DEBUG : findfont: score(<Font 'Trebuchet MS' (Trebuchet MS Bold.ttf) normal normal bold normal>) = 10.335\n"
     ]
    },
    {
     "name": "stderr",
     "output_type": "stream",
     "text": [
      "2020-04-09 15:31:59,049 : DEBUG : findfont: score(<Font 'Gurmukhi MT' (Gurmukhi.ttf) normal normal 400 normal>) = 10.05\n"
     ]
    },
    {
     "name": "stderr",
     "output_type": "stream",
     "text": [
      "2020-04-09 15:31:59,050 : DEBUG : findfont: score(<Font 'Noto Sans Phoenician' (NotoSansPhoenician-Regular.ttf) normal normal regular normal>) = 10.05\n"
     ]
    },
    {
     "name": "stderr",
     "output_type": "stream",
     "text": [
      "2020-04-09 15:31:59,050 : DEBUG : findfont: score(<Font 'Cambria' (Cambria Bold Italic.ttf) italic normal bold normal>) = 11.335\n"
     ]
    },
    {
     "name": "stderr",
     "output_type": "stream",
     "text": [
      "2020-04-09 15:31:59,050 : DEBUG : findfont: score(<Font 'Myriad Pro' (MyriadPro-It.otf) italic normal 400 normal>) = 11.05\n"
     ]
    },
    {
     "name": "stderr",
     "output_type": "stream",
     "text": [
      "2020-04-09 15:31:59,051 : DEBUG : findfont: score(<Font 'Noto Sans Vai' (NotoSansVai-Regular.ttf) normal normal regular normal>) = 10.05\n"
     ]
    },
    {
     "name": "stderr",
     "output_type": "stream",
     "text": [
      "2020-04-09 15:31:59,051 : DEBUG : findfont: score(<Font 'Myriad Pro' (MyriadPro-Regular.otf) normal normal 400 normal>) = 10.05\n"
     ]
    },
    {
     "name": "stderr",
     "output_type": "stream",
     "text": [
      "2020-04-09 15:31:59,052 : DEBUG : findfont: score(<Font '.SF NS Display Condensed' (SFNSDisplayCondensed-Ultralight.otf) normal normal ultralight condensed>) = 10.535\n"
     ]
    },
    {
     "name": "stderr",
     "output_type": "stream",
     "text": [
      "2020-04-09 15:31:59,052 : DEBUG : findfont: score(<Font 'Kozuka Mincho Pr6N' (KozMinPr6N-Light.otf) normal normal 400 normal>) = 10.05\n"
     ]
    },
    {
     "name": "stderr",
     "output_type": "stream",
     "text": [
      "2020-04-09 15:31:59,053 : DEBUG : findfont: score(<Font 'Arial Hebrew' (ArialHB.ttc) normal normal 400 normal>) = 10.05\n"
     ]
    },
    {
     "name": "stderr",
     "output_type": "stream",
     "text": [
      "2020-04-09 15:31:59,053 : DEBUG : findfont: score(<Font 'New Peninim MT' (NewPeninimMT.ttc) normal normal 400 normal>) = 10.05\n"
     ]
    },
    {
     "name": "stderr",
     "output_type": "stream",
     "text": [
      "2020-04-09 15:31:59,054 : DEBUG : findfont: score(<Font 'Estrangelo Antioch' (SyrCOMAntioch.otf) normal normal 400 normal>) = 10.05\n"
     ]
    },
    {
     "name": "stderr",
     "output_type": "stream",
     "text": [
      "2020-04-09 15:31:59,054 : DEBUG : findfont: score(<Font 'Chaparral Pro' (ChaparralPro-Italic.otf) italic normal 400 normal>) = 11.05\n"
     ]
    },
    {
     "name": "stderr",
     "output_type": "stream",
     "text": [
      "2020-04-09 15:31:59,054 : DEBUG : findfont: score(<Font 'Myriad Pro' (MyriadPro-BoldCondIt.otf) italic normal bold condensed>) = 11.535\n"
     ]
    },
    {
     "name": "stderr",
     "output_type": "stream",
     "text": [
      "2020-04-09 15:31:59,055 : DEBUG : findfont: score(<Font 'Adobe Hebrew' (AdobeHebrew-Regular.otf) normal normal regular normal>) = 10.05\n"
     ]
    },
    {
     "name": "stderr",
     "output_type": "stream",
     "text": [
      "2020-04-09 15:31:59,055 : DEBUG : findfont: score(<Font 'Estrangelo Edessa' (SyrCOMEdessa.otf) normal normal 400 normal>) = 10.05\n"
     ]
    },
    {
     "name": "stderr",
     "output_type": "stream",
     "text": [
      "2020-04-09 15:31:59,056 : DEBUG : findfont: score(<Font 'Kozuka Gothic Pro' (KozGoPro-Bold.otf) normal normal 700 normal>) = 10.335\n"
     ]
    },
    {
     "name": "stderr",
     "output_type": "stream",
     "text": [
      "2020-04-09 15:31:59,056 : DEBUG : findfont: score(<Font 'PMingLiU' (PMingLiU.ttf) normal normal 400 normal>) = 10.05\n"
     ]
    },
    {
     "name": "stderr",
     "output_type": "stream",
     "text": [
      "2020-04-09 15:31:59,057 : DEBUG : findfont: score(<Font 'Gujarati Sangam MN' (Gujarati Sangam MN.ttc) normal normal 400 normal>) = 10.05\n"
     ]
    },
    {
     "name": "stderr",
     "output_type": "stream",
     "text": [
      "2020-04-09 15:31:59,057 : DEBUG : findfont: score(<Font 'Minion Pro' (MinionPro-Bold.otf) normal normal bold normal>) = 10.335\n"
     ]
    },
    {
     "name": "stderr",
     "output_type": "stream",
     "text": [
      "2020-04-09 15:31:59,058 : DEBUG : findfont: score(<Font 'Bradley Hand' (Bradley Hand Bold.ttf) normal normal bold normal>) = 10.335\n"
     ]
    },
    {
     "name": "stderr",
     "output_type": "stream",
     "text": [
      "2020-04-09 15:31:59,058 : DEBUG : findfont: score(<Font 'Marlett' (Marlett.ttf) normal normal 400 normal>) = 10.05\n"
     ]
    },
    {
     "name": "stderr",
     "output_type": "stream",
     "text": [
      "2020-04-09 15:31:59,059 : DEBUG : findfont: score(<Font 'Kozuka Mincho Pro' (KozMinPro-Regular.otf) normal normal 400 normal>) = 10.05\n"
     ]
    },
    {
     "name": "stderr",
     "output_type": "stream",
     "text": [
      "2020-04-09 15:31:59,059 : DEBUG : findfont: score(<Font 'Gill Sans MT' (Gill Sans MT Bold.ttf) normal normal bold normal>) = 10.335\n"
     ]
    },
    {
     "name": "stderr",
     "output_type": "stream",
     "text": [
      "2020-04-09 15:31:59,060 : DEBUG : findfont: score(<Font 'Arial Rounded MT Bold' (Arial Rounded Bold.ttf) normal normal bold normal>) = 10.335\n"
     ]
    },
    {
     "name": "stderr",
     "output_type": "stream",
     "text": [
      "2020-04-09 15:31:59,060 : DEBUG : findfont: score(<Font 'Sathu' (Sathu.ttf) normal normal 400 normal>) = 10.05\n"
     ]
    },
    {
     "name": "stderr",
     "output_type": "stream",
     "text": [
      "2020-04-09 15:31:59,061 : DEBUG : findfont: score(<Font 'Luxi Mono' (luximbi.ttf) oblique normal bold normal>) = 11.335\n"
     ]
    },
    {
     "name": "stderr",
     "output_type": "stream",
     "text": [
      "2020-04-09 15:31:59,061 : DEBUG : findfont: score(<Font 'Minion Pro' (MinionPro-BoldCnIt.otf) italic normal bold condensed>) = 11.535\n"
     ]
    },
    {
     "name": "stderr",
     "output_type": "stream",
     "text": [
      "2020-04-09 15:31:59,062 : DEBUG : findfont: score(<Font 'League Gothic' (LeagueGothic-CondensedItalic.otf) italic normal 400 condensed>) = 11.25\n"
     ]
    },
    {
     "name": "stderr",
     "output_type": "stream",
     "text": [
      "2020-04-09 15:31:59,062 : DEBUG : findfont: score(<Font 'Apple Braille' (Apple Braille Pinpoint 6 Dot.ttf) normal normal 400 normal>) = 10.05\n"
     ]
    },
    {
     "name": "stderr",
     "output_type": "stream",
     "text": [
      "2020-04-09 15:31:59,063 : DEBUG : findfont: score(<Font 'Myriad Pro' (MyriadPro-BoldIt.otf) italic normal bold normal>) = 11.335\n"
     ]
    },
    {
     "name": "stderr",
     "output_type": "stream",
     "text": [
      "2020-04-09 15:31:59,063 : DEBUG : findfont: score(<Font 'Times' (Times.ttc) normal normal roman normal>) = 10.145\n"
     ]
    },
    {
     "name": "stderr",
     "output_type": "stream",
     "text": [
      "2020-04-09 15:31:59,063 : DEBUG : findfont: score(<Font 'Khmer MN' (Khmer MN.ttc) normal normal 400 normal>) = 10.05\n"
     ]
    },
    {
     "name": "stderr",
     "output_type": "stream",
     "text": [
      "2020-04-09 15:31:59,064 : DEBUG : findfont: score(<Font 'AppleGothic' (AppleGothic.ttf) normal normal regular normal>) = 10.05\n"
     ]
    },
    {
     "name": "stderr",
     "output_type": "stream",
     "text": [
      "2020-04-09 15:31:59,064 : DEBUG : findfont: score(<Font 'Luxi Serif' (luxirb.ttf) normal normal bold normal>) = 10.335\n"
     ]
    },
    {
     "name": "stderr",
     "output_type": "stream",
     "text": [
      "2020-04-09 15:31:59,065 : DEBUG : findfont: score(<Font 'Gill Sans MT' (Gill Sans MT Bold Italic.ttf) italic normal bold normal>) = 11.335\n"
     ]
    },
    {
     "name": "stderr",
     "output_type": "stream",
     "text": [
      "2020-04-09 15:31:59,065 : DEBUG : findfont: score(<Font 'Letter Gothic Std' (LetterGothicStd.otf) normal normal medium normal>) = 10.145\n"
     ]
    },
    {
     "name": "stderr",
     "output_type": "stream",
     "text": [
      "2020-04-09 15:31:59,066 : DEBUG : findfont: score(<Font 'Adobe Caslon Pro' (ACaslonPro-Italic.otf) italic normal 400 normal>) = 11.05\n"
     ]
    },
    {
     "name": "stderr",
     "output_type": "stream",
     "text": [
      "2020-04-09 15:31:59,066 : DEBUG : findfont: score(<Font 'Kokonor' (Kokonor.ttf) normal normal regular normal>) = 10.05\n"
     ]
    },
    {
     "name": "stderr",
     "output_type": "stream",
     "text": [
      "2020-04-09 15:31:59,067 : DEBUG : findfont: score(<Font 'Candara' (Candara.ttf) normal normal 400 normal>) = 10.05\n"
     ]
    },
    {
     "name": "stderr",
     "output_type": "stream",
     "text": [
      "2020-04-09 15:31:59,067 : DEBUG : findfont: score(<Font 'Noto Sans Oriya' (NotoSansOriya.ttc) normal normal 400 normal>) = 10.05\n"
     ]
    },
    {
     "name": "stderr",
     "output_type": "stream",
     "text": [
      "2020-04-09 15:31:59,068 : DEBUG : findfont: score(<Font 'Nadeem' (Nadeem.ttc) normal normal regular normal>) = 10.05\n"
     ]
    },
    {
     "name": "stderr",
     "output_type": "stream",
     "text": [
      "2020-04-09 15:31:59,068 : DEBUG : findfont: score(<Font 'Microsoft Tai Le' (TaiLeb.ttf) normal normal bold normal>) = 10.335\n"
     ]
    },
    {
     "name": "stderr",
     "output_type": "stream",
     "text": [
      "2020-04-09 15:31:59,069 : DEBUG : findfont: score(<Font 'Hiragino Mincho ProN' (ヒラギノ明朝 ProN.ttc) normal normal 400 normal>) = 10.05\n"
     ]
    },
    {
     "name": "stderr",
     "output_type": "stream",
     "text": [
      "2020-04-09 15:31:59,069 : DEBUG : findfont: score(<Font 'Verdana' (Verdana Bold Italic.ttf) italic normal bold normal>) = 11.335\n"
     ]
    },
    {
     "name": "stderr",
     "output_type": "stream",
     "text": [
      "2020-04-09 15:31:59,070 : DEBUG : findfont: score(<Font 'Noto Sans Syloti Nagri' (NotoSansSylotiNagri-Regular.ttf) normal normal regular normal>) = 10.05\n"
     ]
    },
    {
     "name": "stderr",
     "output_type": "stream",
     "text": [
      "2020-04-09 15:31:59,070 : DEBUG : findfont: score(<Font 'Khmer Sangam MN' (Khmer Sangam MN.ttf) normal normal 400 normal>) = 10.05\n"
     ]
    },
    {
     "name": "stderr",
     "output_type": "stream",
     "text": [
      "2020-04-09 15:31:59,071 : DEBUG : findfont: score(<Font 'Hoefler Text' (Hoefler Text.ttc) normal normal 400 normal>) = 10.05\n"
     ]
    },
    {
     "name": "stderr",
     "output_type": "stream",
     "text": [
      "2020-04-09 15:31:59,071 : DEBUG : findfont: score(<Font 'Kozuka Gothic Pr6N' (KozGoPr6N-Medium.otf) normal normal 400 normal>) = 10.05\n"
     ]
    },
    {
     "name": "stderr",
     "output_type": "stream",
     "text": [
      "2020-04-09 15:31:59,072 : DEBUG : findfont: score(<Font 'Letter Gothic Std' (LetterGothicStd-Slanted.otf) italic normal 400 normal>) = 11.05\n"
     ]
    },
    {
     "name": "stderr",
     "output_type": "stream",
     "text": [
      "2020-04-09 15:31:59,073 : DEBUG : findfont: score(<Font 'Copperplate' (Copperplate.ttc) normal normal 400 normal>) = 10.05\n"
     ]
    },
    {
     "name": "stderr",
     "output_type": "stream",
     "text": [
      "2020-04-09 15:31:59,073 : DEBUG : findfont: score(<Font 'Noto Sans Lepcha' (NotoSansLepcha-Regular.ttf) normal normal regular normal>) = 10.05\n"
     ]
    },
    {
     "name": "stderr",
     "output_type": "stream",
     "text": [
      "2020-04-09 15:31:59,074 : DEBUG : findfont: score(<Font 'Minion Pro' (MinionPro-SemiboldIt.otf) italic normal semibold normal>) = 11.24\n"
     ]
    },
    {
     "name": "stderr",
     "output_type": "stream",
     "text": [
      "2020-04-09 15:31:59,074 : DEBUG : findfont: score(<Font 'Calibri' (Calibri Italic.ttf) italic normal 400 normal>) = 11.05\n"
     ]
    },
    {
     "name": "stderr",
     "output_type": "stream",
     "text": [
      "2020-04-09 15:31:59,074 : DEBUG : findfont: score(<Font 'STIXIntegralsUpSm' (STIXIntUpSmBol.otf) normal normal bold normal>) = 10.335\n"
     ]
    },
    {
     "name": "stderr",
     "output_type": "stream",
     "text": [
      "2020-04-09 15:31:59,075 : DEBUG : findfont: score(<Font 'Geeza Pro' (GeezaPro.ttc) normal normal regular normal>) = 10.05\n"
     ]
    },
    {
     "name": "stderr",
     "output_type": "stream",
     "text": [
      "2020-04-09 15:31:59,075 : DEBUG : findfont: score(<Font 'Damascus' (Damascus.ttc) normal normal regular normal>) = 10.05\n"
     ]
    },
    {
     "name": "stderr",
     "output_type": "stream",
     "text": [
      "2020-04-09 15:31:59,076 : DEBUG : findfont: score(<Font 'League Gothic' (LeagueGothic-Italic.otf) italic normal 400 normal>) = 11.05\n"
     ]
    },
    {
     "name": "stderr",
     "output_type": "stream",
     "text": [
      "2020-04-09 15:31:59,076 : DEBUG : findfont: score(<Font 'Al Nile' (Al Nile.ttc) normal normal 400 normal>) = 10.05\n"
     ]
    },
    {
     "name": "stderr",
     "output_type": "stream",
     "text": [
      "2020-04-09 15:31:59,077 : DEBUG : findfont: score(<Font 'Avenir Next Condensed' (Avenir Next Condensed.ttc) normal normal bold condensed>) = 10.535\n"
     ]
    },
    {
     "name": "stderr",
     "output_type": "stream",
     "text": [
      "2020-04-09 15:31:59,077 : DEBUG : findfont: score(<Font 'Nueva Std' (NuevaStd-BoldCondItalic.otf) italic normal bold condensed>) = 11.535\n"
     ]
    },
    {
     "name": "stderr",
     "output_type": "stream",
     "text": [
      "2020-04-09 15:31:59,078 : DEBUG : findfont: score(<Font 'Songti SC' (Songti.ttc) normal normal black normal>) = 10.525\n"
     ]
    },
    {
     "name": "stderr",
     "output_type": "stream",
     "text": [
      "2020-04-09 15:31:59,078 : DEBUG : findfont: score(<Font 'PT Sans' (PTSans.ttc) normal normal 400 normal>) = 10.05\n"
     ]
    },
    {
     "name": "stderr",
     "output_type": "stream",
     "text": [
      "2020-04-09 15:31:59,079 : DEBUG : findfont: score(<Font 'STIXIntegralsSm' (STIXIntSmReg.otf) normal normal regular normal>) = 10.05\n"
     ]
    },
    {
     "name": "stderr",
     "output_type": "stream",
     "text": [
      "2020-04-09 15:31:59,079 : DEBUG : findfont: score(<Font 'Noto Sans Egyptian Hieroglyphs' (NotoSansEgyptianHieroglyphs-Regular.ttf) normal normal regular normal>) = 10.05\n"
     ]
    },
    {
     "name": "stderr",
     "output_type": "stream",
     "text": [
      "2020-04-09 15:31:59,080 : DEBUG : findfont: score(<Font 'Arial Narrow' (Arial Narrow.ttf) normal normal 400 condensed>) = 10.25\n"
     ]
    },
    {
     "name": "stderr",
     "output_type": "stream",
     "text": [
      "2020-04-09 15:31:59,080 : DEBUG : findfont: score(<Font 'Lithos Pro' (LithosPro-Regular.otf) normal normal 400 normal>) = 10.05\n"
     ]
    },
    {
     "name": "stderr",
     "output_type": "stream",
     "text": [
      "2020-04-09 15:31:59,081 : DEBUG : findfont: score(<Font 'Hiragino Sans' (ヒラギノ角ゴシック W1.ttc) normal normal 400 normal>) = 10.05\n"
     ]
    },
    {
     "name": "stderr",
     "output_type": "stream",
     "text": [
      "2020-04-09 15:31:59,081 : DEBUG : findfont: score(<Font 'Franklin Gothic Medium' (Franklin Gothic Medium.ttf) normal normal medium normal>) = 10.145\n"
     ]
    },
    {
     "name": "stderr",
     "output_type": "stream",
     "text": [
      "2020-04-09 15:31:59,082 : DEBUG : findfont: score(<Font 'Noteworthy' (Noteworthy.ttc) normal normal light normal>) = 10.24\n"
     ]
    },
    {
     "name": "stderr",
     "output_type": "stream",
     "text": [
      "2020-04-09 15:31:59,084 : DEBUG : findfont: score(<Font 'SimHei' (SimHei.ttf) normal normal 400 normal>) = 10.05\n"
     ]
    },
    {
     "name": "stderr",
     "output_type": "stream",
     "text": [
      "2020-04-09 15:31:59,084 : DEBUG : findfont: score(<Font '.SF NS Display Condensed' (SFNSDisplayCondensed-Thin.otf) normal normal 400 condensed>) = 10.25\n"
     ]
    },
    {
     "name": "stderr",
     "output_type": "stream",
     "text": [
      "2020-04-09 15:31:59,085 : DEBUG : findfont: score(<Font 'Goha-Tibeb Zemen' (GohaTibebZemen.ttf) normal normal 400 normal>) = 10.05\n"
     ]
    },
    {
     "name": "stderr",
     "output_type": "stream",
     "text": [
      "2020-04-09 15:31:59,085 : DEBUG : findfont: score(<Font 'Chaparral Pro' (ChaparralPro-BoldIt.otf) italic normal bold normal>) = 11.335\n"
     ]
    },
    {
     "name": "stderr",
     "output_type": "stream",
     "text": [
      "2020-04-09 15:31:59,086 : DEBUG : findfont: score(<Font 'Constantia' (Constantia Bold.ttf) normal normal bold normal>) = 10.335\n"
     ]
    },
    {
     "name": "stderr",
     "output_type": "stream",
     "text": [
      "2020-04-09 15:31:59,086 : DEBUG : findfont: score(<Font 'Kohinoor Gujarati' (KohinoorGujarati.ttc) normal normal bold normal>) = 10.335\n"
     ]
    },
    {
     "name": "stderr",
     "output_type": "stream",
     "text": [
      "2020-04-09 15:31:59,087 : DEBUG : findfont: score(<Font 'Zapf Dingbats' (ZapfDingbats.ttf) normal normal 400 normal>) = 10.05\n"
     ]
    },
    {
     "name": "stderr",
     "output_type": "stream",
     "text": [
      "2020-04-09 15:31:59,087 : DEBUG : findfont: score(<Font 'Ayuthaya' (Ayuthaya.ttf) normal normal 400 normal>) = 10.05\n"
     ]
    },
    {
     "name": "stderr",
     "output_type": "stream",
     "text": [
      "2020-04-09 15:31:59,088 : DEBUG : findfont: score(<Font 'Noto Sans Javanese' (NotoSansJavanese-Regular.otf) normal normal regular normal>) = 10.05\n"
     ]
    },
    {
     "name": "stderr",
     "output_type": "stream",
     "text": [
      "2020-04-09 15:31:59,088 : DEBUG : findfont: score(<Font 'Phosphate' (Phosphate.ttc) normal normal 400 normal>) = 10.05\n"
     ]
    },
    {
     "name": "stderr",
     "output_type": "stream",
     "text": [
      "2020-04-09 15:31:59,088 : DEBUG : findfont: score(<Font 'Times New Roman' (Times New Roman Italic.ttf) italic normal roman normal>) = 11.145\n"
     ]
    },
    {
     "name": "stderr",
     "output_type": "stream",
     "text": [
      "2020-04-09 15:31:59,089 : DEBUG : findfont: score(<Font 'STIXGeneral' (STIXGeneralBolIta.otf) italic normal bold normal>) = 11.335\n"
     ]
    },
    {
     "name": "stderr",
     "output_type": "stream",
     "text": [
      "2020-04-09 15:31:59,089 : DEBUG : findfont: score(<Font 'Prestige Elite Std' (PrestigeEliteStd-Bd.otf) normal normal bold normal>) = 10.335\n"
     ]
    },
    {
     "name": "stderr",
     "output_type": "stream",
     "text": [
      "2020-04-09 15:31:59,090 : DEBUG : findfont: score(<Font 'Athelas' (Athelas.ttc) normal normal regular normal>) = 10.05\n"
     ]
    },
    {
     "name": "stderr",
     "output_type": "stream",
     "text": [
      "2020-04-09 15:31:59,090 : DEBUG : findfont: score(<Font 'Hiragino Sans' (ヒラギノ角ゴシック W9.ttc) normal normal 700 normal>) = 10.335\n"
     ]
    },
    {
     "name": "stderr",
     "output_type": "stream",
     "text": [
      "2020-04-09 15:31:59,091 : DEBUG : findfont: score(<Font 'Apple Chancery' (Apple Chancery.ttf) normal normal 400 normal>) = 10.05\n"
     ]
    },
    {
     "name": "stderr",
     "output_type": "stream",
     "text": [
      "2020-04-09 15:31:59,091 : DEBUG : findfont: score(<Font 'Estrangelo Nisibin Outline' (SyrCOMNisibinOutline.otf) normal normal 400 normal>) = 10.05\n"
     ]
    },
    {
     "name": "stderr",
     "output_type": "stream",
     "text": [
      "2020-04-09 15:31:59,092 : DEBUG : findfont: score(<Font 'STIXNonUnicode' (STIXNonUniBolIta.otf) italic normal bold normal>) = 11.335\n"
     ]
    },
    {
     "name": "stderr",
     "output_type": "stream",
     "text": [
      "2020-04-09 15:31:59,092 : DEBUG : findfont: score(<Font 'Candara' (Candara Bold Italic.ttf) italic normal bold normal>) = 11.335\n"
     ]
    },
    {
     "name": "stderr",
     "output_type": "stream",
     "text": [
      "2020-04-09 15:31:59,092 : DEBUG : findfont: score(<Font 'Luxi Serif' (luxirr.ttf) normal normal regular normal>) = 10.05\n"
     ]
    },
    {
     "name": "stderr",
     "output_type": "stream",
     "text": [
      "2020-04-09 15:31:59,093 : DEBUG : findfont: score(<Font 'Noto Sans Chakma' (NotoSansChakma-Regular.ttf) normal normal regular normal>) = 10.05\n"
     ]
    },
    {
     "name": "stderr",
     "output_type": "stream",
     "text": [
      "2020-04-09 15:31:59,093 : DEBUG : findfont: score(<Font 'Seravek' (Seravek.ttc) normal normal 400 normal>) = 10.05\n"
     ]
    },
    {
     "name": "stderr",
     "output_type": "stream",
     "text": [
      "2020-04-09 15:31:59,094 : DEBUG : findfont: score(<Font 'STIXGeneral' (STIXGeneralItalic.otf) italic normal 400 normal>) = 11.05\n"
     ]
    },
    {
     "name": "stderr",
     "output_type": "stream",
     "text": [
      "2020-04-09 15:31:59,094 : DEBUG : findfont: score(<Font 'Noto Sans Rejang' (NotoSansRejang-Regular.ttf) normal normal regular normal>) = 10.05\n"
     ]
    },
    {
     "name": "stderr",
     "output_type": "stream",
     "text": [
      "2020-04-09 15:31:59,095 : DEBUG : findfont: score(<Font 'Font Awesome 5 Brands' (Font Awesome 5 Brands-Regular-400.otf) normal normal regular normal>) = 10.05\n"
     ]
    },
    {
     "name": "stderr",
     "output_type": "stream",
     "text": [
      "2020-04-09 15:31:59,095 : DEBUG : findfont: score(<Font 'Noto Sans Meetei Mayek' (NotoSansMeeteiMayek-Regular.ttf) normal normal regular normal>) = 10.05\n"
     ]
    },
    {
     "name": "stderr",
     "output_type": "stream",
     "text": [
      "2020-04-09 15:31:59,095 : DEBUG : findfont: score(<Font 'Georgia' (Georgia Bold Italic.ttf) italic normal bold normal>) = 11.335\n"
     ]
    },
    {
     "name": "stderr",
     "output_type": "stream",
     "text": [
      "2020-04-09 15:31:59,096 : DEBUG : findfont: score(<Font 'Snell Roundhand' (SnellRoundhand.ttc) normal normal 400 normal>) = 10.05\n"
     ]
    },
    {
     "name": "stderr",
     "output_type": "stream",
     "text": [
      "2020-04-09 15:31:59,096 : DEBUG : findfont: score(<Font 'STIXSizeThreeSym' (STIXSizThreeSymBol.otf) normal normal bold normal>) = 10.335\n"
     ]
    },
    {
     "name": "stderr",
     "output_type": "stream",
     "text": [
      "2020-04-09 15:31:59,097 : DEBUG : findfont: score(<Font 'Cambria Math' (Cambria Math.ttf) normal normal 400 normal>) = 10.05\n"
     ]
    },
    {
     "name": "stderr",
     "output_type": "stream",
     "text": [
      "2020-04-09 15:31:59,097 : DEBUG : findfont: score(<Font 'Telugu Sangam MN' (Telugu Sangam MN.ttc) normal normal 400 normal>) = 10.05\n"
     ]
    },
    {
     "name": "stderr",
     "output_type": "stream",
     "text": [
      "2020-04-09 15:31:59,098 : DEBUG : findfont: score(<Font 'American Typewriter' (AmericanTypewriter.ttc) normal normal 400 normal>) = 10.05\n"
     ]
    },
    {
     "name": "stderr",
     "output_type": "stream",
     "text": [
      "2020-04-09 15:31:59,098 : DEBUG : findfont: score(<Font 'Kozuka Mincho Pr6N' (KozMinPr6N-Heavy.otf) normal normal 700 normal>) = 10.335\n"
     ]
    },
    {
     "name": "stderr",
     "output_type": "stream",
     "text": [
      "2020-04-09 15:31:59,099 : DEBUG : findfont: score(<Font 'Noto Sans Old Italic' (NotoSansOldItalic-Regular.ttf) italic normal regular normal>) = 11.05\n"
     ]
    },
    {
     "name": "stderr",
     "output_type": "stream",
     "text": [
      "2020-04-09 15:31:59,099 : DEBUG : findfont: score(<Font 'Nueva Std' (NuevaStd-BoldCond.otf) normal normal bold condensed>) = 10.535\n"
     ]
    },
    {
     "name": "stderr",
     "output_type": "stream",
     "text": [
      "2020-04-09 15:31:59,100 : DEBUG : findfont: score(<Font 'Myriad Pro' (MyriadPro-Semibold.otf) normal normal semibold normal>) = 10.24\n"
     ]
    },
    {
     "name": "stderr",
     "output_type": "stream",
     "text": [
      "2020-04-09 15:31:59,100 : DEBUG : findfont: score(<Font 'Mesquite Std' (MesquiteStd.otf) normal normal medium normal>) = 10.145\n"
     ]
    },
    {
     "name": "stderr",
     "output_type": "stream",
     "text": [
      "2020-04-09 15:31:59,101 : DEBUG : findfont: score(<Font 'Myriad Pro' (MyriadPro-SemiboldIt.otf) italic normal semibold normal>) = 11.24\n"
     ]
    },
    {
     "name": "stderr",
     "output_type": "stream",
     "text": [
      "2020-04-09 15:31:59,101 : DEBUG : findfont: score(<Font 'Noto Sans Cypriot' (NotoSansCypriot-Regular.ttf) normal normal regular normal>) = 10.05\n"
     ]
    },
    {
     "name": "stderr",
     "output_type": "stream",
     "text": [
      "2020-04-09 15:31:59,102 : DEBUG : findfont: score(<Font 'Bodoni 72 Smallcaps' (Bodoni 72 Smallcaps Book.ttf) normal normal book normal>) = 10.05\n"
     ]
    },
    {
     "name": "stderr",
     "output_type": "stream",
     "text": [
      "2020-04-09 15:31:59,102 : DEBUG : findfont: score(<Font 'Microsoft Himalaya' (himalaya.ttf) normal normal 400 normal>) = 10.05\n"
     ]
    },
    {
     "name": "stderr",
     "output_type": "stream",
     "text": [
      "2020-04-09 15:31:59,103 : DEBUG : findfont: score(<Font 'Bangla MN' (Bangla MN.ttc) normal normal 400 normal>) = 10.05\n"
     ]
    },
    {
     "name": "stderr",
     "output_type": "stream",
     "text": [
      "2020-04-09 15:31:59,103 : DEBUG : findfont: score(<Font '.SF NS Text Condensed' (SFNSTextCondensed-Light.otf) normal normal light condensed>) = 10.44\n"
     ]
    },
    {
     "name": "stderr",
     "output_type": "stream",
     "text": [
      "2020-04-09 15:31:59,104 : DEBUG : findfont: score(<Font 'Adobe Arabic' (AdobeArabic-Italic.otf) italic normal 400 normal>) = 11.05\n"
     ]
    },
    {
     "name": "stderr",
     "output_type": "stream",
     "text": [
      "2020-04-09 15:31:59,104 : DEBUG : findfont: score(<Font 'Noto Sans Saurashtra' (NotoSansSaurashtra-Regular.ttf) normal normal regular normal>) = 10.05\n"
     ]
    },
    {
     "name": "stderr",
     "output_type": "stream",
     "text": [
      "2020-04-09 15:31:59,104 : DEBUG : findfont: score(<Font 'Myanmar Sangam MN' (Myanmar Sangam MN.ttc) normal normal 400 normal>) = 10.05\n"
     ]
    },
    {
     "name": "stderr",
     "output_type": "stream",
     "text": [
      "2020-04-09 15:31:59,105 : DEBUG : findfont: score(<Font 'Adobe Myungjo Std' (AdobeMyungjoStd-Medium.otf) normal normal 400 normal>) = 10.05\n"
     ]
    },
    {
     "name": "stderr",
     "output_type": "stream",
     "text": [
      "2020-04-09 15:31:59,105 : DEBUG : findfont: score(<Font 'MT Extra Tiger' (Mt Extra Tiger.ttf) normal normal 400 normal>) = 10.05\n"
     ]
    },
    {
     "name": "stderr",
     "output_type": "stream",
     "text": [
      "2020-04-09 15:31:59,106 : DEBUG : findfont: score(<Font 'Mishafi Gold' (Mishafi Gold.ttf) normal normal regular normal>) = 10.05\n"
     ]
    },
    {
     "name": "stderr",
     "output_type": "stream",
     "text": [
      "2020-04-09 15:31:59,106 : DEBUG : findfont: score(<Font 'Mishafi' (Mishafi.ttf) normal normal regular normal>) = 10.05\n"
     ]
    },
    {
     "name": "stderr",
     "output_type": "stream",
     "text": [
      "2020-04-09 15:31:59,107 : DEBUG : findfont: score(<Font 'Gurmukhi MN' (Gurmukhi MN.ttc) normal normal 400 normal>) = 10.05\n"
     ]
    },
    {
     "name": "stderr",
     "output_type": "stream",
     "text": [
      "2020-04-09 15:31:59,107 : DEBUG : findfont: score(<Font 'Chaparral Pro' (ChaparralPro-Bold.otf) normal normal bold normal>) = 10.335\n"
     ]
    },
    {
     "name": "stderr",
     "output_type": "stream",
     "text": [
      "2020-04-09 15:31:59,108 : DEBUG : findfont: score(<Font 'Nueva Std' (NuevaStd-Cond.otf) normal normal 400 condensed>) = 10.25\n"
     ]
    },
    {
     "name": "stderr",
     "output_type": "stream",
     "text": [
      "2020-04-09 15:31:59,108 : DEBUG : findfont: score(<Font 'Luxi Mono' (luximr.ttf) normal normal regular normal>) = 10.05\n"
     ]
    },
    {
     "name": "stderr",
     "output_type": "stream",
     "text": [
      "2020-04-09 15:31:59,109 : DEBUG : findfont: score(<Font 'Palatino' (Palatino.ttc) normal normal 400 normal>) = 10.05\n"
     ]
    },
    {
     "name": "stderr",
     "output_type": "stream",
     "text": [
      "2020-04-09 15:31:59,109 : DEBUG : findfont: score(<Font 'Kozuka Gothic Pr6N' (KozGoPr6N-Regular.otf) normal normal 400 normal>) = 10.05\n"
     ]
    },
    {
     "name": "stderr",
     "output_type": "stream",
     "text": [
      "2020-04-09 15:31:59,110 : DEBUG : findfont: score(<Font 'Malayalam MN' (Malayalam MN.ttc) normal normal 400 normal>) = 10.05\n"
     ]
    },
    {
     "name": "stderr",
     "output_type": "stream",
     "text": [
      "2020-04-09 15:31:59,110 : DEBUG : findfont: score(<Font 'Hack' (Hack-Regular.ttf) normal normal 400 normal>) = 10.05\n"
     ]
    },
    {
     "name": "stderr",
     "output_type": "stream",
     "text": [
      "2020-04-09 15:31:59,111 : DEBUG : findfont: score(<Font 'Myriad Pro' (MyriadPro-Cond.otf) normal normal 400 condensed>) = 10.25\n"
     ]
    },
    {
     "name": "stderr",
     "output_type": "stream",
     "text": [
      "2020-04-09 15:31:59,111 : DEBUG : findfont: score(<Font 'Telugu MN' (Telugu MN.ttc) normal normal 400 normal>) = 10.05\n"
     ]
    },
    {
     "name": "stderr",
     "output_type": "stream",
     "text": [
      "2020-04-09 15:31:59,112 : DEBUG : findfont: score(<Font 'Noto Sans Tagbanwa' (NotoSansTagbanwa-Regular.ttf) normal normal regular normal>) = 10.05\n"
     ]
    },
    {
     "name": "stderr",
     "output_type": "stream",
     "text": [
      "2020-04-09 15:31:59,112 : DEBUG : findfont: score(<Font 'Noto Sans Thaana' (NotoSansThaana-Regular.ttf) normal normal regular normal>) = 10.05\n"
     ]
    },
    {
     "name": "stderr",
     "output_type": "stream",
     "text": [
      "2020-04-09 15:31:59,112 : DEBUG : findfont: score(<Font 'SimSun' (SimSun.ttf) normal normal 400 normal>) = 10.05\n"
     ]
    },
    {
     "name": "stderr",
     "output_type": "stream",
     "text": [
      "2020-04-09 15:31:59,113 : DEBUG : findfont: score(<Font 'Cambria' (Cambria Bold.ttf) normal normal bold normal>) = 10.335\n"
     ]
    },
    {
     "name": "stderr",
     "output_type": "stream",
     "text": [
      "2020-04-09 15:31:59,113 : DEBUG : findfont: score(<Font 'Corsiva Hebrew' (Corsiva.ttc) normal normal 400 normal>) = 10.05\n"
     ]
    },
    {
     "name": "stderr",
     "output_type": "stream",
     "text": [
      "2020-04-09 15:31:59,114 : DEBUG : findfont: score(<Font 'Noto Sans Mandaic' (NotoSansMandaic-Regular.ttf) normal normal regular normal>) = 10.05\n"
     ]
    },
    {
     "name": "stderr",
     "output_type": "stream",
     "text": [
      "2020-04-09 15:31:59,114 : DEBUG : findfont: score(<Font 'MS Reference Sans Serif' (MS Reference Sans Serif.ttf) normal normal 400 normal>) = 10.05\n"
     ]
    },
    {
     "name": "stderr",
     "output_type": "stream",
     "text": [
      "2020-04-09 15:31:59,115 : DEBUG : findfont: score(<Font '.SF NS Display Condensed' (SFNSDisplayCondensed-Heavy.otf) normal normal heavy condensed>) = 10.629999999999999\n"
     ]
    },
    {
     "name": "stderr",
     "output_type": "stream",
     "text": [
      "2020-04-09 15:31:59,115 : DEBUG : findfont: score(<Font 'PT Serif' (PTSerif.ttc) normal normal 400 normal>) = 10.05\n"
     ]
    },
    {
     "name": "stderr",
     "output_type": "stream",
     "text": [
      "2020-04-09 15:31:59,116 : DEBUG : findfont: score(<Font 'Kozuka Mincho Pro' (KozMinPro-ExtraLight.otf) normal normal 400 normal>) = 10.05\n"
     ]
    },
    {
     "name": "stderr",
     "output_type": "stream",
     "text": [
      "2020-04-09 15:31:59,116 : DEBUG : findfont: score(<Font '.SF NS Text Condensed' (SFNSTextCondensed-Medium.otf) normal normal medium condensed>) = 10.344999999999999\n"
     ]
    },
    {
     "name": "stderr",
     "output_type": "stream",
     "text": [
      "2020-04-09 15:31:59,117 : DEBUG : findfont: score(<Font 'Kozuka Gothic Pro' (KozGoPro-Medium.otf) normal normal 400 normal>) = 10.05\n"
     ]
    },
    {
     "name": "stderr",
     "output_type": "stream",
     "text": [
      "2020-04-09 15:31:59,117 : DEBUG : findfont: score(<Font 'Noto Sans NKo' (NotoSansNKo-Regular.ttf) normal normal regular normal>) = 10.05\n"
     ]
    },
    {
     "name": "stderr",
     "output_type": "stream",
     "text": [
      "2020-04-09 15:31:59,117 : DEBUG : findfont: score(<Font 'Cambria' (Cambria Italic.ttf) italic normal 400 normal>) = 11.05\n"
     ]
    },
    {
     "name": "stderr",
     "output_type": "stream",
     "text": [
      "2020-04-09 15:31:59,118 : DEBUG : findfont: score(<Font 'Mukta Mahee' (MuktaMahee.ttc) normal normal regular normal>) = 10.05\n"
     ]
    },
    {
     "name": "stderr",
     "output_type": "stream",
     "text": [
      "2020-04-09 15:31:59,118 : DEBUG : findfont: score(<Font 'Savoye LET' (Savoye LET.ttc) normal normal 400 normal>) = 10.05\n"
     ]
    },
    {
     "name": "stderr",
     "output_type": "stream",
     "text": [
      "2020-04-09 15:31:59,119 : DEBUG : findfont: score(<Font 'Noto Sans Gothic' (NotoSansGothic-Regular.ttf) normal normal regular normal>) = 10.05\n"
     ]
    },
    {
     "name": "stderr",
     "output_type": "stream",
     "text": [
      "2020-04-09 15:31:59,119 : DEBUG : findfont: score(<Font 'Adobe Arabic' (AdobeArabic-Bold.otf) normal normal bold normal>) = 10.335\n"
     ]
    },
    {
     "name": "stderr",
     "output_type": "stream",
     "text": [
      "2020-04-09 15:31:59,120 : DEBUG : findfont: score(<Font 'Poplar Std' (PoplarStd.otf) normal normal black normal>) = 10.525\n"
     ]
    },
    {
     "name": "stderr",
     "output_type": "stream",
     "text": [
      "2020-04-09 15:31:59,120 : DEBUG : findfont: score(<Font '.New York' (NewYorkItalic.ttf) italic normal 400 normal>) = 11.05\n"
     ]
    },
    {
     "name": "stderr",
     "output_type": "stream",
     "text": [
      "2020-04-09 15:31:59,121 : DEBUG : findfont: score(<Font 'Luxi Mono' (luximb.ttf) normal normal bold normal>) = 10.335\n"
     ]
    },
    {
     "name": "stderr",
     "output_type": "stream",
     "text": [
      "2020-04-09 15:31:59,121 : DEBUG : findfont: score(<Font 'STIXIntegralsD' (STIXIntDReg.otf) normal normal regular normal>) = 10.05\n"
     ]
    },
    {
     "name": "stderr",
     "output_type": "stream",
     "text": [
      "2020-04-09 15:31:59,122 : DEBUG : findfont: score(<Font 'Kohinoor Telugu' (KohinoorTelugu.ttc) normal normal 400 normal>) = 10.05\n"
     ]
    },
    {
     "name": "stderr",
     "output_type": "stream",
     "text": [
      "2020-04-09 15:31:59,122 : DEBUG : findfont: score(<Font 'Noto Sans Linear B' (NotoSansLinearB-Regular.ttf) normal normal regular normal>) = 10.05\n"
     ]
    },
    {
     "name": "stderr",
     "output_type": "stream",
     "text": [
      "2020-04-09 15:31:59,123 : DEBUG : findfont: score(<Font '.SF NS Display Condensed' (SFNSDisplayCondensed-Medium.otf) normal normal medium condensed>) = 10.344999999999999\n"
     ]
    },
    {
     "name": "stderr",
     "output_type": "stream",
     "text": [
      "2020-04-09 15:31:59,123 : DEBUG : findfont: score(<Font 'Hack' (Hack-RegularOblique.ttf) oblique normal 400 normal>) = 11.05\n"
     ]
    },
    {
     "name": "stderr",
     "output_type": "stream",
     "text": [
      "2020-04-09 15:31:59,124 : DEBUG : findfont: score(<Font 'PT Mono' (PTMono.ttc) normal normal bold normal>) = 10.335\n"
     ]
    },
    {
     "name": "stderr",
     "output_type": "stream",
     "text": [
      "2020-04-09 15:31:59,124 : DEBUG : findfont: score(<Font 'Impact' (Impact.ttf) normal normal 400 normal>) = 10.05\n"
     ]
    },
    {
     "name": "stderr",
     "output_type": "stream",
     "text": [
      "2020-04-09 15:31:59,125 : DEBUG : findfont: score(<Font '.Helvetica Neue DeskInterface' (HelveticaNeueDeskInterface.ttc) normal normal regular normal>) = 10.05\n"
     ]
    },
    {
     "name": "stderr",
     "output_type": "stream",
     "text": [
      "2020-04-09 15:31:59,125 : DEBUG : findfont: score(<Font 'AppleMyungjo' (AppleMyungjo.ttf) normal normal regular normal>) = 10.05\n"
     ]
    },
    {
     "name": "stderr",
     "output_type": "stream",
     "text": [
      "2020-04-09 15:31:59,126 : DEBUG : findfont: score(<Font 'MS PMincho' (MS PMincho.ttf) normal normal 400 normal>) = 10.05\n"
     ]
    },
    {
     "name": "stderr",
     "output_type": "stream",
     "text": [
      "2020-04-09 15:31:59,126 : DEBUG : findfont: score(<Font 'Times New Roman' (Times New Roman Bold Italic.ttf) italic normal roman normal>) = 11.145\n"
     ]
    },
    {
     "name": "stderr",
     "output_type": "stream",
     "text": [
      "2020-04-09 15:31:59,127 : DEBUG : findfont: score(<Font 'Apple SD Gothic Neo' (AppleSDGothicNeo.ttc) normal normal regular normal>) = 10.05\n"
     ]
    },
    {
     "name": "stderr",
     "output_type": "stream",
     "text": [
      "2020-04-09 15:31:59,127 : DEBUG : findfont: score(<Font '.SF NS Display Condensed' (SFNSDisplayCondensed-Semibold.otf) normal normal semibold condensed>) = 10.44\n"
     ]
    },
    {
     "name": "stderr",
     "output_type": "stream",
     "text": [
      "2020-04-09 15:31:59,128 : DEBUG : findfont: score(<Font 'Heiti TC' (STHeiti Medium.ttc) normal normal medium normal>) = 10.145\n"
     ]
    },
    {
     "name": "stderr",
     "output_type": "stream",
     "text": [
      "2020-04-09 15:31:59,128 : DEBUG : findfont: score(<Font 'Noto Sans Carian' (NotoSansCarian-Regular.ttf) normal normal regular normal>) = 10.05\n"
     ]
    },
    {
     "name": "stderr",
     "output_type": "stream",
     "text": [
      "2020-04-09 15:31:59,129 : DEBUG : findfont: score(<Font 'Adobe Heiti Std' (AdobeHeitiStd-Regular.otf) normal normal 400 normal>) = 10.05\n"
     ]
    },
    {
     "name": "stderr",
     "output_type": "stream",
     "text": [
      "2020-04-09 15:31:59,129 : DEBUG : findfont: score(<Font 'Comic Sans MS' (Comic Sans MS.ttf) normal normal 400 normal>) = 10.05\n"
     ]
    },
    {
     "name": "stderr",
     "output_type": "stream",
     "text": [
      "2020-04-09 15:31:59,129 : DEBUG : findfont: score(<Font 'System Font' (SFNSItalic.ttf) italic normal regular normal>) = 11.05\n"
     ]
    },
    {
     "name": "stderr",
     "output_type": "stream",
     "text": [
      "2020-04-09 15:31:59,130 : DEBUG : findfont: score(<Font 'Noto Sans Inscriptional Parthian' (NotoSansInscriptionalParthian-Regular.ttf) normal normal regular normal>) = 10.05\n"
     ]
    },
    {
     "name": "stderr",
     "output_type": "stream",
     "text": [
      "2020-04-09 15:31:59,130 : DEBUG : findfont: score(<Font 'Arial' (Arial Italic.ttf) italic normal 400 normal>) = 1.05\n"
     ]
    },
    {
     "name": "stderr",
     "output_type": "stream",
     "text": [
      "2020-04-09 15:31:59,131 : DEBUG : findfont: score(<Font 'Luxi Sans' (luxisb.ttf) normal normal bold normal>) = 10.335\n"
     ]
    },
    {
     "name": "stderr",
     "output_type": "stream",
     "text": [
      "2020-04-09 15:31:59,131 : DEBUG : findfont: score(<Font 'PT Serif Caption' (PTSerifCaption.ttc) normal normal 400 normal>) = 10.05\n"
     ]
    },
    {
     "name": "stderr",
     "output_type": "stream",
     "text": [
      "2020-04-09 15:31:59,132 : DEBUG : findfont: score(<Font 'Lucida Grande' (LucidaGrande.ttc) normal normal 400 normal>) = 10.05\n"
     ]
    },
    {
     "name": "stderr",
     "output_type": "stream",
     "text": [
      "2020-04-09 15:31:59,132 : DEBUG : findfont: score(<Font 'STIXIntegralsSm' (STIXIntSmBol.otf) normal normal bold normal>) = 10.335\n"
     ]
    },
    {
     "name": "stderr",
     "output_type": "stream",
     "text": [
      "2020-04-09 15:31:59,133 : DEBUG : findfont: score(<Font 'Herculanum' (Herculanum.ttf) normal normal 400 normal>) = 10.05\n"
     ]
    },
    {
     "name": "stderr",
     "output_type": "stream",
     "text": [
      "2020-04-09 15:31:59,133 : DEBUG : findfont: score(<Font 'Serto Batnan' (SyrCOMBatnan.otf) normal normal 400 normal>) = 10.05\n"
     ]
    },
    {
     "name": "stderr",
     "output_type": "stream",
     "text": [
      "2020-04-09 15:31:59,134 : DEBUG : findfont: score(<Font 'Superclarendon' (SuperClarendon.ttc) normal normal regular normal>) = 10.05\n"
     ]
    },
    {
     "name": "stderr",
     "output_type": "stream",
     "text": [
      "2020-04-09 15:31:59,134 : DEBUG : findfont: score(<Font 'Noto Sans Old South Arabian' (NotoSansOldSouthArabian-Regular.ttf) normal normal regular normal>) = 10.05\n"
     ]
    },
    {
     "name": "stderr",
     "output_type": "stream",
     "text": [
      "2020-04-09 15:31:59,135 : DEBUG : findfont: score(<Font 'STIXIntegralsUpD' (STIXIntUpDBol.otf) normal normal bold normal>) = 10.335\n"
     ]
    },
    {
     "name": "stderr",
     "output_type": "stream",
     "text": [
      "2020-04-09 15:31:59,135 : DEBUG : findfont: score(<Font 'Microsoft Tai Le' (taile.ttf) normal normal 400 normal>) = 10.05\n"
     ]
    },
    {
     "name": "stderr",
     "output_type": "stream",
     "text": [
      "2020-04-09 15:31:59,136 : DEBUG : findfont: score(<Font 'League Gothic' (LeagueGothic-Regular.otf) normal normal 400 normal>) = 10.05\n"
     ]
    },
    {
     "name": "stderr",
     "output_type": "stream",
     "text": [
      "2020-04-09 15:31:59,136 : DEBUG : findfont: score(<Font 'Noto Sans Kayah Li' (NotoSansKayahLi-Regular.ttf) normal normal regular normal>) = 10.05\n"
     ]
    },
    {
     "name": "stderr",
     "output_type": "stream",
     "text": [
      "2020-04-09 15:31:59,137 : DEBUG : findfont: score(<Font 'Chalkboard SE' (ChalkboardSE.ttc) normal normal light normal>) = 10.24\n"
     ]
    },
    {
     "name": "stderr",
     "output_type": "stream",
     "text": [
      "2020-04-09 15:31:59,137 : DEBUG : findfont: score(<Font 'Letter Gothic Std' (LetterGothicStd-BoldSlanted.otf) italic normal bold normal>) = 11.335\n"
     ]
    },
    {
     "name": "stderr",
     "output_type": "stream",
     "text": [
      "2020-04-09 15:31:59,138 : DEBUG : findfont: score(<Font 'Calibri' (Calibri Bold.ttf) normal normal bold normal>) = 10.335\n"
     ]
    },
    {
     "name": "stderr",
     "output_type": "stream",
     "text": [
      "2020-04-09 15:31:59,138 : DEBUG : findfont: score(<Font 'Mshtakan' (Mshtakan.ttc) normal normal 400 normal>) = 10.05\n"
     ]
    },
    {
     "name": "stderr",
     "output_type": "stream",
     "text": [
      "2020-04-09 15:31:59,139 : DEBUG : findfont: score(<Font 'SignPainter' (SignPainter.ttc) normal normal 400 normal>) = 10.05\n"
     ]
    },
    {
     "name": "stderr",
     "output_type": "stream",
     "text": [
      "2020-04-09 15:31:59,139 : DEBUG : findfont: score(<Font 'Arial' (Arial Bold Italic.ttf) italic normal bold normal>) = 1.335\n"
     ]
    },
    {
     "name": "stderr",
     "output_type": "stream",
     "text": [
      "2020-04-09 15:31:59,139 : DEBUG : findfont: score(<Font 'Giddyup Std' (GiddyupStd.otf) normal normal 400 normal>) = 10.05\n"
     ]
    },
    {
     "name": "stderr",
     "output_type": "stream",
     "text": [
      "2020-04-09 15:31:59,140 : DEBUG : findfont: score(<Font 'MingLiU-ExtB' (MingLiU-ExtB.ttf) normal normal 400 normal>) = 10.05\n"
     ]
    },
    {
     "name": "stderr",
     "output_type": "stream",
     "text": [
      "2020-04-09 15:31:59,140 : DEBUG : findfont: score(<Font 'Corbel' (Corbel Italic.ttf) italic normal 400 normal>) = 11.05\n"
     ]
    },
    {
     "name": "stderr",
     "output_type": "stream",
     "text": [
      "2020-04-09 15:31:59,141 : DEBUG : findfont: score(<Font 'Serto Urhoy' (SyrCOMUrhoy.otf) normal normal 400 normal>) = 10.05\n"
     ]
    },
    {
     "name": "stderr",
     "output_type": "stream",
     "text": [
      "2020-04-09 15:31:59,141 : DEBUG : findfont: score(<Font 'DecoType Naskh' (DecoTypeNaskh.ttc) normal normal regular normal>) = 10.05\n"
     ]
    },
    {
     "name": "stderr",
     "output_type": "stream",
     "text": [
      "2020-04-09 15:31:59,142 : DEBUG : findfont: score(<Font 'Serto Kharput' (SyrCOMKharput.otf) normal normal 400 normal>) = 10.05\n"
     ]
    },
    {
     "name": "stderr",
     "output_type": "stream",
     "text": [
      "2020-04-09 15:31:59,142 : DEBUG : findfont: score(<Font 'Chaparral Pro' (ChaparralPro-Regular.otf) normal normal 400 normal>) = 10.05\n"
     ]
    },
    {
     "name": "stderr",
     "output_type": "stream",
     "text": [
      "2020-04-09 15:31:59,143 : DEBUG : findfont: score(<Font 'Tahoma' (Tahoma Bold.ttf) normal normal bold normal>) = 10.335\n"
     ]
    },
    {
     "name": "stderr",
     "output_type": "stream",
     "text": [
      "2020-04-09 15:31:59,143 : DEBUG : findfont: score(<Font 'Sana' (Sana.ttc) normal normal regular normal>) = 10.05\n"
     ]
    },
    {
     "name": "stderr",
     "output_type": "stream",
     "text": [
      "2020-04-09 15:31:59,144 : DEBUG : findfont: score(<Font 'OCR A Std' (OCRAStd.otf) normal normal 400 normal>) = 10.05\n"
     ]
    },
    {
     "name": "stderr",
     "output_type": "stream",
     "text": [
      "2020-04-09 15:31:59,144 : DEBUG : findfont: score(<Font 'Noto Sans Ogham' (NotoSansOgham-Regular.ttf) normal normal regular normal>) = 10.05\n"
     ]
    },
    {
     "name": "stderr",
     "output_type": "stream",
     "text": [
      "2020-04-09 15:31:59,145 : DEBUG : findfont: score(<Font 'Hiragino Sans' (ヒラギノ角ゴシック W8.ttc) normal normal 700 normal>) = 10.335\n"
     ]
    },
    {
     "name": "stderr",
     "output_type": "stream",
     "text": [
      "2020-04-09 15:31:59,145 : DEBUG : findfont: score(<Font 'Noto Sans Kharoshthi' (NotoSansKharoshthi-Regular.ttf) normal normal regular normal>) = 10.05\n"
     ]
    },
    {
     "name": "stderr",
     "output_type": "stream",
     "text": [
      "2020-04-09 15:31:59,146 : DEBUG : findfont: score(<Font 'Kozuka Mincho Pro' (KozMinPro-Bold.otf) normal normal 700 normal>) = 10.335\n"
     ]
    },
    {
     "name": "stderr",
     "output_type": "stream",
     "text": [
      "2020-04-09 15:31:59,146 : DEBUG : findfont: score(<Font 'Hack' (Hack-Bold.ttf) normal normal bold normal>) = 10.335\n"
     ]
    },
    {
     "name": "stderr",
     "output_type": "stream",
     "text": [
      "2020-04-09 15:31:59,147 : DEBUG : findfont: score(<Font 'Myriad Pro' (MyriadPro-BoldCond.otf) normal normal bold condensed>) = 10.535\n"
     ]
    },
    {
     "name": "stderr",
     "output_type": "stream",
     "text": [
      "2020-04-09 15:31:59,147 : DEBUG : findfont: score(<Font 'Mongolian Baiti' (monbaiti.ttf) normal normal 400 normal>) = 10.05\n"
     ]
    },
    {
     "name": "stderr",
     "output_type": "stream",
     "text": [
      "2020-04-09 15:31:59,148 : DEBUG : findfont: score(<Font 'Tw Cen MT' (Tw Cen MT Bold.ttf) normal normal bold normal>) = 10.335\n"
     ]
    },
    {
     "name": "stderr",
     "output_type": "stream",
     "text": [
      "2020-04-09 15:31:59,148 : DEBUG : findfont: score(<Font 'MS Gothic' (MS Gothic.ttf) normal normal 400 normal>) = 10.05\n"
     ]
    },
    {
     "name": "stderr",
     "output_type": "stream",
     "text": [
      "2020-04-09 15:31:59,149 : DEBUG : findfont: score(<Font 'Noto Sans Cuneiform' (NotoSansCuneiform-Regular.ttf) normal normal regular normal>) = 10.05\n"
     ]
    },
    {
     "name": "stderr",
     "output_type": "stream",
     "text": [
      "2020-04-09 15:31:59,149 : DEBUG : findfont: score(<Font 'Minion Pro' (MinionPro-BoldCn.otf) normal normal bold condensed>) = 10.535\n"
     ]
    },
    {
     "name": "stderr",
     "output_type": "stream",
     "text": [
      "2020-04-09 15:31:59,149 : DEBUG : findfont: score(<Font 'Meiryo' (Meiryo Bold Italic.ttf) italic normal bold normal>) = 11.335\n"
     ]
    },
    {
     "name": "stderr",
     "output_type": "stream",
     "text": [
      "2020-04-09 15:31:59,150 : DEBUG : findfont: score(<Font 'Adobe Garamond Pro' (AGaramondPro-BoldItalic.otf) italic normal bold normal>) = 11.335\n"
     ]
    },
    {
     "name": "stderr",
     "output_type": "stream",
     "text": [
      "2020-04-09 15:31:59,150 : DEBUG : findfont: score(<Font 'Noto Sans Coptic' (NotoSansCoptic-Regular.ttf) normal normal regular normal>) = 10.05\n"
     ]
    },
    {
     "name": "stderr",
     "output_type": "stream",
     "text": [
      "2020-04-09 15:31:59,151 : DEBUG : findfont: score(<Font '.Arabic UI Display' (ArabicUIDisplay.ttc) normal normal black normal>) = 10.525\n"
     ]
    },
    {
     "name": "stderr",
     "output_type": "stream",
     "text": [
      "2020-04-09 15:31:59,151 : DEBUG : findfont: score(<Font 'Microsoft Sans Serif' (Microsoft Sans Serif.ttf) normal normal 400 normal>) = 10.05\n"
     ]
    },
    {
     "name": "stderr",
     "output_type": "stream",
     "text": [
      "2020-04-09 15:31:59,152 : DEBUG : findfont: score(<Font 'Tekton Pro' (TektonPro-BoldCond.otf) normal normal bold condensed>) = 10.535\n"
     ]
    },
    {
     "name": "stderr",
     "output_type": "stream",
     "text": [
      "2020-04-09 15:31:59,152 : DEBUG : findfont: score(<Font 'Skia' (Skia.ttf) normal normal 400 normal>) = 10.05\n"
     ]
    },
    {
     "name": "stderr",
     "output_type": "stream",
     "text": [
      "2020-04-09 15:31:59,153 : DEBUG : findfont: score(<Font 'Calibri' (Calibri Bold Italic.ttf) italic normal bold normal>) = 11.335\n"
     ]
    },
    {
     "name": "stderr",
     "output_type": "stream",
     "text": [
      "2020-04-09 15:31:59,153 : DEBUG : findfont: score(<Font 'Kozuka Gothic Pr6N' (KozGoPr6N-Light.otf) normal normal 400 normal>) = 10.05\n"
     ]
    },
    {
     "name": "stderr",
     "output_type": "stream",
     "text": [
      "2020-04-09 15:31:59,154 : DEBUG : findfont: score(<Font 'Trajan Pro' (TrajanPro-Regular.otf) normal normal 400 normal>) = 10.05\n"
     ]
    },
    {
     "name": "stderr",
     "output_type": "stream",
     "text": [
      "2020-04-09 15:31:59,154 : DEBUG : findfont: score(<Font 'Serto Malankara' (SyrCOMMalankara.otf) normal normal 400 normal>) = 10.05\n"
     ]
    },
    {
     "name": "stderr",
     "output_type": "stream",
     "text": [
      "2020-04-09 15:31:59,155 : DEBUG : findfont: score(<Font 'Symbol' (Symbol.ttf) normal normal 400 normal>) = 10.05\n"
     ]
    },
    {
     "name": "stderr",
     "output_type": "stream",
     "text": [
      "2020-04-09 15:31:59,155 : DEBUG : findfont: score(<Font 'Iowan Old Style' (Iowan Old Style.ttc) normal normal roman normal>) = 10.145\n"
     ]
    },
    {
     "name": "stderr",
     "output_type": "stream",
     "text": [
      "2020-04-09 15:31:59,156 : DEBUG : findfont: score(<Font 'Noto Sans Runic' (NotoSansRunic-Regular.ttf) normal normal regular normal>) = 10.05\n"
     ]
    },
    {
     "name": "stderr",
     "output_type": "stream",
     "text": [
      "2020-04-09 15:31:59,156 : DEBUG : findfont: score(<Font 'STIXVariants' (STIXVarBol.otf) normal normal bold normal>) = 10.335\n"
     ]
    },
    {
     "name": "stderr",
     "output_type": "stream",
     "text": [
      "2020-04-09 15:31:59,157 : DEBUG : findfont: score(<Font 'Gabriola' (Gabriola.ttf) normal normal 400 normal>) = 10.05\n"
     ]
    },
    {
     "name": "stderr",
     "output_type": "stream",
     "text": [
      "2020-04-09 15:31:59,157 : DEBUG : findfont: score(<Font 'ITF Devanagari' (ITFDevanagari.ttc) normal normal book normal>) = 10.05\n"
     ]
    },
    {
     "name": "stderr",
     "output_type": "stream",
     "text": [
      "2020-04-09 15:31:59,158 : DEBUG : findfont: score(<Font 'Tamil MN' (Tamil MN.ttc) normal normal 400 normal>) = 10.05\n"
     ]
    },
    {
     "name": "stderr",
     "output_type": "stream",
     "text": [
      "2020-04-09 15:31:59,158 : DEBUG : findfont: score(<Font 'Sinhala MN' (Sinhala MN.ttc) normal normal 400 normal>) = 10.05\n"
     ]
    },
    {
     "name": "stderr",
     "output_type": "stream",
     "text": [
      "2020-04-09 15:31:59,159 : DEBUG : findfont: score(<Font 'Trebuchet MS' (Trebuchet MS.ttf) normal normal 400 normal>) = 10.05\n"
     ]
    },
    {
     "name": "stderr",
     "output_type": "stream",
     "text": [
      "2020-04-09 15:31:59,159 : DEBUG : findfont: score(<Font 'Hoefler Text' (Hoefler Text Ornaments.ttf) normal normal 400 normal>) = 10.05\n"
     ]
    },
    {
     "name": "stderr",
     "output_type": "stream",
     "text": [
      "2020-04-09 15:31:59,160 : DEBUG : findfont: score(<Font 'STIXSizeOneSym' (STIXSizOneSymReg.otf) normal normal regular normal>) = 10.05\n"
     ]
    },
    {
     "name": "stderr",
     "output_type": "stream",
     "text": [
      "2020-04-09 15:31:59,160 : DEBUG : findfont: score(<Font 'Sinhala Sangam MN' (Sinhala Sangam MN.ttc) normal normal 400 normal>) = 10.05\n"
     ]
    },
    {
     "name": "stderr",
     "output_type": "stream",
     "text": [
      "2020-04-09 15:31:59,161 : DEBUG : findfont: score(<Font 'Meiryo' (Meiryo.ttf) normal normal 400 normal>) = 10.05\n"
     ]
    },
    {
     "name": "stderr",
     "output_type": "stream",
     "text": [
      "2020-04-09 15:31:59,161 : DEBUG : findfont: score(<Font 'MingLiU_HKSCS-ExtB' (MingLiU_HKSCS-ExtB.ttf) normal normal 400 normal>) = 10.05\n"
     ]
    },
    {
     "name": "stderr",
     "output_type": "stream",
     "text": [
      "2020-04-09 15:31:59,162 : DEBUG : findfont: score(<Font 'Devanagari Sangam MN' (Devanagari Sangam MN.ttc) normal normal 400 normal>) = 10.05\n"
     ]
    },
    {
     "name": "stderr",
     "output_type": "stream",
     "text": [
      "2020-04-09 15:31:59,162 : DEBUG : findfont: score(<Font 'Bodoni Ornaments' (Bodoni Ornaments.ttf) normal normal 400 normal>) = 10.05\n"
     ]
    },
    {
     "name": "stderr",
     "output_type": "stream",
     "text": [
      "2020-04-09 15:31:59,163 : DEBUG : findfont: score(<Font 'Noto Sans Ol Chiki' (NotoSansOlChiki-Regular.ttf) normal normal regular normal>) = 10.05\n"
     ]
    },
    {
     "name": "stderr",
     "output_type": "stream",
     "text": [
      "2020-04-09 15:31:59,163 : DEBUG : findfont: score(<Font 'STIXSizeFourSym' (STIXSizFourSymReg.otf) normal normal regular normal>) = 10.05\n"
     ]
    },
    {
     "name": "stderr",
     "output_type": "stream",
     "text": [
      "2020-04-09 15:31:59,164 : DEBUG : findfont: score(<Font 'Noto Sans Hanunoo' (NotoSansHanunoo-Regular.ttf) normal normal regular normal>) = 10.05\n"
     ]
    },
    {
     "name": "stderr",
     "output_type": "stream",
     "text": [
      "2020-04-09 15:31:59,164 : DEBUG : findfont: score(<Font 'STIXIntegralsUpD' (STIXIntUpDReg.otf) normal normal regular normal>) = 10.05\n"
     ]
    },
    {
     "name": "stderr",
     "output_type": "stream",
     "text": [
      "2020-04-09 15:31:59,165 : DEBUG : findfont: score(<Font 'Apple Braille' (Apple Braille.ttf) normal normal 400 normal>) = 10.05\n"
     ]
    },
    {
     "name": "stderr",
     "output_type": "stream",
     "text": [
      "2020-04-09 15:31:59,165 : DEBUG : findfont: score(<Font 'Hiragino Sans GB' (Hiragino Sans GB.ttc) normal normal 400 normal>) = 10.05\n"
     ]
    },
    {
     "name": "stderr",
     "output_type": "stream",
     "text": [
      "2020-04-09 15:31:59,165 : DEBUG : findfont: score(<Font 'Kozuka Gothic Pro' (KozGoPro-Light.otf) normal normal 400 normal>) = 10.05\n"
     ]
    },
    {
     "name": "stderr",
     "output_type": "stream",
     "text": [
      "2020-04-09 15:31:59,166 : DEBUG : findfont: score(<Font 'Raanana' (Raanana.ttc) normal normal 400 normal>) = 10.05\n"
     ]
    },
    {
     "name": "stderr",
     "output_type": "stream",
     "text": [
      "2020-04-09 15:31:59,166 : DEBUG : findfont: score(<Font '.SF NS Text Condensed' (SFNSTextCondensed-Semibold.otf) normal normal semibold condensed>) = 10.44\n"
     ]
    },
    {
     "name": "stderr",
     "output_type": "stream",
     "text": [
      "2020-04-09 15:31:59,167 : DEBUG : findfont: score(<Font 'Kohinoor Devanagari' (Kohinoor.ttc) normal normal regular normal>) = 10.05\n"
     ]
    },
    {
     "name": "stderr",
     "output_type": "stream",
     "text": [
      "2020-04-09 15:31:59,167 : DEBUG : findfont: score(<Font 'Noto Sans Old Persian' (NotoSansOldPersian-Regular.ttf) normal normal regular normal>) = 10.05\n"
     ]
    },
    {
     "name": "stderr",
     "output_type": "stream",
     "text": [
      "2020-04-09 15:31:59,168 : DEBUG : findfont: score(<Font 'Georgia' (Georgia.ttf) normal normal 400 normal>) = 10.05\n"
     ]
    },
    {
     "name": "stderr",
     "output_type": "stream",
     "text": [
      "2020-04-09 15:31:59,168 : DEBUG : findfont: score(<Font 'Noto Sans Lycian' (NotoSansLycian-Regular.ttf) normal normal regular normal>) = 10.05\n"
     ]
    },
    {
     "name": "stderr",
     "output_type": "stream",
     "text": [
      "2020-04-09 15:31:59,169 : DEBUG : findfont: score(<Font '.SF NS Display Condensed' (SFNSDisplayCondensed-Regular.otf) normal normal regular condensed>) = 10.25\n"
     ]
    },
    {
     "name": "stderr",
     "output_type": "stream",
     "text": [
      "2020-04-09 15:31:59,169 : DEBUG : findfont: score(<Font 'Heiti TC' (STHeiti Light.ttc) normal normal light normal>) = 10.24\n"
     ]
    },
    {
     "name": "stderr",
     "output_type": "stream",
     "text": [
      "2020-04-09 15:31:59,170 : DEBUG : findfont: score(<Font 'Cambria' (Cambria.ttf) normal normal 400 normal>) = 10.05\n"
     ]
    },
    {
     "name": "stderr",
     "output_type": "stream",
     "text": [
      "2020-04-09 15:31:59,170 : DEBUG : findfont: score(<Font 'Cochin' (Cochin.ttc) normal normal 400 normal>) = 10.05\n"
     ]
    },
    {
     "name": "stderr",
     "output_type": "stream",
     "text": [
      "2020-04-09 15:31:59,171 : DEBUG : findfont: score(<Font 'Oriya Sangam MN' (Oriya Sangam MN.ttc) normal normal 400 normal>) = 10.05\n"
     ]
    },
    {
     "name": "stderr",
     "output_type": "stream",
     "text": [
      "2020-04-09 15:31:59,171 : DEBUG : findfont: score(<Font 'Noto Sans New Tai Lue' (NotoSansNewTaiLue-Regular.ttf) normal normal regular normal>) = 10.05\n"
     ]
    },
    {
     "name": "stderr",
     "output_type": "stream",
     "text": [
      "2020-04-09 15:31:59,171 : DEBUG : findfont: score(<Font 'Charlemagne Std' (CharlemagneStd-Bold.otf) normal normal bold normal>) = 10.335\n"
     ]
    },
    {
     "name": "stderr",
     "output_type": "stream",
     "text": [
      "2020-04-09 15:31:59,172 : DEBUG : findfont: score(<Font '.Arabic UI Text' (ArabicUIText.ttc) normal normal regular normal>) = 10.05\n"
     ]
    },
    {
     "name": "stderr",
     "output_type": "stream",
     "text": [
      "2020-04-09 15:31:59,172 : DEBUG : findfont: score(<Font 'Noto Nastaliq Urdu' (NotoNastaliq.ttc) normal normal 400 normal>) = 10.05\n"
     ]
    },
    {
     "name": "stderr",
     "output_type": "stream",
     "text": [
      "2020-04-09 15:31:59,173 : DEBUG : findfont: score(<Font 'STIXSizeTwoSym' (STIXSizTwoSymBol.otf) normal normal bold normal>) = 10.335\n"
     ]
    },
    {
     "name": "stderr",
     "output_type": "stream",
     "text": [
      "2020-04-09 15:31:59,173 : DEBUG : findfont: score(<Font 'Al Tarikh' (Al Tarikh.ttc) normal normal regular normal>) = 10.05\n"
     ]
    },
    {
     "name": "stderr",
     "output_type": "stream",
     "text": [
      "2020-04-09 15:31:59,174 : DEBUG : findfont: score(<Font 'Avenir' (Avenir.ttc) normal normal book normal>) = 10.05\n"
     ]
    },
    {
     "name": "stderr",
     "output_type": "stream",
     "text": [
      "2020-04-09 15:31:59,174 : DEBUG : findfont: score(<Font 'Blackoak Std' (BlackoakStd.otf) normal normal black normal>) = 10.525\n"
     ]
    },
    {
     "name": "stderr",
     "output_type": "stream",
     "text": [
      "2020-04-09 15:31:59,175 : DEBUG : findfont: score(<Font 'Lucida Sans Unicode' (Lucida Sans Unicode.ttf) normal normal 400 normal>) = 10.05\n"
     ]
    },
    {
     "name": "stderr",
     "output_type": "stream",
     "text": [
      "2020-04-09 15:31:59,175 : DEBUG : findfont: score(<Font 'Estrangelo Quenneshrin' (SyrCOMQenNeshrin.otf) normal normal 400 normal>) = 10.05\n"
     ]
    },
    {
     "name": "stderr",
     "output_type": "stream",
     "text": [
      "2020-04-09 15:31:59,176 : DEBUG : findfont: score(<Font 'MingLiU' (MingLiU.ttf) normal normal 400 normal>) = 10.05\n"
     ]
    },
    {
     "name": "stderr",
     "output_type": "stream",
     "text": [
      "2020-04-09 15:31:59,176 : DEBUG : findfont: score(<Font 'Luxi Sans' (luxisbi.ttf) oblique normal bold normal>) = 11.335\n"
     ]
    },
    {
     "name": "stderr",
     "output_type": "stream",
     "text": [
      "2020-04-09 15:31:59,177 : DEBUG : findfont: score(<Font 'STIXVariants' (STIXVar.otf) normal normal regular normal>) = 10.05\n"
     ]
    },
    {
     "name": "stderr",
     "output_type": "stream",
     "text": [
      "2020-04-09 15:31:59,177 : DEBUG : findfont: score(<Font 'Perpetua' (Perpetua Bold Italic.ttf) italic normal bold normal>) = 11.335\n"
     ]
    },
    {
     "name": "stderr",
     "output_type": "stream",
     "text": [
      "2020-04-09 15:31:59,178 : DEBUG : findfont: score(<Font 'MS Reference Specialty' (MS Reference Specialty.ttf) normal normal 400 normal>) = 10.05\n"
     ]
    },
    {
     "name": "stderr",
     "output_type": "stream",
     "text": [
      "2020-04-09 15:31:59,178 : DEBUG : findfont: score(<Font 'Noto Sans Avestan' (NotoSansAvestan-Regular.ttf) normal normal regular normal>) = 10.05\n"
     ]
    },
    {
     "name": "stderr",
     "output_type": "stream",
     "text": [
      "2020-04-09 15:31:59,179 : DEBUG : findfont: score(<Font 'SimSun-ExtB' (SimSun-ExtB.ttf) normal normal 400 normal>) = 10.05\n"
     ]
    },
    {
     "name": "stderr",
     "output_type": "stream",
     "text": [
      "2020-04-09 15:31:59,179 : DEBUG : findfont: score(<Font 'Palatino Linotype' (Palatino Linotype Bold.ttf) normal normal bold normal>) = 10.335\n"
     ]
    },
    {
     "name": "stderr",
     "output_type": "stream",
     "text": [
      "2020-04-09 15:31:59,180 : DEBUG : findfont: score(<Font 'MingLiU_HKSCS' (mingliu_hkscs.ttf) normal normal 400 normal>) = 10.05\n"
     ]
    },
    {
     "name": "stderr",
     "output_type": "stream",
     "text": [
      "2020-04-09 15:31:59,180 : DEBUG : findfont: score(<Font 'Rosewood Std' (RosewoodStd-Regular.otf) normal normal 400 normal>) = 10.05\n"
     ]
    },
    {
     "name": "stderr",
     "output_type": "stream",
     "text": [
      "2020-04-09 15:31:59,181 : DEBUG : findfont: score(<Font 'KufiStandardGK' (KufiStandardGK.ttc) normal normal regular normal>) = 10.05\n"
     ]
    },
    {
     "name": "stderr",
     "output_type": "stream",
     "text": [
      "2020-04-09 15:31:59,181 : DEBUG : findfont: score(<Font 'Cooper Std' (CooperBlackStd-Italic.otf) italic normal black normal>) = 11.525\n"
     ]
    },
    {
     "name": "stderr",
     "output_type": "stream",
     "text": [
      "2020-04-09 15:31:59,181 : DEBUG : findfont: score(<Font 'Hiragino Sans' (ヒラギノ角ゴシック W4.ttc) normal normal 400 normal>) = 10.05\n"
     ]
    },
    {
     "name": "stderr",
     "output_type": "stream",
     "text": [
      "2020-04-09 15:31:59,182 : DEBUG : findfont: score(<Font 'STIXIntegralsUp' (STIXIntUpReg.otf) normal normal regular normal>) = 10.05\n"
     ]
    },
    {
     "name": "stderr",
     "output_type": "stream",
     "text": [
      "2020-04-09 15:31:59,182 : DEBUG : findfont: score(<Font 'Al Bayan' (AlBayan.ttc) normal normal 400 normal>) = 10.05\n"
     ]
    },
    {
     "name": "stderr",
     "output_type": "stream",
     "text": [
      "2020-04-09 15:31:59,183 : DEBUG : findfont: score(<Font '.SF NS Text Condensed' (SFNSTextCondensed-Bold.otf) normal normal bold condensed>) = 10.535\n"
     ]
    },
    {
     "name": "stderr",
     "output_type": "stream",
     "text": [
      "2020-04-09 15:31:59,183 : DEBUG : findfont: score(<Font 'Kozuka Gothic Pro' (KozGoPro-Regular.otf) normal normal 400 normal>) = 10.05\n"
     ]
    },
    {
     "name": "stderr",
     "output_type": "stream",
     "text": [
      "2020-04-09 15:31:59,184 : DEBUG : findfont: score(<Font 'Noto Sans Tai Viet' (NotoSansTaiViet-Regular.ttf) normal normal regular normal>) = 10.05\n"
     ]
    },
    {
     "name": "stderr",
     "output_type": "stream",
     "text": [
      "2020-04-09 15:31:59,184 : DEBUG : findfont: score(<Font 'Noto Sans Brahmi' (NotoSansBrahmi-Regular.ttf) normal normal regular normal>) = 10.05\n"
     ]
    },
    {
     "name": "stderr",
     "output_type": "stream",
     "text": [
      "2020-04-09 15:31:59,185 : DEBUG : findfont: score(<Font 'STIXGeneral' (STIXGeneralBol.otf) normal normal bold normal>) = 10.335\n"
     ]
    },
    {
     "name": "stderr",
     "output_type": "stream",
     "text": [
      "2020-04-09 15:31:59,185 : DEBUG : findfont: score(<Font 'Meiryo' (Meiryo Italic.ttf) italic normal 400 normal>) = 11.05\n"
     ]
    },
    {
     "name": "stderr",
     "output_type": "stream",
     "text": [
      "2020-04-09 15:31:59,186 : DEBUG : findfont: score(<Font 'Tamil Sangam MN' (Tamil Sangam MN.ttc) normal normal 400 normal>) = 10.05\n"
     ]
    },
    {
     "name": "stderr",
     "output_type": "stream",
     "text": [
      "2020-04-09 15:31:59,186 : DEBUG : findfont: score(<Font 'Farisi' (Farisi.ttf) normal normal regular normal>) = 10.05\n"
     ]
    },
    {
     "name": "stderr",
     "output_type": "stream",
     "text": [
      "2020-04-09 15:31:59,187 : DEBUG : findfont: score(<Font 'Tw Cen MT' (Tw Cen MT.ttf) normal normal 400 normal>) = 10.05\n"
     ]
    },
    {
     "name": "stderr",
     "output_type": "stream",
     "text": [
      "2020-04-09 15:31:59,187 : DEBUG : findfont: score(<Font 'Trebuchet MS' (Trebuchet MS Italic.ttf) italic normal 400 normal>) = 11.05\n"
     ]
    },
    {
     "name": "stderr",
     "output_type": "stream",
     "text": [
      "2020-04-09 15:31:59,188 : DEBUG : findfont: score(<Font 'Papyrus' (Papyrus.ttc) normal normal 400 condensed>) = 10.25\n"
     ]
    },
    {
     "name": "stderr",
     "output_type": "stream",
     "text": [
      "2020-04-09 15:31:59,188 : DEBUG : findfont: score(<Font 'Perpetua' (Perpetua Bold.ttf) normal normal bold normal>) = 10.335\n"
     ]
    },
    {
     "name": "stderr",
     "output_type": "stream",
     "text": [
      "2020-04-09 15:31:59,189 : DEBUG : findfont: score(<Font 'Adobe Garamond Pro' (AGaramondPro-Italic.otf) italic normal 400 normal>) = 11.05\n"
     ]
    },
    {
     "name": "stderr",
     "output_type": "stream",
     "text": [
      "2020-04-09 15:31:59,189 : DEBUG : findfont: score(<Font 'Font Awesome 5 Free' (Font Awesome 5 Free-Solid-900.otf) normal normal 400 normal>) = 10.05\n"
     ]
    },
    {
     "name": "stderr",
     "output_type": "stream",
     "text": [
      "2020-04-09 15:31:59,189 : DEBUG : findfont: score(<Font 'Serto Batnan' (SyrCOMBatnanBold.otf) normal normal bold normal>) = 10.335\n"
     ]
    },
    {
     "name": "stderr",
     "output_type": "stream",
     "text": [
      "2020-04-09 15:31:59,190 : DEBUG : findfont: score(<Font 'Myriad Pro' (MyriadPro-Bold.otf) normal normal bold normal>) = 10.335\n"
     ]
    },
    {
     "name": "stderr",
     "output_type": "stream",
     "text": [
      "2020-04-09 15:31:59,190 : DEBUG : findfont: score(<Font 'Trattatello' (Trattatello.ttf) normal normal 400 normal>) = 10.05\n"
     ]
    },
    {
     "name": "stderr",
     "output_type": "stream",
     "text": [
      "2020-04-09 15:31:59,191 : DEBUG : findfont: score(<Font 'Apple Braille' (Apple Braille Outline 8 Dot.ttf) normal normal 400 normal>) = 10.05\n"
     ]
    },
    {
     "name": "stderr",
     "output_type": "stream",
     "text": [
      "2020-04-09 15:31:59,191 : DEBUG : findfont: score(<Font 'Adobe Caslon Pro' (ACaslonPro-Regular.otf) normal normal 400 normal>) = 10.05\n"
     ]
    },
    {
     "name": "stderr",
     "output_type": "stream",
     "text": [
      "2020-04-09 15:31:59,192 : DEBUG : findfont: score(<Font 'STIXSizeThreeSym' (STIXSizThreeSymReg.otf) normal normal regular normal>) = 10.05\n"
     ]
    },
    {
     "name": "stderr",
     "output_type": "stream",
     "text": [
      "2020-04-09 15:31:59,192 : DEBUG : findfont: score(<Font 'Big Caslon' (BigCaslon.ttf) normal normal medium normal>) = 10.145\n"
     ]
    },
    {
     "name": "stderr",
     "output_type": "stream",
     "text": [
      "2020-04-09 15:31:59,193 : DEBUG : findfont: score(<Font 'Noto Sans PhagsPa' (NotoSansPhagsPa-Regular.ttf) normal normal regular normal>) = 10.05\n"
     ]
    },
    {
     "name": "stderr",
     "output_type": "stream",
     "text": [
      "2020-04-09 15:31:59,193 : DEBUG : findfont: score(<Font 'Noto Sans Syriac' (NotoSansSyriac-Regular.ttf) normal normal regular normal>) = 10.05\n"
     ]
    },
    {
     "name": "stderr",
     "output_type": "stream",
     "text": [
      "2020-04-09 15:31:59,194 : DEBUG : findfont: score(<Font 'Helvetica Neue' (HelveticaNeue.ttc) normal normal 400 normal>) = 10.05\n"
     ]
    },
    {
     "name": "stderr",
     "output_type": "stream",
     "text": [
      "2020-04-09 15:31:59,194 : DEBUG : findfont: score(<Font 'Luxi Serif' (luxirbi.ttf) oblique normal bold normal>) = 11.335\n"
     ]
    },
    {
     "name": "stderr",
     "output_type": "stream",
     "text": [
      "2020-04-09 15:31:59,194 : DEBUG : findfont: score(<Font 'Estrangelo Talada' (SyrCOMTalada.otf) normal normal 400 normal>) = 10.05\n"
     ]
    },
    {
     "name": "stderr",
     "output_type": "stream",
     "text": [
      "2020-04-09 15:31:59,195 : DEBUG : findfont: score(<Font 'League Gothic' (LeagueGothic-CondensedRegular.otf) normal normal regular condensed>) = 10.25\n"
     ]
    },
    {
     "name": "stderr",
     "output_type": "stream",
     "text": [
      "2020-04-09 15:31:59,195 : DEBUG : findfont: score(<Font '.SF NS Text Condensed' (SFNSTextCondensed-Heavy.otf) normal normal heavy condensed>) = 10.629999999999999\n"
     ]
    },
    {
     "name": "stderr",
     "output_type": "stream",
     "text": [
      "2020-04-09 15:31:59,196 : DEBUG : findfont: score(<Font 'Arial Narrow' (Arial Narrow Italic.ttf) italic normal 400 condensed>) = 11.25\n"
     ]
    },
    {
     "name": "stderr",
     "output_type": "stream",
     "text": [
      "2020-04-09 15:31:59,196 : DEBUG : findfont: score(<Font 'Arial Black' (Arial Black.ttf) normal normal black normal>) = 10.525\n"
     ]
    },
    {
     "name": "stderr",
     "output_type": "stream",
     "text": [
      "2020-04-09 15:31:59,197 : DEBUG : findfont: score(<Font 'Avenir Next' (Avenir Next.ttc) normal normal bold normal>) = 10.335\n"
     ]
    },
    {
     "name": "stderr",
     "output_type": "stream",
     "text": [
      "2020-04-09 15:31:59,197 : DEBUG : findfont: score(<Font 'Adobe Hebrew' (AdobeHebrew-Italic.otf) italic normal 400 normal>) = 11.05\n"
     ]
    },
    {
     "name": "stderr",
     "output_type": "stream",
     "text": [
      "2020-04-09 15:31:59,198 : DEBUG : findfont: score(<Font 'Kozuka Gothic Pro' (KozGoPro-ExtraLight.otf) normal normal 400 normal>) = 10.05\n"
     ]
    },
    {
     "name": "stderr",
     "output_type": "stream",
     "text": [
      "2020-04-09 15:31:59,198 : DEBUG : findfont: score(<Font 'Symbol Tiger' (Symbol Tiger.ttf) normal normal 400 normal>) = 10.05\n"
     ]
    },
    {
     "name": "stderr",
     "output_type": "stream",
     "text": [
      "2020-04-09 15:31:59,199 : DEBUG : findfont: score(<Font 'Lucida Console' (Lucida Console.ttf) normal normal 400 normal>) = 10.05\n"
     ]
    },
    {
     "name": "stderr",
     "output_type": "stream",
     "text": [
      "2020-04-09 15:31:59,199 : DEBUG : findfont: score(<Font 'Corbel' (Corbel Bold Italic.ttf) italic normal bold normal>) = 11.335\n"
     ]
    },
    {
     "name": "stderr",
     "output_type": "stream",
     "text": [
      "2020-04-09 15:31:59,200 : DEBUG : findfont: score(<Font 'Font Awesome 5 Free' (Font Awesome 5 Free-Regular-400.otf) normal normal regular normal>) = 10.05\n"
     ]
    },
    {
     "name": "stderr",
     "output_type": "stream",
     "text": [
      "2020-04-09 15:31:59,200 : DEBUG : findfont: score(<Font 'Courier New' (Courier New Bold.ttf) normal normal bold normal>) = 10.335\n"
     ]
    },
    {
     "name": "stderr",
     "output_type": "stream",
     "text": [
      "2020-04-09 15:31:59,200 : DEBUG : findfont: score(<Font 'Diwan Thuluth' (Diwan Thuluth.ttf) normal normal regular normal>) = 10.05\n"
     ]
    },
    {
     "name": "stderr",
     "output_type": "stream",
     "text": [
      "2020-04-09 15:31:59,201 : DEBUG : findfont: score(<Font 'Diwan Kufi' (Diwan Kufi.ttc) normal normal regular normal>) = 10.05\n"
     ]
    },
    {
     "name": "stderr",
     "output_type": "stream",
     "text": [
      "2020-04-09 15:31:59,253 : DEBUG : findfont: score(<Font 'STIXGeneral' (STIXGeneral.otf) normal normal regular normal>) = 10.05\n"
     ]
    },
    {
     "name": "stderr",
     "output_type": "stream",
     "text": [
      "2020-04-09 15:31:59,254 : DEBUG : findfont: score(<Font 'Kozuka Gothic Pr6N' (KozGoPr6N-Bold.otf) normal normal 700 normal>) = 10.335\n"
     ]
    },
    {
     "name": "stderr",
     "output_type": "stream",
     "text": [
      "2020-04-09 15:31:59,254 : DEBUG : findfont: score(<Font 'Chalkboard' (Chalkboard.ttc) normal normal 400 normal>) = 10.05\n"
     ]
    },
    {
     "name": "stderr",
     "output_type": "stream",
     "text": [
      "2020-04-09 15:31:59,255 : DEBUG : findfont: score(<Font 'Candara' (Candara Italic.ttf) italic normal 400 normal>) = 11.05\n"
     ]
    },
    {
     "name": "stderr",
     "output_type": "stream",
     "text": [
      "2020-04-09 15:31:59,256 : DEBUG : findfont: score(<Font 'Corbel' (Corbel.ttf) normal normal 400 normal>) = 10.05\n"
     ]
    },
    {
     "name": "stderr",
     "output_type": "stream",
     "text": [
      "2020-04-09 15:31:59,256 : DEBUG : findfont: score(<Font 'East Syriac Adiabene' (SyrCOMAdiabene.otf) normal normal 400 normal>) = 10.05\n"
     ]
    },
    {
     "name": "stderr",
     "output_type": "stream",
     "text": [
      "2020-04-09 15:31:59,257 : DEBUG : findfont: score(<Font 'Chalkduster' (Chalkduster.ttf) normal normal 400 normal>) = 10.05\n"
     ]
    },
    {
     "name": "stderr",
     "output_type": "stream",
     "text": [
      "2020-04-09 15:31:59,257 : DEBUG : findfont: score(<Font 'Webdings' (Webdings.ttf) normal normal 400 normal>) = 10.05\n"
     ]
    },
    {
     "name": "stderr",
     "output_type": "stream",
     "text": [
      "2020-04-09 15:31:59,258 : DEBUG : findfont: score(<Font 'Optima' (Optima.ttc) normal normal regular normal>) = 10.05\n"
     ]
    },
    {
     "name": "stderr",
     "output_type": "stream",
     "text": [
      "2020-04-09 15:31:59,259 : DEBUG : findfont: score(<Font '.SF NS Display Condensed' (SFNSDisplayCondensed-Bold.otf) normal normal bold condensed>) = 10.535\n"
     ]
    },
    {
     "name": "stderr",
     "output_type": "stream",
     "text": [
      "2020-04-09 15:31:59,259 : DEBUG : findfont: score(<Font 'Noto Sans Inscriptional Pahlavi' (NotoSansInscriptionalPahlavi-Regular.ttf) normal normal regular normal>) = 10.05\n"
     ]
    },
    {
     "name": "stderr",
     "output_type": "stream",
     "text": [
      "2020-04-09 15:31:59,260 : DEBUG : findfont: score(<Font 'Beirut' (Beirut.ttc) normal normal regular normal>) = 10.05\n"
     ]
    },
    {
     "name": "stderr",
     "output_type": "stream",
     "text": [
      "2020-04-09 15:31:59,260 : DEBUG : findfont: score(<Font 'Gill Sans' (GillSans.ttc) normal normal 400 normal>) = 10.05\n"
     ]
    },
    {
     "name": "stderr",
     "output_type": "stream",
     "text": [
      "2020-04-09 15:31:59,261 : DEBUG : findfont: score(<Font 'Tahoma' (Tahoma.ttf) normal normal 400 normal>) = 10.05\n"
     ]
    },
    {
     "name": "stderr",
     "output_type": "stream",
     "text": [
      "2020-04-09 15:31:59,262 : DEBUG : findfont: score(<Font 'Noto Sans Samaritan' (NotoSansSamaritan-Regular.ttf) normal normal regular normal>) = 10.05\n"
     ]
    },
    {
     "name": "stderr",
     "output_type": "stream",
     "text": [
      "2020-04-09 15:31:59,262 : DEBUG : findfont: score(<Font 'Apple Braille' (Apple Braille Pinpoint 8 Dot.ttf) normal normal 400 normal>) = 10.05\n"
     ]
    },
    {
     "name": "stderr",
     "output_type": "stream",
     "text": [
      "2020-04-09 15:31:59,263 : DEBUG : findfont: score(<Font 'Consolas' (Consolas Italic.ttf) italic normal 400 normal>) = 11.05\n"
     ]
    },
    {
     "name": "stderr",
     "output_type": "stream",
     "text": [
      "2020-04-09 15:31:59,263 : DEBUG : findfont: score(<Font 'Estrangelo TurAbdin' (SyrCOMTurAbdin.otf) normal normal 400 normal>) = 10.05\n"
     ]
    },
    {
     "name": "stderr",
     "output_type": "stream",
     "text": [
      "2020-04-09 15:31:59,264 : DEBUG : findfont: score(<Font 'Noto Sans Tagalog' (NotoSansTagalog-Regular.ttf) normal normal regular normal>) = 10.05\n"
     ]
    },
    {
     "name": "stderr",
     "output_type": "stream",
     "text": [
      "2020-04-09 15:31:59,264 : DEBUG : findfont: score(<Font 'Tiger Expert' (Tiger Expert.ttf) normal normal 400 normal>) = 10.05\n"
     ]
    },
    {
     "name": "stderr",
     "output_type": "stream",
     "text": [
      "2020-04-09 15:31:59,265 : DEBUG : findfont: score(<Font 'Gujarati MT' (GujaratiMT.ttc) normal normal 400 normal>) = 10.05\n"
     ]
    },
    {
     "name": "stderr",
     "output_type": "stream",
     "text": [
      "2020-04-09 15:31:59,265 : DEBUG : findfont: Matching :family=sans-serif:style=normal:variant=normal:weight=normal:stretch=normal:size=15.84 to Arial ('/System/Library/Fonts/Supplemental/Arial.ttf') with score of 0.050000.\n"
     ]
    },
    {
     "data": {
      "image/png": "[encoded data removed]",
      "text/plain": [
       "<Figure size 1000x700 with 1 Axes>"
      ]
     },
     "metadata": {},
     "output_type": "display_data"
    },
    {
     "data": {
      "text/html": [
       "<div>\n",
       "<style scoped>\n",
       "    .dataframe tbody tr th:only-of-type {\n",
       "        vertical-align: middle;\n",
       "    }\n",
       "\n",
       "    .dataframe tbody tr th {\n",
       "        vertical-align: top;\n",
       "    }\n",
       "\n",
       "    .dataframe thead th {\n",
       "        text-align: right;\n",
       "    }\n",
       "</style>\n",
       "<table border=\"1\" class=\"dataframe\">\n",
       "  <thead>\n",
       "    <tr style=\"text-align: right;\">\n",
       "      <th></th>\n",
       "      <th>id</th>\n",
       "      <th>token</th>\n",
       "      <th>count</th>\n",
       "    </tr>\n",
       "  </thead>\n",
       "  <tbody>\n",
       "    <tr>\n",
       "      <th>3118</th>\n",
       "      <td>3994</td>\n",
       "      <td>mere</td>\n",
       "      <td>30</td>\n",
       "    </tr>\n",
       "    <tr>\n",
       "      <th>2356</th>\n",
       "      <td>2785</td>\n",
       "      <td>toilet_shower</td>\n",
       "      <td>30</td>\n",
       "    </tr>\n",
       "    <tr>\n",
       "      <th>3292</th>\n",
       "      <td>4309</td>\n",
       "      <td>toy</td>\n",
       "      <td>30</td>\n",
       "    </tr>\n",
       "    <tr>\n",
       "      <th>2225</th>\n",
       "      <td>2618</td>\n",
       "      <td>store_bag</td>\n",
       "      <td>30</td>\n",
       "    </tr>\n",
       "    <tr>\n",
       "      <th>1488</th>\n",
       "      <td>1684</td>\n",
       "      <td>las_vega</td>\n",
       "      <td>30</td>\n",
       "    </tr>\n",
       "    <tr>\n",
       "      <th>2126</th>\n",
       "      <td>2494</td>\n",
       "      <td>sophist</td>\n",
       "      <td>30</td>\n",
       "    </tr>\n",
       "    <tr>\n",
       "      <th>1263</th>\n",
       "      <td>1419</td>\n",
       "      <td>date</td>\n",
       "      <td>30</td>\n",
       "    </tr>\n",
       "    <tr>\n",
       "      <th>3360</th>\n",
       "      <td>4443</td>\n",
       "      <td>tiffani</td>\n",
       "      <td>31</td>\n",
       "    </tr>\n",
       "    <tr>\n",
       "      <th>2336</th>\n",
       "      <td>2760</td>\n",
       "      <td>establish</td>\n",
       "      <td>31</td>\n",
       "    </tr>\n",
       "    <tr>\n",
       "      <th>2765</th>\n",
       "      <td>3432</td>\n",
       "      <td>tank</td>\n",
       "      <td>31</td>\n",
       "    </tr>\n",
       "    <tr>\n",
       "      <th>3643</th>\n",
       "      <td>4972</td>\n",
       "      <td>smelli</td>\n",
       "      <td>31</td>\n",
       "    </tr>\n",
       "    <tr>\n",
       "      <th>1882</th>\n",
       "      <td>2176</td>\n",
       "      <td>thur</td>\n",
       "      <td>31</td>\n",
       "    </tr>\n",
       "    <tr>\n",
       "      <th>1944</th>\n",
       "      <td>2245</td>\n",
       "      <td>odor</td>\n",
       "      <td>31</td>\n",
       "    </tr>\n",
       "    <tr>\n",
       "      <th>3097</th>\n",
       "      <td>3954</td>\n",
       "      <td>hollywood_blvd</td>\n",
       "      <td>31</td>\n",
       "    </tr>\n",
       "    <tr>\n",
       "      <th>1090</th>\n",
       "      <td>1219</td>\n",
       "      <td>rooftop</td>\n",
       "      <td>31</td>\n",
       "    </tr>\n",
       "    <tr>\n",
       "      <th>2215</th>\n",
       "      <td>2607</td>\n",
       "      <td>dishwash</td>\n",
       "      <td>31</td>\n",
       "    </tr>\n",
       "    <tr>\n",
       "      <th>3609</th>\n",
       "      <td>4910</td>\n",
       "      <td>mrs</td>\n",
       "      <td>31</td>\n",
       "    </tr>\n",
       "    <tr>\n",
       "      <th>3055</th>\n",
       "      <td>3887</td>\n",
       "      <td>hash</td>\n",
       "      <td>31</td>\n",
       "    </tr>\n",
       "    <tr>\n",
       "      <th>1965</th>\n",
       "      <td>2276</td>\n",
       "      <td>approach</td>\n",
       "      <td>31</td>\n",
       "    </tr>\n",
       "    <tr>\n",
       "      <th>1575</th>\n",
       "      <td>1787</td>\n",
       "      <td>recogn</td>\n",
       "      <td>31</td>\n",
       "    </tr>\n",
       "    <tr>\n",
       "      <th>497</th>\n",
       "      <td>544</td>\n",
       "      <td>hairdryer</td>\n",
       "      <td>31</td>\n",
       "    </tr>\n",
       "    <tr>\n",
       "      <th>2592</th>\n",
       "      <td>3139</td>\n",
       "      <td>film</td>\n",
       "      <td>31</td>\n",
       "    </tr>\n",
       "    <tr>\n",
       "      <th>3029</th>\n",
       "      <td>3837</td>\n",
       "      <td>bank_build</td>\n",
       "      <td>31</td>\n",
       "    </tr>\n",
       "    <tr>\n",
       "      <th>997</th>\n",
       "      <td>1109</td>\n",
       "      <td>ground</td>\n",
       "      <td>31</td>\n",
       "    </tr>\n",
       "    <tr>\n",
       "      <th>1609</th>\n",
       "      <td>1831</td>\n",
       "      <td>overhead</td>\n",
       "      <td>31</td>\n",
       "    </tr>\n",
       "    <tr>\n",
       "      <th>1404</th>\n",
       "      <td>1577</td>\n",
       "      <td>reccommend</td>\n",
       "      <td>31</td>\n",
       "    </tr>\n",
       "    <tr>\n",
       "      <th>2953</th>\n",
       "      <td>3737</td>\n",
       "      <td>weak</td>\n",
       "      <td>31</td>\n",
       "    </tr>\n",
       "    <tr>\n",
       "      <th>3451</th>\n",
       "      <td>4630</td>\n",
       "      <td>claustrophob</td>\n",
       "      <td>31</td>\n",
       "    </tr>\n",
       "    <tr>\n",
       "      <th>1776</th>\n",
       "      <td>2048</td>\n",
       "      <td>english</td>\n",
       "      <td>31</td>\n",
       "    </tr>\n",
       "    <tr>\n",
       "      <th>1366</th>\n",
       "      <td>1533</td>\n",
       "      <td>log</td>\n",
       "      <td>32</td>\n",
       "    </tr>\n",
       "    <tr>\n",
       "      <th>1214</th>\n",
       "      <td>1363</td>\n",
       "      <td>spous</td>\n",
       "      <td>32</td>\n",
       "    </tr>\n",
       "    <tr>\n",
       "      <th>3157</th>\n",
       "      <td>4066</td>\n",
       "      <td>tech</td>\n",
       "      <td>32</td>\n",
       "    </tr>\n",
       "    <tr>\n",
       "      <th>3527</th>\n",
       "      <td>4756</td>\n",
       "      <td>hdtv</td>\n",
       "      <td>32</td>\n",
       "    </tr>\n",
       "    <tr>\n",
       "      <th>3038</th>\n",
       "      <td>3850</td>\n",
       "      <td>fort</td>\n",
       "      <td>32</td>\n",
       "    </tr>\n",
       "    <tr>\n",
       "      <th>1967</th>\n",
       "      <td>2279</td>\n",
       "      <td>dupont_circl</td>\n",
       "      <td>32</td>\n",
       "    </tr>\n",
       "    <tr>\n",
       "      <th>3223</th>\n",
       "      <td>4194</td>\n",
       "      <td>armchair</td>\n",
       "      <td>32</td>\n",
       "    </tr>\n",
       "    <tr>\n",
       "      <th>3466</th>\n",
       "      <td>4656</td>\n",
       "      <td>poolsid</td>\n",
       "      <td>32</td>\n",
       "    </tr>\n",
       "    <tr>\n",
       "      <th>2830</th>\n",
       "      <td>3532</td>\n",
       "      <td>charl</td>\n",
       "      <td>32</td>\n",
       "    </tr>\n",
       "    <tr>\n",
       "      <th>2967</th>\n",
       "      <td>3755</td>\n",
       "      <td>year_anniversari</td>\n",
       "      <td>32</td>\n",
       "    </tr>\n",
       "    <tr>\n",
       "      <th>2207</th>\n",
       "      <td>2597</td>\n",
       "      <td>suck</td>\n",
       "      <td>32</td>\n",
       "    </tr>\n",
       "    <tr>\n",
       "      <th>3545</th>\n",
       "      <td>4792</td>\n",
       "      <td>roof_deck</td>\n",
       "      <td>32</td>\n",
       "    </tr>\n",
       "    <tr>\n",
       "      <th>2802</th>\n",
       "      <td>3490</td>\n",
       "      <td>décor</td>\n",
       "      <td>32</td>\n",
       "    </tr>\n",
       "    <tr>\n",
       "      <th>2543</th>\n",
       "      <td>3058</td>\n",
       "      <td>hire_car</td>\n",
       "      <td>32</td>\n",
       "    </tr>\n",
       "    <tr>\n",
       "      <th>1594</th>\n",
       "      <td>1811</td>\n",
       "      <td>profession_courteous</td>\n",
       "      <td>32</td>\n",
       "    </tr>\n",
       "    <tr>\n",
       "      <th>3423</th>\n",
       "      <td>4578</td>\n",
       "      <td>fedex</td>\n",
       "      <td>32</td>\n",
       "    </tr>\n",
       "    <tr>\n",
       "      <th>3300</th>\n",
       "      <td>4326</td>\n",
       "      <td>maximum</td>\n",
       "      <td>32</td>\n",
       "    </tr>\n",
       "    <tr>\n",
       "      <th>3307</th>\n",
       "      <td>4345</td>\n",
       "      <td>sub_par</td>\n",
       "      <td>32</td>\n",
       "    </tr>\n",
       "    <tr>\n",
       "      <th>1540</th>\n",
       "      <td>1745</td>\n",
       "      <td>whatsoev</td>\n",
       "      <td>32</td>\n",
       "    </tr>\n",
       "    <tr>\n",
       "      <th>3683</th>\n",
       "      <td>5047</td>\n",
       "      <td>remot_work</td>\n",
       "      <td>32</td>\n",
       "    </tr>\n",
       "    <tr>\n",
       "      <th>2744</th>\n",
       "      <td>3390</td>\n",
       "      <td>dvd</td>\n",
       "      <td>32</td>\n",
       "    </tr>\n",
       "  </tbody>\n",
       "</table>\n",
       "</div>"
      ],
      "text/plain": [
       "        id                 token  count\n",
       "3118  3994                  mere     30\n",
       "2356  2785         toilet_shower     30\n",
       "3292  4309                   toy     30\n",
       "2225  2618             store_bag     30\n",
       "1488  1684              las_vega     30\n",
       "2126  2494               sophist     30\n",
       "1263  1419                  date     30\n",
       "3360  4443               tiffani     31\n",
       "2336  2760             establish     31\n",
       "2765  3432                  tank     31\n",
       "3643  4972                smelli     31\n",
       "1882  2176                  thur     31\n",
       "1944  2245                  odor     31\n",
       "3097  3954        hollywood_blvd     31\n",
       "1090  1219               rooftop     31\n",
       "2215  2607              dishwash     31\n",
       "3609  4910                   mrs     31\n",
       "3055  3887                  hash     31\n",
       "1965  2276              approach     31\n",
       "1575  1787                recogn     31\n",
       "497    544             hairdryer     31\n",
       "2592  3139                  film     31\n",
       "3029  3837            bank_build     31\n",
       "997   1109                ground     31\n",
       "1609  1831              overhead     31\n",
       "1404  1577            reccommend     31\n",
       "2953  3737                  weak     31\n",
       "3451  4630          claustrophob     31\n",
       "1776  2048               english     31\n",
       "1366  1533                   log     32\n",
       "1214  1363                 spous     32\n",
       "3157  4066                  tech     32\n",
       "3527  4756                  hdtv     32\n",
       "3038  3850                  fort     32\n",
       "1967  2279          dupont_circl     32\n",
       "3223  4194              armchair     32\n",
       "3466  4656               poolsid     32\n",
       "2830  3532                 charl     32\n",
       "2967  3755      year_anniversari     32\n",
       "2207  2597                  suck     32\n",
       "3545  4792             roof_deck     32\n",
       "2802  3490                 décor     32\n",
       "2543  3058              hire_car     32\n",
       "1594  1811  profession_courteous     32\n",
       "3423  4578                 fedex     32\n",
       "3300  4326               maximum     32\n",
       "3307  4345               sub_par     32\n",
       "1540  1745              whatsoev     32\n",
       "3683  5047            remot_work     32\n",
       "2744  3390                   dvd     32"
      ]
     },
     "metadata": {},
     "output_type": "display_data"
    },
    {
     "data": {
      "image/png": "[encoded data removed]",
      "text/plain": [
       "<Figure size 1000x700 with 1 Axes>"
      ]
     },
     "metadata": {},
     "output_type": "display_data"
    },
    {
     "data": {
      "text/html": [
       "<div>\n",
       "<style scoped>\n",
       "    .dataframe tbody tr th:only-of-type {\n",
       "        vertical-align: middle;\n",
       "    }\n",
       "\n",
       "    .dataframe tbody tr th {\n",
       "        vertical-align: top;\n",
       "    }\n",
       "\n",
       "    .dataframe thead th {\n",
       "        text-align: right;\n",
       "    }\n",
       "</style>\n",
       "<table border=\"1\" class=\"dataframe\">\n",
       "  <thead>\n",
       "    <tr style=\"text-align: right;\">\n",
       "      <th></th>\n",
       "      <th>id</th>\n",
       "      <th>token</th>\n",
       "      <th>count</th>\n",
       "    </tr>\n",
       "  </thead>\n",
       "  <tbody>\n",
       "    <tr>\n",
       "      <th>256</th>\n",
       "      <td>280</td>\n",
       "      <td>holiday_inn</td>\n",
       "      <td>6855</td>\n",
       "    </tr>\n",
       "    <tr>\n",
       "      <th>78</th>\n",
       "      <td>86</td>\n",
       "      <td>day</td>\n",
       "      <td>6884</td>\n",
       "    </tr>\n",
       "    <tr>\n",
       "      <th>463</th>\n",
       "      <td>506</td>\n",
       "      <td>tradit</td>\n",
       "      <td>6934</td>\n",
       "    </tr>\n",
       "    <tr>\n",
       "      <th>75</th>\n",
       "      <td>82</td>\n",
       "      <td>children</td>\n",
       "      <td>7151</td>\n",
       "    </tr>\n",
       "    <tr>\n",
       "      <th>328</th>\n",
       "      <td>362</td>\n",
       "      <td>good_valu</td>\n",
       "      <td>7171</td>\n",
       "    </tr>\n",
       "    <tr>\n",
       "      <th>21</th>\n",
       "      <td>22</td>\n",
       "      <td>needl</td>\n",
       "      <td>7199</td>\n",
       "    </tr>\n",
       "    <tr>\n",
       "      <th>406</th>\n",
       "      <td>444</td>\n",
       "      <td>class</td>\n",
       "      <td>7204</td>\n",
       "    </tr>\n",
       "    <tr>\n",
       "      <th>189</th>\n",
       "      <td>202</td>\n",
       "      <td>offer</td>\n",
       "      <td>7338</td>\n",
       "    </tr>\n",
       "    <tr>\n",
       "      <th>207</th>\n",
       "      <td>222</td>\n",
       "      <td>twice</td>\n",
       "      <td>7396</td>\n",
       "    </tr>\n",
       "    <tr>\n",
       "      <th>97</th>\n",
       "      <td>105</td>\n",
       "      <td>place</td>\n",
       "      <td>7402</td>\n",
       "    </tr>\n",
       "    <tr>\n",
       "      <th>115</th>\n",
       "      <td>123</td>\n",
       "      <td>super</td>\n",
       "      <td>7455</td>\n",
       "    </tr>\n",
       "    <tr>\n",
       "      <th>533</th>\n",
       "      <td>583</td>\n",
       "      <td>space</td>\n",
       "      <td>7543</td>\n",
       "    </tr>\n",
       "    <tr>\n",
       "      <th>357</th>\n",
       "      <td>393</td>\n",
       "      <td>felt</td>\n",
       "      <td>7673</td>\n",
       "    </tr>\n",
       "    <tr>\n",
       "      <th>606</th>\n",
       "      <td>664</td>\n",
       "      <td>free_internet</td>\n",
       "      <td>7742</td>\n",
       "    </tr>\n",
       "    <tr>\n",
       "      <th>365</th>\n",
       "      <td>402</td>\n",
       "      <td>moment</td>\n",
       "      <td>7750</td>\n",
       "    </tr>\n",
       "    <tr>\n",
       "      <th>353</th>\n",
       "      <td>389</td>\n",
       "      <td>complimentari_wine</td>\n",
       "      <td>8075</td>\n",
       "    </tr>\n",
       "    <tr>\n",
       "      <th>34</th>\n",
       "      <td>37</td>\n",
       "      <td>way</td>\n",
       "      <td>8295</td>\n",
       "    </tr>\n",
       "    <tr>\n",
       "      <th>310</th>\n",
       "      <td>343</td>\n",
       "      <td>onlin</td>\n",
       "      <td>8510</td>\n",
       "    </tr>\n",
       "    <tr>\n",
       "      <th>109</th>\n",
       "      <td>117</td>\n",
       "      <td>restaur</td>\n",
       "      <td>8638</td>\n",
       "    </tr>\n",
       "    <tr>\n",
       "      <th>366</th>\n",
       "      <td>403</td>\n",
       "      <td>moment_arriv</td>\n",
       "      <td>8986</td>\n",
       "    </tr>\n",
       "    <tr>\n",
       "      <th>59</th>\n",
       "      <td>63</td>\n",
       "      <td>point</td>\n",
       "      <td>9037</td>\n",
       "    </tr>\n",
       "    <tr>\n",
       "      <th>195</th>\n",
       "      <td>208</td>\n",
       "      <td>terrac</td>\n",
       "      <td>9207</td>\n",
       "    </tr>\n",
       "    <tr>\n",
       "      <th>64</th>\n",
       "      <td>69</td>\n",
       "      <td>town</td>\n",
       "      <td>9731</td>\n",
       "    </tr>\n",
       "    <tr>\n",
       "      <th>120</th>\n",
       "      <td>128</td>\n",
       "      <td>wine</td>\n",
       "      <td>10076</td>\n",
       "    </tr>\n",
       "    <tr>\n",
       "      <th>13</th>\n",
       "      <td>13</td>\n",
       "      <td>floor</td>\n",
       "      <td>10285</td>\n",
       "    </tr>\n",
       "    <tr>\n",
       "      <th>522</th>\n",
       "      <td>572</td>\n",
       "      <td>port</td>\n",
       "      <td>10420</td>\n",
       "    </tr>\n",
       "    <tr>\n",
       "      <th>191</th>\n",
       "      <td>204</td>\n",
       "      <td>pleasant</td>\n",
       "      <td>11441</td>\n",
       "    </tr>\n",
       "    <tr>\n",
       "      <th>87</th>\n",
       "      <td>95</td>\n",
       "      <td>help</td>\n",
       "      <td>11545</td>\n",
       "    </tr>\n",
       "    <tr>\n",
       "      <th>117</th>\n",
       "      <td>125</td>\n",
       "      <td>tast</td>\n",
       "      <td>11711</td>\n",
       "    </tr>\n",
       "    <tr>\n",
       "      <th>356</th>\n",
       "      <td>392</td>\n",
       "      <td>extrem</td>\n",
       "      <td>11878</td>\n",
       "    </tr>\n",
       "    <tr>\n",
       "      <th>95</th>\n",
       "      <td>103</td>\n",
       "      <td>overal</td>\n",
       "      <td>12319</td>\n",
       "    </tr>\n",
       "    <tr>\n",
       "      <th>499</th>\n",
       "      <td>546</td>\n",
       "      <td>half_mile</td>\n",
       "      <td>12639</td>\n",
       "    </tr>\n",
       "    <tr>\n",
       "      <th>200</th>\n",
       "      <td>214</td>\n",
       "      <td>free_shuttl</td>\n",
       "      <td>12743</td>\n",
       "    </tr>\n",
       "    <tr>\n",
       "      <th>105</th>\n",
       "      <td>113</td>\n",
       "      <td>reason</td>\n",
       "      <td>13064</td>\n",
       "    </tr>\n",
       "    <tr>\n",
       "      <th>227</th>\n",
       "      <td>245</td>\n",
       "      <td>southern</td>\n",
       "      <td>13262</td>\n",
       "    </tr>\n",
       "    <tr>\n",
       "      <th>395</th>\n",
       "      <td>432</td>\n",
       "      <td>michael</td>\n",
       "      <td>13462</td>\n",
       "    </tr>\n",
       "    <tr>\n",
       "      <th>157</th>\n",
       "      <td>165</td>\n",
       "      <td>short</td>\n",
       "      <td>14092</td>\n",
       "    </tr>\n",
       "    <tr>\n",
       "      <th>86</th>\n",
       "      <td>94</td>\n",
       "      <td>hang</td>\n",
       "      <td>14372</td>\n",
       "    </tr>\n",
       "    <tr>\n",
       "      <th>42</th>\n",
       "      <td>45</td>\n",
       "      <td>clear</td>\n",
       "      <td>14396</td>\n",
       "    </tr>\n",
       "    <tr>\n",
       "      <th>35</th>\n",
       "      <td>38</td>\n",
       "      <td>west</td>\n",
       "      <td>15292</td>\n",
       "    </tr>\n",
       "    <tr>\n",
       "      <th>27</th>\n",
       "      <td>29</td>\n",
       "      <td>son</td>\n",
       "      <td>15969</td>\n",
       "    </tr>\n",
       "    <tr>\n",
       "      <th>2</th>\n",
       "      <td>2</td>\n",
       "      <td>bed</td>\n",
       "      <td>17323</td>\n",
       "    </tr>\n",
       "    <tr>\n",
       "      <th>44</th>\n",
       "      <td>48</td>\n",
       "      <td>exampl</td>\n",
       "      <td>18226</td>\n",
       "    </tr>\n",
       "    <tr>\n",
       "      <th>168</th>\n",
       "      <td>178</td>\n",
       "      <td>high_recommend</td>\n",
       "      <td>18704</td>\n",
       "    </tr>\n",
       "    <tr>\n",
       "      <th>52</th>\n",
       "      <td>56</td>\n",
       "      <td>locat</td>\n",
       "      <td>19294</td>\n",
       "    </tr>\n",
       "    <tr>\n",
       "      <th>61</th>\n",
       "      <td>65</td>\n",
       "      <td>recent</td>\n",
       "      <td>19703</td>\n",
       "    </tr>\n",
       "    <tr>\n",
       "      <th>155</th>\n",
       "      <td>163</td>\n",
       "      <td>week</td>\n",
       "      <td>22403</td>\n",
       "    </tr>\n",
       "    <tr>\n",
       "      <th>56</th>\n",
       "      <td>60</td>\n",
       "      <td>need_updat</td>\n",
       "      <td>22981</td>\n",
       "    </tr>\n",
       "    <tr>\n",
       "      <th>121</th>\n",
       "      <td>129</td>\n",
       "      <td>wine_tast</td>\n",
       "      <td>24771</td>\n",
       "    </tr>\n",
       "    <tr>\n",
       "      <th>15</th>\n",
       "      <td>15</td>\n",
       "      <td>great</td>\n",
       "      <td>25949</td>\n",
       "    </tr>\n",
       "  </tbody>\n",
       "</table>\n",
       "</div>"
      ],
      "text/plain": [
       "      id               token  count\n",
       "256  280         holiday_inn   6855\n",
       "78    86                 day   6884\n",
       "463  506              tradit   6934\n",
       "75    82            children   7151\n",
       "328  362           good_valu   7171\n",
       "21    22               needl   7199\n",
       "406  444               class   7204\n",
       "189  202               offer   7338\n",
       "207  222               twice   7396\n",
       "97   105               place   7402\n",
       "115  123               super   7455\n",
       "533  583               space   7543\n",
       "357  393                felt   7673\n",
       "606  664       free_internet   7742\n",
       "365  402              moment   7750\n",
       "353  389  complimentari_wine   8075\n",
       "34    37                 way   8295\n",
       "310  343               onlin   8510\n",
       "109  117             restaur   8638\n",
       "366  403        moment_arriv   8986\n",
       "59    63               point   9037\n",
       "195  208              terrac   9207\n",
       "64    69                town   9731\n",
       "120  128                wine  10076\n",
       "13    13               floor  10285\n",
       "522  572                port  10420\n",
       "191  204            pleasant  11441\n",
       "87    95                help  11545\n",
       "117  125                tast  11711\n",
       "356  392              extrem  11878\n",
       "95   103              overal  12319\n",
       "499  546           half_mile  12639\n",
       "200  214         free_shuttl  12743\n",
       "105  113              reason  13064\n",
       "227  245            southern  13262\n",
       "395  432             michael  13462\n",
       "157  165               short  14092\n",
       "86    94                hang  14372\n",
       "42    45               clear  14396\n",
       "35    38                west  15292\n",
       "27    29                 son  15969\n",
       "2      2                 bed  17323\n",
       "44    48              exampl  18226\n",
       "168  178      high_recommend  18704\n",
       "52    56               locat  19294\n",
       "61    65              recent  19703\n",
       "155  163                week  22403\n",
       "56    60          need_updat  22981\n",
       "121  129           wine_tast  24771\n",
       "15    15               great  25949"
      ]
     },
     "metadata": {},
     "output_type": "display_data"
    }
   ],
   "source": [
    "dictionary = Dictionary(all_tokens)\n",
    "dictionary.filter_extremes(no_below=30, no_above=0.5, keep_n=20000)\n",
    "\n",
    "# Look at the top 100 and bottom 100 tokens\n",
    "\n",
    "temp = dictionary[0]  # Initialize the dict\n",
    "\n",
    "token_counts = pd.DataFrame(np.array(\n",
    "    [[token_id, dictionary.id2token[token_id], dictionary.cfs[token_id]]\n",
    "     for token_id in dictionary.keys()\n",
    "     if token_id in dictionary.cfs.keys() and token_id in dictionary.id2token.keys()\n",
    "     ]\n",
    "), columns=['id', 'token', 'count'])\n",
    "\n",
    "token_counts['count'] = token_counts['count'].astype('int')\n",
    "token_counts['count'].describe()\n",
    "token_counts = token_counts.sort_values('count')\n",
    "\n",
    "plt.rcParams.update({'figure.figsize': (5, 3.5), 'figure.dpi': 200})\n",
    "token_counts['count'].head(5000).hist(bins=100)\n",
    "plt.suptitle(\"Counts for 5,000 least frequent included words\")\n",
    "plt.show()\n",
    "display(token_counts.head(50))\n",
    "\n",
    "plt.rcParams.update({'figure.figsize': (5, 3.5), 'figure.dpi': 200})\n",
    "token_counts['count'].tail(1000).hist(bins=100)\n",
    "plt.suptitle(\"Counts for 1,000 most frequent included words\")\n",
    "plt.show()\n",
    "display(token_counts.tail(50))"
   ]
  },
  {
   "cell_type": "code",
   "execution_count": 12,
   "metadata": {},
   "outputs": [
    {
     "data": {
      "text/plain": [
       "(26521,)"
      ]
     },
     "metadata": {},
     "output_type": "display_data"
    },
    {
     "data": {
      "text/plain": [
       "(12411,)"
      ]
     },
     "metadata": {},
     "output_type": "display_data"
    },
    {
     "data": {
      "text/plain": [
       "(26521,)"
      ]
     },
     "metadata": {},
     "output_type": "display_data"
    },
    {
     "data": {
      "text/plain": [
       "(12411,)"
      ]
     },
     "metadata": {},
     "output_type": "display_data"
    }
   ],
   "source": [
    "# Replace the split data with the data updated with phrases\n",
    "display(happy_tokens.shape, bad_tokens.shape)\n",
    "happy_tokens = all_tokens.iloc[:len(happy_tokens)].copy().reset_index(drop=True)\n",
    "bad_tokens = all_tokens.iloc[len(happy_tokens):].copy().reset_index(drop=True)\n",
    "display(happy_tokens.shape, bad_tokens.shape)"
   ]
  },
  {
   "cell_type": "markdown",
   "metadata": {},
   "source": [
    "### Look at two examples before and after preprocessing"
   ]
  },
  {
   "cell_type": "code",
   "execution_count": 13,
   "metadata": {},
   "outputs": [
    {
     "name": "stdout",
     "output_type": "stream",
     "text": [
      "HAPPY before:\n"
     ]
    },
    {
     "data": {
      "text/plain": [
       "'We booked this through our time share, and were pleasantly surprised at the space provided. We had a noise issue the first night, which was immediately rectified by the hotel manager and staff. We were upgraded to an even larger room. The bathrooms were on the small side and could use towel bars. We wish there was a \"\"\"\"\"\"\"\"\"\"\"\"\"\"\"\"\"\"\"\"\"\"\"\"\"\"\"\"\"\"\"\"down\"\"\"\"\"\"\"\"\"\"\"\"\"\"\"\"\"\"\"\"\"\"\"\"\"\"\"\"\"\"\"\" escalator to make it easier to transport our suitcases as we left the hotel. The bed was very comfortable. Kitchenette was a nice addition. A great place to relax after a long day running around the city sites. We would definitely book this again!'"
      ]
     },
     "metadata": {},
     "output_type": "display_data"
    },
    {
     "name": "stdout",
     "output_type": "stream",
     "text": [
      "HAPPY after:\n"
     ]
    },
    {
     "data": {
      "text/plain": [
       "['book',\n",
       " 'time',\n",
       " 'share',\n",
       " 'pleasant',\n",
       " 'surpris',\n",
       " 'space',\n",
       " 'provid',\n",
       " 'nois',\n",
       " 'issu',\n",
       " 'night',\n",
       " 'immedi',\n",
       " 'rectifi',\n",
       " 'hotel',\n",
       " 'manag',\n",
       " 'staff',\n",
       " 'upgrad',\n",
       " 'larger',\n",
       " 'room',\n",
       " 'bathroom',\n",
       " 'small',\n",
       " 'use',\n",
       " 'towel',\n",
       " 'bar',\n",
       " 'wish',\n",
       " 'escal',\n",
       " 'easier',\n",
       " 'transport',\n",
       " 'suitcas',\n",
       " 'leav',\n",
       " 'hotel',\n",
       " 'bed',\n",
       " 'veri',\n",
       " 'comfort',\n",
       " 'kitchenett',\n",
       " 'nice',\n",
       " 'addit',\n",
       " 'great',\n",
       " 'place',\n",
       " 'relax',\n",
       " 'long',\n",
       " 'day',\n",
       " 'run',\n",
       " 'citi',\n",
       " 'sit',\n",
       " 'definit',\n",
       " 'book',\n",
       " 'pleasant_surpris',\n",
       " 'upgrad_larger']"
      ]
     },
     "metadata": {},
     "output_type": "display_data"
    },
    {
     "name": "stdout",
     "output_type": "stream",
     "text": [
      "NOT HAPPY before:\n"
     ]
    },
    {
     "data": {
      "text/plain": [
       "\"Some problems with the stay that really bring this score down:\\n- NO Parking, no recommendations, no help. Wound up parking at the nearest garage at $-- per day.\\n- Pulled up and had to get a luggage cart myself, unload luggage, get it in the building, up the elevator (more on that later) and to the room, get the cart back down and get the car moved from the temp parking out front.\\n- Absolutely no help from staff. The desk told me to move my car quickly at check-in, or it would be ticketed. There is no bellman, the concierge is a joke and you have to pay $- per half hour for the internet.\\n- Only two elevators were in service, so getting up from the lobby wasn't bad, but by the second day of our stay, we quit trying to wait to go down and just walked the -- flights with the kids and stroller.\\n- The rooms were fine, if a little on the stale side.\\n- The Upper West Side location is convenient.\\nI would not stay at this hotel again.\\nI would recommend it for school trips and the like.\""
      ]
     },
     "metadata": {},
     "output_type": "display_data"
    },
    {
     "name": "stdout",
     "output_type": "stream",
     "text": [
      "NOT HAPPY after:\n"
     ]
    },
    {
     "data": {
      "text/plain": [
       "['problem',\n",
       " 'stay',\n",
       " 'realli',\n",
       " 'bring',\n",
       " 'score',\n",
       " 'park',\n",
       " 'recommend',\n",
       " 'help',\n",
       " 'wind',\n",
       " 'park',\n",
       " 'nearest',\n",
       " 'garag',\n",
       " 'day',\n",
       " 'pull',\n",
       " 'luggag',\n",
       " 'cart',\n",
       " 'unload',\n",
       " 'luggag',\n",
       " 'build',\n",
       " 'elev',\n",
       " 'later',\n",
       " 'room',\n",
       " 'cart',\n",
       " 'car',\n",
       " 'temp',\n",
       " 'park',\n",
       " 'absolut',\n",
       " 'help',\n",
       " 'staff',\n",
       " 'desk',\n",
       " 'tell',\n",
       " 'car',\n",
       " 'quick',\n",
       " 'check',\n",
       " 'ticket',\n",
       " 'bellman',\n",
       " 'concierg',\n",
       " 'joke',\n",
       " 'pay',\n",
       " 'half',\n",
       " 'hour',\n",
       " 'internet',\n",
       " 'onli',\n",
       " 'elev',\n",
       " 'servic',\n",
       " 'lobbi',\n",
       " 'wasn',\n",
       " 'bad',\n",
       " 'second',\n",
       " 'day',\n",
       " 'stay',\n",
       " 'quit',\n",
       " 'tri',\n",
       " 'wait',\n",
       " 'walk',\n",
       " 'flight',\n",
       " 'kid',\n",
       " 'stroller',\n",
       " 'room',\n",
       " 'fine',\n",
       " 'littl',\n",
       " 'stale',\n",
       " 'upper',\n",
       " 'west',\n",
       " 'locat',\n",
       " 'conveni',\n",
       " 'stay',\n",
       " 'hotel',\n",
       " 'recommend',\n",
       " 'school',\n",
       " 'trip',\n",
       " 'like',\n",
       " 'luggag_cart',\n",
       " 'unload_luggag',\n",
       " 'half_hour',\n",
       " 'wasn_bad',\n",
       " 'upper_west']"
      ]
     },
     "metadata": {},
     "output_type": "display_data"
    }
   ],
   "source": [
    "happy_idx = np.random.randint(1, len(happy_tokens))\n",
    "bad_idx = np.random.randint(1, len(bad_tokens))\n",
    "\n",
    "print('HAPPY before:')\n",
    "display(happy_reviews['Description'].iloc[happy_idx])\n",
    "print('HAPPY after:')\n",
    "display(happy_tokens.iloc[happy_idx])\n",
    "\n",
    "print('NOT HAPPY before:')\n",
    "display(bad_reviews['Description'].iloc[bad_idx])\n",
    "print('NOT HAPPY after:')\n",
    "display(bad_tokens.iloc[bad_idx])"
   ]
  },
  {
   "cell_type": "markdown",
   "metadata": {},
   "source": [
    "### Vectorize with Bag of Words and TF-IDF"
   ]
  },
  {
   "cell_type": "code",
   "execution_count": 14,
   "metadata": {
    "lines_to_next_cell": 2
   },
   "outputs": [
    {
     "name": "stderr",
     "output_type": "stream",
     "text": [
      "2020-04-09 15:32:02,623 : INFO : collecting document frequencies\n"
     ]
    },
    {
     "name": "stderr",
     "output_type": "stream",
     "text": [
      "2020-04-09 15:32:02,624 : INFO : PROGRESS: processing document #0\n"
     ]
    },
    {
     "name": "stderr",
     "output_type": "stream",
     "text": [
      "2020-04-09 15:32:02,698 : INFO : PROGRESS: processing document #10000\n"
     ]
    },
    {
     "name": "stderr",
     "output_type": "stream",
     "text": [
      "2020-04-09 15:32:02,777 : INFO : PROGRESS: processing document #20000\n"
     ]
    },
    {
     "name": "stderr",
     "output_type": "stream",
     "text": [
      "2020-04-09 15:32:02,866 : INFO : PROGRESS: processing document #30000\n"
     ]
    },
    {
     "name": "stderr",
     "output_type": "stream",
     "text": [
      "2020-04-09 15:32:02,950 : INFO : calculating IDF weights for 38932 documents and 5158 features (2138190 matrix non-zeros)\n"
     ]
    },
    {
     "name": "stdout",
     "output_type": "stream",
     "text": [
      "Number of unique tokens: 5158\n",
      "Number of documents: 38932\n"
     ]
    },
    {
     "data": {
      "text/plain": [
       "38932"
      ]
     },
     "execution_count": 14,
     "metadata": {},
     "output_type": "execute_result"
    }
   ],
   "source": [
    "bow_corpus = [dictionary.doc2bow(review) for review in all_tokens]\n",
    "tfidf_model = TfidfModel(bow_corpus)\n",
    "tfidf_corpus = tfidf_model[bow_corpus]\n",
    "print('Number of unique tokens: {}'.format(len(dictionary)))\n",
    "print('Number of documents: {}'.format(len(bow_corpus)))\n",
    "len(tfidf_corpus)"
   ]
  },
  {
   "cell_type": "markdown",
   "metadata": {},
   "source": [
    "## LDA topic modeling"
   ]
  },
  {
   "cell_type": "code",
   "execution_count": 15,
   "metadata": {},
   "outputs": [
    {
     "name": "stderr",
     "output_type": "stream",
     "text": [
      "2020-04-09 15:32:02,990 : INFO : using symmetric alpha at 0.1\n"
     ]
    },
    {
     "name": "stderr",
     "output_type": "stream",
     "text": [
      "2020-04-09 15:32:02,991 : INFO : using serial LDA version on this node\n"
     ]
    },
    {
     "name": "stderr",
     "output_type": "stream",
     "text": [
      "2020-04-09 15:32:02,997 : INFO : running online LDA training, 10 topics, 4 passes over the supplied corpus of 38932 documents, updating every 20000 documents, evaluating every ~20000 documents, iterating 200x with a convergence threshold of 0.001000\n"
     ]
    },
    {
     "name": "stderr",
     "output_type": "stream",
     "text": [
      "2020-04-09 15:32:02,997 : WARNING : too few updates, training might not converge; consider increasing the number of passes or iterations to improve accuracy\n"
     ]
    },
    {
     "name": "stderr",
     "output_type": "stream",
     "text": [
      "2020-04-09 15:32:03,017 : INFO : training LDA model using 4 processes\n"
     ]
    },
    {
     "name": "stderr",
     "output_type": "stream",
     "text": [
      "2020-04-09 15:32:04,915 : INFO : PROGRESS: pass 0, dispatched chunk #0 = documents up to #5000/38932, outstanding queue size 1\n"
     ]
    },
    {
     "name": "stderr",
     "output_type": "stream",
     "text": [
      "2020-04-09 15:32:07,116 : INFO : PROGRESS: pass 0, dispatched chunk #1 = documents up to #10000/38932, outstanding queue size 2\n"
     ]
    },
    {
     "name": "stderr",
     "output_type": "stream",
     "text": [
      "2020-04-09 15:32:09,212 : INFO : PROGRESS: pass 0, dispatched chunk #2 = documents up to #15000/38932, outstanding queue size 2\n"
     ]
    },
    {
     "name": "stderr",
     "output_type": "stream",
     "text": [
      "2020-04-09 15:32:11,349 : INFO : PROGRESS: pass 0, dispatched chunk #3 = documents up to #20000/38932, outstanding queue size 2\n"
     ]
    },
    {
     "name": "stderr",
     "output_type": "stream",
     "text": [
      "2020-04-09 15:32:13,492 : INFO : PROGRESS: pass 0, dispatched chunk #4 = documents up to #25000/38932, outstanding queue size 2\n"
     ]
    },
    {
     "name": "stderr",
     "output_type": "stream",
     "text": [
      "2020-04-09 15:32:14,382 : DEBUG : updating topics\n"
     ]
    },
    {
     "name": "stderr",
     "output_type": "stream",
     "text": [
      "2020-04-09 15:32:14,385 : INFO : merging changes from 20000 documents into a model of 38932 documents\n"
     ]
    },
    {
     "name": "stderr",
     "output_type": "stream",
     "text": [
      "2020-04-09 15:32:14,389 : INFO : topic #1 (0.100): 0.005*\"great\" + 0.003*\"nice\" + 0.003*\"good\" + 0.003*\"love\" + 0.003*\"friend\" + 0.003*\"staff\" + 0.003*\"servic\" + 0.003*\"clean\" + 0.003*\"locat\" + 0.003*\"restaur\"\n"
     ]
    },
    {
     "name": "stderr",
     "output_type": "stream",
     "text": [
      "2020-04-09 15:32:14,390 : INFO : topic #6 (0.100): 0.004*\"great\" + 0.004*\"excel\" + 0.004*\"nice\" + 0.003*\"staff\" + 0.003*\"servic\" + 0.003*\"clean\" + 0.003*\"friend\" + 0.003*\"good\" + 0.003*\"locat\" + 0.003*\"comfort\"\n"
     ]
    },
    {
     "name": "stderr",
     "output_type": "stream",
     "text": [
      "2020-04-09 15:32:14,391 : INFO : topic #3 (0.100): 0.005*\"great\" + 0.004*\"nice\" + 0.004*\"friend\" + 0.004*\"staff\" + 0.003*\"good\" + 0.003*\"breakfast\" + 0.003*\"clean\" + 0.003*\"help\" + 0.003*\"time\" + 0.003*\"locat\"\n"
     ]
    },
    {
     "name": "stderr",
     "output_type": "stream",
     "text": [
      "2020-04-09 15:32:14,391 : INFO : topic #5 (0.100): 0.005*\"great\" + 0.004*\"staff\" + 0.003*\"locat\" + 0.003*\"help\" + 0.003*\"good\" + 0.003*\"friend\" + 0.003*\"nice\" + 0.003*\"clean\" + 0.003*\"love\" + 0.003*\"servic\"\n"
     ]
    },
    {
     "name": "stderr",
     "output_type": "stream",
     "text": [
      "2020-04-09 15:32:14,392 : INFO : topic #0 (0.100): 0.005*\"great\" + 0.003*\"nice\" + 0.003*\"good\" + 0.003*\"clean\" + 0.003*\"servic\" + 0.003*\"locat\" + 0.003*\"help\" + 0.003*\"staff\" + 0.003*\"restaur\" + 0.003*\"time\"\n"
     ]
    },
    {
     "name": "stderr",
     "output_type": "stream",
     "text": [
      "2020-04-09 15:32:14,393 : INFO : topic diff=2.132908, rho=1.000000\n"
     ]
    },
    {
     "name": "stderr",
     "output_type": "stream",
     "text": [
      "2020-04-09 15:32:14,439 : DEBUG : bound: at document #0\n"
     ]
    },
    {
     "name": "stderr",
     "output_type": "stream",
     "text": [
      "2020-04-09 15:32:17,655 : INFO : -8.684 per-word bound, 411.3 perplexity estimate based on a held-out corpus of 5000 documents with 30267 words\n"
     ]
    },
    {
     "name": "stderr",
     "output_type": "stream",
     "text": [
      "2020-04-09 15:32:19,060 : INFO : PROGRESS: pass 0, dispatched chunk #5 = documents up to #30000/38932, outstanding queue size 2\n"
     ]
    },
    {
     "name": "stderr",
     "output_type": "stream",
     "text": [
      "2020-04-09 15:32:21,480 : INFO : PROGRESS: pass 0, dispatched chunk #6 = documents up to #35000/38932, outstanding queue size 2\n"
     ]
    },
    {
     "name": "stderr",
     "output_type": "stream",
     "text": [
      "2020-04-09 15:32:23,605 : INFO : PROGRESS: pass 0, dispatched chunk #7 = documents up to #38932/38932, outstanding queue size 3\n"
     ]
    },
    {
     "name": "stderr",
     "output_type": "stream",
     "text": [
      "2020-04-09 15:32:26,626 : DEBUG : updating topics\n"
     ]
    },
    {
     "name": "stderr",
     "output_type": "stream",
     "text": [
      "2020-04-09 15:32:26,628 : INFO : merging changes from 18932 documents into a model of 38932 documents\n"
     ]
    },
    {
     "name": "stderr",
     "output_type": "stream",
     "text": [
      "2020-04-09 15:32:26,631 : INFO : topic #4 (0.100): 0.004*\"great\" + 0.003*\"nice\" + 0.003*\"walk\" + 0.003*\"place\" + 0.003*\"clean\" + 0.003*\"locat\" + 0.003*\"friend\" + 0.003*\"staff\" + 0.003*\"good\" + 0.003*\"servic\"\n"
     ]
    },
    {
     "name": "stderr",
     "output_type": "stream",
     "text": [
      "2020-04-09 15:32:26,632 : INFO : topic #0 (0.100): 0.004*\"great\" + 0.003*\"good\" + 0.003*\"nice\" + 0.003*\"clean\" + 0.003*\"servic\" + 0.003*\"locat\" + 0.003*\"night\" + 0.003*\"bed\" + 0.003*\"staff\" + 0.003*\"time\"\n"
     ]
    },
    {
     "name": "stderr",
     "output_type": "stream",
     "text": [
      "2020-04-09 15:32:26,633 : INFO : topic #2 (0.100): 0.003*\"great\" + 0.003*\"good\" + 0.003*\"nice\" + 0.003*\"park\" + 0.003*\"night\" + 0.003*\"time\" + 0.003*\"staff\" + 0.003*\"clean\" + 0.003*\"onli\" + 0.003*\"servic\"\n"
     ]
    },
    {
     "name": "stderr",
     "output_type": "stream",
     "text": [
      "2020-04-09 15:32:26,633 : INFO : topic #3 (0.100): 0.004*\"great\" + 0.003*\"good\" + 0.003*\"night\" + 0.003*\"nice\" + 0.003*\"time\" + 0.003*\"breakfast\" + 0.003*\"servic\" + 0.003*\"clean\" + 0.003*\"friend\" + 0.003*\"staff\"\n"
     ]
    },
    {
     "name": "stderr",
     "output_type": "stream",
     "text": [
      "2020-04-09 15:32:26,634 : INFO : topic #7 (0.100): 0.004*\"nice\" + 0.003*\"great\" + 0.003*\"good\" + 0.003*\"night\" + 0.003*\"park\" + 0.003*\"servic\" + 0.003*\"breakfast\" + 0.003*\"place\" + 0.003*\"time\" + 0.003*\"staff\"\n"
     ]
    },
    {
     "name": "stderr",
     "output_type": "stream",
     "text": [
      "2020-04-09 15:32:26,635 : INFO : topic diff=0.578693, rho=0.447214\n"
     ]
    },
    {
     "name": "stderr",
     "output_type": "stream",
     "text": [
      "2020-04-09 15:32:26,677 : DEBUG : bound: at document #0\n"
     ]
    },
    {
     "name": "stderr",
     "output_type": "stream",
     "text": [
      "2020-04-09 15:32:29,397 : INFO : -8.742 per-word bound, 428.1 perplexity estimate based on a held-out corpus of 3932 documents with 25806 words\n"
     ]
    },
    {
     "name": "stderr",
     "output_type": "stream",
     "text": [
      "2020-04-09 15:32:30,599 : INFO : PROGRESS: pass 1, dispatched chunk #0 = documents up to #5000/38932, outstanding queue size 1\n"
     ]
    },
    {
     "name": "stderr",
     "output_type": "stream",
     "text": [
      "2020-04-09 15:32:32,690 : INFO : PROGRESS: pass 1, dispatched chunk #1 = documents up to #10000/38932, outstanding queue size 2\n"
     ]
    },
    {
     "name": "stderr",
     "output_type": "stream",
     "text": [
      "2020-04-09 15:32:34,758 : INFO : PROGRESS: pass 1, dispatched chunk #2 = documents up to #15000/38932, outstanding queue size 3\n"
     ]
    },
    {
     "name": "stderr",
     "output_type": "stream",
     "text": [
      "2020-04-09 15:32:36,807 : INFO : PROGRESS: pass 1, dispatched chunk #3 = documents up to #20000/38932, outstanding queue size 2\n"
     ]
    },
    {
     "name": "stderr",
     "output_type": "stream",
     "text": [
      "2020-04-09 15:32:38,861 : INFO : PROGRESS: pass 1, dispatched chunk #4 = documents up to #25000/38932, outstanding queue size 3\n"
     ]
    },
    {
     "name": "stderr",
     "output_type": "stream",
     "text": [
      "2020-04-09 15:32:39,715 : DEBUG : updating topics\n"
     ]
    },
    {
     "name": "stderr",
     "output_type": "stream",
     "text": [
      "2020-04-09 15:32:39,717 : INFO : merging changes from 20000 documents into a model of 38932 documents\n"
     ]
    },
    {
     "name": "stderr",
     "output_type": "stream",
     "text": [
      "2020-04-09 15:32:39,721 : INFO : topic #1 (0.100): 0.004*\"great\" + 0.003*\"good\" + 0.003*\"nice\" + 0.003*\"servic\" + 0.003*\"night\" + 0.003*\"time\" + 0.003*\"place\" + 0.003*\"staff\" + 0.003*\"walk\" + 0.003*\"clean\"\n"
     ]
    },
    {
     "name": "stderr",
     "output_type": "stream",
     "text": [
      "2020-04-09 15:32:39,722 : INFO : topic #4 (0.100): 0.005*\"great\" + 0.004*\"walk\" + 0.003*\"nice\" + 0.003*\"friend\" + 0.003*\"place\" + 0.003*\"locat\" + 0.003*\"clean\" + 0.003*\"staff\" + 0.003*\"good\" + 0.003*\"help\"\n"
     ]
    },
    {
     "name": "stderr",
     "output_type": "stream",
     "text": [
      "2020-04-09 15:32:39,723 : INFO : topic #8 (0.100): 0.004*\"great\" + 0.004*\"nice\" + 0.003*\"staff\" + 0.003*\"clean\" + 0.003*\"servic\" + 0.003*\"locat\" + 0.003*\"excel\" + 0.003*\"good\" + 0.003*\"breakfast\" + 0.003*\"friend\"\n"
     ]
    },
    {
     "name": "stderr",
     "output_type": "stream",
     "text": [
      "2020-04-09 15:32:39,723 : INFO : topic #7 (0.100): 0.004*\"nice\" + 0.004*\"great\" + 0.003*\"park\" + 0.003*\"good\" + 0.003*\"servic\" + 0.003*\"breakfast\" + 0.003*\"night\" + 0.003*\"free\" + 0.003*\"staff\" + 0.003*\"clean\"\n"
     ]
    },
    {
     "name": "stderr",
     "output_type": "stream",
     "text": [
      "2020-04-09 15:32:39,724 : INFO : topic #3 (0.100): 0.004*\"great\" + 0.003*\"good\" + 0.003*\"nice\" + 0.003*\"breakfast\" + 0.003*\"time\" + 0.003*\"night\" + 0.003*\"servic\" + 0.003*\"staff\" + 0.003*\"friend\" + 0.003*\"clean\"\n"
     ]
    },
    {
     "name": "stderr",
     "output_type": "stream",
     "text": [
      "2020-04-09 15:32:39,725 : INFO : topic diff=0.233027, rho=0.319660\n"
     ]
    },
    {
     "name": "stderr",
     "output_type": "stream",
     "text": [
      "2020-04-09 15:32:41,121 : INFO : PROGRESS: pass 1, dispatched chunk #5 = documents up to #30000/38932, outstanding queue size 2\n"
     ]
    },
    {
     "name": "stderr",
     "output_type": "stream",
     "text": [
      "2020-04-09 15:32:43,809 : INFO : PROGRESS: pass 1, dispatched chunk #6 = documents up to #35000/38932, outstanding queue size 2\n"
     ]
    },
    {
     "name": "stderr",
     "output_type": "stream",
     "text": [
      "2020-04-09 15:32:45,946 : INFO : PROGRESS: pass 1, dispatched chunk #7 = documents up to #38932/38932, outstanding queue size 2\n"
     ]
    },
    {
     "name": "stderr",
     "output_type": "stream",
     "text": [
      "2020-04-09 15:32:48,695 : DEBUG : updating topics\n"
     ]
    },
    {
     "name": "stderr",
     "output_type": "stream",
     "text": [
      "2020-04-09 15:32:48,698 : INFO : merging changes from 18932 documents into a model of 38932 documents\n"
     ]
    },
    {
     "name": "stderr",
     "output_type": "stream",
     "text": [
      "2020-04-09 15:32:48,702 : INFO : topic #2 (0.100): 0.003*\"night\" + 0.003*\"desk\" + 0.003*\"good\" + 0.003*\"onli\" + 0.003*\"bed\" + 0.003*\"nice\" + 0.003*\"check\" + 0.003*\"time\" + 0.003*\"bathroom\" + 0.003*\"like\"\n"
     ]
    },
    {
     "name": "stderr",
     "output_type": "stream",
     "text": [
      "2020-04-09 15:32:48,702 : INFO : topic #9 (0.100): 0.004*\"great\" + 0.003*\"walk\" + 0.003*\"time\" + 0.003*\"locat\" + 0.003*\"nice\" + 0.003*\"good\" + 0.003*\"clean\" + 0.003*\"friend\" + 0.003*\"breakfast\" + 0.003*\"bed\"\n"
     ]
    },
    {
     "name": "stderr",
     "output_type": "stream",
     "text": [
      "2020-04-09 15:32:48,703 : INFO : topic #5 (0.100): 0.005*\"great\" + 0.004*\"staff\" + 0.004*\"help\" + 0.004*\"friend\" + 0.004*\"servic\" + 0.004*\"clean\" + 0.003*\"locat\" + 0.003*\"good\" + 0.003*\"nice\" + 0.003*\"wonder\"\n"
     ]
    },
    {
     "name": "stderr",
     "output_type": "stream",
     "text": [
      "2020-04-09 15:32:48,704 : INFO : topic #1 (0.100): 0.003*\"great\" + 0.003*\"good\" + 0.003*\"nice\" + 0.003*\"night\" + 0.003*\"place\" + 0.003*\"servic\" + 0.003*\"time\" + 0.002*\"clean\" + 0.002*\"walk\" + 0.002*\"locat\"\n"
     ]
    },
    {
     "name": "stderr",
     "output_type": "stream",
     "text": [
      "2020-04-09 15:32:48,705 : INFO : topic #4 (0.100): 0.004*\"great\" + 0.004*\"walk\" + 0.003*\"nice\" + 0.003*\"locat\" + 0.003*\"place\" + 0.003*\"clean\" + 0.003*\"friend\" + 0.003*\"staff\" + 0.003*\"good\" + 0.003*\"pool\"\n"
     ]
    },
    {
     "name": "stderr",
     "output_type": "stream",
     "text": [
      "2020-04-09 15:32:48,705 : INFO : topic diff=0.266215, rho=0.319660\n"
     ]
    },
    {
     "name": "stderr",
     "output_type": "stream",
     "text": [
      "2020-04-09 15:32:48,746 : DEBUG : bound: at document #0\n"
     ]
    },
    {
     "name": "stderr",
     "output_type": "stream",
     "text": [
      "2020-04-09 15:32:51,410 : INFO : -8.631 per-word bound, 396.6 perplexity estimate based on a held-out corpus of 3932 documents with 25806 words\n"
     ]
    },
    {
     "name": "stderr",
     "output_type": "stream",
     "text": [
      "2020-04-09 15:32:52,602 : INFO : PROGRESS: pass 2, dispatched chunk #0 = documents up to #5000/38932, outstanding queue size 1\n"
     ]
    },
    {
     "name": "stderr",
     "output_type": "stream",
     "text": [
      "2020-04-09 15:32:54,669 : INFO : PROGRESS: pass 2, dispatched chunk #1 = documents up to #10000/38932, outstanding queue size 2\n"
     ]
    },
    {
     "name": "stderr",
     "output_type": "stream",
     "text": [
      "2020-04-09 15:32:56,718 : INFO : PROGRESS: pass 2, dispatched chunk #2 = documents up to #15000/38932, outstanding queue size 3\n"
     ]
    },
    {
     "name": "stderr",
     "output_type": "stream",
     "text": [
      "2020-04-09 15:32:58,844 : INFO : PROGRESS: pass 2, dispatched chunk #3 = documents up to #20000/38932, outstanding queue size 3\n"
     ]
    },
    {
     "name": "stderr",
     "output_type": "stream",
     "text": [
      "2020-04-09 15:33:00,996 : INFO : PROGRESS: pass 2, dispatched chunk #4 = documents up to #25000/38932, outstanding queue size 2\n"
     ]
    },
    {
     "name": "stderr",
     "output_type": "stream",
     "text": [
      "2020-04-09 15:33:01,857 : DEBUG : updating topics\n"
     ]
    },
    {
     "name": "stderr",
     "output_type": "stream",
     "text": [
      "2020-04-09 15:33:01,859 : INFO : merging changes from 20000 documents into a model of 38932 documents\n"
     ]
    },
    {
     "name": "stderr",
     "output_type": "stream",
     "text": [
      "2020-04-09 15:33:01,863 : INFO : topic #4 (0.100): 0.005*\"great\" + 0.004*\"walk\" + 0.004*\"nice\" + 0.003*\"locat\" + 0.003*\"pool\" + 0.003*\"place\" + 0.003*\"friend\" + 0.003*\"clean\" + 0.003*\"staff\" + 0.003*\"restaur\"\n"
     ]
    },
    {
     "name": "stderr",
     "output_type": "stream",
     "text": [
      "2020-04-09 15:33:01,864 : INFO : topic #6 (0.100): 0.004*\"great\" + 0.004*\"nice\" + 0.004*\"servic\" + 0.003*\"clean\" + 0.003*\"friend\" + 0.003*\"staff\" + 0.003*\"good\" + 0.003*\"locat\" + 0.003*\"excel\" + 0.003*\"bed\"\n"
     ]
    },
    {
     "name": "stderr",
     "output_type": "stream",
     "text": [
      "2020-04-09 15:33:01,865 : INFO : topic #1 (0.100): 0.004*\"great\" + 0.003*\"good\" + 0.003*\"nice\" + 0.003*\"place\" + 0.003*\"night\" + 0.003*\"servic\" + 0.003*\"time\" + 0.003*\"walk\" + 0.003*\"staff\" + 0.003*\"restaur\"\n"
     ]
    },
    {
     "name": "stderr",
     "output_type": "stream",
     "text": [
      "2020-04-09 15:33:01,866 : INFO : topic #5 (0.100): 0.006*\"great\" + 0.005*\"staff\" + 0.005*\"help\" + 0.005*\"friend\" + 0.004*\"servic\" + 0.004*\"clean\" + 0.004*\"wonder\" + 0.004*\"locat\" + 0.004*\"love\" + 0.004*\"good\"\n"
     ]
    },
    {
     "name": "stderr",
     "output_type": "stream",
     "text": [
      "2020-04-09 15:33:01,867 : INFO : topic #0 (0.100): 0.005*\"wharf\" + 0.005*\"great\" + 0.004*\"francisco\" + 0.004*\"san_francisco\" + 0.004*\"fisherman\" + 0.004*\"san\" + 0.004*\"fisherman_wharf\" + 0.004*\"car\" + 0.004*\"good\" + 0.004*\"cabl_car\"\n"
     ]
    },
    {
     "name": "stderr",
     "output_type": "stream",
     "text": [
      "2020-04-09 15:33:01,867 : INFO : topic diff=0.254155, rho=0.304482\n"
     ]
    },
    {
     "name": "stderr",
     "output_type": "stream",
     "text": [
      "2020-04-09 15:33:03,257 : INFO : PROGRESS: pass 2, dispatched chunk #5 = documents up to #30000/38932, outstanding queue size 2\n"
     ]
    },
    {
     "name": "stderr",
     "output_type": "stream",
     "text": [
      "2020-04-09 15:33:05,651 : INFO : PROGRESS: pass 2, dispatched chunk #6 = documents up to #35000/38932, outstanding queue size 2\n"
     ]
    },
    {
     "name": "stderr",
     "output_type": "stream",
     "text": [
      "2020-04-09 15:33:07,754 : INFO : PROGRESS: pass 2, dispatched chunk #7 = documents up to #38932/38932, outstanding queue size 2\n"
     ]
    },
    {
     "name": "stderr",
     "output_type": "stream",
     "text": [
      "2020-04-09 15:33:10,348 : DEBUG : updating topics\n"
     ]
    },
    {
     "name": "stderr",
     "output_type": "stream",
     "text": [
      "2020-04-09 15:33:10,350 : INFO : merging changes from 18932 documents into a model of 38932 documents\n"
     ]
    },
    {
     "name": "stderr",
     "output_type": "stream",
     "text": [
      "2020-04-09 15:33:10,353 : INFO : topic #2 (0.100): 0.003*\"night\" + 0.003*\"desk\" + 0.003*\"bed\" + 0.003*\"bathroom\" + 0.003*\"check\" + 0.003*\"like\" + 0.003*\"onli\" + 0.003*\"floor\" + 0.003*\"tell\" + 0.003*\"look\"\n"
     ]
    },
    {
     "name": "stderr",
     "output_type": "stream",
     "text": [
      "2020-04-09 15:33:10,354 : INFO : topic #6 (0.100): 0.004*\"great\" + 0.004*\"nice\" + 0.004*\"servic\" + 0.003*\"clean\" + 0.003*\"good\" + 0.003*\"staff\" + 0.003*\"friend\" + 0.003*\"locat\" + 0.003*\"bed\" + 0.003*\"excel\"\n"
     ]
    },
    {
     "name": "stderr",
     "output_type": "stream",
     "text": [
      "2020-04-09 15:33:10,355 : INFO : topic #5 (0.100): 0.006*\"great\" + 0.005*\"staff\" + 0.005*\"friend\" + 0.005*\"help\" + 0.005*\"servic\" + 0.004*\"clean\" + 0.004*\"wonder\" + 0.004*\"locat\" + 0.004*\"good\" + 0.004*\"love\"\n"
     ]
    },
    {
     "name": "stderr",
     "output_type": "stream",
     "text": [
      "2020-04-09 15:33:10,356 : INFO : topic #8 (0.100): 0.004*\"great\" + 0.004*\"nice\" + 0.004*\"good\" + 0.004*\"clean\" + 0.004*\"staff\" + 0.003*\"locat\" + 0.003*\"servic\" + 0.003*\"breakfast\" + 0.003*\"friend\" + 0.003*\"help\"\n"
     ]
    },
    {
     "name": "stderr",
     "output_type": "stream",
     "text": [
      "2020-04-09 15:33:10,356 : INFO : topic #9 (0.100): 0.004*\"great\" + 0.004*\"time\" + 0.004*\"time_squar\" + 0.004*\"walk\" + 0.004*\"squar\" + 0.004*\"york\" + 0.004*\"new_york\" + 0.003*\"locat\" + 0.003*\"new\" + 0.003*\"good\"\n"
     ]
    },
    {
     "name": "stderr",
     "output_type": "stream",
     "text": [
      "2020-04-09 15:33:10,357 : INFO : topic diff=0.254702, rho=0.304482\n"
     ]
    },
    {
     "name": "stderr",
     "output_type": "stream",
     "text": [
      "2020-04-09 15:33:10,397 : DEBUG : bound: at document #0\n"
     ]
    },
    {
     "name": "stderr",
     "output_type": "stream",
     "text": [
      "2020-04-09 15:33:12,856 : INFO : -8.558 per-word bound, 376.9 perplexity estimate based on a held-out corpus of 3932 documents with 25806 words\n"
     ]
    },
    {
     "name": "stderr",
     "output_type": "stream",
     "text": [
      "2020-04-09 15:33:14,056 : INFO : PROGRESS: pass 3, dispatched chunk #0 = documents up to #5000/38932, outstanding queue size 1\n"
     ]
    },
    {
     "name": "stderr",
     "output_type": "stream",
     "text": [
      "2020-04-09 15:33:16,120 : INFO : PROGRESS: pass 3, dispatched chunk #1 = documents up to #10000/38932, outstanding queue size 2\n"
     ]
    },
    {
     "name": "stderr",
     "output_type": "stream",
     "text": [
      "2020-04-09 15:33:18,166 : INFO : PROGRESS: pass 3, dispatched chunk #2 = documents up to #15000/38932, outstanding queue size 3\n"
     ]
    },
    {
     "name": "stderr",
     "output_type": "stream",
     "text": [
      "2020-04-09 15:33:20,214 : INFO : PROGRESS: pass 3, dispatched chunk #3 = documents up to #20000/38932, outstanding queue size 3\n"
     ]
    },
    {
     "name": "stderr",
     "output_type": "stream",
     "text": [
      "2020-04-09 15:33:22,274 : INFO : PROGRESS: pass 3, dispatched chunk #4 = documents up to #25000/38932, outstanding queue size 3\n"
     ]
    },
    {
     "name": "stderr",
     "output_type": "stream",
     "text": [
      "2020-04-09 15:33:23,123 : DEBUG : updating topics\n"
     ]
    },
    {
     "name": "stderr",
     "output_type": "stream",
     "text": [
      "2020-04-09 15:33:23,126 : INFO : merging changes from 20000 documents into a model of 38932 documents\n"
     ]
    },
    {
     "name": "stderr",
     "output_type": "stream",
     "text": [
      "2020-04-09 15:33:23,129 : INFO : topic #0 (0.100): 0.007*\"francisco\" + 0.007*\"san_francisco\" + 0.007*\"wharf\" + 0.006*\"san\" + 0.006*\"fisherman\" + 0.006*\"fisherman_wharf\" + 0.005*\"union_squar\" + 0.005*\"cabl_car\" + 0.005*\"union\" + 0.005*\"car\"\n"
     ]
    },
    {
     "name": "stderr",
     "output_type": "stream",
     "text": [
      "2020-04-09 15:33:23,130 : INFO : topic #4 (0.100): 0.005*\"great\" + 0.004*\"walk\" + 0.004*\"pool\" + 0.004*\"nice\" + 0.004*\"boston\" + 0.004*\"locat\" + 0.003*\"restaur\" + 0.003*\"friend\" + 0.003*\"place\" + 0.003*\"view\"\n"
     ]
    },
    {
     "name": "stderr",
     "output_type": "stream",
     "text": [
      "2020-04-09 15:33:23,131 : INFO : topic #7 (0.100): 0.004*\"park\" + 0.004*\"nice\" + 0.003*\"free\" + 0.003*\"good\" + 0.003*\"breakfast\" + 0.003*\"servic\" + 0.003*\"great\" + 0.003*\"night\" + 0.003*\"airport\" + 0.003*\"check\"\n"
     ]
    },
    {
     "name": "stderr",
     "output_type": "stream",
     "text": [
      "2020-04-09 15:33:23,132 : INFO : topic #1 (0.100): 0.004*\"great\" + 0.003*\"nice\" + 0.003*\"good\" + 0.003*\"place\" + 0.003*\"night\" + 0.003*\"servic\" + 0.003*\"area\" + 0.003*\"pool\" + 0.003*\"restaur\" + 0.003*\"walk\"\n"
     ]
    },
    {
     "name": "stderr",
     "output_type": "stream",
     "text": [
      "2020-04-09 15:33:23,132 : INFO : topic #2 (0.100): 0.003*\"night\" + 0.003*\"bed\" + 0.003*\"desk\" + 0.003*\"bathroom\" + 0.003*\"onli\" + 0.003*\"check\" + 0.003*\"like\" + 0.003*\"floor\" + 0.003*\"good\" + 0.003*\"nice\"\n"
     ]
    },
    {
     "name": "stderr",
     "output_type": "stream",
     "text": [
      "2020-04-09 15:33:23,133 : INFO : topic diff=0.260190, rho=0.291279\n"
     ]
    },
    {
     "name": "stderr",
     "output_type": "stream",
     "text": [
      "2020-04-09 15:33:24,510 : INFO : PROGRESS: pass 3, dispatched chunk #5 = documents up to #30000/38932, outstanding queue size 2\n"
     ]
    },
    {
     "name": "stderr",
     "output_type": "stream",
     "text": [
      "2020-04-09 15:33:26,919 : INFO : PROGRESS: pass 3, dispatched chunk #6 = documents up to #35000/38932, outstanding queue size 2\n"
     ]
    },
    {
     "name": "stderr",
     "output_type": "stream",
     "text": [
      "2020-04-09 15:33:29,021 : INFO : PROGRESS: pass 3, dispatched chunk #7 = documents up to #38932/38932, outstanding queue size 2\n"
     ]
    },
    {
     "name": "stderr",
     "output_type": "stream",
     "text": [
      "2020-04-09 15:33:31,498 : DEBUG : updating topics\n"
     ]
    },
    {
     "name": "stderr",
     "output_type": "stream",
     "text": [
      "2020-04-09 15:33:31,501 : INFO : merging changes from 18932 documents into a model of 38932 documents\n"
     ]
    },
    {
     "name": "stderr",
     "output_type": "stream",
     "text": [
      "2020-04-09 15:33:31,504 : INFO : topic #9 (0.100): 0.005*\"time_squar\" + 0.004*\"squar\" + 0.004*\"york\" + 0.004*\"new_york\" + 0.004*\"time\" + 0.004*\"great\" + 0.004*\"new\" + 0.004*\"walk\" + 0.004*\"locat\" + 0.004*\"central\"\n"
     ]
    },
    {
     "name": "stderr",
     "output_type": "stream",
     "text": [
      "2020-04-09 15:33:31,505 : INFO : topic #3 (0.100): 0.003*\"check\" + 0.003*\"servic\" + 0.003*\"night\" + 0.003*\"breakfast\" + 0.003*\"time\" + 0.003*\"great\" + 0.003*\"day\" + 0.003*\"good\" + 0.003*\"nice\" + 0.003*\"manag\"\n"
     ]
    },
    {
     "name": "stderr",
     "output_type": "stream",
     "text": [
      "2020-04-09 15:33:31,506 : INFO : topic #1 (0.100): 0.003*\"great\" + 0.003*\"good\" + 0.003*\"nice\" + 0.003*\"place\" + 0.003*\"area\" + 0.003*\"night\" + 0.003*\"pool\" + 0.003*\"servic\" + 0.003*\"hollywood\" + 0.003*\"walk\"\n"
     ]
    },
    {
     "name": "stderr",
     "output_type": "stream",
     "text": [
      "2020-04-09 15:33:31,506 : INFO : topic #4 (0.100): 0.005*\"great\" + 0.004*\"walk\" + 0.004*\"pool\" + 0.004*\"nice\" + 0.004*\"boston\" + 0.004*\"diego\" + 0.004*\"san_diego\" + 0.004*\"locat\" + 0.003*\"downtown\" + 0.003*\"restaur\"\n"
     ]
    },
    {
     "name": "stderr",
     "output_type": "stream",
     "text": [
      "2020-04-09 15:33:31,507 : INFO : topic #0 (0.100): 0.007*\"francisco\" + 0.007*\"san_francisco\" + 0.007*\"wharf\" + 0.007*\"san\" + 0.006*\"fisherman\" + 0.006*\"union_squar\" + 0.006*\"union\" + 0.006*\"fisherman_wharf\" + 0.006*\"cabl_car\" + 0.006*\"cabl\"\n"
     ]
    },
    {
     "name": "stderr",
     "output_type": "stream",
     "text": [
      "2020-04-09 15:33:31,508 : INFO : topic diff=0.245524, rho=0.291279\n"
     ]
    },
    {
     "name": "stderr",
     "output_type": "stream",
     "text": [
      "2020-04-09 15:33:31,551 : DEBUG : bound: at document #0\n"
     ]
    },
    {
     "name": "stderr",
     "output_type": "stream",
     "text": [
      "2020-04-09 15:33:34,011 : INFO : -8.518 per-word bound, 366.5 perplexity estimate based on a held-out corpus of 3932 documents with 25806 words\n"
     ]
    },
    {
     "name": "stderr",
     "output_type": "stream",
     "text": [
      "2020-04-09 15:33:34,054 : DEBUG : Setting topics to those of the model: LdaModel(num_terms=5158, num_topics=10, decay=0.5, chunksize=5000)\n"
     ]
    },
    {
     "name": "stderr",
     "output_type": "stream",
     "text": [
      "2020-04-09 15:33:34,310 : INFO : CorpusAccumulator accumulated stats from 1000 documents\n"
     ]
    },
    {
     "name": "stderr",
     "output_type": "stream",
     "text": [
      "2020-04-09 15:33:34,574 : INFO : CorpusAccumulator accumulated stats from 2000 documents\n"
     ]
    },
    {
     "name": "stderr",
     "output_type": "stream",
     "text": [
      "2020-04-09 15:33:34,820 : INFO : CorpusAccumulator accumulated stats from 3000 documents\n"
     ]
    },
    {
     "name": "stderr",
     "output_type": "stream",
     "text": [
      "2020-04-09 15:33:35,078 : INFO : CorpusAccumulator accumulated stats from 4000 documents\n"
     ]
    },
    {
     "name": "stderr",
     "output_type": "stream",
     "text": [
      "2020-04-09 15:33:35,336 : INFO : CorpusAccumulator accumulated stats from 5000 documents\n"
     ]
    },
    {
     "name": "stderr",
     "output_type": "stream",
     "text": [
      "2020-04-09 15:33:35,592 : INFO : CorpusAccumulator accumulated stats from 6000 documents\n"
     ]
    },
    {
     "name": "stderr",
     "output_type": "stream",
     "text": [
      "2020-04-09 15:33:35,843 : INFO : CorpusAccumulator accumulated stats from 7000 documents\n"
     ]
    },
    {
     "name": "stderr",
     "output_type": "stream",
     "text": [
      "2020-04-09 15:33:36,102 : INFO : CorpusAccumulator accumulated stats from 8000 documents\n"
     ]
    },
    {
     "name": "stderr",
     "output_type": "stream",
     "text": [
      "2020-04-09 15:33:36,359 : INFO : CorpusAccumulator accumulated stats from 9000 documents\n"
     ]
    },
    {
     "name": "stderr",
     "output_type": "stream",
     "text": [
      "2020-04-09 15:33:36,637 : INFO : CorpusAccumulator accumulated stats from 10000 documents\n"
     ]
    },
    {
     "name": "stderr",
     "output_type": "stream",
     "text": [
      "2020-04-09 15:33:36,929 : INFO : CorpusAccumulator accumulated stats from 11000 documents\n"
     ]
    },
    {
     "name": "stderr",
     "output_type": "stream",
     "text": [
      "2020-04-09 15:33:37,175 : INFO : CorpusAccumulator accumulated stats from 12000 documents\n"
     ]
    },
    {
     "name": "stderr",
     "output_type": "stream",
     "text": [
      "2020-04-09 15:33:37,419 : INFO : CorpusAccumulator accumulated stats from 13000 documents\n"
     ]
    },
    {
     "name": "stderr",
     "output_type": "stream",
     "text": [
      "2020-04-09 15:33:37,675 : INFO : CorpusAccumulator accumulated stats from 14000 documents\n"
     ]
    },
    {
     "name": "stderr",
     "output_type": "stream",
     "text": [
      "2020-04-09 15:33:37,957 : INFO : CorpusAccumulator accumulated stats from 15000 documents\n"
     ]
    },
    {
     "name": "stderr",
     "output_type": "stream",
     "text": [
      "2020-04-09 15:33:38,218 : INFO : CorpusAccumulator accumulated stats from 16000 documents\n"
     ]
    },
    {
     "name": "stderr",
     "output_type": "stream",
     "text": [
      "2020-04-09 15:33:38,492 : INFO : CorpusAccumulator accumulated stats from 17000 documents\n"
     ]
    },
    {
     "name": "stderr",
     "output_type": "stream",
     "text": [
      "2020-04-09 15:33:38,744 : INFO : CorpusAccumulator accumulated stats from 18000 documents\n"
     ]
    },
    {
     "name": "stderr",
     "output_type": "stream",
     "text": [
      "2020-04-09 15:33:38,984 : INFO : CorpusAccumulator accumulated stats from 19000 documents\n"
     ]
    },
    {
     "name": "stderr",
     "output_type": "stream",
     "text": [
      "2020-04-09 15:33:39,234 : INFO : CorpusAccumulator accumulated stats from 20000 documents\n"
     ]
    },
    {
     "name": "stderr",
     "output_type": "stream",
     "text": [
      "2020-04-09 15:33:39,492 : INFO : CorpusAccumulator accumulated stats from 21000 documents\n"
     ]
    },
    {
     "name": "stderr",
     "output_type": "stream",
     "text": [
      "2020-04-09 15:33:39,746 : INFO : CorpusAccumulator accumulated stats from 22000 documents\n"
     ]
    },
    {
     "name": "stderr",
     "output_type": "stream",
     "text": [
      "2020-04-09 15:33:39,991 : INFO : CorpusAccumulator accumulated stats from 23000 documents\n"
     ]
    },
    {
     "name": "stderr",
     "output_type": "stream",
     "text": [
      "2020-04-09 15:33:40,248 : INFO : CorpusAccumulator accumulated stats from 24000 documents\n"
     ]
    },
    {
     "name": "stderr",
     "output_type": "stream",
     "text": [
      "2020-04-09 15:33:40,506 : INFO : CorpusAccumulator accumulated stats from 25000 documents\n"
     ]
    },
    {
     "name": "stderr",
     "output_type": "stream",
     "text": [
      "2020-04-09 15:33:40,767 : INFO : CorpusAccumulator accumulated stats from 26000 documents\n"
     ]
    },
    {
     "name": "stderr",
     "output_type": "stream",
     "text": [
      "2020-04-09 15:33:41,041 : INFO : CorpusAccumulator accumulated stats from 27000 documents\n"
     ]
    },
    {
     "name": "stderr",
     "output_type": "stream",
     "text": [
      "2020-04-09 15:33:41,357 : INFO : CorpusAccumulator accumulated stats from 28000 documents\n"
     ]
    },
    {
     "name": "stderr",
     "output_type": "stream",
     "text": [
      "2020-04-09 15:33:41,653 : INFO : CorpusAccumulator accumulated stats from 29000 documents\n"
     ]
    },
    {
     "name": "stderr",
     "output_type": "stream",
     "text": [
      "2020-04-09 15:33:41,988 : INFO : CorpusAccumulator accumulated stats from 30000 documents\n"
     ]
    },
    {
     "name": "stderr",
     "output_type": "stream",
     "text": [
      "2020-04-09 15:33:42,284 : INFO : CorpusAccumulator accumulated stats from 31000 documents\n"
     ]
    },
    {
     "name": "stderr",
     "output_type": "stream",
     "text": [
      "2020-04-09 15:33:42,569 : INFO : CorpusAccumulator accumulated stats from 32000 documents\n"
     ]
    },
    {
     "name": "stderr",
     "output_type": "stream",
     "text": [
      "2020-04-09 15:33:42,852 : INFO : CorpusAccumulator accumulated stats from 33000 documents\n"
     ]
    },
    {
     "name": "stderr",
     "output_type": "stream",
     "text": [
      "2020-04-09 15:33:43,147 : INFO : CorpusAccumulator accumulated stats from 34000 documents\n"
     ]
    },
    {
     "name": "stderr",
     "output_type": "stream",
     "text": [
      "2020-04-09 15:33:43,488 : INFO : CorpusAccumulator accumulated stats from 35000 documents\n"
     ]
    },
    {
     "name": "stderr",
     "output_type": "stream",
     "text": [
      "2020-04-09 15:33:43,976 : INFO : CorpusAccumulator accumulated stats from 36000 documents\n"
     ]
    },
    {
     "name": "stderr",
     "output_type": "stream",
     "text": [
      "2020-04-09 15:33:44,280 : INFO : CorpusAccumulator accumulated stats from 37000 documents\n"
     ]
    },
    {
     "name": "stderr",
     "output_type": "stream",
     "text": [
      "2020-04-09 15:33:44,610 : INFO : CorpusAccumulator accumulated stats from 38000 documents\n"
     ]
    },
    {
     "name": "stdout",
     "output_type": "stream",
     "text": [
      "[([(0.0074475068, 'francisco'),\n",
      "   (0.0074176616, 'san_francisco'),\n",
      "   (0.007185718, 'wharf'),\n",
      "   (0.0067427317, 'san'),\n",
      "   (0.0063048126, 'fisherman'),\n",
      "   (0.0061336113, 'union_squar'),\n",
      "   (0.0061162184, 'union'),\n",
      "   (0.00607426, 'fisherman_wharf'),\n",
      "   (0.0058667976, 'cabl_car'),\n",
      "   (0.00552883, 'cabl'),\n",
      "   (0.0054601426, 'car'),\n",
      "   (0.0046561854, 'great'),\n",
      "   (0.004455996, 'squar'),\n",
      "   (0.0042749196, 'locat'),\n",
      "   (0.004166036, 'good'),\n",
      "   (0.00398867, 'walk'),\n",
      "   (0.0035924974, 'clean'),\n",
      "   (0.0035348227, 'nice'),\n",
      "   (0.0033935113, 'street'),\n",
      "   (0.0033258386, 'help')],\n",
      "  -1.0413497292363505),\n",
      " ([(0.0046636434, 'time_squar'),\n",
      "   (0.0044350214, 'squar'),\n",
      "   (0.00426797, 'york'),\n",
      "   (0.0042653205, 'new_york'),\n",
      "   (0.004235688, 'time'),\n",
      "   (0.004154865, 'great'),\n",
      "   (0.004008998, 'new'),\n",
      "   (0.0038969822, 'walk'),\n",
      "   (0.0036579226, 'locat'),\n",
      "   (0.0036499186, 'central'),\n",
      "   (0.003607484, 'nyc'),\n",
      "   (0.0035240422, 'subway'),\n",
      "   (0.0034530605, 'good'),\n",
      "   (0.0031566797, 'clean'),\n",
      "   (0.0030076012, 'friend'),\n",
      "   (0.0029982533, 'help'),\n",
      "   (0.0029913182, 'breakfast'),\n",
      "   (0.0029259257, 'staff'),\n",
      "   (0.0029082384, 'nice'),\n",
      "   (0.002866819, 'block')],\n",
      "  -1.1507877108396154),\n",
      " ([(0.0039954097, 'park'),\n",
      "   (0.003659707, 'nice'),\n",
      "   (0.0033170788, 'free'),\n",
      "   (0.0032789605, 'airport'),\n",
      "   (0.0032020449, 'good'),\n",
      "   (0.0031044714, 'breakfast'),\n",
      "   (0.003054544, 'servic'),\n",
      "   (0.0029957935, 'night'),\n",
      "   (0.0028725658, 'great'),\n",
      "   (0.002839245, 'shuttl'),\n",
      "   (0.0027835006, 'check'),\n",
      "   (0.002577137, 'day'),\n",
      "   (0.0025035918, 'onli'),\n",
      "   (0.0024941505, 'clean'),\n",
      "   (0.0024665263, 'bed'),\n",
      "   (0.0023889067, 'area'),\n",
      "   (0.002353261, 'comfort'),\n",
      "   (0.002341498, 'place'),\n",
      "   (0.002277351, 'restaur'),\n",
      "   (0.0022320186, 'time')],\n",
      "  -1.181422897256325),\n",
      " ([(0.0031234915, 'night'),\n",
      "   (0.0029689148, 'bed'),\n",
      "   (0.002942843, 'desk'),\n",
      "   (0.0028632048, 'check'),\n",
      "   (0.0028529363, 'bathroom'),\n",
      "   (0.0027979906, 'tell'),\n",
      "   (0.002788809, 'like'),\n",
      "   (0.0027326988, 'floor'),\n",
      "   (0.0026720348, 'work'),\n",
      "   (0.0026633812, 'door'),\n",
      "   (0.0026556444, 'onli'),\n",
      "   (0.0026308366, 'look'),\n",
      "   (0.0024766065, 'shower'),\n",
      "   (0.0024727073, 'day'),\n",
      "   (0.0024464857, 'good'),\n",
      "   (0.002388284, 'time'),\n",
      "   (0.0023816691, 'ask'),\n",
      "   (0.0023639153, 'place'),\n",
      "   (0.0023232365, 'nice'),\n",
      "   (0.002311212, 'small')],\n",
      "  -1.2292152028786336),\n",
      " ([(0.0034106155, 'great'),\n",
      "   (0.0031286369, 'good'),\n",
      "   (0.0030638492, 'nice'),\n",
      "   (0.0029399109, 'place'),\n",
      "   (0.0027159995, 'area'),\n",
      "   (0.002711205, 'night'),\n",
      "   (0.0026943788, 'pool'),\n",
      "   (0.002648684, 'servic'),\n",
      "   (0.0025745558, 'hollywood'),\n",
      "   (0.002515408, 'walk'),\n",
      "   (0.0025028149, 'restaur'),\n",
      "   (0.0024309568, 'park'),\n",
      "   (0.00241887, 'like'),\n",
      "   (0.0024185295, 'locat'),\n",
      "   (0.0023702292, 'friend'),\n",
      "   (0.002367997, 'staff'),\n",
      "   (0.0023598045, 'time'),\n",
      "   (0.002328127, 'realli'),\n",
      "   (0.0023139338, 'clean'),\n",
      "   (0.0022939066, 'love')],\n",
      "  -1.2822535187230304),\n",
      " ([(0.00335451, 'check'),\n",
      "   (0.0032019985, 'servic'),\n",
      "   (0.0030656601, 'night'),\n",
      "   (0.003057134, 'breakfast'),\n",
      "   (0.0028154373, 'time'),\n",
      "   (0.0027258908, 'great'),\n",
      "   (0.002722776, 'day'),\n",
      "   (0.0026404639, 'good'),\n",
      "   (0.0025380547, 'nice'),\n",
      "   (0.0025349723, 'manag'),\n",
      "   (0.0024976712, 'desk'),\n",
      "   (0.0024400265, 'tell'),\n",
      "   (0.0024343613, 'staff'),\n",
      "   (0.0022518802, 'ask'),\n",
      "   (0.002237337, 'onli'),\n",
      "   (0.0022271166, 'like'),\n",
      "   (0.0022129356, 'clean'),\n",
      "   (0.0021997036, 'bed'),\n",
      "   (0.0021802871, 'help'),\n",
      "   (0.0020854792, 'charg')],\n",
      "  -1.292719173102125),\n",
      " ([(0.004563115, 'great'),\n",
      "   (0.004214545, 'good'),\n",
      "   (0.004141066, 'nice'),\n",
      "   (0.0040241512, 'clean'),\n",
      "   (0.0037920868, 'staff'),\n",
      "   (0.0037245315, 'locat'),\n",
      "   (0.0035538438, 'breakfast'),\n",
      "   (0.0034868063, 'free'),\n",
      "   (0.0034708385, 'help'),\n",
      "   (0.003461901, 'servic'),\n",
      "   (0.0034294554, 'friend'),\n",
      "   (0.003301886, 'comfort'),\n",
      "   (0.0032770263, 'excel'),\n",
      "   (0.0032597093, 'busi'),\n",
      "   (0.0030795096, 'walk'),\n",
      "   (0.0029402073, 'easi'),\n",
      "   (0.002930485, 'bed'),\n",
      "   (0.002867173, 'place'),\n",
      "   (0.0027925232, 'restaur'),\n",
      "   (0.0027567854, 'area')],\n",
      "  -1.3253234289715452),\n",
      " ([(0.004429048, 'great'),\n",
      "   (0.004042655, 'nice'),\n",
      "   (0.0036895478, 'servic'),\n",
      "   (0.0034134996, 'staff'),\n",
      "   (0.0033163966, 'friend'),\n",
      "   (0.0032882518, 'clean'),\n",
      "   (0.0032532772, 'good'),\n",
      "   (0.0032341501, 'locat'),\n",
      "   (0.0029950505, 'bed'),\n",
      "   (0.002984205, 'comfort'),\n",
      "   (0.0029053062, 'price'),\n",
      "   (0.0028476892, 'excel'),\n",
      "   (0.0027921314, 'night'),\n",
      "   (0.00276233, 'realli'),\n",
      "   (0.0027403776, 'place'),\n",
      "   (0.0026161745, 'love'),\n",
      "   (0.0026020836, 'restaur'),\n",
      "   (0.002523218, 'area'),\n",
      "   (0.0025083548, 'help'),\n",
      "   (0.0024927766, 'enjoy')],\n",
      "  -1.3593489458608983),\n",
      " ([(0.00509639, 'great'),\n",
      "   (0.0044529373, 'walk'),\n",
      "   (0.0041911188, 'pool'),\n",
      "   (0.0038725478, 'nice'),\n",
      "   (0.0038159592, 'boston'),\n",
      "   (0.0036757633, 'diego'),\n",
      "   (0.0036719814, 'san_diego'),\n",
      "   (0.003631154, 'locat'),\n",
      "   (0.0034908063, 'downtown'),\n",
      "   (0.0034486025, 'restaur'),\n",
      "   (0.003402168, 'view'),\n",
      "   (0.0033841971, 'place'),\n",
      "   (0.0033305471, 'san'),\n",
      "   (0.003316104, 'park'),\n",
      "   (0.003311996, 'friend'),\n",
      "   (0.0032010593, 'good'),\n",
      "   (0.0031479362, 'area'),\n",
      "   (0.0031405888, 'staff'),\n",
      "   (0.0031405075, 'clean'),\n",
      "   (0.0030334413, 'close')],\n",
      "  -1.4098816631858437),\n",
      " ([(0.007167705, 'great'),\n",
      "   (0.0065030484, 'staff'),\n",
      "   (0.005859876, 'friend'),\n",
      "   (0.0056964764, 'servic'),\n",
      "   (0.0056241658, 'help'),\n",
      "   (0.0048642773, 'wonder'),\n",
      "   (0.0044390364, 'clean'),\n",
      "   (0.0043201842, 'locat'),\n",
      "   (0.004256704, 'recommend'),\n",
      "   (0.0042134696, 'love'),\n",
      "   (0.0041932254, 'excel'),\n",
      "   (0.0041074823, 'comfort'),\n",
      "   (0.0037921856, 'good'),\n",
      "   (0.0037737247, 'nice'),\n",
      "   (0.0037148024, 'alway'),\n",
      "   (0.0037066028, 'time'),\n",
      "   (0.003647188, 'definit'),\n",
      "   (0.003532005, 'thank'),\n",
      "   (0.003467192, 'breakfast'),\n",
      "   (0.003456151, 'experi')],\n",
      "  -1.5658939163648244)]\n"
     ]
    }
   ],
   "source": [
    "# Fit a single version of the LDA model.\n",
    "num_topics = 10\n",
    "chunksize = 5000\n",
    "passes = 4\n",
    "iterations = 200\n",
    "eval_every = 1  # Evaluate convergence at the end\n",
    "\n",
    "id2word = dictionary.id2token\n",
    "\n",
    "lda_model = LdaMulticore(\n",
    "    corpus=tfidf_corpus,\n",
    "    id2word=id2word,\n",
    "    chunksize=chunksize,\n",
    "    alpha='symmetric',\n",
    "    eta='auto',\n",
    "    iterations=iterations,\n",
    "    num_topics=num_topics,\n",
    "    passes=passes,\n",
    "    eval_every=eval_every,\n",
    "    workers=4  # Use all four cores\n",
    ")\n",
    "\n",
    "top_topics = lda_model.top_topics(tfidf_corpus)\n",
    "pprint(top_topics)"
   ]
  },
  {
   "cell_type": "markdown",
   "metadata": {},
   "source": [
    "Gensim calculates the [intrinsic coherence score](http://qpleple.com/topic-coherence-to-evaluate-topic-models/) for\n",
    "each topic. By averaging across all of the topics in the model you can get an average coherence score. Coherence\n",
    "is a measure of the strength of the association between words in a topic cluster. It is supposed to be an objective\n",
    "way to evaluate the quailty of the topic clusters. Higher scores are better."
   ]
  },
  {
   "cell_type": "code",
   "execution_count": 16,
   "metadata": {
    "lines_to_next_cell": 2
   },
   "outputs": [
    {
     "name": "stdout",
     "output_type": "stream",
     "text": [
      "Average topic coherence: -1.2838.\n"
     ]
    }
   ],
   "source": [
    "# Average topic coherence is the sum of topic coherences of all topics, divided by the number of topics.\n",
    "avg_topic_coherence = sum([t[1] for t in top_topics]) / num_topics\n",
    "print('Average topic coherence: %.4f.' % avg_topic_coherence)"
   ]
  },
  {
   "cell_type": "markdown",
   "metadata": {},
   "source": [
    "References:\n",
    "- https://radimrehurek.com/gensim/auto_examples/tutorials/run_lda.html#sphx-glr-auto-examples-tutorials-run-lda-py\n",
    "- https://towardsdatascience.com/topic-modeling-and-latent-dirichlet-allocation-in-python-9bf156893c24"
   ]
  },
  {
   "cell_type": "code",
   "execution_count": 17,
   "metadata": {},
   "outputs": [],
   "source": [
    "# This code is used to run the .py script from beginning to end in the python interpreter\n",
    "# with open('python/happy_hotel.py', 'r') as f:\n",
    "#     exec(f.read())\n",
    "\n",
    "# plt.close('all')"
   ]
  }
 ],
 "metadata": {
  "jupytext": {
   "cell_metadata_filter": "-all"
  },
  "kernelspec": {
   "display_name": "Python 3",
   "language": "python",
   "name": "python3"
  },
  "language_info": {
   "codemirror_mode": {
    "name": "ipython",
    "version": 3
   },
   "file_extension": ".py",
   "mimetype": "text/x-python",
   "name": "python",
   "nbconvert_exporter": "python",
   "pygments_lexer": "ipython3",
   "version": "3.8.1"
  }
 },
 "nbformat": 4,
 "nbformat_minor": 4
}
